{
 "cells": [
  {
   "cell_type": "markdown",
   "metadata": {},
   "source": [
    "# Resistive touchscreen to VGA display with RP2040 (Raspberry Pi Pico)\n",
    "\n",
    "#### V. Hunter Adams (vha3@cornell.edu)\n",
    "\n",
    "> - [Project zip and demo](#Project-Zip-and-Demo)\n",
    "> - [Code Organization](#The-resistive-touchscreen)\n",
    "> - [ADC overview](#Code-organization)"
   ]
  },
  {
   "cell_type": "markdown",
   "metadata": {},
   "source": [
    "## Project Code and Demo\n",
    "\n",
    "[**Please find code here**](https://github.com/vha3/Hunter-Adams-RP2040-Demos/tree/master/Human_Input/Resistive_Touchscreen_Demo) \n",
    "\n",
    "<iframe width=\"560\" height=\"315\" src=\"https://www.youtube.com/embed/EMc_HenTUNQ\" title=\"YouTube video player\" frameborder=\"0\" allow=\"accelerometer; autoplay; clipboard-write; encrypted-media; gyroscope; picture-in-picture\" allowfullscreen></iframe>"
   ]
  },
  {
   "cell_type": "markdown",
   "metadata": {},
   "source": [
    "## The resistive touchscreen\n",
    "\n",
    "As described in [this document](./touch.pdf), the resistive touchscreen is a layered 2D device. It is composed of a top PET layer with a resistive coating separated from a bottom resistive layer by spacers. When the user presses on the top of the screen, contact is made between the top and bottom resistive coatings, completing the circuit. The measured resistance through the completed circuit depends on the position of the press, enabling determination of the precise location of the press in both dimensions.\n",
    "\n",
    "Four pins are required in order to drive this screen, and the functions of those pins must be switched dynamically. Each pin is connected to a conductive pad on one of the four sides of the screen (`+x`, `-x`, `+y`, `-y`). In order to read the x-position of a press, `y+` is set high, `y-` is set to ground, `x-` is left floating (set to input), and the ADC is used to measure `x+`. In order to measure the y-position of the press, `x+` is set high, `x-` is set to ground, `y-` is left floating (set to input), and the ADC is used to measure `y+`. So, all pins must be switched between output and input. <br><br>\n",
    "\n",
    "<figure>\n",
    "    <img align=\"center\" width=\"800\" height=\"500\" src=\"screen.png\" alt='missing' />\n",
    "    <center><figcaption>Figure from document linked above</figcaption></center>\n",
    "</figure>"
   ]
  },
  {
   "cell_type": "markdown",
   "metadata": {},
   "source": [
    "## Code organization\n",
    "\n",
    "There is a single timer interrupt running at 2kHz. Depending on the value of a switching variable, this ISR configures and reads the x or y coordinate of a touch event and draws a pixel to the VGA display at the appropriate location. For more information on the VGA system, see [here](./VGA.html).\n",
    "\n",
    "<figure>\n",
    "    <img align=\"center\" width=\"800\" height=\"500\" src=\"trackflow.png\" alt='missing' />\n",
    "    <center><figcaption></figcaption></center>\n",
    "</figure>"
   ]
  }
 ],
 "metadata": {
  "kernelspec": {
   "display_name": "Python 3",
   "language": "python",
   "name": "python3"
  },
  "language_info": {
   "codemirror_mode": {
    "name": "ipython",
    "version": 3
   },
   "file_extension": ".py",
   "mimetype": "text/x-python",
   "name": "python",
   "nbconvert_exporter": "python",
   "pygments_lexer": "ipython3",
   "version": "3.8.3"
  }
 },
 "nbformat": 4,
 "nbformat_minor": 4
}
