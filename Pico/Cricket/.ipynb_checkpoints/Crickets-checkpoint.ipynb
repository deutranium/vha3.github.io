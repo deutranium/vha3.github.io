{
 "cells": [
  {
   "cell_type": "markdown",
   "metadata": {},
   "source": [
    "# Synthesizing and Synchronizing Snowy Tree Crickets\n",
    "#### V. Hunter Adams (vha3@cornell.edu)"
   ]
  },
  {
   "cell_type": "markdown",
   "metadata": {},
   "source": [
    "## Introduction\n",
    "\n",
    "Synchronizaton events are remarkably common in biological systems. Many of these events take place in hard-to-see places (e.g. pacemaker cells of hearts, inside the hippcampus, and in insulin-secreting cells in the pancreas) [1]. Some, however, are spectacularly apparent. One example is firefly synchronization, which happens for a few weeks each year at a few places around the world. Another is snowy tree cricket chirp synchronization, which occurs for much of the year right here in Ithaca and across the United States! Go outside on many evenings and you'll hear it happening.<br><br>\n",
    "\n",
    "<figure>\n",
    "    <img align=\"center\" width=\"300\" height=\"500\" src=\"cricket.jpg\" alt='missing' />\n",
    "    <center><figcaption>A snowy tree cricket</figcaption></center>\n",
    "</figure>\n",
    "\n",
    "The snowy tree cricket is interesting for a number of reasons. In addition to synchronizing their chirps, these crickets change the *frequency and speed* of their chirps as a function of the ambient temperature. For this reason, they are nicknamed the \"thermometer cricket.\" Here on the east coast, you can estimate the temperature outside (in Fahrenheit) by adding 40 to the number of chirps that you count in 15 seconds. In other parts of the country the linear relationship is slightly different, so it's a good idea to calibrate your crickets before taking any measurements. Fascinatingly, this relationship between temperature and chirp-rate has a name ([Dolbear's Law](https://en.wikipedia.org/wiki/Dolbear%27s_law)). Even if you grew up in a part of the world without snowy tree crickets, you may still recognize their sound! Snowy tree crickets are often dubbed into soundtracks for movies and television to help depict summer evenings.\n",
    "\n",
    "In this laboratory exercise, you will synthesize two artificial crickets - one on each of the dual-core processors in the RP2040 microcontroller. These crickets will be synthesized using [Direct Digital Synthesis](https://vanhunteradams.com/DDS/DDS.html) and sound [*shockingly* real](./Cricket_synthesis.html). You will then use a microphone to *detect* cricket chirps. This will involve calculating an FFT and looking for power at the chirp frequency. Finally, you will implement a [synchronization algorithm](./Sync.pdf) so that your two crickets synchronize. Once everyone proves that their own crickets synchronize, we will turn on all of the crickets in the class to attempt class-wide synchronization of over 100 synthesized snowy tree crickets. Will it work? I don't know! But it will be fun to try.\n",
    "\n",
    "**Key concepts**: Timers, timer interrupts, direct digital synthesis, SPI communication, ADC, DMA, FFT's, GPIO, VGA, multicore, threading, microphones, synchronization of pulse-coupled oscillators, DAC, fixed-point arithmetic"
   ]
  },
  {
   "cell_type": "markdown",
   "metadata": {},
   "source": [
    "***"
   ]
  },
  {
   "cell_type": "markdown",
   "metadata": {},
   "source": [
    "## Demonstration\n",
    "\n",
    "I've embedded a demo below of the system that you will build. **Note: watch the demo with headphones. One cricket is synthesized into the left ear, and the other is synthesized into the right ear.**<br><br>\n",
    "<iframe width=\"560\" height=\"315\" src=\"https://www.youtube.com/embed/q39YzAHCquw\" title=\"YouTube video player\" frameborder=\"0\" allow=\"accelerometer; autoplay; clipboard-write; encrypted-media; gyroscope; picture-in-picture\" allowfullscreen></iframe>"
   ]
  },
  {
   "cell_type": "markdown",
   "metadata": {},
   "source": [
    "***"
   ]
  },
  {
   "cell_type": "markdown",
   "metadata": {},
   "source": [
    "## Reading\n",
    "\n",
    "Experience shows that students prefer these webpages short. For that reason, please find the reading and background materials on the webpages linked below. *Please note that the information in these readings will be critical for completing the lab.*\n",
    "\n",
    "### Engineering background\n",
    "\n",
    "- [**Building Demo Code**](https://vanhunteradams.com/Pico/CourseMaterials/Building_Demos.html): This webpage describes how to download and build the course demo code on the laboratory computers.\n",
    "- [**Lab 1 Incremental Examples**](https://github.com/vha3/Hunter-Adams-RP2040-Demos/tree/master/Audio): In this lab, as in all labs, you are provided with demo code from which to start your assignment. This repository contains a sequence of example projects which incrementally build to the demo code from which you should start your assignment. The documentation for each of these examples is meant to be read in order, starting from the Blinky Demo and moving down.\n",
    "- [**SPI Communication**](https://vanhunteradams.com/Protocols/SPI/SPI.html): The digital-to-analog converter that we are using is an SPI device. This webpage describes SPI communication. Understanding these concepts will make configuring the SPI channel on the RP2040 much easier.\n",
    "- [**VGA Driver**](https://vanhunteradams.com/Pico/VGA/VGA.html): This webpage describes the VGA driver that you will use for visualizing the FFT on the VGA display.\n",
    "- [**RP2040 Datasheet**](https://datasheets.raspberrypi.com/rp2040/rp2040-datasheet.pdf): Sections on DMA, GPIO, UART, SPI, Timer, ADC\n",
    "- [**C SDK guide**](https://datasheets.raspberrypi.com/pico/raspberry-pi-pico-c-sdk.pdf): Same sections as above\n",
    "- [**DAC datasheet**](./DAC.pdf)\n",
    "- [**Microphone datasheet**](https://www.adafruit.com/product/1063?gclid=CjwKCAiA9aKQBhBREiwAyGP5ldcS2LZrDPHO5TP5YRw7A3rMfDp1zmeDc96i9LIHtZKfg1KEYXaRaBoCTlkQAvD_BwE)\n",
    "\n",
    "### Mathematical background\n",
    "\n",
    "- [**Direct Digital Synthesis**](https://vanhunteradams.com/DDS/DDS.html): This is the algorithm that we will use for sound production. *This is a powerful algorithm*, a good one to understand deeply.\n",
    "- [**Cricket synthesis**](./Cricket_synthesis.html): This webpage describes how to use Direct Digital Synthesis (see above) to create a cricket call.\n",
    "- [**Fast Fourier Transforms**](https://vanhunteradams.com/FFT/FFT.html): You will compute an FFT (Cooley-Tukey FFT) of audio samples gathered from a microphone. You will detect a cricket by looking for power at the chirp frequency. This webpage describes how to implement an FFT, and derives Cooley-Tukey from the sine-cosine series.\n",
    "- [**Synchronization algorithm**](./Synchronization.html): This links to a webpage that describes the algorithm in [\"Synchronization of Pulse-Coupled Biological Oscillators\"](./Sync.pdf) by Mirollo and Strogatz (1990). This is the algorithm that you will implement to synchronize your crickets. In class, we will discuss implementation strategies on the microcontroller.\n",
    "- [**Fixed-point arithmetic**](https://vanhunteradams.com/FixedPoint/FixedPoint.html): Sound synthesis requires meeting strict timing deadlines, which means you may not have time to do your computation in floating point. Fixed-point arithmetic allows for you to use *integer arithmetic* (which is *way* faster than floating point, on this architecture) while maintaining *fractional resolution*."
   ]
  },
  {
   "cell_type": "markdown",
   "metadata": {},
   "source": [
    "***"
   ]
  },
  {
   "cell_type": "markdown",
   "metadata": {},
   "source": [
    "## Weekly checkpoints\n",
    "\n",
    "#### Week 1\n",
    "\n",
    "- Using [this webpage](https://vanhunteradams.com/Pico/CourseMaterials/Building_Demos.html) as a guide, download and build the course demo code on a laboratory PC.\n",
    "- In [this example code](https://github.com/vha3/Hunter-Adams-RP2040-Demos/tree/master/Audio/e_Audio_Beep_Synthesis_Multicore), direct digital synthesis is used to generate two pure sine wave \"beeps\" of different frequencies - one from each core. Connect the DAC to the Pico per the `#define` statements at the top of the source code and the [DAC datasheet](./DAC.pdf), build the code, and load it onto the Pico. Please note that different manufacturers use different names for signal names! Here are the correct connections:<br>\n",
    "> `3.3V(OUT)` --> `VDD`<br>\n",
    "> `GND` --> `VSS`<br>\n",
    "> `PIN_CS` --> $\\overline{\\text{CS}}$<br>\n",
    "> `PIN_SCK` --> `SCK`<br>\n",
    "> `PIN_MOSI` --> `SDI`<br>\n",
    "> `LDAC` --> $\\overline{\\text{LDAC}}$\n",
    "- Confirm that waveforms are being generated by the DAC with the oscilloscope, then use [a 3.5mm audio socket](https://www.cuidevices.com/product/discontinued/sj1-355xng.pdf) so that you can plug in speakers and listen to the generated beeps.\n",
    "\n",
    "#### Week 2\n",
    "\n",
    "- Modify the \"beep beep\" example code such that each core produces a cricket chirp, as described on the [cricket synthesis page](./Cricket_synthesis.html). I recommend putting the chirp state machine in the interrupt service routine.\n",
    "- These chirps must be the correct frequency and must repeat with the correct timing. They must be amplitude-modulated. There should be no audible clicks or pops. In particular:\n",
    "> - 8 syllables\n",
    "> - Syllable frequency = 2300 Hz\n",
    "> - Syllable length = 17 ms\n",
    "> - Syllable repeat interval = 2 ms\n",
    "> - Chirp repeat interval = 260 ms\n",
    "- **Prove, with the oscilloscope, that the above specifications are being met.**\n",
    "- Add two buttons so that you can pause/play either cricket.\n",
    "- Please make these parameters easy to change in your code! For class-wide synchronization, we may want a longer chirp repeat interval.\n",
    "\n",
    "#### Week 3\n",
    "\n",
    "- In [this example code](https://github.com/vha3/Hunter-Adams-RP2040-Demos/tree/master/Audio/g_Audio_FFT), the ADC is used to sample audio and then the RP2040 calculates/visualizes an FFT.\n",
    "- Run this demo code while sampling the microphone. Confirm functionality with a tone generator. The demo code uses analog input 0. Adjust the gain potentiometer on the back until you get good response at the chirp frequency.\n",
    "- Modify this code such that it detects one (and only one!) chirp each time a cricket chirps. Print out \"Chirp!\" to a serial terminal each time you hear one. You can test with the synthesized crickets on the cricket synthesis webpage linked above.\n",
    "- Merge this code with your cricket synthesis code. Your system should produce a cricket chirp from each core. Each core should detect *the other core's chirps* but *not it's own chirps.*\n",
    "\n",
    "#### Week 4\n",
    "\n",
    "- Implement the synchronization algorithm described in the link above so that each cricket adjusts its time to fire when it hears the other cricket. Over time, your two crickets should synchronize *and remain sychronized.*\n",
    "\n",
    "Once all groups have demonstrated synchronization between their two crickets, we will attempt class-wide synchronization."
   ]
  },
  {
   "cell_type": "markdown",
   "metadata": {},
   "source": [
    "***"
   ]
  },
  {
   "cell_type": "markdown",
   "metadata": {},
   "source": [
    "## Lab report\n",
    "\n",
    "Your written lab report should include the sections mentioned in the [policy page](https://vanhunteradams.com/Pico/CourseMaterials/Policy.html), and:\n",
    "\n",
    "- A scope display of a syllable, with cursors placed to measure syllable length\n",
    "- A scope display of the end/start of two subsequent syllables, with cursors placed to measure syllable repeat interval\n",
    "- A scope display of a full chirp, showing 8 syllables\n",
    "- A scope display of two chirps, with cursors placed to measure chirp repeat interval\n",
    "- A heavily commented listing of your code."
   ]
  },
  {
   "cell_type": "markdown",
   "metadata": {},
   "source": [
    "***"
   ]
  },
  {
   "cell_type": "markdown",
   "metadata": {},
   "source": [
    "## References\n",
    "\n",
    "1. [Mirollo, Renato E., and Steven H. Strogatz. \"Synchronization of pulse-coupled biological oscillators.\" SIAM Journal on Applied Mathematics 50.6 (1990): 1645-1662.](./Sync.pdf)\n",
    "2. [Huber, Franz, and John Thorson. \"Cricket auditory communication.\" Scientific American 253.6 (1985): 60-73.](./Cricket_auditory_communication.pdf)\n",
    "3. [Kusse and Westig's Mathematical Physics](https://www.amazon.com/Mathematical-Physics-Mathematics-Scientists-Engineers/dp/3527406727)\n",
    "4. [Numerical Recipes](http://numerical.recipes/)"
   ]
  },
  {
   "cell_type": "markdown",
   "metadata": {},
   "source": [
    "***"
   ]
  }
 ],
 "metadata": {
  "kernelspec": {
   "display_name": "Python 3",
   "language": "python",
   "name": "python3"
  },
  "language_info": {
   "codemirror_mode": {
    "name": "ipython",
    "version": 3
   },
   "file_extension": ".py",
   "mimetype": "text/x-python",
   "name": "python",
   "nbconvert_exporter": "python",
   "pygments_lexer": "ipython3",
   "version": "3.8.3"
  }
 },
 "nbformat": 4,
 "nbformat_minor": 4
}
