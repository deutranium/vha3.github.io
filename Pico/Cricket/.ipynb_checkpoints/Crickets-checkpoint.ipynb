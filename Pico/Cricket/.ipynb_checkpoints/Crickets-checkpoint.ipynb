{
 "cells": [
  {
   "cell_type": "markdown",
   "metadata": {},
   "source": [
    "# Synthesizing and Synchronizing Snowy Tree Crickets\n",
    "#### V. Hunter Adams (vha3@cornell.edu)"
   ]
  },
  {
   "cell_type": "markdown",
   "metadata": {},
   "source": [
    "## Introduction\n",
    "\n",
    "Synchronizaton events are remarkably common in biological systems. Many of these events take place in hard-to-see places (e.g. pacemaker cells of hearts, inside the hippcampus, and in insulin-secreting cells in the pancreas) (**cite Strogatz**). Some, however, are spectacularly apparent. One example is firefly synchronization, which happens for a few weeks each year at a few places around the world. Another is snowy tree cricket chirp synchronization, which occurs for much of the year right here in Ithaca and across much of the United States! Go outside on many evenings and you'll hear it happening.\n",
    "\n",
    "<figure>\n",
    "    <img align=\"center\" width=\"300\" height=\"500\" src=\"cricket.jpg\" alt='missing' />\n",
    "    <center><figcaption>A snowy tree cricket</figcaption></center>\n",
    "</figure>\n",
    "\n",
    "The snowy tree cricket is interesting for a number of reasons. In addition to synchronizing their chirps, these crickets change the *frequency and speed* of their chirps as a function of the ambient temperature. For this reason, they are nicknamed the \"thermometer cricket.\" Here on the east coast, you can estimate the temperature (in Fahrenheit) by adding 40 to the number of chirps that you count in 15 seconds. In other parts of the country the linear relationship is slightly different, so it's a good idea to calibrate your crickets before taking any measurements. Even if you grew up in a part of the world without snowy tree crickets, you may still recognize their sound! Snowy tree crickets are often dubbed into soundtracks for movies and television to help depict summer evenings.\n",
    "\n",
    "In this laboratory exercise, you will synthesize two artificial crickets - one on each of the dual-core processors in the RP2040 microcontroller. These crickets will be synthesized using [Direct Digital Synthesis](https://vanhunteradams.com/DDS/DDS.html) and sound *shockingly* real. You will then use a microphone to *detect* cricket chirps. This will involve calculating an FFT, and looking for power at the chirp frequency. Finally, you will implement a [synchronization algorithm](./Sync.pdf) so that your two crickets synchronize. Once everyone proves that their own crickets synchronize, we will turn on all of the crickets in the class to attempt class-wide synchronization of over 100 synthesized snowy tree crickets.<br><br>\n",
    "\n"
   ]
  },
  {
   "cell_type": "code",
   "execution_count": null,
   "metadata": {},
   "outputs": [],
   "source": []
  }
 ],
 "metadata": {
  "kernelspec": {
   "display_name": "Python 3",
   "language": "python",
   "name": "python3"
  },
  "language_info": {
   "codemirror_mode": {
    "name": "ipython",
    "version": 3
   },
   "file_extension": ".py",
   "mimetype": "text/x-python",
   "name": "python",
   "nbconvert_exporter": "python",
   "pygments_lexer": "ipython3",
   "version": "3.8.3"
  }
 },
 "nbformat": 4,
 "nbformat_minor": 4
}
