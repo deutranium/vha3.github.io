{
 "cells": [
  {
   "cell_type": "markdown",
   "metadata": {},
   "source": [
    "# The Boids and the Bees\n",
    "### (Leadership and Decision-Making in Animal Groups on the Move)\n",
    "#### V. Hunter Adams (vha3@cornell.edu)"
   ]
  },
  {
   "cell_type": "markdown",
   "metadata": {},
   "source": [
    "## Introduction"
   ]
  },
  {
   "cell_type": "markdown",
   "metadata": {},
   "source": [
    "When a bee colony grows too large, it divides in two through a process called *swarming.* The queen and approximately half of the workers leave to establish a new colony, while the remaining workers and a daughter queen remain at the original site. The departing bees come to rest on a nearby tree while a remarkably small number of scouts search for new nesting locations. Each reports the distance and direction to a candidate site by performing a waggle dance. At first, the scouts may be visiting and deliberating over more than ten candidate locations. Over a few days, however, the number of candidate locations will reduce.<br><br>\n",
    "\n",
    "<figure>\n",
    "    <img align=\"center\" width=\"300\" height=\"500\" src=\"swarm.jpg\" alt='missing' />\n",
    "    <center><figcaption>A swarm of honeybees (figure from [1])</figcaption></center>\n",
    "</figure>\n",
    "\n",
    "It is tempting to assume that all of the scouts reach an agreement (i.e. come to consensus) before the colony takes flight to be guided by the scouts to their new home. Tom Seeley of Cornell showed that this is not the case! Instead, the colony will take flight when the scouts have reached a *quorum*. That is, when a *sufficient number* of the scouts agree, not necessarily *all* the scouts. Despite the fact that the colony may take flight with dissenting opinions about the direction it should travel, the colony will collectively select the location that has the quorum-number of scouts voting for it.\n",
    "\n",
    "In this laboratory exercise, we will implement an algorthm described in \"Effective leadership and decision-making in animal groups on the move\" to model bees in flight. Then, we will give a configurable number of those bees a preferred direction of travel (these are the scouts). We will conduct experiments to determine how many scouts are required to steer the colony. Graduate students will be asked to implement *two groups* of scouts of configurable size, they will be asked to demonstrate collective consensus in their swarm. This is all demonstrated in the video below.\n",
    "\n",
    "You are challenged to create the largest swarm that you can manage, subject to the constraint that the swarm must animate at 30 fps.\n",
    "\n",
    "This laboratory exercise combines the results from two articles: \n",
    "- [Couzin, Iain D., et al. \"Effective leadership and decision-making in animal groups on the move.\" Nature 433.7025 (2005): 513-516.](https://www.nature.com/articles/nature03236?message=remove&free=2)\n",
    "- [Seeley, Thomas D., P. Kirk Visscher, and Kevin M. Passino. \"Group Decision Making in Honey Bee Swarms: When 10,000 bees go house hunting, how do they cooperatively choose their new nesting site?.\" American scientist 94.3 (2006): 220-229.](https://www.americanscientist.org/article/group-decision-making-in-honey-bee-swarms)"
   ]
  },
  {
   "cell_type": "markdown",
   "metadata": {},
   "source": [
    "## Demonstration"
   ]
  },
  {
   "cell_type": "markdown",
   "metadata": {},
   "source": [
    "## Reading\n",
    "\n",
    "Experience shows that students prefer these webpages short. For that reason, plese find the reading and background materials on the webpages linked below. *Please note that the information in these readings will be critical for completing the lab.*\n",
    "\n",
    "#### Mathematical background\n",
    "- [Boids algorithm]: Boids is an artificial life program that produces startlingly realistic simulations of the flocking behavior of birds. We will be using a modified version of this algorithm to model bees in flight.\n",
    "- [**Effective leadership and decision-making in animal groups on the move**](https://www.nature.com/articles/nature03236?message=remove&free=2): This paper, by Couzin, Krause, Franks, and Levin, describes the mechanism by which a small minority of hive members can steer the collective. It also describes the mechanism by which the colony chooses among multiple candidate nesting locations.\n",
    "\n",
    "#### Engineering background\n",
    "- [**VGA driver**](https://vanhunteradams.com/Pico/VGA/VGA.html): You will not be asked to implement a VGA driver, you will use the one described on this webpage. You will need to modify it if you want to overclock the RP2040.\n",
    "- [**Fixed-point arithmetic**](https://vanhunteradams.com/FixedPoint/FixedPoint.html): To generate the largest possible swarm, you want for your arithmetic to be as fast as possible. Floating point is too slow. Fixed-point arithmetic allows for you to use integer arithmetic (which is way faster than floating point, on this architecture) while maintaining fractional resolution.\n",
    "- [**RP2040 datasheet**](https://datasheets.raspberrypi.com/rp2040/rp2040-datasheet.pdf): Sections on DMA, UART, Multicore, Timers, PIO\n",
    "- [**RP2040 C SDK guide**](https://datasheets.raspberrypi.com/pico/raspberry-pi-pico-c-sdk.pdf): Same sections as above\n",
    "\n",
    "#### Biological background\n",
    "- [**Seeley, Thomas D., P. Kirk Visscher, and Kevin M. Passino. \"Group Decision Making in Honey Bee Swarms: When 10,000 bees go house hunting, how do they cooperatively choose their new nesting site?.\" American scientist 94.3 (2006): 220-229.**](https://www.americanscientist.org/article/group-decision-making-in-honey-bee-swarms)\n",
    "\n",
    "#### Beyond this lab\n",
    "- [***Honeybee Democracy***](https://www.amazon.com/Honeybee-Democracy-Thomas-D-Seeley/dp/0691147213/ref=asc_df_0691147213/?tag=hyprod-20&linkCode=df0&hvadid=312165853622&hvpos=&hvnetw=g&hvrand=15490244818934226186&hvpone=&hvptwo=&hvqmt=&hvdev=c&hvdvcmdl=&hvlocint=&hvlocphy=9005779&hvtargid=pla-460167209972&psc=1&tag=&ref=&adgrpid=60258872297&hvpone=&hvptwo=&hvadid=312165853622&hvpos=&hvnetw=g&hvrand=15490244818934226186&hvqmt=&hvdev=c&hvdvcmdl=&hvlocint=&hvlocphy=9005779&hvtargid=pla-460167209972): A book by Professor Seeley that discusses honeybee behavior in fascinating detail."
   ]
  },
  {
   "cell_type": "markdown",
   "metadata": {},
   "source": [
    "## Weekly Checkpoints\n",
    "\n",
    "#### Week 1\n",
    "- Starting from **this example**, get one boid flying around on the screen. I recommend the following parameters for the **boids algorithm**:<br><br><br>\n",
    "- The boid should have randomized initial position (within margins) and velocity (within min/max speed limits)\n",
    "- Your boid may be represented as a pixel (drawn using the drawPixel routing) or as a circle or rectangle. I think 2x2 rectangles look nice, and are less expensive than circles.\n",
    "- Your animation should update at a constant frame rate 30fps (see **this pseudocode**)\n",
    "- The VGA display (or a serial terminal) should show the number of boids, the frame rate, and elapsed time in seconds\n",
    "- Finishing a checkpoint does NOT mean you can leave lab early!\n",
    "\n",
    "\n",
    "#### Week 2\n",
    "\n",
    "#### Week 3\n",
    "\n"
   ]
  },
  {
   "cell_type": "markdown",
   "metadata": {},
   "source": [
    "## Lab Report"
   ]
  },
  {
   "cell_type": "markdown",
   "metadata": {},
   "source": [
    "## References\n",
    "\n",
    "1. [Couzin, Iain D., et al. \"Effective leadership and decision-making in animal groups on the move.\" Nature 433.7025 (2005): 513-516.](https://www.nature.com/articles/nature03236?message=remove&free=2)\n",
    "2. [Seeley, Thomas D., P. Kirk Visscher, and Kevin M. Passino. \"Group Decision Making in Honey Bee Swarms: When 10,000 bees go house hunting, how do they cooperatively choose their new nesting site?.\" American scientist 94.3 (2006): 220-229.](https://www.americanscientist.org/article/group-decision-making-in-honey-bee-swarms)"
   ]
  },
  {
   "cell_type": "code",
   "execution_count": null,
   "metadata": {},
   "outputs": [],
   "source": []
  }
 ],
 "metadata": {
  "kernelspec": {
   "display_name": "Python 3",
   "language": "python",
   "name": "python3"
  },
  "language_info": {
   "codemirror_mode": {
    "name": "ipython",
    "version": 3
   },
   "file_extension": ".py",
   "mimetype": "text/x-python",
   "name": "python",
   "nbconvert_exporter": "python",
   "pygments_lexer": "ipython3",
   "version": "3.8.3"
  }
 },
 "nbformat": 4,
 "nbformat_minor": 4
}
