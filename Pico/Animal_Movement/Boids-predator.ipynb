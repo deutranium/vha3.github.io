{
 "cells": [
  {
   "cell_type": "markdown",
   "metadata": {},
   "source": [
    "# Boids algorithm - augmented to include a predator\n",
    "#### [V. Hunter Adams](https://vanhunteradams.com)"
   ]
  },
  {
   "cell_type": "markdown",
   "metadata": {},
   "source": [
    "> - [Background and Introduction](#Background-and-Introduction)\n",
    "> - [Algorithm Overview](#Algorithm-Overview)\n",
    "> > - [Separation](#Separation)\n",
    "> > - [Alignment](#Alignment)\n",
    "> > - [Cohesion](#Cohesion)\n",
    "> > - [Screen edges](#Screen-edges)\n",
    "> > - [Predator avoidance](#Predator)\n",
    "> > - [Speed limits](#Speed-limits)\n",
    "> > - [Update position](#Update-position)\n",
    "> > - [Recommended parameter values](#Recommended-parameter-values)\n",
    "> > - [Pseudocode](#Pseudocode)"
   ]
  },
  {
   "cell_type": "markdown",
   "metadata": {},
   "source": [
    "## Background and Introduction"
   ]
  },
  {
   "cell_type": "markdown",
   "metadata": {},
   "source": [
    "[Boids](https://en.wikipedia.org/wiki/Boids) is an artificial life program that produces startlingly realistic simulations of flocking behavior. Each \"boid\" (which is an abbreviation of \"bird-oid object\" follows a very simple set of rules. These rules will be discussed at length, but they can be summarized as follows:<br>\n",
    "- **Separation**: boids move away from other boids that are too close\n",
    "- **Alignment**: boids attempt to match the velocities of their neighbors\n",
    "- **Cohesion**: boids move toward the center of mass of their neighbors\n",
    "\n",
    "We will add a few more rules to this list. In particular, boids will turn around at the boundaries of the VGA display, their speeds will be constrained to within a configurable range, and we will have the boids avoid a predator.\n",
    "\n",
    "When all of the boids follow these simple rules, the flock produces gorgeously organic-looking emergent patterns, as shown in the video below. You can compare the simulated behavior to videos of actual murmurations of starlings (like [this one](https://www.youtube.com/watch?v=V4f_1_r80RY)). The Boids algorithm was developed by Craig Reynolds in 1986.<br><br>\n",
    "\n",
    "<iframe width=\"560\" height=\"315\" src=\"https://www.youtube.com/embed/fmtD5pkxG04\" title=\"YouTube video player\" frameborder=\"0\" allow=\"accelerometer; autoplay; clipboard-write; encrypted-media; gyroscope; picture-in-picture; web-share\" allowfullscreen></iframe>\n"
   ]
  },
  {
   "cell_type": "markdown",
   "metadata": {},
   "source": [
    "## Algorithm Overview\n",
    "\n",
    "Just like in nature, no boid has global knowledge of every other boid in the flock. Instead, each can only see boids that are within its *visual range* and that are within its smaller *protected range*. These are tunable parameters. A boid will move away from other boids that are within its protected range (birds don't want to fly into each other), it will attempt to match the average velocity of boids within its visible range, and it will tend toward the center of mass of boids in its visible range.\n",
    "\n",
    "We will also enforce minimum and maximum speed limits for the boids. Flocking birds (like starlings) are never stationary in flight. So, we'll prevent the speed of any boid from dropping below some tunable value. Birds also have maximum speeeds, so we'll prevent the speed of any boid from exceeding some tunable value. Finally, we want for the boids to turn around when they reach the edges of the VGA screen. When a boid gets within some tunable margin of an edge of the screen, we will turn it by some tunable value. The greater this value, the faster the birds will be able to turn. We can play with these parameters until we get realistic-looking behavior.\n",
    "\n",
    "The state for each boid includes its x/y position and its x/y velocity, represented as:<br>\n",
    "`boid.x`<br>\n",
    "`boid.y`<br>\n",
    "`boid.vx`<br>\n",
    "`boid.vy`<br>"
   ]
  },
  {
   "cell_type": "markdown",
   "metadata": {},
   "source": [
    "<figure>\n",
    "    <img align=\"center\" width=\"600\" height=\"200\" src=\"flock.png\" alt='missing' />\n",
    "    <center><figcaption>Each boid determines whether each other boid is in its protected/visual range.</figcaption></center>\n",
    "</figure>"
   ]
  },
  {
   "cell_type": "markdown",
   "metadata": {},
   "source": [
    "#### Separation\n",
    "\n",
    "Each boid attempts to avoid running into other boids. If two or more boids get too close to one another (i.e. within one another's *protected range*), they will steer away from one another. They will do so in the following way:\n",
    "\n",
    "1. At the start of the update for a particular boid, two accumulating variable (`close_dx` and `close_dy`) are zeroed\n",
    "2. We loop thru every other boid. If the distance to a particular boid is less than the protected range, then <br>`close_dx += boid.x - otherboid.x`<br>`close_dy += boid.y - otherboid.y`.\n",
    "3. Once we've looped through all other boids, then we update the velocity according to <br>`boid.vx += close_dx*avoidfactor`<br>`boid.vy += close_dy*avoidfactor`<br>(where `avoidfactor` is a tunable parameter)"
   ]
  },
  {
   "cell_type": "markdown",
   "metadata": {},
   "source": [
    "<figure>\n",
    "    <img align=\"center\" width=\"500\" height=\"200\" src=\"separation.png\" alt='missing' />\n",
    "    <center><figcaption>Move away from boids in protected range.</figcaption></center>\n",
    "</figure>"
   ]
  },
  {
   "cell_type": "markdown",
   "metadata": {},
   "source": [
    "#### Alignment\n",
    "\n",
    "Each boid attempts to match the velocity of other boids inside its visible range. It does so in the following way:\n",
    "\n",
    "1. At the start of the update for a particular boid, three variables (`xvel_avg`, `yvel_avg`, and `neighboring_boids`) are zeroed\n",
    "2. We loop thru every other boid. If the distance to a particular boid is less than the visible range, then<br>\n",
    "`xvel_avg += otherboid.vx`<br>\n",
    "`yvel_avg += otherboid.vy`<br>\n",
    "`neighboring_boids += 1`\n",
    "3. Once we've looped through all other boids, we do the following **if `neighboring_boids>0`**:<br>\n",
    "`xvel_avg = xvel_avg/neighboring_boids`<br>\n",
    "`yvel_avg = yvel_avg/neighboring_boids`\n",
    "4. We then update the velocity according to:<br>\n",
    "`boid.vx += (xvel_avg - boid.vx)*matchingfactor`<br>\n",
    "`boid.vy += (yvel_avg - boid.vy)*matchingfactor`<br>\n",
    "(where `matchingfactor` is a tunable parameter)"
   ]
  },
  {
   "cell_type": "markdown",
   "metadata": {},
   "source": [
    "<figure>\n",
    "    <img align=\"center\" width=\"500\" height=\"200\" src=\"alignment.png\" alt='missing' />\n",
    "    <center><figcaption>Align with average velocity of boids in visible range.</figcaption></center>\n",
    "</figure>"
   ]
  },
  {
   "cell_type": "markdown",
   "metadata": {},
   "source": [
    "#### Cohesion\n",
    "\n",
    "Each boid steers gently toward the center of mass of other boids within its visible range. It does so in the following way:\n",
    "\n",
    "1. At the start of the update for a particular boid, three variables (`xpos_avg`, `ypos_avg`, and `neighboring_boids`) are zeroed\n",
    "2. We loop thru every other boid. If the distance to a particular boid is less than the visible range, then<br>\n",
    "`xpos_avg += otherboid.x`<br>\n",
    "`ypos_avg += otherboid.y`<br>\n",
    "`neighboring_boids += 1`\n",
    "3. Once we've looped through all other boids, we do the following **if `neighboring_boids>0`**:<br>\n",
    "`xpos_avg = xpos_avg/neighboring_boids`<br>\n",
    "`ypos_avg = ypos_avg/neighboring_boids`\n",
    "4. We then update the velocity according to:<br>\n",
    "`boid.vx += (xpos_avg - boid.x)*centeringfactor`<br>\n",
    "`boid.vy += (ypos_avg - boid.y)*centeringfactor`<br>\n",
    "(where `centeringfactor` is a tunable parameter)"
   ]
  },
  {
   "cell_type": "markdown",
   "metadata": {},
   "source": [
    "<figure>\n",
    "    <img align=\"center\" width=\"500\" height=\"200\" src=\"cohesion.png\" alt='missing' />\n",
    "    <center><figcaption>Move toward center of mass of boids in visible range.</figcaption></center>\n",
    "</figure>"
   ]
  },
  {
   "cell_type": "markdown",
   "metadata": {},
   "source": [
    "#### Screen edges\n",
    "\n",
    "We want our boids to turn-around at an organic-looking turn radius when they approach an edge of the TFT. We will do so in the following way: <br>\n",
    "\n",
    "```\n",
    "if boid.x < leftmargin:\n",
    "    boid.vx = boid.vx + turnfactor\n",
    "if boid.x > rightmargin:\n",
    "    boid.vx = boid.vx - turnfactor\n",
    "if boid.y > bottommargin:\n",
    "    boid.vy = boid.vy - turnfactor\n",
    "if boid.y < topmargin:\n",
    "    boid.vy = boid.vy + turnfactor\n",
    "```\n",
    "\n",
    "where `turnfactor` and all margins are tunable parameters. I recommend a margin of 100 pixels on all edges."
   ]
  },
  {
   "cell_type": "markdown",
   "metadata": {},
   "source": [
    "<figure>\n",
    "    <img align=\"center\" width=\"500\" height=\"200\" src=\"edges.png\" alt='missing' />\n",
    "    <center><figcaption>Steer away from edges of VGA display.</figcaption></center>\n",
    "</figure>"
   ]
  },
  {
   "cell_type": "markdown",
   "metadata": {},
   "source": [
    "#### Predator\n",
    "\n",
    "ECE 5730 students are required to add a predator to the simulation. This predator moves like any other Boid, except that its only velocity updates come from turning at the screen edges (it does not perform any separation, cohesion, or alignment calculations).\n",
    "\n",
    "The Boids, of course, avoid the predator. They do so in the following way:\n",
    "\n",
    "1. For each Boid compute the distance from the Boid to the predator in each dimension:<br>\n",
    "`predator_dx = boid.x - predator.x`<br>\n",
    "`predator_dy = boid.y - predator.y`<br>\n",
    "2. If the distance to the predator is less than the `predatory range` (a tunable parameter), then turn away from the predator:<br>\n",
    "```c\n",
    "if (predator_dy > 0) { //predator above boid\n",
    "  boid.vy = (boid.vy + predatorturnfactor) ;\n",
    "}\n",
    "if (predator_dy < 0) { //predator below boid\n",
    "  boid.vy = (boid.vy - predatorturnfactor) ;\n",
    "}\n",
    "if (predator_dx > 0) { //predator left of boid\n",
    "  boid.vx = (boid.vx + predatorturnfactor) ;\n",
    "}\n",
    "if (predator_dx < 0) { //predator right of boid\n",
    "  boid.vx = (boid.vx - predatorturnfactor) ;\n",
    "}\n",
    "```\n",
    "where `predatorturnfactor`, similarly to `turnfactor`, dictates how sharply a boid is capable of turning away from a predator."
   ]
  },
  {
   "cell_type": "markdown",
   "metadata": {},
   "source": [
    "#### Speed limits\n",
    "\n",
    "We constrain the boids to move faster than some minimum speed and slower than some maximum speed. We do so in the following way:\n",
    "\n",
    "1. Once the velocity has been updated, compute the boid speed<br>\n",
    "`speed = sqrt(boid.vx*boid.vx + boid.vy*boid.vy)`\n",
    "2. If `speed>maxspeed`:<br>\n",
    "`boid.vx = (boid.vx/speed)*maxspeed`<br>\n",
    "`boid.vy = (boid.vy/speed)*minspeed`\n",
    "3. If `speed<minspeed`:<br>\n",
    "`boid.vx = (boid.vx/speed)*minspeed`<br>\n",
    "`boid.vy = (boid.vy/speed)*minspeed`"
   ]
  },
  {
   "cell_type": "markdown",
   "metadata": {},
   "source": [
    "#### Update position\n",
    "\n",
    "With the updated velocity, we update the boid position. Assume that $\\Delta t = 1$ from frame to frame (i.e. that velocity is in units of pixels/frame):<br><br>\n",
    "`boid.x = boid.x + boid.vx`<br>\n",
    "`boid.y = boid.y + boid.vy`"
   ]
  },
  {
   "cell_type": "markdown",
   "metadata": {},
   "source": [
    "#### Recommended parameter values\n",
    "\n",
    "You can play with these to get different emergent behaviors. These are the parameters that I used in the example videos on this webpage. Note that you will need to convert these to [fixed-point](https://vanhunteradams.com/FixedPoint/FixedPoint.html).\n",
    "\n",
    "`turnfactor`: 0.2<br>\n",
    "`visualRange`: 40<br>\n",
    "`protectedRange`: 8<br>\n",
    "`centeringfactor`: 0.0005<br>\n",
    "`avoidfactor`: 0.05<br>\n",
    "`matchingfactor`: 0.05<br>\n",
    "`maxspeed`: 6<br>\n",
    "`minspeed`: 3<br>\n",
    "`predatorturnfactor`: 0.5<br>\n",
    "`predatorRange`: 100<br>"
   ]
  },
  {
   "cell_type": "markdown",
   "metadata": {},
   "source": [
    "#### Pseudocode\n",
    "\n",
    "All of the above rules are represented in the below pseudocode. Look for places to optimize! This pseudocode describes the most straightforward implementation of the algorithm, there are *lots* of opportunities to speed things up.\n",
    "\n",
    "```python\n",
    "# For every boid . . .\n",
    "for each boid (boid):\n",
    "    \n",
    "    # Zero all accumulator variables (can't do this in one line in C)\n",
    "    xpos_avg, ypos_avg, xvel_avg, yvel_avg, neighboring_boids, close_dx, close_dy = 0\n",
    "    \n",
    "    # For every other boid in the flock . . .\n",
    "    for each other boid (otherboid):\n",
    "        \n",
    "        # Compute differences in x and y coordinates\n",
    "        dx = boid.x - otherboid.x\n",
    "        dy = boid.y - otherboid.y\n",
    "        \n",
    "        # Are both those differences less than the visual range?\n",
    "        if (abs(dx)<visual_range and abs(dy)<visual_range):  \n",
    "            \n",
    "            # If so, calculate the squared distance\n",
    "            squared_distance = dx*dx + dy*dy\n",
    "            \n",
    "            # Is squared distance less than the protected range?\n",
    "            if (squared_distance < protected_range_squared):\n",
    "                \n",
    "                # If so, calculate difference in x/y-coordinates to nearfield boid\n",
    "                close_dx += boid.x - otherboid.x \n",
    "                close_dy += boid.y - otherboid.y\n",
    "                \n",
    "            # If not in protected range, is the boid in the visual range?\n",
    "            else if (squared_distance < visual_range_squared):\n",
    "                \n",
    "                # Add other boid's x/y-coord and x/y vel to accumulator variables\n",
    "                xpos_avg += otherboid.x \n",
    "                ypos_avg += otherboid.y \n",
    "                xvel_avg += otherboid.vx\n",
    "                yvel_avg += otherboid.vy\n",
    "                \n",
    "                # Increment number of boids within visual range\n",
    "                neighboring_boids += 1 \n",
    "                \n",
    "    \n",
    "    # If there were any boids in the visual range . . .            \n",
    "    if (neighboring_boids > 0): \n",
    "        \n",
    "        # Divide accumulator variables by number of boids in visual range\n",
    "        xpos_avg = xpos_avg/neighboring_boids \n",
    "        ypos_avg = ypos_avg/neighboring_boids\n",
    "        xvel_avg = xvel_avg/neighboring_boids\n",
    "        yvel_avg = yvel_avg/neighboring_boids\n",
    "        \n",
    "        # Add the centering/matching contributions to velocity\n",
    "        boid.vx = (boid.vx + \n",
    "                   (xpos_avg - boid.x)*centering_factor + \n",
    "                   (xvel_avg - boid.vx)*matching_factor)\n",
    "\n",
    "        boid.vy = (boid.vy + \n",
    "                   (ypos_avg - boid.y)*centering_factor + \n",
    "                   (yvel_avg - boid.vy)*matching_factor)\n",
    "        \n",
    "    # Add the avoidance contribution to velocity\n",
    "    boid.vx = boid.vx + (close_dx*avoidfactor)\n",
    "    boid.vy = boid.vy + (close_dy*avoidfactor)\n",
    "      \n",
    "    \n",
    "    # If the boid is near an edge, make it turn by turnfactor\n",
    "    # (this describes a box, will vary based on boundary conditions)\n",
    "    if outside top margin:\n",
    "        boid.vy = boid.vy + turnfactor\n",
    "    if outside right margin:\n",
    "        boid.vx = boid.vx - turnfactor\n",
    "    if outside left margin:\n",
    "        boid.vx = boid.vx + turnfactor\n",
    "    if outside bottom margin:\n",
    "        boid.vy = boid.vy - turnfactor\n",
    "        \n",
    "    ####################################################################################\n",
    "    ######################### 5730 students only #######################################\n",
    "    ####################################################################################\n",
    "    # For every predator . . .\n",
    "    for each predator (predator):\n",
    "        \n",
    "        # Compute the differences in x and y coordinates\n",
    "        dx = boid.x - predator.x\n",
    "        dy = boid.y - predator.y\n",
    "        \n",
    "        # Are both those differences less than the predatory range?\n",
    "        if (abs(dx)<predatory_range and abs(dy)<predatory_range):\n",
    "            \n",
    "            # If so, calculate the squared distance to the predator\n",
    "            squared_predator_distance = dx*dx + dy*dy\n",
    "            \n",
    "            # Is the squared distance less than the predatory range squared?\n",
    "            if (squared_predator_distance < predatory_range_squared):\n",
    "                \n",
    "                # If so, accumulate the differences in x/y coordinates to the predator\n",
    "                predator_dx += boid.x - predator.x\n",
    "                predator_dy += boid.y - predator.y\n",
    "                \n",
    "                # Increment the number of predators in the boid's predatory range\n",
    "                num_predators += 1\n",
    "                \n",
    "    # If there were any predators in the predatory range, turn away!\n",
    "    if (num_predators > 0):\n",
    "        if predator_dy > 0:\n",
    "            boid.vy = boid.vy + predator_turnfactor\n",
    "        if predator_dy < 0:\n",
    "            boid.vy = boid.vy - predator_turnfactor\n",
    "        if predator_dx > 0:\n",
    "            boid.vx = boid.vx + predator_turnfactor\n",
    "        if predator_dx < 0:\n",
    "            boid.vx = boid.vx - predator_turnfactor     \n",
    "    ####################################################################################\n",
    "        \n",
    "        \n",
    "    # Calculate the boid's speed\n",
    "    # Slow step! Lookup the \"alpha max plus beta min\" algorithm\n",
    "    speed = sqrt(boid.vx*boid.vx + boid.vy*boid.vy)\n",
    "    \n",
    "    # Enforce min and max speeds\n",
    "    if speed < minspeed:\n",
    "        boid.vx = (boid.vx/speed)*minspeed\n",
    "        boid.vy = (boid.vy/speed)*minspeed\n",
    "    if speed > maxspeed:\n",
    "        boid.vx = (boid.vx/speed)*maxspeed\n",
    "        boid.vy = (boid.vy/speed)*maxspeed\n",
    "        \n",
    "    # Update boid's position\n",
    "    boid.x = boid.x + boid.vx\n",
    "    boid.y = boid.y + boid.vy\n",
    "```"
   ]
  },
  {
   "cell_type": "markdown",
   "metadata": {},
   "source": [
    "***\n",
    "***"
   ]
  }
 ],
 "metadata": {
  "kernelspec": {
   "display_name": "Python 3",
   "language": "python",
   "name": "python3"
  },
  "language_info": {
   "codemirror_mode": {
    "name": "ipython",
    "version": 3
   },
   "file_extension": ".py",
   "mimetype": "text/x-python",
   "name": "python",
   "nbconvert_exporter": "python",
   "pygments_lexer": "ipython3",
   "version": "3.8.3"
  }
 },
 "nbformat": 4,
 "nbformat_minor": 4
}
