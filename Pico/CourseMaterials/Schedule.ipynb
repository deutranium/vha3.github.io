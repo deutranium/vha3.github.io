{
 "cells": [
  {
   "cell_type": "markdown",
   "metadata": {},
   "source": [
    "# Schedule of due dates for ECE 4760/5730: Fall 2023"
   ]
  },
  {
   "cell_type": "markdown",
   "metadata": {},
   "source": [
    "As described on the [course policy page](https://vanhunteradams.com/Pico/CourseMaterials/Policy.html), all of your lab reports will be turned in electronically via Canvas. These will be due *before the beginning of your next lab section.* Your final project status reports will also be turned in electronically via Canvas.\n",
    "\n",
    "Each of your laboratory checkoffs should be demonstrated by the *end* of your assigned lab section to the instructor or a TA."
   ]
  },
  {
   "cell_type": "markdown",
   "metadata": {},
   "source": [
    "| Week of . . . | $\\hspace{10mm}$Checkoff due$\\hspace{10mm}$| Deliverable due |\n",
    "| :-- | :--: | ----: |\n",
    "| 8/21  | Lab 1: Week 0 | \n",
    "| 8/28  | Lab 1: Week 1 | \n",
    "| 9/4   | Lab 1: Week 2 | (We will discuss how to handle Labor Day break)\n",
    "| 9/11  | Lab 1: Week 3 | \n",
    "| 9/18  | Lab 2: Week 1 | Lab 1 report\n",
    "| 9/25  | Lab 2: Week 2 | \n",
    "| 10/2  | Lab 2: Week 3 | \n",
    "| 10/9  | Fall break.   | Lab 2 report (due Friday)            \n",
    "| 10/16 | Lab 3: Week 1 | Final project proposal\n",
    "| 10/23 | Lab 3: Week 2 | \n",
    "| 10/30 | Lab 3: Week 3 | \n",
    "| 11/6  |  Project: Week 1 | Lab 3 report<br>Project status report\n",
    "| 11/13  | Project: Week 2 | Project status report\n",
    "| 11/20  | Project: Week 3 | Project status report\n",
    "| 11/27  | Project: Week 4 | Project status report\n",
    "| 12/4   | Final Project Demos | \n",
    "| TBD   |  | Final project webpage"
   ]
  },
  {
   "cell_type": "markdown",
   "metadata": {},
   "source": [
    "***"
   ]
  }
 ],
 "metadata": {
  "kernelspec": {
   "display_name": "Python 3",
   "language": "python",
   "name": "python3"
  },
  "language_info": {
   "codemirror_mode": {
    "name": "ipython",
    "version": 3
   },
   "file_extension": ".py",
   "mimetype": "text/x-python",
   "name": "python",
   "nbconvert_exporter": "python",
   "pygments_lexer": "ipython3",
   "version": "3.8.3"
  }
 },
 "nbformat": 4,
 "nbformat_minor": 4
}
