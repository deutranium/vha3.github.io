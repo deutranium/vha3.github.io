{
 "cells": [
  {
   "cell_type": "markdown",
   "metadata": {},
   "source": [
    "# Schedule of due dates for ECE 4760/5730: Fall 2022"
   ]
  },
  {
   "cell_type": "markdown",
   "metadata": {},
   "source": [
    "As described on the [course policy page](https://vanhunteradams.com/Pico/CourseMaterials/Policy.html), all of your lab reports will be turned in electronically via Canvas. These will be due *before the beginning of your next lab section.* Your final project status reports will also be turned in electronically via Canvas.\n",
    "\n",
    "Each of your laboratory checkoffs should be demonstrated by the *end* of your assigned lab section to the instructor or a TA."
   ]
  },
  {
   "cell_type": "markdown",
   "metadata": {},
   "source": [
    "| Week of . . . | $\\hspace{10mm}$Checkoff due$\\hspace{10mm}$| Deliverable due |\n",
    "| :-- | :--: | ----: |\n",
    "| 8/22  | Lab 1: Week 1 | \n",
    "| 8/29  | Lab 1: Week 2 | \n",
    "| 9/5   | Lab 1: Week 3 | \n",
    "| 9/12  | Lab 1: Week 4 | \n",
    "| 9/19  | Lab 2: Week 1 | Lab 1 report\n",
    "| 9/26  | Lab 2: Week 2 | \n",
    "| 10/3  | Lab 2: Week 3 | \n",
    "| 10/10 | Lab 3: Week 1 |              \n",
    "| 10/17 | Lab 3: Week 2 | Lab 2 report, Project proposal\n",
    "| 10/24 | Lab 3: Week 3 | \n",
    "| 10/31 | Project: Week 1 | Lab 3 report<br>Project status report\n",
    "| 11/7  | Project: Week 2 | Project status report\n",
    "| 11/14  | Project: Week 3 | Project status report\n",
    "| 11/21  |  | \n",
    "| 11/28  | Project: Week 4 | Project status report\n",
    "| 12/5   | Final Project Demos | \n",
    "| TBD by Cornell   |  | Final project webpage"
   ]
  },
  {
   "cell_type": "markdown",
   "metadata": {},
   "source": [
    "***"
   ]
  }
 ],
 "metadata": {
  "kernelspec": {
   "display_name": "Python 3",
   "language": "python",
   "name": "python3"
  },
  "language_info": {
   "codemirror_mode": {
    "name": "ipython",
    "version": 3
   },
   "file_extension": ".py",
   "mimetype": "text/x-python",
   "name": "python",
   "nbconvert_exporter": "python",
   "pygments_lexer": "ipython3",
   "version": "3.8.3"
  }
 },
 "nbformat": 4,
 "nbformat_minor": 4
}
