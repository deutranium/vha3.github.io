{
 "cells": [
  {
   "cell_type": "markdown",
   "metadata": {},
   "source": [
    "# Schedule of due dates for ECE 4760/5730: Spring 2025"
   ]
  },
  {
   "cell_type": "markdown",
   "metadata": {},
   "source": [
    "As described on the [course policy page](https://vanhunteradams.com/Pico/CourseMaterials/Policy.html), all of your lab reports will be turned in electronically via Canvas. These will be due *before the beginning of your next lab section.* Your final project status reports will also be turned in electronically via Canvas.\n",
    "\n",
    "Each of your laboratory checkoffs should be demonstrated by the *end* of your assigned lab section to the instructor or a TA."
   ]
  },
  {
   "cell_type": "markdown",
   "metadata": {},
   "source": [
    "| Week of . . . | Checkoff due<br>at end of lab section| Deliverable due<br>at beginning of lab section |\n",
    "| :-- | :-- | ----: |\n",
    "| 1/20  |               | \n",
    "| 1/27  | Lab 1: Week 1 | Homework 0! <br> Setup the build environment.\n",
    "| 2/3   | Lab 1: Week 2 | \n",
    "| 2/10  | Lab 1: Week 3 | \n",
    "| 2/17  | Lab 2: Week 1 <br> (due on *Friday* for everyone) |  Lab 1 report <br> (due on *Friday* for everyone)\n",
    "| 2/24  | Lab 2: Week 2 |\n",
    "| 3/3   | Lab 2: Week 3 | \n",
    "| 3/10  | Lab 3: Week 1 | Lab 2 report            \n",
    "| 3/17  | Lab 3: Week 2 | Final project proposal\n",
    "| 3/24  | Lab 3: Week 3 | \n",
    "| 3/31  | Spring Break  | \n",
    "| 4/7   | Project: Week 1 | Lab 3 report <br> Project status report\n",
    "| 4/14  | Project: Week 2 | Project status report\n",
    "| 4/21  | Project: Week 3 | Project status report\n",
    "| 4/28  | Project: Week 4 | Project status report\n",
    "| 5/5   | Final Project Demos | \n",
    "| TBD   |  | Final project webpage"
   ]
  },
  {
   "cell_type": "markdown",
   "metadata": {},
   "source": [
    "***"
   ]
  }
 ],
 "metadata": {
  "kernelspec": {
   "display_name": "Python 3",
   "language": "python",
   "name": "python3"
  },
  "language_info": {
   "codemirror_mode": {
    "name": "ipython",
    "version": 3
   },
   "file_extension": ".py",
   "mimetype": "text/x-python",
   "name": "python",
   "nbconvert_exporter": "python",
   "pygments_lexer": "ipython3",
   "version": "3.8.3"
  }
 },
 "nbformat": 4,
 "nbformat_minor": 4
}
