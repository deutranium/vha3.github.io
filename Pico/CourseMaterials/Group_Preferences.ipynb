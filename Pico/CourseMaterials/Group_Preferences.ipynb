{
 "cells": [
  {
   "cell_type": "markdown",
   "metadata": {},
   "source": [
    "# Group preferences for ECE 4760/5730\n",
    "\n",
    "Please use the Google Form below to indicate your lab group partner preferences. You may request particular students as lab partners, *or* you may request to be assigned to a group.\n",
    "\n",
    "**Please note**:\n",
    "- All members of a lab group must be enrolled in the same lab section.\n",
    "- All members of a lab group must be at the same graduate level (undergraduate vs. MEng vs. PhD)\n",
    "- All members of a lab group must be enrolled with the same grading option (grade vs. S/U vs. Audit)"
   ]
  },
  {
   "cell_type": "markdown",
   "metadata": {},
   "source": [
    "<iframe src=\"https://docs.google.com/forms/d/e/1FAIpQLScdAdhil_X6sVV3uJ8s3meFMmGkuM-7qw9kcS9XEIm-75tSaA/viewform?embedded=true\" width=\"640\" height=\"1345\" frameborder=\"0\" marginheight=\"0\" marginwidth=\"0\">Loading…</iframe>"
   ]
  },
  {
   "cell_type": "markdown",
   "metadata": {},
   "source": [
    "***"
   ]
  }
 ],
 "metadata": {
  "kernelspec": {
   "display_name": "Python 3",
   "language": "python",
   "name": "python3"
  },
  "language_info": {
   "codemirror_mode": {
    "name": "ipython",
    "version": 3
   },
   "file_extension": ".py",
   "mimetype": "text/x-python",
   "name": "python",
   "nbconvert_exporter": "python",
   "pygments_lexer": "ipython3",
   "version": "3.8.3"
  }
 },
 "nbformat": 4,
 "nbformat_minor": 4
}
