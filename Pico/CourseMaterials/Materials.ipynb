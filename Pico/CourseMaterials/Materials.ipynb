{
 "cells": [
  {
   "cell_type": "markdown",
   "metadata": {},
   "source": [
    "# Lecture materials for ECE 4760/5730\n",
    "#### [V. Hunter Adams](https://vanhunteradams.com)"
   ]
  },
  {
   "cell_type": "markdown",
   "metadata": {},
   "source": [
    "***"
   ]
  },
  {
   "cell_type": "markdown",
   "metadata": {},
   "source": [
    "#### Lecture 1: Course introduction\n",
    "- [Slides](./Slides/RP2040_Lecture_1.pdf)\n",
    "- [Lecture](https://www.youtube.com/watch?v=CAMTBzPd-WI&list=PLDqMkB5cbBA5oDg8VXM110GKc-CmvUqEZ&index=1&t=1713s)\n",
    "\n",
    "#### Lecture 2: Hardware/software overview\n",
    "- [Slides](./Slides/RP2040_Lecture_2.pdf)\n",
    "- [Lecture](https://www.youtube.com/watch?v=0Z4SIzgHGwk&list=PLDqMkB5cbBA5oDg8VXM110GKc-CmvUqEZ&index=2&t=840s)\n",
    "\n",
    "#### Lecture 3: Timers, timer interrupts, SPI\n",
    "- [Slides](./Slides/RP2040_Lecture_3.pdf)"
   ]
  },
  {
   "cell_type": "markdown",
   "metadata": {},
   "source": [
    "***"
   ]
  }
 ],
 "metadata": {
  "kernelspec": {
   "display_name": "Python 3",
   "language": "python",
   "name": "python3"
  },
  "language_info": {
   "codemirror_mode": {
    "name": "ipython",
    "version": 3
   },
   "file_extension": ".py",
   "mimetype": "text/x-python",
   "name": "python",
   "nbconvert_exporter": "python",
   "pygments_lexer": "ipython3",
   "version": "3.8.3"
  }
 },
 "nbformat": 4,
 "nbformat_minor": 4
}
