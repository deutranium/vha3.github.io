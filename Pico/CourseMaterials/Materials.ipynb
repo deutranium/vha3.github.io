{
 "cells": [
  {
   "cell_type": "markdown",
   "metadata": {},
   "source": [
    "# Lecture materials for ECE 4760/5730\n",
    "#### [V. Hunter Adams](https://vanhunteradams.com)"
   ]
  },
  {
   "cell_type": "markdown",
   "metadata": {},
   "source": [
    "***"
   ]
  },
  {
   "cell_type": "markdown",
   "metadata": {},
   "source": [
    "#### Lecture 1: Course introduction\n",
    "- [Slides](./Slides/RP2040_Lecture_1.pdf)\n",
    "- [Lecture](https://www.youtube.com/watch?v=CAMTBzPd-WI&list=PLDqMkB5cbBA5oDg8VXM110GKc-CmvUqEZ&index=1&t=1713s)\n",
    "\n",
    "#### Lecture 2: Hardware/software overview\n",
    "- [Slides](./Slides/RP2040_Lecture_2.pdf)\n",
    "- [Webpage](https://vanhunteradams.com/Pico/Setup/UsingPicoSDK.html)\n",
    "- [Code](https://github.com/vha3/Hunter-Adams-RP2040-Demos/tree/master/Lab_1_Incremental/a_Blinky_Demo)\n",
    "- [Lecture](https://www.youtube.com/watch?v=0Z4SIzgHGwk&list=PLDqMkB5cbBA5oDg8VXM110GKc-CmvUqEZ&index=2&t=840s)\n",
    "\n",
    "#### Lecture 3: Timers, timer interrupts, SPI\n",
    "- [Slides](./Slides/RP2040_Lecture_3.pdf)\n",
    "- [Webpage](https://vanhunteradams.com/Pico/TimerIRQ/SPI_DDS.html)\n",
    "- [Code](https://github.com/vha3/Hunter-Adams-RP2040-Demos/tree/master/Lab_1_Incremental/b_Timer_Interrupt_DDS_Demo)\n",
    "- [Lecture](https://www.youtube.com/watch?v=KCGy7Gz1QrE&list=PLDqMkB5cbBA5oDg8VXM110GKc-CmvUqEZ&index=3)\n",
    "\n",
    "#### Lecture 4: Direct Digital Synthesis\n",
    "- [Webpage](https://vanhunteradams.com/DDS/DDS.html)\n",
    "- [Code](https://github.com/vha3/Hunter-Adams-RP2040-Demos/tree/master/Lab_1_Incremental/b_Timer_Interrupt_DDS_Demo)\n",
    "- [Lecture](https://www.youtube.com/watch?v=t-sYuRkEEtg&list=PLDqMkB5cbBA5oDg8VXM110GKc-CmvUqEZ&index=4&t=932s)\n",
    "\n",
    "#### Lecture 5: Multicore, Protothreads\n",
    "- [Slides](./Slides/RP2040_Lecture_5.pdf)\n",
    "- [Webpage](https://vanhunteradams.com/Pico/Multi/MultiCore.html)\n",
    "- [ProtoThreads webpage](https://people.ece.cornell.edu/land/courses/ece4760/RP2040/C_SDK_protothreads/index_Protothreads.html)\n",
    "- [Multicore code](https://github.com/vha3/Hunter-Adams-RP2040-Demos/tree/master/Lab_1_Incremental/c_Multicore_DDS_Demo)\n",
    "- [Protothreads code](https://github.com/vha3/Hunter-Adams-RP2040-Demos/tree/master/Lab_1_Incremental/d_Protothreads_Demo)\n",
    "- [Lecture](https://www.youtube.com/watch?v=aWsgEs7Zstk&list=PLDqMkB5cbBA5oDg8VXM110GKc-CmvUqEZ&index=5&t=1169s)\n",
    "\n",
    "#### Lecture 6: Protothreads and Fixed Point\n",
    "- [Slides](./Slides/RP2040_Lecture_6.pdf)\n",
    "- [Webpage](https://vanhunteradams.com/FixedPoint/FixedPoint.html)\n",
    "\n",
    "#### Lecture 7: ADC and Introduction to DMA\n",
    "- [Slides](./Slides/RP2040_Lecture_7.pdf)\n",
    "- [Webpage about ADC](https://vanhunteradams.com/Pico/VGA/FFT.html)\n",
    "- [Webpage about DMA](https://vanhunteradams.com/Pico/DAC/DMA_DAC.html)"
   ]
  },
  {
   "cell_type": "markdown",
   "metadata": {},
   "source": [
    "***"
   ]
  }
 ],
 "metadata": {
  "kernelspec": {
   "display_name": "Python 3",
   "language": "python",
   "name": "python3"
  },
  "language_info": {
   "codemirror_mode": {
    "name": "ipython",
    "version": 3
   },
   "file_extension": ".py",
   "mimetype": "text/x-python",
   "name": "python",
   "nbconvert_exporter": "python",
   "pygments_lexer": "ipython3",
   "version": "3.8.3"
  }
 },
 "nbformat": 4,
 "nbformat_minor": 4
}
