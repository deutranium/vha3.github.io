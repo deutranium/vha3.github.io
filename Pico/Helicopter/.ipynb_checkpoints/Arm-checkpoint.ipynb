{
 "cells": [
  {
   "cell_type": "markdown",
   "metadata": {},
   "source": [
    "# Mechanical Construction of Lever Arm\n",
    "#### V. Hunter Adams (vha3@cornell.edu)"
   ]
  },
  {
   "cell_type": "markdown",
   "metadata": {},
   "source": [
    "***"
   ]
  },
  {
   "cell_type": "markdown",
   "metadata": {},
   "source": [
    "<br>\n",
    "<figure>\n",
    "    <img align=\"center\" width=\"700\" height=\"500\" src=\"lab4_beam_construction_1_small.jpg\" alt='missing' />\n",
    "    <center><figcaption></figcaption></center>\n",
    "</figure>\n",
    "\n",
    "1. Hot glue a motor to one end of the wooden beam. Note that the motor shaft should be at right angles to the rotation shaft of the knob.\n",
    "2. Roughen the knob surface using sandpaper. Be sure to remove the plastic film.\n",
    "3. Hot glue the other end of the wooden beam to the knob surface.\n",
    "4. Solder a pair of wires (from ribbon cable) to the motor and tape them to the beam. **Note**: Use only stranded wire peeled off from ribbon cable.\n",
    "5. Screw the potentiometer bracket to a chunk of wood big enough that you can use a book to weigh it down. Use #4 screws, as shown in the image below. **Hot gluing the bracket to the wood will cost you 10 points in the lab**.\n",
    "<figure>\n",
    "    <img align=\"center\" width=\"200\" height=\"500\" src=\"lab4_servo_pot_detail.jpg\" alt='missing' />\n",
    "    <center><figcaption></figcaption></center>\n",
    "</figure>\n",
    "6. The potentiometer mounting hold on the bracket is slightly too small for the potentiometer sleeve. You will need to use the rat-tail (round) file to enlarge the hole.\n",
    "7. When attaching the potentiometer to the mounting bracket, be sure that the locating pin (see data sheet) is in the appropriate sheet metal slot. The shaft on these potentiometers is freely rotating. Therefore, when attaching the beam to the potentiometer shaft you need to check the whole range of shaft motion for continuous resistance. I suggest adjusting the pot to 1/2 full resistance, then attach the knob to the potentiometer shaft with the wooden beam held in the horizontal position.<br>\n",
    "> - Be sure to use pliers to tighten the potentiometer on the bracket.\n",
    "> - Use a 1/16 hex wrench to tighten the knob onto the shaft. **Hot gluing the knob to the potentiometer will cost you 20 points on the lab.**\n",
    "<figure>\n",
    "    <img align=\"center\" width=\"300\" height=\"500\" src=\"lab4_beam_construction_3_small.jpg\" alt='missing' />\n",
    "    <center><figcaption></figcaption></center>\n",
    "</figure>\n",
    "8. Solder three wires (from ribbon cable) to the potentiometer.\n",
    "<figure>\n",
    "    <img align=\"center\" width=\"400\" height=\"500\" src=\"lab4_beam_construction_2_small.jpg\" alt='missing' />\n",
    "    <center><figcaption></figcaption></center>\n",
    "</figure>\n",
    "9. Figure out how to put a rotation-stop on the beam so that it cannot go past vertical. A piece of wire works, or a coffee stir-stick, or a drinking straw, or a fork from Mattins.\n",
    "<figure>\n",
    "    <img align=\"center\" width=\"200\" height=\"500\" src=\"lab4_stop_post.jpg\" alt='missing' />\n",
    "    <center><figcaption></figcaption></center>\n",
    "</figure>"
   ]
  },
  {
   "cell_type": "markdown",
   "metadata": {},
   "source": [
    "***"
   ]
  }
 ],
 "metadata": {
  "kernelspec": {
   "display_name": "Python 3",
   "language": "python",
   "name": "python3"
  },
  "language_info": {
   "codemirror_mode": {
    "name": "ipython",
    "version": 3
   },
   "file_extension": ".py",
   "mimetype": "text/x-python",
   "name": "python",
   "nbconvert_exporter": "python",
   "pygments_lexer": "ipython3",
   "version": "3.8.3"
  }
 },
 "nbformat": 4,
 "nbformat_minor": 4
}
