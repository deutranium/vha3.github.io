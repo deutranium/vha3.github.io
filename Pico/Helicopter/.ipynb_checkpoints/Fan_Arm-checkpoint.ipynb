{
 "cells": [
  {
   "cell_type": "markdown",
   "metadata": {},
   "source": [
    "# Mechanical Construction of Lever Arm\n",
    "#### [V. Hunter Adams](https://vanhunteradams.com)"
   ]
  },
  {
   "cell_type": "markdown",
   "metadata": {},
   "source": [
    "***"
   ]
  },
  {
   "cell_type": "markdown",
   "metadata": {},
   "source": [
    "1. Align the tabs on the ducted fan with the slots in the acrylic arm, and insert the ducted fan into the arm. You may need to gently \"pop it\" into place. Push it in until the fan's increasing radius prevents it from going any farther.\n",
    "<figure>\n",
    "    <img align=\"center\" width=\"300\" height=\"500\" src=\"acrylic_one.png\" alt='missing' />\n",
    "    <center><figcaption></figcaption></center>\n",
    "</figure>\n",
    "\n",
    "2. Put a rubber band between the tabs on ducted fan and the underside of the acrylic arm. This will prevent the fan from sliding out backwards.\n",
    "\n",
    "<figure>\n",
    "    <img align=\"center\" width=\"300\" height=\"500\" src=\"acrylic_two.png\" alt='missing' />\n",
    "    <center><figcaption></figcaption></center>\n",
    "</figure>\n",
    "\n",
    "3. Solder wires to each of the leads coming from the ducted fan, and protect your solder joints with heat shrink.\n",
    "\n",
    "<figure>\n",
    "    <img align=\"center\" width=\"300\" height=\"500\" src=\"acrylic_three.png\" alt='missing' />\n",
    "    <center><figcaption></figcaption></center>\n",
    "</figure>\n",
    "\n",
    "4. Using M2.5 nuts and bolts, attach the MPU6050 IMU to the base of the acrylic arm.\n",
    "\n",
    "<table><tr>\n",
    "<td> <img src=\"acrylic_4a.png\" alt=\"Drawing\" style=\"width: 300px;\"/> </td>\n",
    "<td> <img src=\"acrylic_4b.png\" alt=\"Drawing\" style=\"width: 300px;\"/> </td>\n",
    "    </tr><caption></caption></table>\n",
    "\n",
    "5. Attach the hinge to the bottom of a piece of wood, with the pin facing outward.\n",
    "\n",
    "<figure>\n",
    "    <img align=\"center\" width=\"300\" height=\"500\" src=\"acrylic_5.png\" alt='missing' />\n",
    "    <center><figcaption></figcaption></center>\n",
    "</figure>\n",
    "\n",
    "\n",
    "6. Using M2.5 nuts and bolts, attach the assembled arm to the hinge.\n",
    "\n",
    "<figure>\n",
    "    <img align=\"center\" width=\"300\" height=\"500\" src=\"acrylic_6.png\" alt='missing' />\n",
    "    <center><figcaption></figcaption></center>\n",
    "</figure>\n",
    "\n",
    "7. Use a clamp to secure the assembly to the benchtop.\n",
    "<figure>\n",
    "    <img align=\"center\" width=\"300\" height=\"500\" src=\"acrylic_7.png\" alt='missing' />\n",
    "    <center><figcaption></figcaption></center>\n",
    "</figure>"
   ]
  },
  {
   "cell_type": "markdown",
   "metadata": {},
   "source": [
    "***"
   ]
  }
 ],
 "metadata": {
  "kernelspec": {
   "display_name": "Python 3",
   "language": "python",
   "name": "python3"
  },
  "language_info": {
   "codemirror_mode": {
    "name": "ipython",
    "version": 3
   },
   "file_extension": ".py",
   "mimetype": "text/x-python",
   "name": "python",
   "nbconvert_exporter": "python",
   "pygments_lexer": "ipython3",
   "version": "3.8.3"
  }
 },
 "nbformat": 4,
 "nbformat_minor": 4
}
