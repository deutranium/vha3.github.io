{
 "cells": [
  {
   "cell_type": "markdown",
   "metadata": {},
   "source": [
    "# Angle sensing circuit\n",
    "#### V. Hunter Adams (vha3@cornell.edu)"
   ]
  },
  {
   "cell_type": "markdown",
   "metadata": {},
   "source": [
    "***"
   ]
  },
  {
   "cell_type": "markdown",
   "metadata": {},
   "source": [
    "#### The circuit\n",
    "\n",
    "The angle sensor is a [10k low-torque potentiometer](https://people.ece.cornell.edu/land/courses/ece4760/labs/f2019/potentiometer_157.pdf). The potentiometer output passes through an anti-aliasing low-pass filter (with R and C chosen as appropriate for a 1KHz sample rate) and into the MCP6242 opamp. This opamp is configured in as a unity-gain buffer, the output from which goes into the RP2040 ADC.\n",
    "\n",
    "<figure>\n",
    "    <img align=\"center\" width=\"600\" height=\"500\" src=\"anglesensor.png\" alt='missing' />\n",
    "    <center><figcaption></figcaption></center>\n",
    "</figure>\n",
    "<figure>\n",
    "    <img align=\"center\" width=\"200\" height=\"500\" src=\"pot.png\" alt='missing' />\n",
    "    <center><figcaption></figcaption></center>\n",
    "</figure>\n",
    "\n",
    "#### Setting up the ADC\n",
    "\n",
    "In this lab, you will be reading the ADC in an interrupt-service routing using software (as opposed to a DMA channel). This will require that you initialize the ADC in main. The first line initializes the ADC, and the second selects the ADC input. There are 4 possible inputs on GPIO's 26, 27, 28, 29. The fifth input is an internal temperature sensor.\n",
    "\n",
    "```c\n",
    "adc_init() ;\n",
    "adc_select_input(0) ;\n",
    "```\n",
    "\n",
    "We will read the ADC in the ISR, as shown below. The ADC returns a 12-bit number. Reading the ADC takes 96 cycles of the ADC clock, which runs at 48MHz.\n",
    "\n",
    "```\n",
    "// Read the ADC (in the range [0, 4096]. Twelve bits.)\n",
    "// This is blocking, and takes 96 cycles of the ADC clock.\n",
    "adc_output = adc_read() ;\n",
    "```\n",
    "\n",
    "#### Testing and debugging\n",
    "\n",
    "- Before attaching the opamp output to the ADC input of the microcontroller, scope it!! Confirm that the voltages are changing as the potentiometer rotates"
   ]
  },
  {
   "cell_type": "markdown",
   "metadata": {},
   "source": [
    "***"
   ]
  }
 ],
 "metadata": {
  "kernelspec": {
   "display_name": "Python 3",
   "language": "python",
   "name": "python3"
  },
  "language_info": {
   "codemirror_mode": {
    "name": "ipython",
    "version": 3
   },
   "file_extension": ".py",
   "mimetype": "text/x-python",
   "name": "python",
   "nbconvert_exporter": "python",
   "pygments_lexer": "ipython3",
   "version": "3.8.3"
  }
 },
 "nbformat": 4,
 "nbformat_minor": 4
}
