{
 "cells": [
  {
   "cell_type": "markdown",
   "metadata": {},
   "source": [
    "# Homework and Reading for Birdsong Lab"
   ]
  },
  {
   "cell_type": "markdown",
   "metadata": {},
   "source": [
    "#### ECE 4760, Adams/Land, Spring 2021"
   ]
  },
  {
   "cell_type": "markdown",
   "metadata": {},
   "source": [
    "In order to complete the first lab checkout on time, the following reading and problems should be completed **before the start of the first lab section for this lab.**"
   ]
  },
  {
   "cell_type": "markdown",
   "metadata": {},
   "source": [
    "## Reading"
   ]
  },
  {
   "cell_type": "markdown",
   "metadata": {},
   "source": [
    ">- [**The lab webpage.**](http://people.ece.cornell.edu/land/courses/ece4760/labs/s2021/Birds-serial/Birdsong_serial.html) - It is *extremely critical* that you read the *entire webpage for this lab* ***before*** the start of the first lab section.<br><br>\n",
    ">- [**I/O Ports** (Reference Manual Section 12](http://people.ece.cornell.edu/land/courses/ece4760/PIC32/Microchip_stuff/Ref_Manual/section_12_ioPorts.pdf)\n",
    ">- [**Timers** (Reference Manual Section 14)](http://people.ece.cornell.edu/land/courses/ece4760/PIC32/Microchip_stuff/Ref_Manual/section_14_Timers.pdf)\n",
    ">- [**UART** (Reference Manual Section 21)](http://people.ece.cornell.edu/land/courses/ece4760/PIC32/Microchip_stuff/Ref_Manual/section_21_UART.pdf)\n",
    ">- [**SPI** (Reference Manual Section 23)](http://people.ece.cornell.edu/land/courses/ece4760/PIC32/Microchip_stuff/Ref_Manual/section_23_SPI.pdf)<br><br>\n",
    ">- [**PLIB Manual** (Sections 10, 11, 14, and 16)](http://ww1.microchip.com/downloads/en/DeviceDoc/32bitPeripheralLibraryGuide.pdf)<br><br>\n",
    ">- [**ProtoThreads on PIC32**](http://people.ece.cornell.edu/land/courses/ece4760/PIC32/index_Protothreads.html)<br><br>\n",
    ">- [**Class overview and policy**](http://people.ece.cornell.edu/land/courses/ece4760/EE4760_policy.html) - Contains information about grading!"
   ]
  },
  {
   "cell_type": "markdown",
   "metadata": {},
   "source": [
    "## Questions"
   ]
  },
  {
   "cell_type": "markdown",
   "metadata": {},
   "source": [
    "#### Question 1"
   ]
  },
  {
   "cell_type": "markdown",
   "metadata": {},
   "source": [
    "From the [PIC32 datasheet](http://people.ece.cornell.edu/land/courses/ece4760/PIC32/Microchip_stuff/2xx_datasheet.pdf):\n",
    "1. What is the maximum current you can draw from any i/o pin? \n",
    "2. What is the maximum current you can source from the sum of all pins."
   ]
  },
  {
   "cell_type": "markdown",
   "metadata": {},
   "source": [
    "#### Question 2"
   ]
  },
  {
   "cell_type": "markdown",
   "metadata": {},
   "source": [
    "From the [Remote Access Interfaces Webpage](http://people.ece.cornell.edu/land/courses/ece4760/PIC32/index_remote.html):\n",
    "1. Look at the schematic and layout of the PCB described in the section \"The Remote Learning hardware supporting the development board.\" You will observe that there is a high-pass filter between the DACA output pin and the audio jack. What is the cutoff frequency of this high-pass filter?"
   ]
  },
  {
   "cell_type": "markdown",
   "metadata": {},
   "source": [
    "#### Question 3"
   ]
  },
  {
   "cell_type": "markdown",
   "metadata": {},
   "source": [
    "What MCU hardware is used by ProtoThreads? Can you use timer2 for your own code? How about timer3 and timer5?"
   ]
  },
  {
   "cell_type": "markdown",
   "metadata": {},
   "source": [
    "#### Question 4"
   ]
  },
  {
   "cell_type": "markdown",
   "metadata": {},
   "source": [
    "We will use a standard audio rate of 44 KHz. The CPU runs at 40 MHz (see the config.h file). \n",
    "\n",
    "1. Assuming a timer prescalar of 1, after how many timer cycles should your audio synthesis timer overflow and trigger an interrupt?\n",
    "2. Write three lines of code. You may find it useful to look through examples on the [Timers webpage](http://people.ece.cornell.edu/land/courses/ece4760/PIC32/index_Timers.html) to complete this question.\n",
    "> - The first line of code should open a timer (turns it on, turns on interrupts for the timer, configures it to use the internal clock, sets the prescalar to 1, and sets the toggle rate to the value that you found in the previous question).\n",
    "> - The second line of code should set up the timer interrupt with a priority of 2. \n",
    "> - The third line of code should clear the interrupt flag."
   ]
  },
  {
   "cell_type": "markdown",
   "metadata": {},
   "source": [
    "#### Question 5"
   ]
  },
  {
   "cell_type": "markdown",
   "metadata": {},
   "source": [
    "Our audio sample rate is 44 KHz. If you use an `int` (32 bits) for your DDS accumulator what is the resolution (in Hz) of your synthesizer?"
   ]
  },
  {
   "cell_type": "markdown",
   "metadata": {},
   "source": [
    "#### Question 6"
   ]
  },
  {
   "cell_type": "markdown",
   "metadata": {},
   "source": [
    "In this lab, it is recommended that you use a linear ramp to modulate your synthesized sounds. A linear ramp is not the only option. What are some other options, and what are their advantages and disadvantages?"
   ]
  }
 ],
 "metadata": {
  "kernelspec": {
   "display_name": "Python 3",
   "language": "python",
   "name": "python3"
  },
  "language_info": {
   "codemirror_mode": {
    "name": "ipython",
    "version": 3
   },
   "file_extension": ".py",
   "mimetype": "text/x-python",
   "name": "python",
   "nbconvert_exporter": "python",
   "pygments_lexer": "ipython3",
   "version": "3.8.3"
  }
 },
 "nbformat": 4,
 "nbformat_minor": 4
}
