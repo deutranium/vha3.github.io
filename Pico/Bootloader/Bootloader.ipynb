{
 "cells": [
  {
   "cell_type": "markdown",
   "metadata": {},
   "source": [
    "# Wireless Infrared Bootloader for the RP2040\n",
    "#### [V. Hunter Adams](https://vanhunteradams.com)"
   ]
  },
  {
   "cell_type": "markdown",
   "metadata": {},
   "source": [
    "***"
   ]
  },
  {
   "cell_type": "markdown",
   "metadata": {},
   "source": [
    "## What is a bootloader?\n",
    "\n",
    "On a microcontroller, a *bootloader* is a program that is responsible for loading and running other programs. The bootloader is how the microcontroller knows how to receive, load, and execute the programs that we write for it.\n",
    "\n",
    "Given that we are able to program the microcontrollers that we buy, perhaps it stands to reason that part of the bootloader is \"baked in\" to ROM, making it difficult or impossible to change. If the microcontroller didn't come with the bootloader already loaded into memory, it wouldn't know how to receive or execute any new programs. And if our programs were to overwrite the bootloader, we would brick our microcontroller by making it impossible to reprogram.\n",
    "\n",
    "That said, it's often the case that some of the later \"stages\" of the bootloader do live in programmable memory. The RP2040, for example, uses to two-stage bootloader. The first stage lives in ROM, and the second lives at the beginning of each program. We'll discuss each, and then we'll add our *own* third-stage bootloader. This custom third-stage bootloader will allow for reprogramming via a wireless infrared link, and will allow for RP2040's to send their *own* application code to neighboring RP2040's. This allows for a firmware update to spread, virus or computer-worm-like, through a collection of microcontrollers.\n",
    "\n",
    "But let's start with an overview of the existing RP2040 bootloader and boot sequence."
   ]
  },
  {
   "cell_type": "markdown",
   "metadata": {},
   "source": [
    "## RP2040 boot sequence"
   ]
  },
  {
   "cell_type": "markdown",
   "metadata": {},
   "source": [
    "## Creating one's own bootloader for the RP2040"
   ]
  },
  {
   "cell_type": "markdown",
   "metadata": {},
   "source": [
    "## Dissecting the infrared bootloader\n",
    "\n"
   ]
  },
  {
   "cell_type": "code",
   "execution_count": null,
   "metadata": {},
   "outputs": [],
   "source": []
  }
 ],
 "metadata": {
  "kernelspec": {
   "display_name": "Python 3",
   "language": "python",
   "name": "python3"
  },
  "language_info": {
   "codemirror_mode": {
    "name": "ipython",
    "version": 3
   },
   "file_extension": ".py",
   "mimetype": "text/x-python",
   "name": "python",
   "nbconvert_exporter": "python",
   "pygments_lexer": "ipython3",
   "version": "3.8.3"
  }
 },
 "nbformat": 4,
 "nbformat_minor": 4
}
