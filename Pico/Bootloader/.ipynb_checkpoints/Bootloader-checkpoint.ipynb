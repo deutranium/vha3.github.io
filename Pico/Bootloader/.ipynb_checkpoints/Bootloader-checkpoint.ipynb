{
 "cells": [
  {
   "cell_type": "markdown",
   "metadata": {},
   "source": [
    "# Wireless Infrared Bootloader for the RP2040\n",
    "#### [V. Hunter Adams](https://vanhunteradams.com)"
   ]
  },
  {
   "cell_type": "markdown",
   "metadata": {},
   "source": [
    "***"
   ]
  },
  {
   "cell_type": "markdown",
   "metadata": {},
   "source": [
    "## What is a bootloader?\n",
    "\n",
    "On a microcontroller, a *bootloader* is a program that is responsible for loading and running other programs. The bootloader is how the microcontroller knows how to receive, load, and start executing the programs that we write for it.\n",
    "\n",
    "Given that we are able to program the microcontrollers that we buy, perhaps it stands to reason that part of the bootloader is \"baked in\" to ROM, making it difficult or impossible to change. If the microcontroller didn't come with the bootloader already loaded into memory, it wouldn't know how to receive or execute any new programs. And if our programs were to overwrite the bootloader, we would brick our microcontroller by making it impossible to reprogram.\n",
    "\n",
    "That said, it's often the case that some of the later \"stages\" of the bootloader do live in programmable memory. The RP2040, for example, uses to two-stage bootloader. The first stage lives in ROM, and the second lives at the beginning of each program. We'll discuss each, and then we'll add our *own* third-stage bootloader. This custom third-stage bootloader will allow for reprogramming via a wireless infrared link, and will allow for RP2040's to send their *own* application code to neighboring RP2040's. This allows for a firmware update to spread, virus or computer-worm-like, through a collection of microcontrollers.\n",
    "\n",
    "But let's start with an overview of the existing RP2040 bootloader and boot sequence."
   ]
  },
  {
   "cell_type": "markdown",
   "metadata": {},
   "source": [
    "## RP2040 boot sequence\n",
    "\n",
    "The RP2040 datasheet separates the boot sequence into the \"hardware-controlled\" section which happens *before* the processors begin executing the bootrom, and the \"processor-controlled\" section during which processor cores 0 and 1 begin to execute the bootrom. The second stage of the bootloader (which lives at the beginning of the user's program) then runs *after* the bootrom.\n",
    "\n",
    "Let us consider each of these steps in turn, and then we'll add another step to this process.\n",
    "\n",
    "#### Hardware-controlled boot sequence\n",
    "\n",
    "The hardware-controlled boot sequence is responsible for safely turning on the minimum number of peripherals and systems which are required for the processors to begin executing code. Starting from a totally powered-off RP2040, the sequence is as follows:\n",
    "\n",
    "1. Power is applied to the chip, and the `RUN` pin is high. The chip will be *held in reset* for as long as `RUN` is not high.\n",
    "2. The RP2040's on-chip voltage regulator automatically powers on as soon as an input supply is available. The system waits until the digital core supply (DVDD) which comes from this voltage regulator is stable.\n",
    "3. The Power-On State Machine starts. Various hardware blocks and peripherals must be powered on in a particular order for everything to startup properly, since some require that others are already running (for example, we don't want to start the clock generators until we have a stable clock source). The power-on state machine a series of peripherals out of reset in a safe order. In particular:\n",
    "> - The ring oscillator is started. Once it's stable . . .\n",
    "> - The crystal oscillator is reset (though not yet started, this occurs in `runtime_init`)\n",
    "> - The `clk_ref` and `clk_sys` clock generators are brought out of reset. `clk_ref` runs using the ring oscillator with no divider, and `clk_sys` runs from `clk_ref`. In other words, we start clocking the system off the ring oscillator.\n",
    "> - The reset controller resets all non-boot peripherals\n",
    "> - The system checks some registers to confirm the boot state of the chip, and whether there's an invalid program in flash\n",
    "> - The system brings XIP, ROM/SRAM, and the bus fabric out of reset\n",
    "> - The system brings the processors out of reset, which begin executing bootcode from ROM\n",
    "\n",
    "<figure>\n",
    "    <img align=\"center\" width=\"500\" height=\"500\" src=\"power_on.png\" alt='missing' />\n",
    "    <center><figcaption>Power-on state machine (from RP2040 datasheet)</figcaption></center>\n",
    "</figure>\n"
   ]
  },
  {
   "cell_type": "markdown",
   "metadata": {},
   "source": [
    "## Creating one's own bootloader for the RP2040"
   ]
  },
  {
   "cell_type": "markdown",
   "metadata": {},
   "source": [
    "## Dissecting the infrared bootloader\n",
    "\n"
   ]
  },
  {
   "cell_type": "code",
   "execution_count": null,
   "metadata": {},
   "outputs": [],
   "source": []
  }
 ],
 "metadata": {
  "kernelspec": {
   "display_name": "Python 3",
   "language": "python",
   "name": "python3"
  },
  "language_info": {
   "codemirror_mode": {
    "name": "ipython",
    "version": 3
   },
   "file_extension": ".py",
   "mimetype": "text/x-python",
   "name": "python",
   "nbconvert_exporter": "python",
   "pygments_lexer": "ipython3",
   "version": "3.8.3"
  }
 },
 "nbformat": 4,
 "nbformat_minor": 4
}
