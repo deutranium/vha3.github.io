{
 "cells": [
  {
   "cell_type": "markdown",
   "metadata": {},
   "source": [
    "# Mechanical construction of inverted pendulum\n",
    "#### V. Hunter Adams\n",
    "\n",
    "This webpage describes the mechanical construction of the inverted pendulum for the [reaction wheel lab](./ReactionWheel.html). The necessary materials include:\n",
    "\n",
    "- [Lasercut acrylic arm (x1)](./Lasercut.pdf) (x1)\n",
    "- [3D printed reaction wheel](https://cornell.app.box.com/file/989746683188?s=fj8kv38yvwvzqaxm3rsa0p8871vmknyh) - designed by Smith Charles\n",
    "- [Hobby gearmotor](https://www.sparkfun.com/products/13302) (x1)\n",
    "- [MPU-6050 IMU breakout board](https://www.adafruit.com/product/3886) (x1)\n",
    "- Clamps (x2)\n",
    "- Lego bricks\n",
    "- 10-32 screw (x1)\n",
    "- 10-32 nut or wingnut (x1)\n",
    "- M2 screw (x4)\n",
    "- M4 nuts (x4)\n",
    "- M2 screw (x2)\n",
    "- M2 nut or wingnut (x2)"
   ]
  },
  {
   "cell_type": "markdown",
   "metadata": {},
   "source": [
    "## Procedure\n",
    "\n",
    "The pendulum construction is straightforward, but going in order is helpful for making deconstruction as easy as possible. If you're not careful, you can end up making the device difficult to take apart.\n",
    "\n",
    "\n",
    "#### 1. Attach the motor to the arm\n",
    "\n",
    "On the gearmotors, there is a flat side and a side with a bump (see pictures below).\n",
    "\n",
    "<table><tr>\n",
    "<td> <img src=\"one.png\" alt=\"Drawing\" style=\"width: 300px;\"/> </td>\n",
    "<td> <img src=\"two.png\" alt=\"Drawing\" style=\"width: 300px;\"/> </td>\n",
    "    </tr><caption>Smooth side (left) and side with bump (right)</caption></table>\n",
    "    \n",
    "Align the holes at the top of the acrylic arm with the holes on the *flat* side of the gearmotor, and thread two M4 screws through the acrylic and gearmotor. Secure them with nuts or wingnuts. See pictures below.\n",
    "\n",
    "\n",
    "<table><tr>\n",
    "<td> <img src=\"three.png\" alt=\"Drawing\" style=\"width: 300px;\"/> </td>\n",
    "<td> <img src=\"four.png\" alt=\"Drawing\" style=\"width: 300px;\"/> </td>\n",
    "    </tr><caption>Attach gearmotor to arm</caption></table>\n",
    "    \n",
    "#### 2. Attach the IMU to the arm\n",
    "\n",
    "Align the MPU-6050 breakout board with the four holes farther down the acrylic arm. Place the IMU on the *same* side of the arm as the gearmotor. Thread four M2 screws through the breakout board and acrylic arm, then secure with nuts or wingnuts. Ask for a Qwic connector for easier wiring.\n",
    "\n",
    "<table><tr>\n",
    "<td> <img src=\"five.png\" alt=\"Drawing\" style=\"width: 300px;\"/> </td>\n",
    "<td> <img src=\"six.png\" alt=\"Drawing\" style=\"width: 300px;\"/> </td>\n",
    "    </tr><caption>Attach IMU to arm</caption></table>\n",
    "    \n",
    "#### 3. Attach reaction wheel to gearmotor\n",
    "\n",
    "Press the reaction wheel onto the gearmotor on the *opposite* side of the acrylic arm as the gearmotor body. ***This is a very snug fit. Please don't remove the reaction wheel once it's attached.***\n",
    "\n",
    "<table><tr>\n",
    "<td> <img src=\"seven.png\" alt=\"Drawing\" style=\"width: 300px;\"/> </td>\n",
    "<!-- <td> <img src=\"eight.png\" alt=\"Drawing\" style=\"width: 300px;\"/> </td> -->\n",
    "    </tr><caption>Attach reaction wheel to gearmotor</caption></table>\n",
    "    \n",
    "#### 4. Attach arm to Lego base\n",
    "\n",
    "Build the simple Lego base shown below (two parallel bricks of height two, with platforms on each side. Use the clamps to hold the base to the edge of the table. Thread a 10-32 screw through the acrylic arm, through the first row of bricks, and through the second row of bricks. Secure in place with a nut (but don't tighten too much! We want the arm to rotate freely. ***Make sure your Lego base has rotation stops***.\n",
    "\n",
    "<table><tr>\n",
    "<td> <img src=\"nine.png\" alt=\"Drawing\" style=\"width: 300px;\"/> </td>\n",
    "<td> <img src=\"ten.png\" alt=\"Drawing\" style=\"width: 300px;\"/> </td>\n",
    "    </tr><caption>Attach arm to base</caption></table>\n",
    "    \n",
    "#### 5. (Possibly) tune for balance\n",
    "\n",
    "You can add a wheel to the reverse side of the arm, and/or screws around the exterior of the reaction wheel to improve its balance.\n",
    "\n",
    "<table><tr>\n",
    "<td> <img src=\"eleven.png\" alt=\"Drawing\" style=\"width: 300px;\"/> </td>\n",
    "<td> <img src=\"twelve.png\" alt=\"Drawing\" style=\"width: 300px;\"/> </td>\n",
    "    </tr><caption>(Maybe) improve balance with wheel and perimeter screws</caption></table>\n",
    "    \n",
    "#### 6. Finished system\n",
    "\n",
    "Pictured below. Cardboard box just to make the system more visible.\n",
    "\n",
    "<table><tr>\n",
    "<td> <img src=\"thirteen.png\" alt=\"Drawing\" style=\"width: 300px;\"/> </td>\n",
    "<!-- <td> <img src=\"eight.png\" alt=\"Drawing\" style=\"width: 300px;\"/> </td> -->\n",
    "    </tr><caption>Finished system</caption></table>"
   ]
  },
  {
   "cell_type": "markdown",
   "metadata": {},
   "source": [
    "***"
   ]
  }
 ],
 "metadata": {
  "kernelspec": {
   "display_name": "Python 3",
   "language": "python",
   "name": "python3"
  },
  "language_info": {
   "codemirror_mode": {
    "name": "ipython",
    "version": 3
   },
   "file_extension": ".py",
   "mimetype": "text/x-python",
   "name": "python",
   "nbconvert_exporter": "python",
   "pygments_lexer": "ipython3",
   "version": "3.8.3"
  }
 },
 "nbformat": 4,
 "nbformat_minor": 4
}
