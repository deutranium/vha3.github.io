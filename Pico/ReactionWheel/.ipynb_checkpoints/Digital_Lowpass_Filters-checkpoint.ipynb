{
 "cells": [
  {
   "cell_type": "markdown",
   "metadata": {},
   "source": [
    "# Digital lowpass filters\n",
    "#### V. Hunter Adams (vha3@cornell.edu)"
   ]
  },
  {
   "cell_type": "markdown",
   "metadata": {},
   "source": [
    "## Digital lowpass filter implementation\n",
    "\n",
    "In the [Reaction wheel inverted pendulum laboratory assignment](./ReactionWheel.html), you are asked to display the accelerometer angle, gyro angle, complementary angle, and PID-computed control input on the VGA display. In the image below, the bottom plot shows angles (accelerometer in white, gyro in red, complementary in green), and the top plot shows the control input. Please note that the motor was *off* when I took this image (I simply moved the arm back and forth by hand), which is why there is so little noise on the accelerometer angles.\n",
    "\n",
    "<figure>\n",
    "    <img align=\"center\" width=\"500\" height=\"500\" src=\"display.png\" alt='missing' />\n",
    "    <center><figcaption></figcaption></center>\n",
    "</figure>\n",
    "\n",
    "\n",
    "\n",
    "If you use a very large derivitive term in the PID controller to stabilize the oscillations, you may need to lowpass filter the motor signal to display on the scope. Consider using a first order IIR, digital lowpass, with a time constant of about 64 PWM samples, given by:<br><br>\n",
    "`motor_disp = motor_disp + ((pwm_on_time - motor_disp)>>6) ;`<br><br>\n",
    "(where `pwm_on_time` is the output of the PID controller, and `motor_disp` is the low-passed version that gets displayed). If you find that the signal still looks too noisy, increase the amount by which you shift the second term. \n",
    "\n",
    "## Why is does the above code work as a low-pass filter?\n",
    "\n",
    "Why is this a low pass filter? We can arrive at the answer by considering a classic RC lowpass filter, as shown below:\n",
    "\n",
    "<figure>\n",
    "    <img align=\"center\" width=\"300\" height=\"500\" src=\"rc.png\" alt='missing' />\n",
    "    <center><figcaption></figcaption></center>\n",
    "</figure>\n",
    "\n",
    "Because the resistor and capacitor are in series, we know that the current through each is the same:\n",
    "\n",
    "\\begin{align}\n",
    "i_r = \\frac{V_{in} - V_{out}}{R} = i_c = C \\frac{dV_{out}}{dt}\n",
    "\\end{align}\n",
    "\n",
    "Rearrange to solve for $\\frac{dV_{out}}{dt}$:\n",
    "\n",
    "\\begin{align}\n",
    "\\frac{dV_{out}}{dt} &= \\frac{1}{RC}\\left(V_{in} - V_{out}\\right)\n",
    "\\end{align}\n",
    "\n",
    "Let us now discretize this equation. To do so, we'll use the following notation:\n",
    "\n",
    "\\begin{align}\n",
    "V_{out}(t) &= V^N\\\\\n",
    "V_{out}(t+\\Delta t) &= V^{N+1}\n",
    "\\end{align}\n",
    "\n",
    "Taylor expand the second expression above:\n",
    "\n",
    "\\begin{align}\n",
    "V(t + \\Delta t) &\\approx V(t) + \\left[\\frac{dV_{out}}{dt}\\right]_t\\Delta t\\\\\n",
    "\\end{align}\n",
    "\n",
    "Using our notation, this becomes:\n",
    "\n",
    "\\begin{align}\n",
    "V^{N+1} &\\approx V^N + \\left[\\frac{dV_{out}}{dt}\\right]_t\\Delta t\\\\\n",
    "\\end{align}\n",
    "\n",
    "Substitute the previous expression for $\\frac{dV_{out}}{dt}$:\n",
    "\n",
    "\\begin{align}\n",
    "V^{N+1} &\\approx V^N + \\frac{\\Delta t}{RC}\\left(V_{in} - V^N\\right)\n",
    "\\end{align}\n",
    "\n",
    "The above expression maps directly to `motor_disp = motor_disp + ((pwm_on_time - motor_disp)>>4) ;`. \n",
    "\n",
    "\\begin{align}\n",
    "V^N &\\rightarrow \\text{motor_disp}\\\\\n",
    "V_{in}&\\rightarrow \\text{pwm_on_time}\\\\\n",
    "\\frac{\\Delta t}{RC} &\\rightarrow \\frac{1}{16}\n",
    "\\end{align}\n",
    "\n",
    "The time constant for the above lowpass filter is $RC$ seconds. However, if we change units from seconds to PWM units, the time constant is $\\frac{RC}{\\Delta t}$. So, if we shift-right by 4, then the above filter has a cutoff frequency at 16 PWM units. If we shift by 5, it has a cutoff frequency at 32 PWM units. And so on."
   ]
  },
  {
   "cell_type": "markdown",
   "metadata": {},
   "source": [
    "***"
   ]
  }
 ],
 "metadata": {
  "kernelspec": {
   "display_name": "Python 3",
   "language": "python",
   "name": "python3"
  },
  "language_info": {
   "codemirror_mode": {
    "name": "ipython",
    "version": 3
   },
   "file_extension": ".py",
   "mimetype": "text/x-python",
   "name": "python",
   "nbconvert_exporter": "python",
   "pygments_lexer": "ipython3",
   "version": "3.8.3"
  }
 },
 "nbformat": 4,
 "nbformat_minor": 4
}
