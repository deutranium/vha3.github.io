{
 "cells": [
  {
   "cell_type": "markdown",
   "metadata": {},
   "source": [
    "# PID Control of an Inverted Pendulum with a Reaction Wheel\n",
    "#### V. Hunter Adams (vha3@cornell.edu)"
   ]
  },
  {
   "cell_type": "markdown",
   "metadata": {},
   "source": [
    "## Introduction\n",
    "\n",
    "When the James Webb Space Telescope (or nearly any other modern spacecraft, for that matter) wants to change its orientation, how does it do so? It's not obvious how to turn something around in space where there's nothing (not even air) to push against. You might consider using thrusters, but those come at a cost! They require propellant. Propellant weighs a lot, and you can run out of it! A thruster shoots material into space when it fires, which can interfere with sensitive instrumentation. Furthermore, thruster fires tend to be impulsive in nature, which can excite vibrational modes in the spacecraft and don't allow for the ultra-precise control required to point at a distant star. Fortunately, thrusters aren't the only option for changing a spacecraft's orientation!\n",
    "\n",
    "For changing the *orbit* of a spacecraft, you must have an external force (like a thruster) acting on the spacecraft. But to change the *orientation* of a spacecraft, we just need a torque! That torque *might* come from a thruster exerting a force, since $\\bf{\\tau} = \\bf{F} \\times \\bf{r}$, but it can also come from a change in angular momentum, since $\\tau = \\frac{d \\bf{L}}{dt}$. A spacecraft can change its orientation by *storing* angular momentum in an internal device, and then *exchanging* angular momentum between that device and the spacecraft body. Often, that device is a [reaction wheel](https://en.wikipedia.org/wiki/Reaction_wheel#James_Webb_Space_Telescope).\n",
    "\n",
    "A reaction wheel is a heavy, spinning disc rigidly mounted inside the spacecraft. The reaction wheel + spacecraft is a closed system which must conserve angular momentum. So, if we make the reaction wheel spin slightly faster in the clockwise direction, the spacecraft body will compensate by spinning in the counterclockwise direction. Point a reaction wheel in each direction, and you've got 3-axis control! If you care to dive into the physics, please see [here](https://vanhunteradams.com/5160/ADCS/Supplements/ADCS.html).\n",
    "\n",
    "In this lab, we will use a PID controller to modulate the speed of a reaction wheel at the end of an inverted pendulum. The torque that the reaction wheel exerts on the pendulum will balance it. In order for this to work, we must close the loop around a measurement of the pendulum angle. This angle will be estimated using a complementary filter of accelerometer and gyroscope measurements from an IMU.\n",
    "\n",
    "<figure>\n",
    "    <img align=\"center\" width=\"300\" height=\"500\" src=\"Webb.png\" alt='missing' />\n",
    "    <center><figcaption>James Webb Space Telescope</figcaption></center>\n",
    "</figure>\n",
    "\n",
    "**Key concepts**: PID control, PWM, electrical isolation, complementary filters and sensor fusion, I2C, timers, timer interrupts, digital low-pass filtering, gyroscopes, accelerometers, UART, threading, VGA, fixed-point arithmetic"
   ]
  },
  {
   "cell_type": "markdown",
   "metadata": {},
   "source": [
    "***"
   ]
  },
  {
   "cell_type": "markdown",
   "metadata": {},
   "source": [
    "## Demonstration\n",
    "\n",
    "Please see demo video below.\n",
    "\n",
    "<iframe width=\"560\" height=\"315\" src=\"https://www.youtube.com/embed/WL5ycezPkIo\" title=\"YouTube video player\" frameborder=\"0\" allow=\"accelerometer; autoplay; clipboard-write; encrypted-media; gyroscope; picture-in-picture\" allowfullscreen></iframe>"
   ]
  },
  {
   "cell_type": "markdown",
   "metadata": {},
   "source": [
    "***"
   ]
  },
  {
   "cell_type": "markdown",
   "metadata": {},
   "source": [
    "## Reading\n",
    "\n",
    "Experience shows that students prefer these webpages short. For that reason, please find the reading and background materials on the webpages linked below. *Please note that the information in these readings will be critical for completing the lab.*\n",
    "\n",
    "### Engineering background\n",
    "- [**Mechanical construction of the inverted pendulum**](./Pendulum_construction.html): Procedure for building the inverted pendulum.\n",
    "- [**Data display**](./Digital_Lowpass_Filters.html): Describes the data that you must visualize in realtime, and some strategies for visualizing that data (digital lowpass filters).\n",
    "- [**Motor circuit and PWM**](./HBridgeCircuit.html): This webpage describes the circuit that you will construct to safely drive the DC motor, and how to generate PWM.\n",
    "- [**Tuning the reaction wheel PID controller**](./Tuning.html): This webpage describes a strategy for tuning your PID controller.\n",
    "- [**VGA driver**](https://vanhunteradams.com/Pico/VGA/VGA.html): You will not be asked to implement a VGA driver, you will use the one described on this webpage.\n",
    "- [**MPU-6050 datasheet**](https://invensense.tdk.com/wp-content/uploads/2015/02/MPU-6000-Datasheet1.pdf): The datasheet for the accelerometer/gyro that we'll be using.\n",
    "- [**RP2040 datasheet**](https://datasheets.raspberrypi.com/rp2040/rp2040-datasheet.pdf): See sections on PWM and I2C.\n",
    "- [**RP2040 C SDK**](https://datasheets.raspberrypi.com/pico/raspberry-pi-pico-c-sdk.pdf): See sections on PWM and I2C.\n",
    "\n",
    "\n",
    "### Mathematical background\n",
    "- [**Complementary filters**](./Complementary_Filters.html): A method for estimating angle from gyroscope and accelerometer measurements. This is a *great* algorithm for your toolbox. Quick, easy, and effective.\n",
    "- [**Phenomenological introduction to PID controllers**](https://vanhunteradams.com/PID/PID.html): This webpage provides a phenomenological introduction to PID controllers, using a system that is different from this one.\n",
    "- [**Analytical introduction to PID controllers**](https://vanhunteradams.com/PID/PID_Analytical.html): This webpage provides an analytical introduction to PID controllers, using a system that is different from this one.\n",
    "- [**Reaction wheel attitude dynamics**](https://vanhunteradams.com/5160/ADCS/Supplements/ADCS.html): The physics of spacecraft attitude dynamics and determination. Not required reading, but of potential interest."
   ]
  },
  {
   "cell_type": "markdown",
   "metadata": {},
   "source": [
    "***"
   ]
  },
  {
   "cell_type": "markdown",
   "metadata": {},
   "source": [
    "## Program organization\n",
    "\n",
    "You may organize your program however you like. Here is a suggestion:\n",
    "\n",
    "- **Protothreads** maintains the ISR-driven, millisecond-scale timing as part of the supplied system. Use this for all low-precision timing (can have several milliseconds jitter).\n",
    "- **PID ISR** uses a timer or PWM interrupt to ensure an exact 1kHz control rate.\n",
    "> - Clears the interrupt flag\n",
    "> - Reads the MPU-6050 for accelerometer and gyro measurements\n",
    "> - Uses these measurements in a complementary filter to compute arm angle.\n",
    "> - Runs the PID control loop at 1000/sec using the angle measurements from the complementary filter and the desired angle\n",
    "> - Sets a hardware PWM signals using output-compare units to control the motor using the command: `pwm_set_chan_level(slice_num, PWM_CHAN_X[A or B], pwm_on_time);`.\n",
    "- **Main** sets up peripherals and protothreads then just schedules tasks, round-robin\n",
    "- **Thread 1**\n",
    "> - Takes user input from the serial interface to setup PID parameters and the desired angle.\n",
    "- **Thread 2**\n",
    "> - Diplays accelerometer angle, gyro angle, complementary angle, and low-passed control input on VGA display"
   ]
  },
  {
   "cell_type": "markdown",
   "metadata": {},
   "source": [
    "***"
   ]
  },
  {
   "cell_type": "markdown",
   "metadata": {},
   "source": [
    "## Weekly checkpoints\n",
    "\n",
    "Note that these checkpoints are **cumulative**. In week 2, for example, you must have also completed all of the requirements from week 1.\n",
    "\n",
    "#### Week one checkpoint\n",
    "\n",
    "By the end of the lab section in week one of the lab you must have:\n",
    "\n",
    "- The [mechanical assembly finished](./Pendulum_construction.html).\n",
    "- The [H-bridge motor circuit](./HBridgeCircuit.html) built. \n",
    "- You must be able to control the motor speed open-loop through a command line interface. Start from [this demo code](https://github.com/vha3/Hunter-Adams-RP2040-Demos/tree/master/Lab_3/PWM_Demo).\n",
    "- Display of the actual tilt angle (as calculated by a [complementary filter](./Complementary_Filters.html) of the accelerometer and gyro measurements) and the [low-passed motor command signal](./Digital_Lowpass_Filters.html) on the VGA display. *This is **critical** for debugging*.\n",
    "\n",
    "#### Week two checkpoint\n",
    "\n",
    "By the end of the lab secton in week two of the lab you must have:\n",
    "\n",
    "- Full closed-loop control of the motor (just [proportional control](./Tuning.html) is fine).\n",
    "- A serial command line interface to set PID parameters.\n",
    "\n",
    "#### Week three assignment\n",
    "\n",
    "- Estimate the tilt angle of the inverted pendulum using a [complementary filter](./Complementary_Filters.html), display the angle on the VGA screen..\n",
    "- Format the set angle and PID parameters to display appropriate messages on the VGA display or the serial console.\n",
    "- At any time, take commands from the serial interface to:\n",
    "> - Set the desired tilt angle\n",
    "> - Set the PID proportional gain\n",
    "> - Set the PID differential gain\n",
    "> - Set the PID integral gain\n",
    "> - The new values should take effect immediately\n",
    "> - One set of coefficients should produce balancing and minor disturbance rejection.\n",
    "- Use a PID control algorithm to control the speed of the motor by producing a PWM drive to the optoisolators in the [H-bridge motor circuit](./HBridgeCircuit.html). [PWM demo code here.](https://github.com/vha3/Hunter-Adams-RP2040-Demos/tree/master/Lab_3/PWM_Demo)\n",
    "- [Tune the PID algorithm](./Tuning.html) so that the arm balances.\n",
    "- Display the motor control value (not the raw PWM signal) on the VGA. Noise control on this signal is essential. If you cannot see the shape of the control signal, you will not get credit for this feature! You may need to combine DSP and analog filtering, depending on exactly how you build the circuit. [See here.](./Digital_Lowpass_Filters.html)\n",
    "- Display the actual tilt angle, from the complementary filter, on the VGA. If this signal is noisy, you need to find out why! A noisy input makes the control PID algorithm very hard to tune.\n",
    "\n",
    "\n",
    "You will demo all of the features above to a course staff member. You program should not need to be reset during the demo."
   ]
  },
  {
   "cell_type": "markdown",
   "metadata": {},
   "source": [
    "***"
   ]
  },
  {
   "cell_type": "markdown",
   "metadata": {},
   "source": [
    "## Lab report\n",
    "\n",
    "Your written lab report should include all the sections mentioned on the [policy page](https://vanhunteradams.com/Pico/CourseMaterials/Policy.html), and:\n",
    "\n",
    "- A schematic of the circuit you built\n",
    "- How you selected the PID gains\n",
    "- An image of your VGA display (showing control input and estimated angle) during balancing\n",
    "- An image of your VGA display (showing control input and estimated angle) after an impulse (i.e. after smacking it with a pencil).\n",
    "- A heavily commented listing of your code."
   ]
  },
  {
   "cell_type": "markdown",
   "metadata": {},
   "source": [
    "***"
   ]
  }
 ],
 "metadata": {
  "kernelspec": {
   "display_name": "Python 3",
   "language": "python",
   "name": "python3"
  },
  "language_info": {
   "codemirror_mode": {
    "name": "ipython",
    "version": 3
   },
   "file_extension": ".py",
   "mimetype": "text/x-python",
   "name": "python",
   "nbconvert_exporter": "python",
   "pygments_lexer": "ipython3",
   "version": "3.8.3"
  }
 },
 "nbformat": 4,
 "nbformat_minor": 4
}
