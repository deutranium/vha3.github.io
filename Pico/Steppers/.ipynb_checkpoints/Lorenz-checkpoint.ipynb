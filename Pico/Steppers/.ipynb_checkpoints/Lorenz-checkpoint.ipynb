{
 "cells": [
  {
   "cell_type": "markdown",
   "metadata": {},
   "source": [
    "# PIO-Driven Stepper Motor Driver\n",
    "#### V. Hunter Adams (vha3@cornell.edu)\n",
    "#### [Projects homepage](https://vha3.github.io)\n",
    "\n",
    "> - [Code Organization](#Code-Organization)\n",
    "> - [PIO Stepper Drivers](#PIO-Stepper-Drivers)\n",
    "> > - [Step counting state machine](#Step-counting-state-machine)\n",
    "> > - [Pulse length state machine](#Pulse-length-state-machine)\n",
    "> > - [Pulse generating state machine](#Pulse-generating-state-machine)\n",
    "> - [API](#API)\n",
    "> - [Examples](#Examples)\n",
    "> > - [Strange Attractor on an Etch a Sketch](#Strange-Attractor)\n",
    "> > - [Direct Digital Synthesis for Circle Drawing](#DDS-Circle-Drawing)\n",
    "> - [Comments and Gotchas](#Comments-and-Gotchas)\n",
    "\n",
    "<figure>\n",
    "    <img align=\"center\" width=\"500\" height=\"500\" src=\"shelf.png\" alt='missing' />\n",
    "    <center><figcaption>Lorenz Equations integrated on an Etch a Sketch by stepper motors</figcaption></center>\n",
    "</figure>"
   ]
  },
  {
   "cell_type": "markdown",
   "metadata": {},
   "source": [
    "## Code Organization\n",
    "\n",
    "This motor driver uses the PIO state machines and DMA channels on the RP2040 to offload driving two stepper motors (ULN2003's) from the CPU. The user sets each motor's direction, speed, and the number of steps to execute in code then starts the driver. The motor will execute the specified number of steps at the specified speed and in the specified direction, then throw an interrupt back to the CPU. This is all non-blocking, so the CPU can carry on while the motor is moving. The driver supports dynamic modification of speed and direction during a maneuver."
   ]
  },
  {
   "cell_type": "markdown",
   "metadata": {},
   "source": [
    "<figure>\n",
    "    <img align=\"center\" width=\"1000\" height=\"500\" src=\"flow.png\" alt='missing' />\n",
    "    <center><figcaption></figcaption></center>\n",
    "</figure>"
   ]
  },
  {
   "cell_type": "markdown",
   "metadata": {},
   "source": [
    "## PIO Stepper Drivers\n",
    "\n",
    "The subsections below describe each of the three PIO state machines loaded onto each PIO block. Because `IRQ0` has a different interrupt flag for each PIO block, all three of these state machines can be loaded, without modification, onto each core separately. We then simply setup separate interrupt service routines for each `IRQ0`."
   ]
  },
  {
   "cell_type": "markdown",
   "metadata": {},
   "source": [
    "### Step counting state machine\n",
    "\n",
    "The step counting state machine (SM2 in the above flow chart) is responsible for controlling the number of steps executed by the motor, and for interrupting back to the CPU when the motor has completed its maneuver. It first pulls the commanded number of steps from the FIFO to the OSR, and then moves that value from the OSR to the X scratch register. In `countloop`, the state machine signals to the pulse length state machine to start a new pulse, waits for the pulse length state machine to signal that it has started that pulse, and then decrements X. It will continue to signal the pulse length state machine until X is zero, at which point it will send an interrupt to the CPU that all commanded steps have been executed. The state machine waits for the CPU to clear this interrupt, and then pulls a new commanded number of steps.\n",
    "\n",
    "```\n",
    "pull block                   ; Copy commanded # of steps from FIFO to OSR\n",
    "mov x, osr                   ; Copy value from OSR to scratch X\n",
    "\n",
    "countloop:\n",
    "   irq wait 2               ; Signal for a step to occur, wait for flag to clear\n",
    "   jmp x-- countloop        ; Loop until X hits 0\n",
    "\n",
    "irq wait 0                  ; IRQ to CPU ISR, wait for CPU to clear\n",
    "```\n",
    "\n",
    "\n",
    "The step counting state machine is fed by a DMA channel (DMA 4 on PIO0, and DMA 9 on PIO1). Each of these DMA channels is triggered in *software* so that the user can start the motors at a particular time in the application. Note that these DMA channels send a 32-bit value to the counter state machines. In principle, this means that a motor could be commanded to execute $2^{32}$ steps which, at the motor's maximum speed, would take ~2 days. For applications that required continuous rotation, the interrupt service routine entered after executing all commanded steps would command a new set of steps."
   ]
  },
  {
   "cell_type": "markdown",
   "metadata": {},
   "source": [
    "### Pulse length state machine\n",
    "\n",
    "The speed of the motor is controlled by manipulating the length of a pulse (each pulse causes a step). This PIO state machine throttles the speed at which the pulse generating state machine puts a new pulse out to the motor, causing it to take a step. This state machine uses the `autopull` feature of the PIO on the RP2040 to avoid a `pull` instruction. When the OSR is empty, the state machine will automatically pull a new value from the FIFO.\n",
    "\n",
    "It then moves that value to the X scratch register and delays in a `jmp` loop for that many cycles. If it has received a signal from the step counting state machine that a step should be taken, then it sends an interrupt to the pulse generating state machine to put a new pulse out onto the pins. In the event that all steps have been completed, then this state machine will stall on the `wait 1 irq 2` instruction.\n",
    "\n",
    "\n",
    "```\n",
    "out x, 32                     ; Shift value from OSR to scratch X (AUTOPULL ENGAGED)\n",
    "\n",
    "countloop:\n",
    "    jmp x-- countloop        ; Loop until X hits 0\n",
    "\n",
    "wait 1 irq 2                 ; Wait for signal to pulse from counter state machine\n",
    "irq 3                        ; Signal to send a pulse\n",
    "```\n",
    "\n",
    "\n",
    "This state machine is fed by a DMA channel that is paced by the `PIO_TX` `DREQ`. When the FIFO is empty, a new DMA transfer is automatically initiated. The DMA channel that communicates with the PIO state machine is chained with a second DMA channel that reconfigures and restarts the first. This way, this DMA channel is always providing data to the PIO state machine when it needs it.\n",
    "\n",
    "The user might change the value at the memory address where the DMA channel is looking to gather data in order to dynamically change the value that is sent to this state machine. By doing so, the speed of the motors can be changed during a maneuver (this was done for the Lorenz and DDS examples shown below).\n",
    "\n"
   ]
  },
  {
   "cell_type": "markdown",
   "metadata": {},
   "source": [
    "### Pulse generating state machine\n",
    "\n",
    "The ULN2003 is a 4-input stepper motor with the internal connections shown below. The motor can be full-stepped or half-stepped, but has greater speed and torque capabilities with half stepping. The half-step switching sequence is shown in the table below.\n",
    "\n",
    "<figure>\n",
    "    <img align=\"center\" width=\"300\" height=\"500\" src=\"mechanism.png\" alt='missing' />\n",
    "    <center><figcaption></figcaption></center>\n",
    "</figure>\n",
    "\n",
    "||| IN1 | IN2 | IN3 | IN4 ||Hex code|\n",
    "|-|---| --- | --- | --- | --- |--|--|\n",
    "|**Half step 1**|| HIGH | LOW | LOW | HIGH ||0x09|\n",
    "|**Half step 2**|| HIGH | LOW | LOW | LOW ||0x08|\n",
    "|**Half step 3**|| HIGH | HIGH | LOW | LOW ||0x0c|\n",
    "|**Half step 4**|| LOW | HIGH | LOW | LOW ||0x04|\n",
    "|**Half step 5**|| LOW | HIGH | HIGH | LOW ||0x06|\n",
    "|**Half step 6**|| LOW | LOW | HIGH | LOW ||0x02|\n",
    "|**Half step 7**|| LOW | LOW | HIGH | HIGH ||0x03|\n",
    "|**Half step 8**|| LOW | LOW | LOW | HIGH ||0x01|\n",
    "\n",
    "The PIO state machine that sends this pulse sequence out to the GPIO pins connected to the motor driver is quite simple. It waits for a signal from the pulse length state machine, and then it uses an `out` instruction to move data from the OSR to 4 output pins (connected to IN1, IN2, IN3, and IN4 of the motor controller). This PIO state machine also has autopull enabled, and it will pull for a new half step state each time it shifts 4 bits out of the OSR.\n",
    "\n",
    "```\n",
    "wait 1 irq 3            ; Wait for signal to put pulse on pins\n",
    "out pins, 4             ; Put a pulse on the pins, AUTOPULL ENGAGED\n",
    "```\n",
    "\n",
    "Like the other state machines, this one too is fed by a DMA channel. The DMA channel supplies the pulse sequence that will be put onto the pins. It does so 8 bits at a time, by stepping through one of the pulse sequences shown below. The first is the sequence that will yield counterclockwise movement, the second is the reverse sequence that will yield clockwise movement, and the final will yield no movement of the motor. By changing the pointer that the DMA channel is using for gathering data, the user can dynamically change the direction or stop the motor. This too is used to create the Lorenz and DDS curves shown in a later section.\n",
    "\n",
    "```c\n",
    "unsigned char pulse_sequence_forward [8]  = {0x9, 0x8, 0xc, 0x4, 0x6, 0x2, 0x3, 0x1} ;\n",
    "unsigned char pulse_sequence_backward [8] = {0x1, 0x3, 0x2, 0x6, 0x4, 0xc, 0x8, 0x9} ;\n",
    "unsigned char pulse_sequence_stationary [8] = {0x0, 0x0, 0x0, 0x0, 0x0, 0x0, 0x0, 0x0} ;\n",
    "```\n"
   ]
  },
  {
   "cell_type": "markdown",
   "metadata": {},
   "source": [
    "## API"
   ]
  },
  {
   "cell_type": "markdown",
   "metadata": {},
   "source": [
    "There is a setup function for each motor. These functions setup and start the DMA channels and interrupt service routines associated with the motor driver. As an argument, each setup function takes the number of the GPIO pin to which IN1 is attached for the stepper driver. It is assumed that IN2 is attached to GPIO number IN1+1, IN3 to GPIO pin IN1+2, and IN4 to GPIO pin IN1+3. The second argument to each setup function is the name of the interrupt handler for the interrupt that will be thrown by the step counting state machine when it finishes a maneuver.\n",
    "\n",
    "```c\n",
    "setupMotor1(MOTOR1_IN1, pio0_interrupt_handler) ;\n",
    "setupMotor2(MOTOR2_IN1, pio1_interrupt_handler) ;\n",
    "```\n",
    "\n",
    "Within the user application, the motors are controlled with a series of macros. `SET_DIRECTION_MOTOR_x` sets the DMA pointer feeding the pulse generating state machine to the forward pulse sequence, the reverse pulse sequence, or the stopped pulse sequence. `SET_SPEED_MOTOR_x` sets the value contained at the memory address being accessed by the DMA channel feeding the pulse length state machine. Modifying this value modifies the length of each pulse to the motor, thus changing the motor's speed. Finally, `MOVE_STEPS_MOTOR_x` sets the value at the memory address being accessed by the DMA channel feeding the step counting state machine, and starts the DMA channel to execute a maneuver.\n",
    "\n",
    "```c\n",
    "#define MOVE_STEPS_MOTOR_1(a) pulse_count_motor1=a; dma_channel_start(dma_chan_4)\n",
    "#define SET_SPEED_MOTOR_1(a) pulse_length_motor1=a\n",
    "#define SET_DIRECTION_MOTOR_1(a) address_pointer_motor1 = (a==2) ? &pulse_sequence_forward[0] : (a==1) ? &pulse_sequence_backward[0] : &pulse_sequence_stationary[0]\n",
    "\n",
    "#define MOVE_STEPS_MOTOR_2(a) pulse_count_motor2=a; dma_channel_start(dma_chan_9)\n",
    "#define SET_SPEED_MOTOR_2(a) pulse_length_motor2=a\n",
    "#define SET_DIRECTION_MOTOR_2(a) address_pointer_motor2 = (a==2) ? &pulse_sequence_forward[0] : (a==1) ? &pulse_sequence_backward[0] : &pulse_sequence_stationary[0]\n",
    "```\n",
    "\n",
    "With this API, the user can specify the direction a motor should turn, a speed, and a number of steps to execute. The driver will execute the maneuver in a non-blocking manner, and throw an interrupt when the maneuver is complete. Alternatively, this API supports dynamic modification of the motor speed and direction to allow a user to put a motor in free-run mode and dynamically update its speed and direction.\n",
    "\n",
    "As an example, the code below uses direct digital synthesis to set the motor speeds and directions in a timer interrupt.\n",
    "\n",
    "```c\n",
    "bool repeating_timer_callback(struct repeating_timer *t) {\n",
    "\n",
    "    // DDS phase accumulation\n",
    "    phase_accum_main += phase_incr_main  ;\n",
    "    \n",
    "    // Sine table lookup (motor 2 90 degrees out of phase)\n",
    "    sineval = sin_table[phase_accum_main >> 24] ;\n",
    "    sineval2 = sin_table[((phase_accum_main + 1073741824) >> 24)] ;\n",
    "    \n",
    "    // Determine the motor direction\n",
    "    motor1_direction = (sineval>0) ? CLOCKWISE : COUNTERCLOCKWISE  ;\n",
    "    motor2_direction = (sineval2>0) ? CLOCKWISE : COUNTERCLOCKWISE ;\n",
    "\n",
    "    // Set the motor direction\n",
    "    SET_DIRECTION_MOTOR_1(motor1_direction) ;\n",
    "    SET_DIRECTION_MOTOR_2(motor2_direction) ;\n",
    "\n",
    "    // Take the absolute value of the desired speed (sign sets direction)\n",
    "    speed = (sineval>0) ? sineval:-sineval ;\n",
    "    speed2 = (sineval2>0) ? sineval2:-sineval2 ;\n",
    "\n",
    "    // Convert desired speed to wait cycles (vel. is not proportional to wait time)\n",
    "    motorspeed = convert(speed) ;\n",
    "    motorspeed2 = convert(speed2) ;\n",
    "\n",
    "    // Set the motor's speeds\n",
    "    SET_SPEED_MOTOR_1(motorspeed) ;\n",
    "    SET_SPEED_MOTOR_2(motorspeed2) ;\n",
    "\n",
    "    return true;\n",
    "}\n",
    "```"
   ]
  },
  {
   "cell_type": "markdown",
   "metadata": {},
   "source": [
    "## Examples\n",
    "\n",
    "Some examples that use the driver described above."
   ]
  },
  {
   "cell_type": "markdown",
   "metadata": {},
   "source": [
    "### Strange Attractor\n",
    "\n",
    "In this example, the [Lorenz Equations](https://en.wikipedia.org/wiki/Lorenz_system) are computed in a timer ISR. These equations are used to set the motor speed and direction for each motor, which is coupled via a geared belt to the knobs of an Etch-a-sketch. The trace on the etch a sketch thus represents the integral of these equations, yielding the famous Butterfly Curve. [Project zip](./Lorenz.zip).\n",
    "\n",
    "<iframe width=\"560\" height=\"315\" src=\"https://www.youtube.com/embed/_2FIVBfSSDg\" title=\"YouTube video player\" frameborder=\"0\" allow=\"accelerometer; autoplay; clipboard-write; encrypted-media; gyroscope; picture-in-picture\" allowfullscreen></iframe>"
   ]
  },
  {
   "cell_type": "markdown",
   "metadata": {},
   "source": [
    "### DDS Circle Drawing\n",
    "\n",
    "[Direct Digital Synthesis](https://vha3.github.io/DDS/DDS.html) is used to set the motor speeds. The speed of one motor is set to 90 degrees out of phase with the other, creating a circle. The motor has slightly square edges due to slop in the etch a sketch mechanism. [Project zip](./DDS_circle.zip).\n",
    "\n",
    "<iframe width=\"560\" height=\"315\" src=\"https://www.youtube.com/embed/u6iFI5F1J98\" title=\"YouTube video player\" frameborder=\"0\" allow=\"accelerometer; autoplay; clipboard-write; encrypted-media; gyroscope; picture-in-picture\" allowfullscreen></iframe>"
   ]
  },
  {
   "cell_type": "markdown",
   "metadata": {},
   "source": [
    "## Comments and gotchas\n",
    "#### Wait time is **not** velocity\n",
    "\n",
    "A point that, in retrospect, should have been obvious. This cost me about half a day of debugging. Note that the velocity of the motor (in RPM, or similar units) is *not* directly proportional to the length of the pulse in cycles. It is *inversely proportional!* My DDS-generated circles were really weird and squared-off until I realized this.\n",
    "\n",
    "#### Same PIO state machines loaded on each PIO block\n",
    "\n",
    "You can load an identical state machine onto each PIO block, or multiple times into different state machines in the same PIO block. Not mysterious, but this is the first I've experimented with that.\n",
    "\n",
    "#### Maximum motor speed experimentally determined\n",
    "\n",
    "To determine the maximum speed of the motor (the minimum number of cycles that each pulse could last and the motor would still turn), I simply reduced the value until the motor stopped turning.\n",
    "\n",
    "#### If could reduce to 2 state machines, could have 4 motors or 2 motors + VGA\n",
    "\n",
    "This driver is split into 3 state machines for each motor so that the user could, in the application, dynamically update the number of steps, speed, and direction of the motor. If an application did not require this much control (contant motor speed, for example), then one may be able to reduce the number of state machines to 2. If you did *that*, then you could fit the drivers for both motors on one PIO block. This could either allow you to control 4 motors simultaneously *or* use the other PIO block to do something like [drive the VGA display](https://vha3.github.io/Pico/VGA/VGA.html).\n",
    "\n",
    "#### Slop in the etch a sketch mechanism\n",
    "\n",
    "It was quite difficult to make the etch a sketch draw a perfect circle because of slop in the mechanism. When the knob slows and reverses direction, it spins through a nonzero angle before the mechanism catches and starts moving the trace again. This small angle results in a flat edge on the circle. A solution is to have the motor pop quickly through a few steps when it reverses directions, but this is not entirely deterministic. Doing this made the circles look nicer, but it also made them slightly miss perfectly closing and retracing themselves.\n",
    "\n",
    "#### GPIO's for PIO must be sequential\n",
    "\n",
    "A simple datasheet point. If you are specifying the pins associated with an `out` instruction, then those GPIO pins are assumed to be sequential.\n",
    "\n",
    "#### Autopulling is easy and worth it\n",
    "\n",
    "Very easy to setup, saves an instruction."
   ]
  }
 ],
 "metadata": {
  "kernelspec": {
   "display_name": "Python 3",
   "language": "python",
   "name": "python3"
  },
  "language_info": {
   "codemirror_mode": {
    "name": "ipython",
    "version": 3
   },
   "file_extension": ".py",
   "mimetype": "text/x-python",
   "name": "python",
   "nbconvert_exporter": "python",
   "pygments_lexer": "ipython3",
   "version": "3.8.3"
  }
 },
 "nbformat": 4,
 "nbformat_minor": 4
}
