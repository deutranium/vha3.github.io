{
 "cells": [
  {
   "cell_type": "markdown",
   "metadata": {},
   "source": [
    "# Creating a new C/C++ Raspberry Pi Pico Project on Windows"
   ]
  },
  {
   "cell_type": "markdown",
   "metadata": {},
   "source": [
    "#### V. Hunter Adams (vha3@cornell.edu)"
   ]
  },
  {
   "cell_type": "markdown",
   "metadata": {},
   "source": [
    "## Documentation"
   ]
  },
  {
   "cell_type": "markdown",
   "metadata": {},
   "source": [
    "Everything in this file comes from the [Getting started with Raspberry Pi Pico for C/C++ development guide](./Getting_started_c.pdf). This file contains all of the same content, just organized into an enumerated list."
   ]
  },
  {
   "cell_type": "markdown",
   "metadata": {},
   "source": [
    "## Creating a new project"
   ]
  },
  {
   "cell_type": "markdown",
   "metadata": {},
   "source": [
    "1. Get your Windows machine setup as described on [this webpage](./PicoSetup.html).\n",
    "2. Open a Developer PowerShell for Visual Studio by navigating to `Windows menu` --> `Visual Studio 2019` --> `Developer PowerShell for VS 2019`\n",
    "3. Navigate to the directory in which you've installed `pico-sdk`. For me, it is `C:\\Users\\vha3\\Pico`.\n",
    "4. Create a new directory to house the test project alongside the `pico-sdk` directory by running the following<br><br>\n",
    "`C:\\Users\\vha3\\Pico> mkdir test`<br>\n",
    "`C:\\Users\\vha3\\Pico> cd test`<br><br>\n",
    "5. Copy the `pico_sdk_import.cmake` file from the `external` folder in your `pico-sdk` installation to your test project folder by running:<br><br>\n",
    "`C:\\Users\\vha3\\Pico\\test > cp ../pico-sdk/external/pico_sdk_import.cmake .`<br><br>\n",
    "6. We will add two more files to this directory. One will be called `test.c` and the other will be `CMakeLists.txt`. Each is given below"
   ]
  },
  {
   "cell_type": "markdown",
   "metadata": {},
   "source": [
    "#### `test.c`"
   ]
  },
  {
   "cell_type": "markdown",
   "metadata": {},
   "source": [
    "```c\n",
    "#include <stdio.h>\n",
    "#include \"pico/stdlib.h\"\n",
    "#include \"hardware/gpio.h\"\n",
    "\n",
    "const uint LED_PIN = 25 ;\n",
    "\n",
    "int main() {\n",
    "\n",
    "    stdio_init_all() ;\n",
    "\n",
    "    gpio_init(LED_PIN) ;\n",
    "    gpio_set_dir(LED_PIN, GPIO_OUT) ;\n",
    "\n",
    "    while(1) {\n",
    "\n",
    "        gpio_put(LED_PIN, 0) ;\n",
    "        sleep_ms(250) ;\n",
    "        gpio_put(LED_PIN, 1);\n",
    "        puts(\"Hello world\\n\") ;\n",
    "        sleep_ms(1000) ;\n",
    "    }\n",
    "}\n",
    "```"
   ]
  },
  {
   "cell_type": "markdown",
   "metadata": {},
   "source": [
    "#### `CMakeLists.txt`"
   ]
  },
  {
   "cell_type": "markdown",
   "metadata": {},
   "source": [
    "```cmake\n",
    "cmake_minimum_required(VERSION 3.13)\n",
    "\n",
    "include(pico_sdk_import.cmake)\n",
    "\n",
    "project(test_project)\n",
    "\n",
    "pico_sdk_init()\n",
    "\n",
    "add_executable(test test.c)\n",
    "\n",
    "pico_enable_stdio_usb(test 1)\n",
    "pico_enable_stdio_uart(test 0)\n",
    "\n",
    "pico_add_extra_outputs(test)\n",
    "\n",
    "target_link_libraries(test pico_stdlib)\n",
    "```"
   ]
  },
  {
   "cell_type": "markdown",
   "metadata": {},
   "source": [
    "## Building the project"
   ]
  },
  {
   "cell_type": "markdown",
   "metadata": {},
   "source": [
    "1. In the Developer PowerShell for Visual Studio, navigate to your test project repository. For me, this is `C:\\Users\\vha3\\Pico\\test`\n",
    "2. Build by running the following: <br><br>\n",
    "`C:\\Users\\vha3\\Pico\\test> mkdir build`<br>\n",
    "`C:\\Users\\vha3\\Pico\\test> cd build`<br>\n",
    "`C:\\Users\\vha3\\Pico\\test\\build> cmake -G \"NMake Makefiles\" ..`<br>\n",
    "`C:\\Users\\vha3\\Pico\\test\\build> nmake`<br><br>\n",
    "3. **Note**: Error for which I don't yet have an explanation but I do have a solution. If, on the second build, you get errors thrown due to syntax in makefiles, run `nmake clean` before again running `nmake`.\n",
    "4. Within the `build` directory, you will now find the ELF, `bin`, and `uf2` target files for the project. The `uf2` target file can be dragged-and-dropped directly onto an RP2040 board attached to your PC via USB, as explained in the next section."
   ]
  },
  {
   "cell_type": "markdown",
   "metadata": {},
   "source": [
    "## Programming the Pico"
   ]
  },
  {
   "cell_type": "markdown",
   "metadata": {},
   "source": [
    "This is repeated from [this webpage](./PicoSetup.html), but included here for completeness."
   ]
  },
  {
   "cell_type": "markdown",
   "metadata": {},
   "source": [
    "1. *While holding down the `BOOTSEL` button*, plug the Pico into a USB port.\n",
    "2. The Pico will appear as a mass storage device in your file navigator.\n",
    "3. Drag-and-drop `C:\\Users\\vha3\\Pico\\pico-examples\\build\\blink.uf2` to the Pico, as you would if you were moving a file to a flash drive.\n",
    "4. The Pico will automatically reboot, and start running the Blink example, flashing the LED."
   ]
  }
 ],
 "metadata": {
  "kernelspec": {
   "display_name": "Python 3",
   "language": "python",
   "name": "python3"
  },
  "language_info": {
   "codemirror_mode": {
    "name": "ipython",
    "version": 3
   },
   "file_extension": ".py",
   "mimetype": "text/x-python",
   "name": "python",
   "nbconvert_exporter": "python",
   "pygments_lexer": "ipython3",
   "version": "3.8.3"
  }
 },
 "nbformat": 4,
 "nbformat_minor": 4
}
