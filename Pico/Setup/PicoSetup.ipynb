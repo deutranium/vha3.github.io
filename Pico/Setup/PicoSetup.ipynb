{
 "cells": [
  {
   "cell_type": "markdown",
   "metadata": {},
   "source": [
    "# Setting up the Raspberry Pi Pico for C/C++ Development on Windows"
   ]
  },
  {
   "cell_type": "markdown",
   "metadata": {},
   "source": [
    "#### [V. Hunter Adams](https://vanhunteradams.com)"
   ]
  },
  {
   "cell_type": "markdown",
   "metadata": {},
   "source": [
    "## Documentation"
   ]
  },
  {
   "cell_type": "markdown",
   "metadata": {},
   "source": [
    "Everything in this file comes from the [Getting started with Raspberry Pi Pico for C/C++ development guide](https://datasheets.raspberrypi.com/pico/getting-started-with-pico.pdf). This webpage contains all of the same content, just organized into an enumerated list.\n",
    "\n",
    "This webpage walks you through installing the toolchain, SDK, Raspberry Pi examples, and Hunter's examples on your Windows machine. It then describes how to build those examples and load them onto the RP2040."
   ]
  },
  {
   "cell_type": "markdown",
   "metadata": {},
   "source": [
    "## Installing the toolchain and VSCode\n",
    "\n",
    "#### NOTE: [Nikhil Dabas](https://github.com/ndabas) has created an easy-to-use automated installer ([here](https://github.com/ndabas/pico-setup-windows)) which automates the intallation of all the software described in this section.\n",
    "\n",
    "#### NOTE: If you are an ECE 4760 student at Cornell, the toolchain is already installed on the laboratory PC's in Phillips 238."
   ]
  },
  {
   "cell_type": "markdown",
   "metadata": {},
   "source": [
    "1. Install the [ARM GCC compiler](https://developer.arm.com/tools-and-software/open-source-software/developer-tools/gnu-toolchain/gnu-rm/downloads).\n",
    "> - During installation, make sure to tick the box to register the path to the ARM compiler as an environment veraible in the Windows shell when prompted to do so. See the image below.\n",
    "\n",
    "<figure>\n",
    "    <img align=\"center\" width=\"500\" height=\"500\" src=\"arm.png\" alt='missing' />\n",
    "    <center><figcaption>Third checkbox is checked, adding path to environment variable</figcaption></center>\n",
    "</figure>\n",
    "\n",
    "2. Install [CMake](https://cmake.org/download/).\n",
    "> - When prompted, add CMake to the system `PATH` for all users.\n",
    "3. Install [Visual Studio Code](https://visualstudio.microsoft.com/downloads/)\n",
    "3. Install [Build Tools for Visual Studio 2019](https://visualstudio.microsoft.com/downloads/)\n",
    "> - When prompted by the Built Tools for Visual Studio installer, you need to install the C++ build tools only.\n",
    "> - You must install the full \"Windows 10 SDK\" package as the SDK will need to build the `pioasm` and `elf2uf2` tools locally. Removing it from the list of installed items will mean that you will be unable to build Raspberry Pi Pico binaries.\n",
    "> - This takes a while.\n",
    "<figure>\n",
    "    <img align=\"center\" width=\"500\" height=\"500\" src=\"tools.png\" alt='missing' />\n",
    "    <center><figcaption>Note checkboxes on right side of image during Build Tools install</figcaption></center>\n",
    "</figure>\n",
    "4. Install [Python 3.7](https://www.python.org/downloads/windows/)\n",
    "> - When prompted by the installer, add Python 3.7 to the system `PATH` for all users. \n",
    "<figure>\n",
    "    <img align=\"center\" width=\"500\" height=\"500\" src=\"tools.png\" alt='missing' />\n",
    "    <center><figcaption>4th checkbox from top</figcaption></center>\n",
    "</figure>\n",
    "\n",
    "> - You should be additionally disable the `MAX_PATH` length when prompted at the end of the installation.\n",
    "> - When installing, choose 'Custom installation,' click through 'Optional Features' and then under 'Advanced Features' choose 'Install for all users'\n",
    "> - It is *possible* that you will need to make a symbolic link so that the Makefile can find Python 3. To do so, type `cmd` in the Run Window so that the Developer Command Prompt icon appears in the Start Menu. Select the small arrow to the right of the icon, and then select \"Run as administrator.\" Navigate to `C:\\Program Files\\Python37` and make a symlink by running<br><br>\n",
    "`C:\\Program Files\\Python37 > mklink python3.exe python.exe`<br><br>\n",
    "Only do this if your build fails because Make can't find your python installation.\n",
    "5. Install [Git](https://git-scm.com/download/win).\n",
    "> - When prompted by the installer, make sure that you change the default editor away from `vim` (see below)\n",
    "<figure>\n",
    "    <img align=\"center\" width=\"500\" height=\"500\" src=\"git.png\" alt='missing' />\n",
    "    <center><figcaption>Setting default editor to Notepad++ instead of vim</figcaption></center>\n",
    "</figure>\n",
    "\n",
    "> - Tick the checkbox to allow Git to be used from third-party tools.\n",
    "> - Check the box \"Checkout as is, commit as-is\" (unless you have a strong reason not to)\n",
    "> - Select \"Use Windows' default console window\"\n",
    "> - Select \"Enable experimental support for pseudo consoles\""
   ]
  },
  {
   "cell_type": "markdown",
   "metadata": {},
   "source": [
    "## Install the SDK\n",
    "\n",
    "1. Open Windows PowerShell, and create a directory where you'd like to store all the Pico examples and the SDK. I put mine in `C:\\Users\\vha3\\Pico`\n",
    "2. Run the following set of commands:<br><br>\n",
    "`C:\\Users\\vha3\\Pico> git clone -b master https://github.com/raspberrypi/pico-sdk.git` <br>\n",
    "`C:\\Users\\vha3\\Pico> cd pico-sdk`<br>\n",
    "`C:\\Users\\vha3\\Pico\\pico-sdk> git submodule update --init` <br>\n",
    "`C:\\Users\\vha3\\Pico\\pico-sdk> cd ..`<br>"
   ]
  },
  {
   "cell_type": "markdown",
   "metadata": {},
   "source": [
    "## Install the Examples\n",
    "\n",
    "1. Within the Windows PowerShell, run the following commands:<br><br>\n",
    "`C:\\Users\\vha3\\Pico> git clone -b master https://github.com/raspberrypi/pico-examples.git`<br>\n",
    "`C:\\Users\\vha3\\Pico> git clone -b master https://github.com/vha3/Hunter-Adams-RP2040-Demos.git`<br><br>"
   ]
  },
  {
   "cell_type": "markdown",
   "metadata": {},
   "source": [
    "## Building the example projects from the Command Line\n",
    "\n",
    "1. From the Windows Menu, select `Windows > Visual Studio 2019 > Developer Command Prompt`\n",
    "2. Navigate to the directory where you've installed the Pico examples and SDK. For me, it was `C:\\Users\\vha3\\Pico`.\n",
    "3. Set the path to the SDK by running the following:<br><br>\n",
    "`C:\\Users\\vha3\\Pico > setx PICO_SDK_PATH \"..\\..\\pico-sdk\"`<br><br>\n",
    "4. Close the current command prompt window.\n",
    "5. Open a new Command Prompt window by again navigating from the Windows Menu to `Windows > Visual Studio 2019 > Developer Command Prompt`. Closing/re-opening will set the environment variable that we configured above.\n",
    "\n",
    "#### Building the Raspberry Pi company examples\n",
    "\n",
    "6. Navigate to the `pico-examples` folder. For me, this was in the directory `C:\\Users\\vha3\\Pico\\pico-examples`\n",
    "7. Build the \"Hello World\" example by running: <br><br>\n",
    "`C:\\Users\\vha3\\Pico> cd pico-examples `<br>\n",
    "`C:\\Users\\vha3\\Pico\\pico-examples> mkdir build `<br>\n",
    "`C:\\Users\\vha3\\Pico\\pico-examples> cd build `<br>\n",
    "`C:\\Users\\vha3\\Pico\\pico-examples\\build> cmake -G \"NMake Makefiles\" .. `<br>\n",
    "`C:\\Users\\vha3\\Pico\\pico-examples\\build> nmake`<br><br>\n",
    "8. Within the `build` directory, you will now find a `hello_world` directory. You will find directories for each of the other example projects too. These folders will contain the ELF, `bin`, and `uf2` target files for each project. The `uf2` target file can be dragged-and-dropped directly onto an RP2040 board attached to your PC via USB, as explained in the next section.\n",
    "\n",
    "#### Building Hunter's examples\n",
    "\n",
    "6. Navigate to the `Hunter-Adams-RP2040-Demos` folder. For me, this was in the directory `C:\\Users\\vha3\\Pico\\Hunter-Adams-RP2040-Demos`\n",
    "7. Build the examples by running: <br><br>\n",
    "`C:\\Users\\vha3\\Pico> cd Hunter-Adams-RP2040-Demos `<br>\n",
    "`C:\\Users\\vha3\\Pico\\Hunter-Adams-RP2040-Demos> mkdir build `<br>\n",
    "`C:\\Users\\vha3\\Pico\\Hunter-Adams-RP2040-Demos> cd build `<br>\n",
    "`C:\\Users\\vha3\\Pico\\Hunter-Adams-RP2040-Demos\\build> cmake -G \"NMake Makefiles\" .. `<br>\n",
    "`C:\\Users\\vha3\\Pico\\Hunter-Adams-RP2040-Demos\\build> nmake`<br><br>\n",
    "8. Within the `build` directory, you will now find a directory for each example project.  These folders will contain the ELF, `bin`, and `uf2` target files for each project. The `uf2` target file can be dragged-and-dropped directly onto an RP2040 board attached to your PC via USB, as explained in the next section."
   ]
  },
  {
   "cell_type": "markdown",
   "metadata": {},
   "source": [
    "## Programming the Pico\n",
    "\n",
    "1. *While holding down the `BOOTSEL` button*, plug the Pico into a USB port.\n",
    "2. The Pico will appear as a mass storage device in your file navigator.\n",
    "3. Drag-and-drop `C:\\Users\\vha3\\Pico\\pico-examples\\build\\blink.uf2` to the Pico, as you would if you were moving a file to a flash drive.\n",
    "4. The Pico will automatically reboot, and start running the Blink example, flashing the LED."
   ]
  },
  {
   "cell_type": "markdown",
   "metadata": {},
   "source": [
    "***\n",
    "***"
   ]
  },
  {
   "cell_type": "markdown",
   "metadata": {},
   "source": [
    "## Building the example projects from Visual Studio Code\n",
    "\n",
    "#### NOTE: You are welcome to make these configurations on your own machine, but in the Phillips 238 laboratory we will build from the command line, as explained above.\n",
    "\n",
    "1. Navigate via the Windows Menu to `Windows > Visual Studio 2019 > Developer Command Prompt`\n",
    "2. When the command prompt window opens, type `C:\\Users\\vha3\\Pico > code`. This will open Visual Studio Code with all of the correct environment variables set so that the toolchain is correctly configured.\n",
    "3. **Note from the guide**: If you start Visual Studio Code by clicking on its desktop icon, or directly from the Start Menu, then the build environment will not be correctly configured. This can be done manually later in the CMake Tools Settings, but the easiest way to configure the Visual Studio Code environment is just to open it from a Developer Command Prompt Window where these environment variables are already set.\n",
    "3. Click on the Extensions icon in the left-hend toolbar (or type `Ctrl + Shift + X`) and search for \"CMake Tools\"\n",
    "4. Click the \"CMake Tools\" entry in the list, and then click the install button\n",
    "5. Click the Cog Wheel at the bottom of the navigation bar on the left-hand side of the interface and select \"Settings\"\n",
    "6. In the Settings pange, click on \"Extensions\" and the \"CMake Tools configuration.\"\n",
    "7. Scroll down to \"Cmake: Configure Environment\" and click on \"Add Item\"\n",
    "8. Set the Item to `PICO_SDK_PATH` and set the Value to `..\\..\\pico-sdk` as shown below\n",
    "<figure>\n",
    "    <img align=\"center\" width=\"500\" height=\"500\" src=\"vs.png\" alt='missing' />\n",
    "    <center><figcaption>Cmake: Configure Environment</figcaption></center>\n",
    "</figure>\n",
    "9. Scroll down to \"Cmake: Generator\" and enter \"NMake Makefiles\" into the box.\n",
    "10. Close the Settings panel.\n",
    "11. Navigate to `File > Open Folder` and navigate to the `pico-examples` repo, then hit \"Okay.\"\n",
    "12. You will be prompted to configure the project, as shown below. Click \"Yes\" and then select \"GCC for arm-none-eabi\" for your compiler.\n",
    "<figure>\n",
    "    <img align=\"center\" width=\"500\" height=\"500\" src=\"vs2.png\" alt='missing' />\n",
    "    <center><figcaption>See lower-right corner prompt to configure the project</figcaption></center>\n",
    "</figure>\n",
    "14. Click the \"Build\" button (with a cog wheel) in the blue bottom bar of the window. This will create the build directory and run CMake and build the example projects.\n",
    "15. Program the Pico by navigating to an example project directory within the build directory and drag/dropping onto the Pico, as explained in the previous section."
   ]
  },
  {
   "cell_type": "markdown",
   "metadata": {},
   "source": [
    "***"
   ]
  }
 ],
 "metadata": {
  "kernelspec": {
   "display_name": "Python 3",
   "language": "python",
   "name": "python3"
  },
  "language_info": {
   "codemirror_mode": {
    "name": "ipython",
    "version": 3
   },
   "file_extension": ".py",
   "mimetype": "text/x-python",
   "name": "python",
   "nbconvert_exporter": "python",
   "pygments_lexer": "ipython3",
   "version": "3.8.3"
  }
 },
 "nbformat": 4,
 "nbformat_minor": 4
}
