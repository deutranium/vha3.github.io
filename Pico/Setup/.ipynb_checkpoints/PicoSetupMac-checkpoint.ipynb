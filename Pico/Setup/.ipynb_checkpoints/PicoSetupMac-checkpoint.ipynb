{
 "cells": [
  {
   "cell_type": "markdown",
   "metadata": {},
   "source": [
    "# Setting up the Raspberry Pi Pico for C/C++ Development on Mac"
   ]
  },
  {
   "cell_type": "markdown",
   "metadata": {},
   "source": [
    "#### V. Hunter Adams (vha3@cornell.edu)"
   ]
  },
  {
   "cell_type": "markdown",
   "metadata": {},
   "source": [
    "## Documentation\n",
    "\n",
    "Everything in this file comes from the [Getting started with Raspberry Pi Pico for C/C++ development guide](https://datasheets.raspberrypi.com/pico/getting-started-with-pico.pdf). This webpage contains all the same content, just organized into an enumerated list.\n",
    "\n",
    "This webpage walks you through installing the toolchain, SDK, Raspberry Pi examples, and Hunter's examples on your Mac. It then describes how to build those examples and load them onto the RP2040."
   ]
  },
  {
   "cell_type": "markdown",
   "metadata": {},
   "source": [
    "## Install the toolchain\n",
    "\n",
    "1. Install Homebrew (if it's not already installed).\n",
    "> - Open up a Terminal and run <br><br>\n",
    "> > - `/bin/bash -c \"$(curl -fsSL https://raw.githubusercontent.com/Homebrew/install/master/install.sh)\"`\n",
    "> - You will need to add Homebrew to your PATH. Do so by running the following two commands:<br><br>\n",
    "> > - `echo 'eval \"$(/opt/homebrew/bin/brew shellenv)\"' >> /Users/USERNAME/.zprofile` (remembering to substitute your username)\n",
    "> > - `eval \"$(/opt/homebrew/bin/brew shellenv)\"`\n",
    "\n",
    "2. Install the toolchain\n",
    "> - Open up a Terminal and run <br><br>\n",
    "> > - `brew install cmake`\n",
    "> > - `brew tap ArmMbed/homebrew-formulae`\n",
    "> > - `brew install arm-none-eabi-gcc`"
   ]
  },
  {
   "cell_type": "markdown",
   "metadata": {},
   "source": [
    "## Install the SDK\n",
    "\n",
    "1. Create a directory in which you will store the SDK and your projects. I put mine in `~/Pico`.\n",
    "> - `$ mkdir Pico`\n",
    "\n",
    "2. Navigate into the directory you just created\n",
    "> - `$ cd ./Pico/`\n",
    "\n",
    "3. Clone the SDK\n",
    "> - `$ git clone -b master https://github.com/raspberrypi/pico-sdk.git`\n",
    "> - `$ cd pico-sdk`\n",
    "> - `$ git submodule update --init`\n",
    "> - `$ cd ..`"
   ]
  },
  {
   "cell_type": "markdown",
   "metadata": {},
   "source": [
    "## Install the Examples\n",
    "\n",
    "1. Clone the Raspberry Pi company's examples\n",
    "> - `$ git clone -b master https://github.com/raspberrypi/pico-examples.git`\n",
    "\n",
    "2. Clone Hunter's examples\n",
    "> - `$ git clone -b master https://github.com/vha3/Hunter-Adams-RP2040-Examples.git`"
   ]
  },
  {
   "cell_type": "markdown",
   "metadata": {},
   "source": [
    "## Build the examples\n",
    "\n",
    "#### Examples from Raspberry Pi company\n",
    "\n",
    "1. Navigate into the `pico-examples` directory\n",
    "> - `$ cd ~/Pico/pico-examples/`\n",
    "\n",
    "2. Create a directory called `build`\n",
    "> - `$ mkdir build`\n",
    "\n",
    "3. Navigate into the new `build` directory\n",
    "> - `$ cd ~/Pico/pico-examples/build/`\n",
    "\n",
    "4. Specify the `PICO_SDK_PATH`\n",
    "> - `$ export PICO_SDK_PATH=../../pico-sdk`\n",
    "\n",
    "5. Prepare your cmake build directory\n",
    "> - `$ cmake ..`\n",
    "\n",
    "6. Make all the Raspberry Pi company examples\n",
    "> - `$ make`\n",
    "\n",
    "#### Examples from Hunter\n",
    "\n",
    "1. Navigate into the `Hunter-Adams-RP2040-Demos` directory\n",
    "> - `$ cd ~/Pico/Hunter-Adams-RP2040-Demos/`\n",
    "\n",
    "2. Create a directory called `build`\n",
    "> - `$ mkdir build$`\n",
    "\n",
    "3. Navigate into the new `build` directory\n",
    "> - `$ cd ~/Pico/Hunter-Adams-RP2040-Demos/build/`\n",
    "\n",
    "4. Specify the `PICO_SDK_PATH` *if you haven't already done this previously*\n",
    "> - `$ export PICO_SDK_PATH=../../pico-sdk`\n",
    "\n",
    "5. Prepare your cmake build directory\n",
    "> - `$ cmake ..`\n",
    "\n",
    "6. Make all Hunter's examples\n",
    "> - `$ make`"
   ]
  },
  {
   "cell_type": "markdown",
   "metadata": {},
   "source": [
    "## Programming the Pico\n",
    "\n",
    "1. The build process creates a whole bunch of files within the `build` directory. Look in particular for the .uf2 file for whichever project you'd like to program.\n",
    "2. Press the button on the Pico while plugging it into the computer. This will make it appear as a flash drive to the computer.\n",
    "3. Drag/drop the .uf2 file onto the Pico."
   ]
  }
 ],
 "metadata": {
  "kernelspec": {
   "display_name": "Python 3",
   "language": "python",
   "name": "python3"
  },
  "language_info": {
   "codemirror_mode": {
    "name": "ipython",
    "version": 3
   },
   "file_extension": ".py",
   "mimetype": "text/x-python",
   "name": "python",
   "nbconvert_exporter": "python",
   "pygments_lexer": "ipython3",
   "version": "3.8.3"
  }
 },
 "nbformat": 4,
 "nbformat_minor": 4
}
