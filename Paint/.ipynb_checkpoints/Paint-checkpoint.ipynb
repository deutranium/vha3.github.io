{
 "cells": [
  {
   "cell_type": "markdown",
   "metadata": {},
   "source": [
    "# Art projects"
   ]
  },
  {
   "cell_type": "markdown",
   "metadata": {},
   "source": [
    "I am ***extremely beginner*** at this, but it's something I enjoy practicing."
   ]
  },
  {
   "cell_type": "markdown",
   "metadata": {},
   "source": [
    "## Clay"
   ]
  },
  {
   "cell_type": "markdown",
   "metadata": {},
   "source": [
    "<figure>\n",
    "    <img align=\"center\" width=\"500\" height=\"200\" src=\"head.png\" alt='missing' />\n",
    "</figure>\n",
    "\n",
    "Scan of the head:\n",
    "\n",
    "<div class=\"sketchfab-embed-wrapper\"> <iframe title=\"Test\" frameborder=\"0\" allowfullscreen mozallowfullscreen=\"true\" webkitallowfullscreen=\"true\" allow=\"autoplay; fullscreen; xr-spatial-tracking\" xr-spatial-tracking execution-while-out-of-viewport execution-while-not-rendered web-share width=\"640\" height=\"480\" src=\"https://sketchfab.com/models/9f478743180044e6a01c1f955a27e29a/embed\"> </iframe> <p style=\"font-size: 13px; font-weight: normal; margin: 5px; color: #4A4A4A;\"> <a href=\"https://sketchfab.com/3d-models/test-9f478743180044e6a01c1f955a27e29a?utm_medium=embed&utm_campaign=share-popup&utm_content=9f478743180044e6a01c1f955a27e29a\" target=\"_blank\" rel=\"nofollow\" style=\"font-weight: bold; color: #1CAAD9;\"> Test </a> by <a href=\"https://sketchfab.com/vha3?utm_medium=embed&utm_campaign=share-popup&utm_content=9f478743180044e6a01c1f955a27e29a\" target=\"_blank\" rel=\"nofollow\" style=\"font-weight: bold; color: #1CAAD9;\"> vha3 </a> on <a href=\"https://sketchfab.com?utm_medium=embed&utm_campaign=share-popup&utm_content=9f478743180044e6a01c1f955a27e29a\" target=\"_blank\" rel=\"nofollow\" style=\"font-weight: bold; color: #1CAAD9;\">Sketchfab</a></p></div>"
   ]
  },
  {
   "cell_type": "markdown",
   "metadata": {},
   "source": [
    "## Paint"
   ]
  },
  {
   "cell_type": "markdown",
   "metadata": {},
   "source": [
    "<figure>\n",
    "    <img align=\"center\" width=\"500\" height=\"200\" src=\"mountain1.JPG\" alt='missing' />\n",
    "</figure>"
   ]
  },
  {
   "cell_type": "markdown",
   "metadata": {},
   "source": [
    "<figure>\n",
    "    <img align=\"center\" width=\"500\" height=\"200\" src=\"storm.JPG\" alt='missing' />\n",
    "</figure>"
   ]
  },
  {
   "cell_type": "markdown",
   "metadata": {},
   "source": [
    "<figure>\n",
    "    <img align=\"center\" width=\"500\" height=\"200\" src=\"gray.JPG\" alt='missing' />\n",
    "</figure>"
   ]
  },
  {
   "cell_type": "markdown",
   "metadata": {},
   "source": [
    "<figure>\n",
    "    <img align=\"center\" width=\"500\" height=\"200\" src=\"forest.JPG\" alt='missing' />\n",
    "</figure>"
   ]
  },
  {
   "cell_type": "markdown",
   "metadata": {},
   "source": [
    "<figure>\n",
    "    <img align=\"center\" width=\"500\" height=\"200\" src=\"lake.JPG\" alt='missing' />\n",
    "</figure>"
   ]
  }
 ],
 "metadata": {
  "kernelspec": {
   "display_name": "Python 3",
   "language": "python",
   "name": "python3"
  },
  "language_info": {
   "codemirror_mode": {
    "name": "ipython",
    "version": 3
   },
   "file_extension": ".py",
   "mimetype": "text/x-python",
   "name": "python",
   "nbconvert_exporter": "python",
   "pygments_lexer": "ipython3",
   "version": "3.8.3"
  }
 },
 "nbformat": 4,
 "nbformat_minor": 4
}
