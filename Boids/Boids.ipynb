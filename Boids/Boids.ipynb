{
 "cells": [
  {
   "cell_type": "markdown",
   "metadata": {},
   "source": [
    "# Boids!"
   ]
  },
  {
   "cell_type": "markdown",
   "metadata": {},
   "source": [
    "#### ECE 4760, Spring 2020, Adams/Land"
   ]
  },
  {
   "cell_type": "code",
   "execution_count": 2,
   "metadata": {},
   "outputs": [
    {
     "data": {
      "text/html": [
       "<script>\n",
       "code_show=true; \n",
       "function code_toggle() {\n",
       " if (code_show){\n",
       " $('div.input').hide();\n",
       " } else {\n",
       " $('div.input').show();\n",
       " }\n",
       " code_show = !code_show\n",
       "} \n",
       "$( document ).ready(code_toggle);\n",
       "</script>\n",
       "<form action=\"javascript:code_toggle()\"><input type=\"submit\" value=\"Click here to toggle on/off the raw code.\"></form>"
      ],
      "text/plain": [
       "<IPython.core.display.HTML object>"
      ]
     },
     "execution_count": 2,
     "metadata": {},
     "output_type": "execute_result"
    }
   ],
   "source": [
    "HTML('''<script>\n",
    "code_show=true; \n",
    "function code_toggle() {\n",
    " if (code_show){\n",
    " $('div.input').hide();\n",
    " } else {\n",
    " $('div.input').show();\n",
    " }\n",
    " code_show = !code_show\n",
    "} \n",
    "$( document ).ready(code_toggle);\n",
    "</script>\n",
    "<form action=\"javascript:code_toggle()\"><input type=\"submit\" value=\"Click here to toggle on/off the raw code.\"></form>''')"
   ]
  },
  {
   "cell_type": "code",
   "execution_count": 1,
   "metadata": {},
   "outputs": [
    {
     "data": {
      "text/html": [
       "\n",
       "<style>\n",
       ".output_png {\n",
       "    display: table-cell;\n",
       "    text-align: center;\n",
       "    vertical-align: middle;\n",
       "}\n",
       "</style>\n"
      ],
      "text/plain": [
       "<IPython.core.display.HTML object>"
      ]
     },
     "execution_count": 1,
     "metadata": {},
     "output_type": "execute_result"
    }
   ],
   "source": [
    "import numpy\n",
    "import matplotlib.pyplot as plt\n",
    "from IPython.display import Audio\n",
    "from IPython.display import Image\n",
    "from scipy import signal\n",
    "from scipy.fft import fftshift\n",
    "from scipy.io import wavfile\n",
    "plt.rcParams['figure.figsize'] = [12, 3]\n",
    "from IPython.core.display import HTML\n",
    "HTML(\"\"\"\n",
    "<style>\n",
    ".output_png {\n",
    "    display: table-cell;\n",
    "    text-align: center;\n",
    "    vertical-align: middle;\n",
    "}\n",
    "</style>\n",
    "\"\"\")"
   ]
  },
  {
   "cell_type": "markdown",
   "metadata": {},
   "source": [
    "## Table of Contents"
   ]
  },
  {
   "cell_type": "markdown",
   "metadata": {},
   "source": [
    "> - [Background and Introduction](#Background-and-Introduction)\n",
    "> - [Algorithm Overview](#Algorithm-Overview)\n",
    "> > - [Separation](#Separation)\n",
    "> > - [Alignment](#Alignment)\n",
    "> > - [Cohesion](#Cohesion)\n",
    "> > - [Screen edges](#Screen-edges)\n",
    "> > - [Speed limits](#Speed-limits)\n",
    "> > - [Update position](#Update-position)\n",
    "> > - [Recommended parameter values](#Recommended-parameter-values)\n",
    "> > - [Pseudocode](#Pseudocode)\n",
    "> - [Fixed Point Arithmetic](#Fixed-Point-Arithmetic)\n",
    "> - [Frame Rate](#Frame-Rate)\n",
    "> - [Hardware connections to PIC32](#Hardware-connections-to-PIC32)\n",
    "> - [Program Organization](#Program-Organization)\n",
    "> - [Weekly Checkpoints and Lab Report Specifications](#Weekly-checkpoints-and-lab-report)\n",
    "> > - [Week one](#Week-one-checkpoint)\n",
    "> > - [Week two](#Week-two-assignment)\n",
    "> > - [Opportunities to keep going](#Opportunities-to-keep-going)\n",
    "> > - [Lab Report](#Lab-report)\n",
    "> - [Demonstrations of Working System (for reference)](#Example-of-working-system)\n",
    "\n"
   ]
  },
  {
   "cell_type": "markdown",
   "metadata": {},
   "source": [
    "## Background and Introduction"
   ]
  },
  {
   "cell_type": "markdown",
   "metadata": {},
   "source": [
    "[Boids](https://en.wikipedia.org/wiki/Boids) is an artificial life program that produces startlingly realistic simulations of the flocking behavior of birds. Each \"boid\" (which is an abbreviation of \"bird-oid object\" follows a very simple set of rules. These rules will be discussed at length, but they can be summarized as follows:<br>\n",
    "- **Separation**: boids move away from other boids that are too close\n",
    "- **Alignment**: boids attempt to match the velocities of their neighbors\n",
    "- **Cohesion**: boids move toward the center of mass of their neighbors\n",
    "\n",
    "When all of the boids follow these simple rules, the flock produces gorgeously organic-looking emergent patterns, as shown in the video below. You can compare the behavior shown in the simulation below to videos of actual murmurations of starlings (like [this one](https://www.youtube.com/watch?v=V4f_1_r80RY)). These rules are also extendable. You might add a predator that all the boids must avoid, or you might add a \"perching\" behavior where boids near the bottom of the screen rest for a moment before rejoining the flock. The Boids algorithm was developed by Craig Reynolds in 1986.\n",
    "\n",
    "In this lab, you will create a flock of boids on the TFT that will be animated at (at least) 30 fps. You are challenged to produce the largest flock that you can. The parameters which govern boid behavior will be programmable via a Python user interface, and the flock will instantly begin behaving according to the updated parameters."
   ]
  },
  {
   "cell_type": "markdown",
   "metadata": {},
   "source": [
    "<iframe width=\"560\" height=\"315\" src=\"https://www.youtube.com/embed/BTvkJj-z3xo\" frameborder=\"0\" allow=\"accelerometer; autoplay; clipboard-write; encrypted-media; gyroscope; picture-in-picture\" allowfullscreen></iframe>"
   ]
  },
  {
   "cell_type": "markdown",
   "metadata": {},
   "source": [
    "## Algorithm Overview"
   ]
  },
  {
   "cell_type": "markdown",
   "metadata": {},
   "source": [
    "Just like in nature, each boid does not have global knowledge of every other boid in the flock. Instead, each can only see boids that are within its *visual range* and that are within its smaller *protected range*. These are tunable parameters. A boid will move away from other boids that are within its protected range (birds don't want to fly into each other), it will attempt to match the average velocity of boids within its visible range, and it will tend toward the center of mass of boids in its visible range."
   ]
  },
  {
   "cell_type": "markdown",
   "metadata": {},
   "source": [
    "We will also enforce minimum and maximum speed limits for the boids. Flocking birds (like starlings) are never stationary in flight. So, we'll prevent the speed of any boid from dropping below some tunable value. Birds also have maximum speeeds, so we'll prevent the speed of any boid from exceeding some tunable value. Finally, we want for the boids to turn around when they reach the edges of the TFT screen. When a boid gets within some tunable margin of an edge of the screen, we will turn it by some tunable value. The greater this value, the faster the birds will be able to turn. We can play with these parameters until we get realistic-looking behavior."
   ]
  },
  {
   "cell_type": "markdown",
   "metadata": {},
   "source": [
    "The state for each boid includes its x/y position and its x/y velocity, represented as:<br>\n",
    "`boid.x`<br>\n",
    "`boid.y`<br>\n",
    "`boid.vx`<br>\n",
    "`boid.vy`<br>"
   ]
  },
  {
   "cell_type": "markdown",
   "metadata": {},
   "source": [
    "<figure>\n",
    "    <img align=\"center\" width=\"600\" height=\"200\" src=\"flock.png\" alt='missing' />\n",
    "    <center><figcaption>Each boid determines whether each other boid is in its protected/visual range.</figcaption></center>\n",
    "</figure>"
   ]
  },
  {
   "cell_type": "markdown",
   "metadata": {},
   "source": [
    "#### Separation"
   ]
  },
  {
   "cell_type": "markdown",
   "metadata": {},
   "source": [
    "Each boid attempts to avoid running into other boids. If two or more boids get too close to one another (i.e. within one another's *protected range*), they will steer away from one another. They will do so in the following way:\n",
    "\n",
    "1. At the start of the update for a particular boid, two accumulating variable (`close_dx` and `close_dy`) are zeroed\n",
    "2. We loop thru every other boid. If the distance to a particular boid is less than the protected range, then <br>`close_dx += boid.x - otherboid.x`<br>`close_dy += boid.y - otherboid.y`.\n",
    "3. Once we've looped through all other boids, then we update the velocity according to <br>`boid.vx += close_dx*avoidfactor`<br>`boid.vy += close_dy*avoidfactor`<br>(where `avoidfactor` is a tunable parameter)"
   ]
  },
  {
   "cell_type": "markdown",
   "metadata": {},
   "source": [
    "<figure>\n",
    "    <img align=\"center\" width=\"500\" height=\"200\" src=\"separation.png\" alt='missing' />\n",
    "    <center><figcaption>Move away from boids in protected range.</figcaption></center>\n",
    "</figure>"
   ]
  },
  {
   "cell_type": "markdown",
   "metadata": {},
   "source": [
    "#### Alignment"
   ]
  },
  {
   "cell_type": "markdown",
   "metadata": {},
   "source": [
    "Each boid attempts to match the velocity of other boids inside its visible range. It does so in the following way:\n",
    "\n",
    "1. At the start of the update for a particular boid, three variables (`xvel_avg`, `yvel_avg`, and `neighboring_boids`) are zeroed\n",
    "2. We loop thru every other boid. If the distance to a particular boid is less than the visible range, then<br>\n",
    "`xvel_avg += otherboid.vx`<br>\n",
    "`yvel_avg += otherboid.vy`<br>\n",
    "`neighboring_boids += 1`\n",
    "3. Once we've looped through all other boids, we do the following **if `neighboring_boids>0`**:<br>\n",
    "`xvel_avg = xvel_avg/neighboring_boids`<br>\n",
    "`yvel_avg = yvel_avg/neighboring_boids`\n",
    "4. We then update the velocity according to:<br>\n",
    "`boid.vx += (xvel_avg - boid.vx)*matchingfactor`<br>\n",
    "`boid.vy += (yvel_avg - boid.vy)*matchingfactor`<br>\n",
    "(where `matchingfactor` is a tunable parameter)"
   ]
  },
  {
   "cell_type": "markdown",
   "metadata": {},
   "source": [
    "<figure>\n",
    "    <img align=\"center\" width=\"500\" height=\"200\" src=\"alignment.png\" alt='missing' />\n",
    "    <center><figcaption>Align with average velocity of boids in visible range.</figcaption></center>\n",
    "</figure>"
   ]
  },
  {
   "cell_type": "markdown",
   "metadata": {},
   "source": [
    "#### Cohesion"
   ]
  },
  {
   "cell_type": "markdown",
   "metadata": {},
   "source": [
    "Each boid steers gently toward the center of mass of other boids within its visible range. It does so in the following way:\n",
    "\n",
    "1. At the start of the update for a particular boid, three variables (`xpos_avg`, `ypos_avg`, and `neighboring_boids`) are zeroed\n",
    "2. We loop thru every other boid. If the distance to a particular boid is less than the visible range, then<br>\n",
    "`xpos_avg += otherboid.x`<br>\n",
    "`ypos_avg += otherboid.y`<br>\n",
    "`neighboring_boids += 1`\n",
    "3. Once we've looped through all other boids, we do the following **if `neighboring_boids>0`**:<br>\n",
    "`xpos_avg = xpos_avg/neighboring_boids`<br>\n",
    "`ypos_avg = ypos_avg/neighboring_boids`\n",
    "4. We then update the velocity according to:<br>\n",
    "`boid.vx += (xpos_avg - boid.x)*centeringfactor`<br>\n",
    "`boid.vy += (ypos_avg - boid.y)*centeringfactor`<br>\n",
    "(where `centeringfactor` is a tunable parameter)"
   ]
  },
  {
   "cell_type": "markdown",
   "metadata": {},
   "source": [
    "<figure>\n",
    "    <img align=\"center\" width=\"500\" height=\"200\" src=\"cohesion.png\" alt='missing' />\n",
    "    <center><figcaption>Move toward center of mass of boids in visible range.</figcaption></center>\n",
    "</figure>"
   ]
  },
  {
   "cell_type": "markdown",
   "metadata": {},
   "source": [
    "#### Screen edges"
   ]
  },
  {
   "cell_type": "markdown",
   "metadata": {},
   "source": [
    "We want our boids to turn-around at an organic-looking turn radius when they approach an edge of the TFT. We will do so in the following way: <br>\n",
    "\n",
    "```\n",
    "if boid.x < leftmargin:\n",
    "    boid.vx = boid.vx + turnfactor\n",
    "if boid.x > rightmargin:\n",
    "    boid.vx = boid.vx - turnfactor\n",
    "if boid.y > bottommargin:\n",
    "    boid.vy = boid.vy - turnfactor\n",
    "if boid.y < topmargin:\n",
    "    boid.vy = boid.vy + turnfactor\n",
    "```"
   ]
  },
  {
   "cell_type": "markdown",
   "metadata": {},
   "source": [
    "where `turnfactor` and all margins are tunable parameters. I recommend a margin of 50 pixels on all edges."
   ]
  },
  {
   "cell_type": "markdown",
   "metadata": {},
   "source": [
    "<figure>\n",
    "    <img align=\"center\" width=\"500\" height=\"200\" src=\"edges.png\" alt='missing' />\n",
    "    <center><figcaption>Steer away from edges of TFT display.</figcaption></center>\n",
    "</figure>"
   ]
  },
  {
   "cell_type": "markdown",
   "metadata": {},
   "source": [
    "#### Speed limits"
   ]
  },
  {
   "cell_type": "markdown",
   "metadata": {},
   "source": [
    "We constrain the boids to move faster than some minimum speed and slower than some maximum speed. We do so in the following way:\n",
    "\n",
    "1. Once the velocity has been updated, compute the boid speed<br>\n",
    "`speed = sqrt(boid.vx*boid.vx + boid.vy*boid.vy)`\n",
    "2. If `speed>maxspeed`:<br>\n",
    "`boid.vx = (boid.vx/speed)*maxspeed`<br>\n",
    "`boid.vy = (boid.vy/speed)*minspeed`\n",
    "3. If `speed<minspeed`:<br>\n",
    "`boid.vx = (boid.vx/speed)*minspeed`<br>\n",
    "`boid.vy = (boid.vy/speed)*minspeed`"
   ]
  },
  {
   "cell_type": "markdown",
   "metadata": {},
   "source": [
    "#### Update position"
   ]
  },
  {
   "cell_type": "markdown",
   "metadata": {},
   "source": [
    "With the updated velocity, we update the boid position. Assume that $\\Delta t = 1$ from frame to frame (i.e. that velocity is in units of pixels/frame):<br><br>\n",
    "`boid.x = boid.x + boid.vx`<br>\n",
    "`boid.y = boid.y + boid.vy`"
   ]
  },
  {
   "cell_type": "markdown",
   "metadata": {},
   "source": [
    "#### Recommended parameter values"
   ]
  },
  {
   "cell_type": "markdown",
   "metadata": {},
   "source": [
    "You can play with these to get different emergent behaviors. These are the parameters that I used in the example videos on this webpage. Note that you will need to convert these to [fixed-point](https://people.ece.cornell.edu/land/courses/ece4760/PIC32/index_fixed_point.html). I recommend using the type `_Accum` for all arithmetic."
   ]
  },
  {
   "cell_type": "markdown",
   "metadata": {},
   "source": [
    "`turnfactor`: 0.2<br>\n",
    "`visualRange`: 20<br>\n",
    "`protectedRange`: 2<br>\n",
    "`centeringfactor`: 0.0005<br>\n",
    "`avoidfactor`: 0.05<br>\n",
    "`matchingfactor`: 0.05<br>\n",
    "`maxspeed`: 3<br>\n",
    "`minspeed`: 2<br>"
   ]
  },
  {
   "cell_type": "markdown",
   "metadata": {},
   "source": [
    "#### Pseudocode"
   ]
  },
  {
   "cell_type": "markdown",
   "metadata": {},
   "source": [
    "All of the above rules are represented in the below pseudocode."
   ]
  },
  {
   "cell_type": "markdown",
   "metadata": {},
   "source": [
    "```python\n",
    "# For every boid . . .\n",
    "for each boid (boid):\n",
    "    \n",
    "    # Zero all accumulator variables\n",
    "    xpos_avg, ypos_avg, xvel_avg, yvel_avg, neighboring_boids, close_dx, close_dy = 0\n",
    "    \n",
    "    # For every other boid in the flock . . .\n",
    "    for each other boid (otherboid):\n",
    "        \n",
    "        # Compute differences in x and y coordinates\n",
    "        dx = boid.x - otherboid.x\n",
    "        dy = boid.y - otherboid.y\n",
    "        \n",
    "        # Are both those differences less than the visual range?\n",
    "        if (dx<visual_range and dy<visual_range):  \n",
    "            \n",
    "            # If so, calculate the squared distance\n",
    "            squared_distance = dx*dx + dy*dy\n",
    "            \n",
    "            # Is squared distance less than the protected range?\n",
    "            if (squared_distance < protected_range_squared):\n",
    "                \n",
    "                # If so, calculate difference in x/y-coordinates to nearfield boid\n",
    "                close_dx += boid.x - otherboid.x \n",
    "                close_dy += boid.y - otherboid.y\n",
    "                \n",
    "            # If not in protected range, is the boid in the visual range?\n",
    "            else if (squared_distance < visual_range_squared):\n",
    "                \n",
    "                # Add other boid's x/y-coord and x/y vel to accumulator variables\n",
    "                xpos_avg += otherboid.x \n",
    "                ypos_avg += otherboid.y \n",
    "                xvel_avg += otherboid.vx\n",
    "                yvel_avg += otherboid.vy\n",
    "                \n",
    "                # Increment number of boids within visual range\n",
    "                neighboring_boids += 1 \n",
    "    \n",
    "    # If there were any boids in the visual range . . .            \n",
    "    if (neighboring_boids > 0): \n",
    "        \n",
    "        # Divide accumulator variables by number of boids in visual range\n",
    "        xpos_avg = xpos_avg/neighboring_boids \n",
    "        ypos_avg = ypos_avg/neighboring_boids\n",
    "        xvel_avg = xvel_avg/neighboring_boids\n",
    "        yvel_avg = yvel_avg/neighboring_boids\n",
    " \n",
    " \n",
    "    # Update x and y velocities\n",
    "    boid.vx = (boid.vx + \n",
    "               (xpos_avg - boid.x)*centering_factor + \n",
    "               (xvel_avg - boid.vy)*matching_factor + \n",
    "               (close_dx*avoidfactor))\n",
    "    \n",
    "    boid.vy = (boid.vy + \n",
    "               (ypos_avg - boid.y)*centering_factor + \n",
    "               (yvel_avg - boid.vy)*matching_factor + \n",
    "               (close_dy*avoidfactor))\n",
    "    \n",
    "    # If the boid is near an edge, make it turn by turnfactor\n",
    "    if outside top margin:\n",
    "        boid.vy = boid.vy + turnfactor\n",
    "    if outside right margin:\n",
    "        boid.vx = boid.vx - turnfactor\n",
    "    if outside left margin:\n",
    "        boid.vx = boid.vx + turnfactor\n",
    "    if outside bottom margin:\n",
    "        boid.vy = boid.vy - turnfactor\n",
    "        \n",
    "    # Calculate the boid's speed\n",
    "    speed = sqrt(boid.vx*boid.vx + boid.vy*boid.vy)\n",
    "    \n",
    "    # Enforce min and max speeds\n",
    "    if speed < minspeed:\n",
    "        boid.vx = (boid.vx/speed)*minspeed\n",
    "        boid.vy = (boid.vy/speed)*maxspeed\n",
    "    if speed > maxspeed:\n",
    "        boid.vx = (boid.vx/speed)*maxspeed\n",
    "        boid.vy = (boid.vy/speed)*maxspeed\n",
    "        \n",
    "    # Update boid's position\n",
    "    boid.x = boid.x + boid.vx\n",
    "    boid.y = boid.y + boid.vy\n",
    "```"
   ]
  },
  {
   "cell_type": "markdown",
   "metadata": {},
   "source": [
    "## Fixed Point Arithmetic"
   ]
  },
  {
   "cell_type": "markdown",
   "metadata": {},
   "source": [
    "Floating point is too slow for animation, so you will be using a [fixed point data type](http://people.ece.cornell.edu/land/courses/ece4760/PIC32/index_fixed_point.html) and doing all arithmetic in fixed point. [This animation example](http://people.ece.cornell.edu/land/courses/ece4760/PIC32/Target_board/version_1_3_2/TFT_animation_Accum_BRL4.c) on the [Dev Board page](http://people.ece.cornell.edu/land/courses/ece4760/PIC32/target_board.html) does animation using the `_Accum` data type. To generate a random number in fixed format:<br>\n",
    "\n",
    "```c\n",
    "static _Accum Accum_rand, Accum_rand_scaled ;\n",
    "//fraction from 0 to 1\n",
    "Accum_rand = (_Accum)(rand() & 0xffff) >> 16 ;\n",
    "// range from -2 to 2\n",
    "Accum_rand_scaled = ((_Accum)(rand() & 0xffff) >> 14) - 2 ;\n",
    "// to print\n",
    "sprintf(buffer, \"%f\", (float)Accum_rand_scaled\n",
    "```"
   ]
  },
  {
   "cell_type": "markdown",
   "metadata": {},
   "source": [
    "## Frame Rate"
   ]
  },
  {
   "cell_type": "markdown",
   "metadata": {},
   "source": [
    "Set the TFT frame time using a thread to be faster than 30/second. Since the computation will be the most demanding calculation and depends on the number of boids, arrange the thread to produce a constant frame rate, while allowing as much time as possible for computation. [Here is a pseudocode example](http://people.ece.cornell.edu/land/courses/ece4760/labs/f2019/lab3_compute_thread.txt) of constant frame rate."
   ]
  },
  {
   "cell_type": "markdown",
   "metadata": {},
   "source": [
    "## Hardware connections to PIC32"
   ]
  },
  {
   "cell_type": "markdown",
   "metadata": {},
   "source": [
    "- **Serial**: serial default for protothreads (1.3.2) uses pins: <br>\n",
    "`PPSInput(2, U2RX, RPA1)`<br>\n",
    "`PPSOutput(4, RPB10, U2TX)`<br>\n",
    "*Be sure to uncomment* `#define use_art_serial` *in the config file.*\n",
    "- **TFT**: As described on the [Big Board page](http://people.ece.cornell.edu/land/courses/ece4760/PIC32/target_board.html)\n",
    "- **Scope Probe 1**: `DACA`\n",
    "- **Scope Probe 2**: `DACB`"
   ]
  },
  {
   "cell_type": "markdown",
   "metadata": {},
   "source": [
    "## Program Organization"
   ]
  },
  {
   "cell_type": "markdown",
   "metadata": {},
   "source": [
    "Here is a suggestion for how to organize your program:"
   ]
  },
  {
   "cell_type": "markdown",
   "metadata": {},
   "source": [
    "- **Protothreads** maintains the ISR-driven, millisecond-scale timing as part of the supplied system. Use this for all low-precision timing (can have several milliseconds jitter).\n",
    "- **Main** sets up peripherals and protothreads then just schedules tasks, round-robin\n",
    "> - Initializes TFT display\n",
    "> - Sets up protothreads and schedules tasks round-robin\n",
    "- **Python Serial Input Thread [(see here)](https://people.ece.cornell.edu/land/courses/ece4760/PIC32/index_remote.html)**\n",
    "> - Waits for input from Python user interface. The input will specify the value for a parameter (`visualRange`, `protectedRange`, `centeringfactor`, `matchingfactor`, or `avoidfactor`).\n",
    "> - If user input is received, it converts the received value to a fixed-point data type and sets the associated parameter to that value\n",
    "- **Timing thread**\n",
    "> - Increments system time\n",
    "> - Displays time (in seconds), number of boids, and frame rate on the TFT display, or in Python interface\n",
    "> - Spawns boids until maximum number of boids is reached\n",
    "- **Animation Thread (See [this animation example](http://people.ece.cornell.edu/land/courses/ece4760/PIC32/Target_board/version_1_3_2/TFT_animation_Accum_BRL4.c) on the [Dev Board page](http://people.ece.cornell.edu/land/courses/ece4760/PIC32/target_board.html) for a place to start)**\n",
    "> - Gets time using `PT_GET_TIME()`\n",
    "> - Loops through each boid\n",
    "> > - Erases the boid (draws a black pixel or circle over it)\n",
    "> > - Computes the boid's updated position and velocity using the algorithm described above\n",
    "> > - Draws the boid at its new position\n",
    "> - Gets the time again using `PT_GET_TIME()`, yields for as long as is required for a 30 frames/sec update rate"
   ]
  },
  {
   "cell_type": "markdown",
   "metadata": {},
   "source": [
    "## Weekly checkpoints and lab report"
   ]
  },
  {
   "cell_type": "markdown",
   "metadata": {},
   "source": [
    "Note that these checkpoints are **cumulative.** In week 2, for example, you must have also completed all of the requirements from week 1."
   ]
  },
  {
   "cell_type": "markdown",
   "metadata": {},
   "source": [
    "#### Week one checkpoint"
   ]
  },
  {
   "cell_type": "markdown",
   "metadata": {},
   "source": [
    "By the end of lab section in week one you must have:\n",
    "\n",
    "- Starting from [this animation example](http://people.ece.cornell.edu/land/courses/ece4760/PIC32/Target_board/version_1_3_2/TFT_animation_Accum_BRL4.c) on the [Dev Board page](http://people.ece.cornell.edu/land/courses/ece4760/PIC32/target_board.html), get at least one boid flying around the TFT display with the following hardcoded parameters:<br><br>\n",
    "`turnfactor`: 0.2<br>\n",
    "`visualRange`: 20<br>\n",
    "`protectedRange`: 2<br>\n",
    "`centeringfactor`: 0.0005<br>\n",
    "`avoidfactor`: 0.05<br>\n",
    "`matchingfactor`: 0.05<br>\n",
    "`maxspeed`: 3<br>\n",
    "`minspeed`: 2<br>\n",
    "`topmargin`: 50px<br>\n",
    "`bottommargin`: 50px<br>\n",
    "`leftmargin`: 50px<br>\n",
    "`rightmargin`: 50px<br><br>\n",
    "- The boid should have randomized initial position (within margins) and velocity (within min/max speed limits)\n",
    "- Your boid may be represented as a pixel (drawn using the `tft_drawPixel` routing) or as a circle (drawn using the `tft_drawCircle` routine). You can draw a pixel faster than a circle, so you'll be able to create more boids if they're represented as pixels. However, you can create larger boids if they are circles. So, consider starting with your boids as circles so that they are easy to see, and then switching them to pixels.\n",
    "- Your animation should update at a constant frame rate >=30fps (see [this pseudocode](http://people.ece.cornell.edu/land/courses/ece4760/labs/f2019/lab3_compute_thread.txt))\n",
    "- The TFT display (or the Python interface) should show the number of boids, the frame rate, and elapsed time in seconds\n",
    "- *Finishing a checkpoint does NOT mean you can leave lab early!*"
   ]
  },
  {
   "cell_type": "markdown",
   "metadata": {},
   "source": [
    "#### Week two assignment"
   ]
  },
  {
   "cell_type": "markdown",
   "metadata": {},
   "source": [
    "Timing of all functions in this lab, **and in every exercise in this course** will be handled by interrupt-driven counters, not by software wait-loops. ProtoThreads maintains an ISR driven timer for you. This will be enforced because wait-loops are hard to debug and tend to limit multitasking"
   ]
  },
  {
   "cell_type": "markdown",
   "metadata": {},
   "source": [
    "*Write a ProtoThreads C program which does the following:*\n",
    "\n",
    "- At reset, the program spawns as many boids as it can while maintainting 30fps animation rate. The program will use the following parameters for the flock of boids:<br><br>\n",
    "`turnfactor`: 0.2<br>\n",
    "`visualRange`: 20<br>\n",
    "`protectedRange`: 2<br>\n",
    "`centeringfactor`: 0.0005<br>\n",
    "`avoidfactor`: 0.05<br>\n",
    "`matchingfactor`: 0.05<br>\n",
    "`maxspeed`: 3<br>\n",
    "`minspeed`: 2<br>\n",
    "`topmargin`: 50px<br>\n",
    "`bottommargin`: 50px<br>\n",
    "`leftmargin`: 50px<br>\n",
    "`rightmargin`: 50px<br><br>\n",
    "- The boids should have randomized initial position (within margins) and velocity (within min/max speed limits)\n",
    "- The boids may be represented as pixels or circles, as long as they are visible\n",
    "- Your animation should update at a constant frame rate >=30fps (see [this pseudocode](http://people.ece.cornell.edu/land/courses/ece4760/labs/f2019/lab3_compute_thread.txt))\n",
    "- The TFT display or Python interface should show the number of boids, the frame rate, and elapsed time in seconds\n",
    "- **Through a Python interface (see [here](https://people.ece.cornell.edu/land/courses/ece4760/PIC32/index_remote.html)), the user may specify new values for `visualRange`, `protectedRange`, `centeringfactor`, `matchingfactor`, and `avoidfactor`. The flock will immediately begin behaving according to the new parameters.**"
   ]
  },
  {
   "cell_type": "markdown",
   "metadata": {},
   "source": [
    "*Write a Python program which does the following:*\n",
    "\n",
    "- Enables the user to specify values for `visualRange`, `protectedRange`, `centeringfactor`, `matchingfactor`, and `avoidfactor` (sliders work well for this, but you may do whatever you'd like)\n",
    "- I recommend that the flock start with the default parameter values given above, and that your interface enables the selection of values within the following ranges for each parameter\n",
    "> - `protectedRange`: [0, 100]\n",
    "> - `visualRange`: [0, 200]\n",
    "> - `centeringFactor`: [0.0002, 1] (ok to represent as the reciprocal value if that's easier)\n",
    "> - `avoidFactor`: [0.01, 1] (ok to represent as repicrocal value if that's easier)\n",
    "> - `matchingFactor`: [0.01, 1] (ok to represent as reciprocal value if that's easier)\n",
    "- See below for an example of what your interface might look like"
   ]
  },
  {
   "cell_type": "markdown",
   "metadata": {},
   "source": [
    "<figure>\n",
    "    <img align=\"center\" width=\"250\" height=\"200\" src=\"gui.PNG\" alt='missing' />\n",
    "    <center><figcaption>Python interface for flock control.</figcaption></center>\n",
    "</figure>"
   ]
  },
  {
   "cell_type": "markdown",
   "metadata": {},
   "source": [
    "#### Lab report"
   ]
  },
  {
   "cell_type": "markdown",
   "metadata": {},
   "source": [
    "Your written lab report should include the sections mentioned in the [policy page](http://people.ece.cornell.edu/land/courses/ece4760/EE4760_policy.html), and:\n",
    "\n",
    "- A few cool photographs of your flock\n",
    "- A heavily commented listing of your code"
   ]
  },
  {
   "cell_type": "markdown",
   "metadata": {},
   "source": [
    "## Opportunities to keep going"
   ]
  },
  {
   "cell_type": "markdown",
   "metadata": {},
   "source": [
    "If you're having fun, there are opportunities to extend these rules to generate additional behaviors. If not for this lab, perhaps as a final project?\n",
    "\n",
    "- Add a predator. Play with different behaviors of that predator. Perhaps it moves toward the center of mass of all boids in its visual range. Or, perhaps it picks a **single** boid in its visual range and moves toward that boid (that seems like more realistic behavior to me, but who knows). The boids will, of course, avoid the predator.\n",
    "- Add perching behavior. Draw a background on the TFT (a tree branch, a simple ledge, whatever). If a boid gets near that object, have it pause on it for a certain amount of time, and then take off again.\n",
    "- Add gravity. Birds tend to move more quickly when diving than when ascending. Incorporate that into your flock.\n",
    "- Add a moving food source (or sources) that the boids track\n"
   ]
  },
  {
   "cell_type": "markdown",
   "metadata": {},
   "source": [
    "## Example of working system"
   ]
  },
  {
   "cell_type": "markdown",
   "metadata": {},
   "source": [
    "In the example below, the flock parameters are changed from the command line. When `avoidfactor` is increased (at ~7sec), you can see the flock rapidly disperse. By playing with dynamic variations of these parameters, you can make your flock do very interesting things."
   ]
  },
  {
   "cell_type": "markdown",
   "metadata": {},
   "source": [
    "<iframe width=\"560\" height=\"315\" src=\"https://www.youtube.com/embed/uX4RzFJgMt4\" frameborder=\"0\" allow=\"accelerometer; autoplay; clipboard-write; encrypted-media; gyroscope; picture-in-picture\" allowfullscreen></iframe>"
   ]
  }
 ],
 "metadata": {
  "kernelspec": {
   "display_name": "Python 3",
   "language": "python",
   "name": "python3"
  },
  "language_info": {
   "codemirror_mode": {
    "name": "ipython",
    "version": 3
   },
   "file_extension": ".py",
   "mimetype": "text/x-python",
   "name": "python",
   "nbconvert_exporter": "python",
   "pygments_lexer": "ipython3",
   "version": "3.8.3"
  }
 },
 "nbformat": 4,
 "nbformat_minor": 4
}
