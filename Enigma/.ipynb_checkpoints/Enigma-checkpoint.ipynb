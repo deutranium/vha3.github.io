{
 "cells": [
  {
   "cell_type": "markdown",
   "metadata": {},
   "source": [
    "# Emulating Enigma"
   ]
  },
  {
   "cell_type": "markdown",
   "metadata": {},
   "source": [
    "#### V. Hunter Adams (vha3@cornell.edu)"
   ]
  },
  {
   "cell_type": "markdown",
   "metadata": {},
   "source": [
    "**TLDR**: This webpage gives on overview of the Enigma Machine's design, presents software that emulates an Enigma machine, and then demonstrates running that software on a PIC32 microcontroller to encipher and decipher messages."
   ]
  },
  {
   "cell_type": "code",
   "execution_count": 1,
   "metadata": {},
   "outputs": [
    {
     "data": {
      "text/html": [
       "\n",
       "<style>\n",
       ".output_png {\n",
       "    display: table-cell;\n",
       "    text-align: center;\n",
       "    vertical-align: middle;\n",
       "}\n",
       "</style>\n"
      ],
      "text/plain": [
       "<IPython.core.display.HTML object>"
      ]
     },
     "execution_count": 1,
     "metadata": {},
     "output_type": "execute_result"
    }
   ],
   "source": [
    "import numpy\n",
    "import matplotlib.pyplot as plt\n",
    "from IPython.display import Audio\n",
    "from IPython.display import Image\n",
    "from scipy import signal\n",
    "from scipy.fft import fftshift\n",
    "from scipy.io import wavfile\n",
    "plt.rcParams['figure.figsize'] = [12, 3]\n",
    "from IPython.core.display import HTML\n",
    "HTML(\"\"\"\n",
    "<style>\n",
    ".output_png {\n",
    "    display: table-cell;\n",
    "    text-align: center;\n",
    "    vertical-align: middle;\n",
    "}\n",
    "</style>\n",
    "\"\"\")"
   ]
  },
  {
   "cell_type": "code",
   "execution_count": 2,
   "metadata": {},
   "outputs": [
    {
     "data": {
      "text/html": [
       "<script>\n",
       "code_show=true; \n",
       "function code_toggle() {\n",
       " if (code_show){\n",
       " $('div.input').hide();\n",
       " } else {\n",
       " $('div.input').show();\n",
       " }\n",
       " code_show = !code_show\n",
       "} \n",
       "$( document ).ready(code_toggle);\n",
       "</script>\n",
       "<form action=\"javascript:code_toggle()\"><input type=\"submit\" value=\"Click here to toggle on/off the raw code.\"></form>"
      ],
      "text/plain": [
       "<IPython.core.display.HTML object>"
      ]
     },
     "execution_count": 2,
     "metadata": {},
     "output_type": "execute_result"
    }
   ],
   "source": [
    "HTML('''<script>\n",
    "code_show=true; \n",
    "function code_toggle() {\n",
    " if (code_show){\n",
    " $('div.input').hide();\n",
    " } else {\n",
    " $('div.input').show();\n",
    " }\n",
    " code_show = !code_show\n",
    "} \n",
    "$( document ).ready(code_toggle);\n",
    "</script>\n",
    "<form action=\"javascript:code_toggle()\"><input type=\"submit\" value=\"Click here to toggle on/off the raw code.\"></form>''')"
   ]
  },
  {
   "cell_type": "markdown",
   "metadata": {},
   "source": [
    "## Webpage table of contents"
   ]
  },
  {
   "cell_type": "markdown",
   "metadata": {},
   "source": [
    "> - [Background and Introduction](#Background-and-Introduction)\n",
    "> - [The Enigma Design](#The-Enigma-Design)\n",
    "> > - [Overview](#Overview)\n",
    "> > - [Steckerboard](#The-Steckerboard)\n",
    "> > - [Rotors](#The-Rotors)\n",
    "> > - [Umkehrwalze](#The-Umkehrwalze)\n",
    "> - [Using the Enigma](#Using-the-Enigma)\n",
    "> > - [Enciphering](#Enciphering)\n",
    "> > - [Deciphering](#Deciphering)\n",
    "> - [Emulating the Enigma in C](#Emulating-the-Enigma-in-C)\n",
    "> - [Enigma on the PIC32](#Enigma-on-the-PIC32)\n",
    "> - [Resources](#Resources)"
   ]
  },
  {
   "cell_type": "markdown",
   "metadata": {},
   "source": [
    "## Background and Introduction"
   ]
  },
  {
   "cell_type": "markdown",
   "metadata": {},
   "source": [
    "The Enigma machine is an interesting example of historical, high-stakes, geopolitical electrical engineering. It is a rotary-electric enciphering machine that can be used to convert a string of readable plaintext into a string of garbled ciphertext. It was invented by a German engineer, Arthur Scherbius, shortly after WWI. A number of governments adapted the Enigma for encoding their communications, but it was used most famously and extensively by Nazi Germany.\n",
    "\n",
    "A string of plaintext typed into an Enigma machine became a string of ciphertext. This ciphertext could only be translated back into plaintext by someone else that also had an Enigma machine, and that knew how to configure the Enigma machine to decipher that particular message. If an Enigma machine were setup with the wrong configurations, a string of ciphertext would just produce more garbled nonsense. The security of the device came from the number of possible configurations. The device was constructed such that there were over $1.07 \\times 10^{23}$ possible configurations. Of these, *only one* would translate the ciphertext into readable plaintext. With this number of configurations, even if you could test one configuration every *millisecond*, it would take longer than the age of the universe to exhaustively search every configuration. And furthermore, these configurations would change every day. For these reasons, the Germans believed Enigma to be unbreakable. German military strategy going into WWII involved very fast tactics, which needed to be coordinated over radio. The Germans knew that these radio transmissions would be intercepted, so they encoded the transmissions using Enigma machines.\n",
    "\n",
    "It turns out that the Enigma had a fatal flaw which would be exploited, enabling Allied codebreakers at Bletchley Park and elsewhere to build a machine that could crack Enigma every day. The effort to crack Enigma is famously known as Project ULTRA, and the machine that they built to crack it is the Bombe. The Bombe is arguably one of the most historically impactful machines that has ever been built. But that's the subject of a separate discussion."
   ]
  },
  {
   "cell_type": "markdown",
   "metadata": {},
   "source": [
    "## The Enigma Design"
   ]
  },
  {
   "cell_type": "markdown",
   "metadata": {},
   "source": [
    "#### Overview"
   ]
  },
  {
   "cell_type": "markdown",
   "metadata": {},
   "source": [
    "Superficially, the Enigma machine looks a lot like a typewriter. It features a familiar-looking keyboard on top, but with some additional components that are best understood by looking the schematic. I borrowed this schematic from Graham Ellsbury's website, which is linked [here](http://www.ellsbury.com/enigma2.htm) and referenced below.\n",
    "\n",
    "Just above the keyboard in the picture on below, you can see three rows of what appear to be lightbulbs. This is the lampboard, and underneath each of those lightbulbs was a letter of the alphabet (26 bulbs for 26 letters). When an operator pressed a key on the keyboard, an electrical circuit would be closed to cause one of the lights on the lampboard to illuminate. This would be the enciphered character for that key entry. The user would then press another key, and some other (or, possibly, the same) lamp would illuminate, giving them the next character in the cipher.\n",
    "\n",
    "The Enigma was incredibly difficult to crack for two reasons:\n",
    "\n",
    "1. The specific circuits that connected key entries to lampboard outputs depended on the configuration of the steckerboard and rotors (each of which will be discussed momentarily), of which there were *way* too many to exhaustively search, and which changed from day to day.\n",
    "2. The internal circuitry changed *with every keypress*. The rotors inside the Enigma machine would rotate each time the user pressed a key, completely changing the internal circuitry. So, if a user keyed the string `AAAAA` into the machine, they would not get a string of 5 of the same characters back out. I setup the emulator with some arbitary configurations and keyed in `AAAAA`. The machine returned the cipher `RBUEL.`"
   ]
  },
  {
   "cell_type": "markdown",
   "metadata": {},
   "source": [
    "<figure>\n",
    "    <img align=\"center\" width=\"40%\" height=\"200\" src=\"Enigma.jpg\" alt='missing' />\n",
    "    <center><figcaption>Photograph of an Enigma machine.</figcaption>\n",
    "</figure>"
   ]
  },
  {
   "cell_type": "markdown",
   "metadata": {},
   "source": [
    "<figure>\n",
    "    <img align=\"center\" width=\"40%\" height=\"200\" src=\"schem.png\" alt='missing' />\n",
    "    <center><figcaption>Enigma machine internal schematic.</figcaption>\n",
    "</figure>"
   ]
  },
  {
   "cell_type": "markdown",
   "metadata": {},
   "source": [
    "#### The Steckerboard"
   ]
  },
  {
   "cell_type": "markdown",
   "metadata": {},
   "source": [
    "On the front of the Enigma, you can see a bunch of sockets, some of which are connected to one another by pluggable wires. This is called the \"steckerboard\" (also called the \"plugboard\"). It is reconfigurable, and it maps a particular key to some other key before sending it through the rest of the internal circuitry of the device. In the schematic shown on the right, the keyboard is represented by the 26 wires entering on the right side of the diagram. Each of these wires passes through the steckerboard. Depending how the steckerboard is configured, a particular key might get mapped to a different key. In the diagram, for example, the steckerboard maps \"A\" (the top wire) to \"E\" (the fifth wire) as shown below.\n",
    "\n",
    "An operator would make 10 connections on the steckerboard. That is to say, 10 letters would be mapped to other letters by the steckerboard. The remaining 6 letters would be mapped to themselves, like \"B\" in the diagram above.\n",
    "\n",
    "*A critical flaw* of the Enigma machine is that this steckerboard is reciprocal. If the steckerboard maps \"A\" to \"E\", then it also maps \"E\" to \"A\". The reciprocal nature of the steckerboard is not required for the Enigma machine to work, but it is a feature which was exploited by Turing and others to crack the ciphers."
   ]
  },
  {
   "cell_type": "markdown",
   "metadata": {},
   "source": [
    "<figure>\n",
    "    <img align=\"center\" width=\"60%\" height=\"200\" src=\"one.png\" alt='missing' />\n",
    "    <center><figcaption>Steckerboard mapping.</figcaption>\n",
    "</figure>"
   ]
  },
  {
   "cell_type": "markdown",
   "metadata": {},
   "source": [
    "#### The Rotors"
   ]
  },
  {
   "cell_type": "markdown",
   "metadata": {},
   "source": [
    "Electrical current would then pass through three rotors. Like the stecker, each of these rotors would map a particular input wire (representing a character) to an output wire (representing another character). Unlike the steckerboard, the internal connections of these rotors were not reconfigurable. However, they could be placed in the machine in any order, and there were more than 3 rotors from which to choose. So, part of the configuration of the Enigma involved putting the correct 3 rotors into the machine, in the correct order, and in the correct orientation.\n",
    "\n",
    "To further comlicate things, each of these rotors *rotated*. The right rotor would move one step every time a key was pressed. The middle motor would move one step every time the right rotor completed a full rotation, and the left rotor would move one step every time the middle rotor completed a full rotation. This meant that repeated inputs did not yield repeated outputs. The internal circuitry of the Enigma *changed with every keypress.* This is illustrated in the diagrams below, which show the path through the stecker and rotors taken by two sequential presses of 'A'. After the first press, the right rotor moves one step."
   ]
  },
  {
   "cell_type": "markdown",
   "metadata": {},
   "source": [
    "<figure>\n",
    "    <img align=\"center\" width=\"60%\" height=\"200\" src=\"two.png\" alt='missing' />\n",
    "    <center><figcaption>First keypress</figcaption>\n",
    "</figure>"
   ]
  },
  {
   "cell_type": "markdown",
   "metadata": {},
   "source": [
    "<figure>\n",
    "    <img align=\"center\" width=\"60%\" height=\"200\" src=\"three.png\" alt='missing' />\n",
    "    <center><figcaption>Second kepress.</figcaption>\n",
    "</figure>"
   ]
  },
  {
   "cell_type": "markdown",
   "metadata": {},
   "source": [
    "#### The Umkehrwalze"
   ]
  },
  {
   "cell_type": "markdown",
   "metadata": {},
   "source": [
    "The Umkerhwalze sat to the left of the left (slowest) rotor. This was a static device which acted simply like a collection of 13 wires. Each wire connected two of its input pins, so that current flowing in one pin would be reflected back out another pin. This reflected current would then make its way back through the rotors and stecker, as shown in the diagrams below."
   ]
  },
  {
   "cell_type": "markdown",
   "metadata": {},
   "source": [
    "<figure>\n",
    "    <img align=\"center\" width=\"60%\" height=\"200\" src=\"four.png\" alt='missing' />\n",
    "    <center><figcaption>First keypress maps 'A' to 'N'.</figcaption>\n",
    "</figure>"
   ]
  },
  {
   "cell_type": "markdown",
   "metadata": {},
   "source": [
    "<figure>\n",
    "    <img align=\"center\" width=\"60%\" height=\"200\" src=\"five.png\" alt='missing' />\n",
    "    <center><figcaption>Second keypress maps 'A' to 'D'.</figcaption>\n",
    "</figure>"
   ]
  },
  {
   "cell_type": "markdown",
   "metadata": {},
   "source": [
    "**NOTE**: From the above diagram, the reciprocal nature of the Enigma is apparent. You can see that, for the first keypress, pressing 'N' would have yielded 'A' lampboard output. In the second keypress, pressing 'D' would have yielded 'A' lampboard output. So, if the recipient of a message setup their machine correctly, they could simply key in the cyphertext and the Enigma would output the plaintext message."
   ]
  },
  {
   "cell_type": "markdown",
   "metadata": {},
   "source": [
    "## Using the Enigma"
   ]
  },
  {
   "cell_type": "markdown",
   "metadata": {},
   "source": [
    "The procedure for enciphering and deciphering a message is written out here. It is also demonstrated in the video at the end of this webpage."
   ]
  },
  {
   "cell_type": "markdown",
   "metadata": {},
   "source": [
    "#### Enciphering"
   ]
  },
  {
   "cell_type": "markdown",
   "metadata": {},
   "source": [
    "1. The Enigma operator consults their provided codebook, and configures the steckerboard and rotors in accordance with that date's specifications.\n",
    "2. The operator consults their codebook, and rotates the rotors to the correct *indicator setting*. The indicator setting tells the operator which characters on each rotor should be rotated to be facing directly upward.\n",
    "3. The operator then thinks up a random 3-character sequence that they will use to encipher their message. They code this sequence into the Enigma, and they write down the output sequence. For example, the operator may decide to encipher their message using the sequence `EVN`. They would key `EVN` into the Enigma and some other sequence, perhaps `SDK` would be output from the Enigma. The operator would take note of the sequence `SDK`. In this example, `EVN` is the \"message setting\" and `SDK` is the \"enciphered message setting.\"\n",
    "4. The operator would then rotate the rotors in the machine so that their chosen message setting, `EVN`, was facing directly upward. The machine is now ready for enciphering.\n",
    "5. The operator would key the plaintext into the machine, and record the ciphertext. For example, they may key in `HELLOWORLD` and it would be enciphered to `ONENUUNPOX`.\n",
    "6. The operator would then send *both* the enciphered message setting, and the enciphered message."
   ]
  },
  {
   "cell_type": "markdown",
   "metadata": {},
   "source": [
    "#### Deciphering"
   ]
  },
  {
   "cell_type": "markdown",
   "metadata": {},
   "source": [
    "1. The receiving Enigma operator would have the same codebook in their posession as the sender, and would configure their Enigma machine in accordance to that date's specifications (which would be exactly the same as those that the sender used).\n",
    "2. The operator would then key in the enciphered message setting `SDK`. Because of the reciprocal nature of the Enigma, this would output `EVN`, the message setting that the sender used to encode their message.\n",
    "3. The operator would then rotate the rotors in the machine so that the deciphered message setting, `EVN`, was facing directly upward. The machine is now ready for deciphering.\n",
    "4. The operator would key the ciphertext into the machine, and write down the plaintext returned by the machine. In this example, the operator would key in `ONENUUNPOX` and the machine would output `HELLOWORLD`."
   ]
  },
  {
   "cell_type": "markdown",
   "metadata": {},
   "source": [
    "Note that the Enigma did not support spaces, punctuation, or lower case letters. The character `X` was sometimes used to represent a space, if there was any ambiguity."
   ]
  },
  {
   "cell_type": "markdown",
   "metadata": {},
   "source": [
    "## Emulating the Enigma in C"
   ]
  },
  {
   "cell_type": "markdown",
   "metadata": {},
   "source": [
    "The C-code below emulates an Enigma machine. The stecker settings, rotor connections, and umkehrwalze settings are hardcoded in the code, but can be reconfigured by the user through the command line. When run, the code will ask the user for the rotor settings (i.e. the indicator or message settings). It then asks the user for a message, which it enciphers. This code will both encipher and decipher messages. Build with `gcc eof.c -o eof`."
   ]
  },
  {
   "cell_type": "markdown",
   "metadata": {},
   "source": [
    "This code takes advantage of the fact that the ASCII codes for the characters A-Z are sequential. ASCII `A` is 65, ASII `B` is 66, etc. to ASCII `Z` which is 90. So, we can emulate the mapping from character to character that is done by the stecker, rotors, and umkehrwalze by adding and subtracting from the ASCII representations for each character (being careful to wrap at `Z` back to `A`)."
   ]
  },
  {
   "cell_type": "markdown",
   "metadata": {},
   "source": [
    "```c\n",
    "//\n",
    "// C emulator for an Enigma Machine with 3 rotors\n",
    "// Hunter Adams (vha3@cornell.edu)\n",
    "//\n",
    "// gcc eof.c -o eof\n",
    "// \n",
    "#include <stdio.h>\n",
    "#include <string.h>\n",
    "// EXAMPLE SETTINGS FROM DIAGRAM FOUND ONLINE\n",
    "// stecker: EBFJACUIHDLKMTOPRQXNGVZSYW - Arbitrary (though must be reciprocal)\n",
    "// rotor 1: EKMFLGDQVZNTOWYHXUSPAIBRCJ - ROTOR I from online\n",
    "// rotor 2: AJDKSIRUXBLHWTMCQGZNPYFVOE - ROTOR II from online\n",
    "// rotor 3: BDFHJLCPRTXVZNYEIWGAKMUSQO - ROTOR III from online\n",
    "// umkehrw: YRUHQSLDPXNGOKMIEBFZCWVJAT - Non-rotatable Umkehrwalze B from online\n",
    "char STECKER [27]  = {4,0,3,6,22,23,14,1,25,20,1,25,0,6,0,0,1,25,5,20,12,0,3,21,0,23,0};\n",
    "char ROTOR1  [27]  = {4,9,10,2,7,1,23,9,13,16,3,8,2,9,10,18,7,3,0,22,6,13,5,20,4,10,0};\n",
    "char ROTOR2  [27]  = {0,8,1,7,14,3,11,13,15,18,1,22,10,6,24,13,0,15,7,20,21,3,9,24,16,5,0};\n",
    "char ROTOR3  [27]  = {1,2,3,4,5,6,22,8,9,10,13,10,13,0,10,15,18,5,14,7,16,17,24,21,18,15,0};\n",
    "char UMKEHR  [27]  = {24,16,18,4,12,13,5,22,7,14,3,21,2,23,24,19,14,10,13,6,8,1,25,12,2,20,0};\n",
    "// variables to hold rotor positions\n",
    "volatile int count1, count2, count3 ;\n",
    "// Maximum size of the message that can be encoded (in character)\n",
    "#define MAXINPUT 60\n",
    "\n",
    "// sets rotor positions\n",
    "void setRotor() {\n",
    "\tchar value [5] ;\n",
    "\tprintf(\"\\nInput rotor positions (e.g. RNF): \") ;\n",
    "\tscanf(\"%s\", value) ;\n",
    "\tcount3=(value[0] - 'A');\n",
    "\tcount2=(value[1] - 'A');\n",
    "\tcount1=(value[2] - 'A');\n",
    "}\n",
    "\n",
    "// allows custom configuration of stecker, rotors, or umkehrwalze\n",
    "void setElement(int classifier) {\n",
    "\tchar peg = 'A' ;\n",
    "\tchar c[27] ;\n",
    "\tchar temp [27] ;\n",
    "\tint i ;\n",
    "\n",
    "\tswitch (classifier)\n",
    "\t{\n",
    "\t\tcase 0: \n",
    "\t\t\tprintf(\"\\nInput stecker table: \\n\") ;\n",
    "\t\t\tbreak ;\n",
    "\t\tcase 1: \n",
    "\t\t\tprintf(\"\\nInput rotor 1 table: \\n\") ;\n",
    "\t\t\tbreak;\n",
    "\t\tcase 2: \n",
    "\t\t\tprintf(\"\\nInput rotor 2 table: \\n\") ;\n",
    "\t\t\tbreak;\n",
    "\t\tcase 3: \n",
    "\t\t\tprintf(\"\\nInput rotor 3 table: \\n\") ;\n",
    "\t\t\tbreak;\n",
    "\t\tcase 4: \n",
    "\t\t\tprintf(\"\\nInput umkehrwalze table: \\n\") ;\n",
    "\t\t\tbreak;\n",
    "\t\tdefault: printf(\"Invalid\") ;\n",
    "\t}\n",
    "\tscanf(\"%s\", c) ;\n",
    "\n",
    "\twhile (peg <= 'Z') {\n",
    "\t\tint value = c[peg - 'A'] - peg ;\n",
    "\t\tif (value<0) value += ('Z' - 'A' + 1) ;\n",
    "\n",
    "\t\tswitch (classifier)\n",
    "\t\t{\n",
    "\t\t\tcase 0: \n",
    "\t\t\t\tSTECKER[peg-'A'] = value; \n",
    "\t\t\t\tbreak;\n",
    "\t\t\tcase 1: \n",
    "\t\t\t\tROTOR1[peg-'A'] = value; \n",
    "\t\t\t\tbreak;\n",
    "\t\t\tcase 2: \n",
    "\t\t\t\tROTOR2[peg-'A'] = value; \n",
    "\t\t\t\tbreak;\n",
    "\t\t\tcase 3: \n",
    "\t\t\t\tROTOR3[peg-'A'] = value; \n",
    "\t\t\t\tbreak;\n",
    "\t\t\tcase 4: \n",
    "\t\t\t\tUMKEHR[peg-'A'] = value; \n",
    "\t\t\t\tbreak;\n",
    "\t\t\tdefault: \n",
    "\t\t\t\tprintf(\"Invalid\"); break; \n",
    "\t\t}\n",
    "\t\tpeg += 1 ;\n",
    "\t}\n",
    "\n",
    "\tswitch (classifier)\n",
    "\t\t{\n",
    "\t\t\tcase 0:\n",
    "\t\t\t\tprintf(\"Stecker settings: \\n\") ;\n",
    "\t\t\t\tfor (i=0; i<27; i++) {\n",
    "\t\t\t\t\tprintf(\"%d \", STECKER[i]) ;\n",
    "\t\t\t\t} \n",
    "\t\t\t\tbreak;\n",
    "\t\t\tcase 1: \n",
    "\t\t\t\tprintf(\"Rotor 1 settings: \\n\") ;\n",
    "\t\t\t\tfor (i=0; i<27; i++) {\n",
    "\t\t\t\t\tprintf(\"%d \", ROTOR1[i]) ;\n",
    "\t\t\t\t} \n",
    "\t\t\t\tbreak;\n",
    "\t\t\tcase 2: \n",
    "\t\t\t\tprintf(\"Rotor 2 settings: \\n\") ;\n",
    "\t\t\t\tfor (i=0; i<27; i++) {\n",
    "\t\t\t\t\tprintf(\"%d \", ROTOR2[i]) ;\n",
    "\t\t\t\t} \n",
    "\t\t\t\tbreak;\n",
    "\t\t\tcase 3: \n",
    "\t\t\t\tprintf(\"Rotor 3 settings: \\n\") ;\n",
    "\t\t\t\tfor (i=0; i<27; i++) {\n",
    "\t\t\t\t\tprintf(\"%d \", ROTOR3[i]) ;\n",
    "\t\t\t\t} \n",
    "\t\t\t\tbreak;\n",
    "\t\t\tcase 4: \n",
    "\t\t\t\tprintf(\"Umkehrwalze settings: \\n\") ;\n",
    "\t\t\t\tfor (i=0; i<27; i++) {\n",
    "\t\t\t\t\tprintf(\"%d \", UMKEHR[i]) ;\n",
    "\t\t\t\t} \n",
    "\t\t\t\tbreak;\n",
    "\t\t\tdefault: \n",
    "\t\t\t\tprintf(\"Invalid\"); break; \n",
    "\t\t}\n",
    "}\n",
    "\n",
    "char forwardElement(char Element [27], char input, int countval) {\n",
    "\t// Get the index\n",
    "\tint index = input - 'A' + countval;\n",
    "\t// Make sure the index wraps at 25\n",
    "\tif (index>25) index = (index%26);\n",
    "\t// Update the character value with value at that index\n",
    "\tchar output = (input + Element[index]);\n",
    "\t// Range check for values above Z, wrap to A\n",
    "\tif (output>90) output=((output%('Z'+1))+'A');\n",
    "\t// Return value\n",
    "\treturn output ;\n",
    "}\n",
    "\n",
    "\n",
    "char reverseElement(char Element [27], char output, int countval) {\n",
    "\t// Start at char value 1 below A, outval 0, index 0\n",
    "\tchar testval = 'A'-1 ;\n",
    "\tchar outval = '0' ;\n",
    "\tint index = 0 ;\n",
    "\t// While the output value does not equal the desired output value\n",
    "\twhile (outval != output) {\n",
    "\t\t// Increment the test character\n",
    "\t\ttestval += 1 ;\n",
    "\t\t// Get the index of the character\n",
    "\t\tindex = testval - 'A' + countval;\n",
    "\t\t// Make sure the index wraps at 25\n",
    "\t\tif (index>25) index = (index%26);\n",
    "\t\t// Update the test output value with the value at that index\n",
    "\t\toutval = (testval + Element[index]) ;\n",
    "\t\t// Range check for values above Z, wrap to A\n",
    "\t\tif (outval>90) outval=((outval%('Z'+1)) + 'A') ;\n",
    "\t}\n",
    "\t// Return the character that yielded desired output\n",
    "\treturn testval ;\n",
    "}\n",
    "\n",
    "\n",
    "int main() {\n",
    "\tchar c;\n",
    "\tchar user_in[MAXINPUT] ;\n",
    "\tchar user_out[MAXINPUT] ;\n",
    "\tint i ;\n",
    "\tprintf(\"\\n\\nAt any time, press 'r' to set rotor configurations and 't' for a total reconfig.\\n\\n\");\n",
    "\t\n",
    "\tsetRotor() ;\n",
    "\t// Wait for keyboard entry\n",
    "\tprintf(\"\\nInput value (all caps no spaces): \");\n",
    "\twhile(1) {\n",
    "\t\t// Get input\n",
    "\t\tscanf(\"%s\", user_in) ;\n",
    "\t\tmemset(user_out, 0, MAXINPUT) ;\n",
    "\t\tint j = 0 ;\n",
    "\t\t// Grab first character\n",
    "\t\tc = '0' ;\n",
    "\t\twhile (j<strlen(user_in)) {\t\n",
    "\t\t\tc = user_in[j] ;\t\n",
    "\t\t\tif (c=='\\r') break ;\n",
    "\t\t\telse if (c=='r') setRotor() ;\n",
    "\t\t\telse if (c=='t') {\n",
    "\t\t\t\tsetElement(0);\n",
    "\t\t\t\tsetElement(1);\n",
    "\t\t\t\tsetElement(2);\n",
    "\t\t\t\tsetElement(3);\n",
    "\t\t\t\tsetElement(4);\n",
    "\t\t\t\tsetRotor() ;\n",
    "\t\t\t}\n",
    "\t\t\telse {\n",
    "\t\t\t\t// COMMENT-IN THE PRINT STATEMENTS BELOW TO SEE\n",
    "\t\t\t\t// THE VALUE THAT IS ATTAINED IN EACH STEP OF THE\n",
    "\t\t\t\t// ENCODING CIRCUIT\n",
    "\t\t\t\t//\n",
    "\t\t\t\t// printf(\"\\nInput value: %c\", c);\n",
    "\t\t\t\t// Forward stecker\n",
    "\t\t\t\tchar value2 = forwardElement(STECKER, c, 0) ;\n",
    "\t\t\t\t// printf(\"\\nStecked value: \"); putchar(value2) ;\n",
    "\t\t\t\t// Forward rotor 1\n",
    "\t\t\t\tchar value3 = forwardElement(ROTOR1, value2, count1) ;\n",
    "\t\t\t\t// printf(\"\\nRotorized value 1: \"); putchar(value3) ;\n",
    "\t\t\t\t// Forward rotor 2\n",
    "\t\t\t\tchar value4 = forwardElement(ROTOR2, value3, count2) ;\n",
    "\t\t\t\t// printf(\"\\nRotorized value 2: \"); putchar(value4) ;\n",
    "\t\t\t\t// Forward rotor 3\n",
    "\t\t\t\tchar value5 = forwardElement(ROTOR3, value4, count3) ;\n",
    "\t\t\t\t// printf(\"\\nRotorized value 3: \"); putchar(value5) ;\n",
    "\t\t\t\t// Umkehrwalze\n",
    "\t\t\t\tchar value6 = forwardElement(UMKEHR, value5, 0) ;\n",
    "\t\t\t\t// printf(\"\\nUmkehrwalze value: \"); putchar(value6) ;\n",
    "\n",
    "\t\t\t\t// print the rotor count1\n",
    "\t\t\t\t// printf(\"\\nRotor count1: %d\", count1) ;\n",
    "\t\t\t\t// print the rotor count2\n",
    "\t\t\t\t// printf(\"\\nRotor count2: %d\", count2) ;\n",
    "\t\t\t\t// print the rotor count3\n",
    "\t\t\t\t// printf(\"\\nRotor count3: %d\", count3) ;\n",
    "\n",
    "\t\t\t\t// Reverse Rotor 3\n",
    "\t\t\t\tchar value7 = reverseElement(ROTOR3, value6, count3) ;\n",
    "\t\t\t\t// printf(\"\\nRev. rotor value 3: \"); putchar(value7) ;\n",
    "\t\t\t\t// Reverse Rotor 2\n",
    "\t\t\t\tchar value8 = reverseElement(ROTOR2, value7, count2) ;\n",
    "\t\t\t\t// printf(\"\\nRev. rotor value 2: \"); putchar(value8) ;\n",
    "\t\t\t\t// Reverse Rotor 1\n",
    "\t\t\t\tchar value9 = reverseElement(ROTOR1, value8, count1) ;\n",
    "\t\t\t\t// printf(\"\\nRev. rotor value 1: \"); putchar(value9) ;\n",
    "\t\t\t\t// Reverse stecker\n",
    "\t\t\t\tchar value10 = reverseElement(STECKER, value9, 0) ;\n",
    "\t\t\t\t// printf(\"\\nStecker Output: \"); putchar(value10) ;\n",
    "\n",
    "\t\t\t\tuser_out[j] = value10 ;\n",
    "\n",
    "\t\t\t\t// Iterate the rotor counters\n",
    "\t\t\t\tcount1 = ((count1+1) % 26) ;\n",
    "\t\t\t\tif (count1==0) count2 = ((count2+1)%26) ;\n",
    "\t\t\t\tif ((count1==0)&&(count2==0)) count3 = ((count3+1)%26) ;\n",
    "\t\t\t}\n",
    "\t\t\tj += 1 ;\n",
    "\t\t}\n",
    "\n",
    "\t\tprintf(\"\\n\\n%s\\n\\n\", user_out) ;\n",
    "\n",
    "\t\t// Get a new input value\n",
    "\t\tprintf(\"\\n\\nInput value (all caps no spaces): \");\n",
    "\t}\n",
    "}\n",
    "```"
   ]
  },
  {
   "cell_type": "markdown",
   "metadata": {},
   "source": [
    "## Enigma on the PIC32"
   ]
  },
  {
   "cell_type": "markdown",
   "metadata": {},
   "source": [
    "I ported the above C code to the PIC32 microcontroller, and setup a Python user interface that somewhat simulates the experience of using a physical Enigma. The video below shows a demonstration of enciphering and deciphering a message."
   ]
  },
  {
   "cell_type": "markdown",
   "metadata": {},
   "source": [
    "**Note**: Please email me for the PIC32 code. I may use this as a laboratory assignment in a class, so I'm not posting the code here."
   ]
  },
  {
   "cell_type": "markdown",
   "metadata": {},
   "source": [
    "<iframe width=\"560\" height=\"315\" src=\"https://www.youtube.com/embed/sWtfeFgEFp8\" frameborder=\"0\" allow=\"accelerometer; autoplay; clipboard-write; encrypted-media; gyroscope; picture-in-picture\" allowfullscreen></iframe>"
   ]
  },
  {
   "cell_type": "markdown",
   "metadata": {},
   "source": [
    "## Resources"
   ]
  },
  {
   "cell_type": "markdown",
   "metadata": {},
   "source": [
    "1. http://www.ellsbury.com/enigmabombe.htm\n",
    "2. https://en.wikipedia.org/wiki/Enigma_machine"
   ]
  },
  {
   "cell_type": "code",
   "execution_count": null,
   "metadata": {},
   "outputs": [],
   "source": []
  }
 ],
 "metadata": {
  "kernelspec": {
   "display_name": "Python 3",
   "language": "python",
   "name": "python3"
  },
  "language_info": {
   "codemirror_mode": {
    "name": "ipython",
    "version": 3
   },
   "file_extension": ".py",
   "mimetype": "text/x-python",
   "name": "python",
   "nbconvert_exporter": "python",
   "pygments_lexer": "ipython3",
   "version": "3.8.3"
  }
 },
 "nbformat": 4,
 "nbformat_minor": 4
}
