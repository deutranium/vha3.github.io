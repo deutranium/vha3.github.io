{
 "cells": [
  {
   "cell_type": "markdown",
   "metadata": {},
   "source": [
    "# ECE 4760 Student Projects\n",
    "#### V. Hunter Adams (vha3@cornell.edu)\n",
    "\n",
    "**Note**: This webpage contains all of the student projects that have taken place since Hunter has started teaching ECE 4760. For a list of all final projects back to 1999, see [here](https://people.ece.cornell.edu/land/courses/ece4760/FinalProjects/)."
   ]
  },
  {
   "cell_type": "markdown",
   "metadata": {},
   "source": [
    "## Fall 2021\n",
    "\n",
    "1. [PIC32 Julia Set Generator](https://www.youtube.com/watch?v=tT1Sn5RRZRE&list=PLDqMkB5cbBA7F_Rn8Jfj8CVBKGlAzMNA3&index=4)\n",
    "2. [Miniature Arcade Game Collection](https://www.youtube.com/watch?v=iMMObodAq6w&list=PLDqMkB5cbBA7F_Rn8Jfj8CVBKGlAzMNA3&index=11)\n",
    "4. [Rubot Rubik's Cube Solver](https://www.youtube.com/watch?v=T0dVkuvo1BQ&list=PLDqMkB5cbBA7F_Rn8Jfj8CVBKGlAzMNA3&index=2&t=1s)\n",
    "5. [Spatial Audio Map](https://www.youtube.com/watch?v=VflrSeTrtwU&list=PLDqMkB5cbBA7F_Rn8Jfj8CVBKGlAzMNA3&index=1&t=2s)\n",
    "6. [Dancing Boids](https://www.youtube.com/watch?v=JeOyFD1bl5E&list=PLDqMkB5cbBA7F_Rn8Jfj8CVBKGlAzMNA3&index=5&t=501s)\n",
    "7. [Boids, Predators, Joysticks, and Friends](https://www.youtube.com/watch?v=21zihxc1kVw&list=PLDqMkB5cbBA7F_Rn8Jfj8CVBKGlAzMNA3&index=24)\n",
    "8. [DMA Graphics with Single Frame Buffer](https://www.youtube.com/watch?v=k3AoW8BKXMA&list=PLDqMkB5cbBA7F_Rn8Jfj8CVBKGlAzMNA3&index=9&t=2s)\n",
    "9. [WoodPlay](https://www.youtube.com/watch?v=B6NUn7oAcpY&list=PLDqMkB5cbBA7F_Rn8Jfj8CVBKGlAzMNA3&index=13)\n",
    "10. [Two-Player Boids Game with Laser Pointer Controllers](https://www.youtube.com/watch?v=74xEWukxtVg&list=PLDqMkB5cbBA7F_Rn8Jfj8CVBKGlAzMNA3&index=16&t=1s)\n",
    "11. [Game of Life Sandbox](https://www.youtube.com/watch?v=KZ1KyEwHKZY&list=PLDqMkB5cbBA7F_Rn8Jfj8CVBKGlAzMNA3&index=14)\n",
    "12. [Glove-Controlled Tilt Maze](https://www.youtube.com/watch?v=BMPZlYkbvtk&list=PLDqMkB5cbBA7F_Rn8Jfj8CVBKGlAzMNA3&index=18&t=1s)\n",
    "13. [Whack-a-Button](https://www.youtube.com/watch?v=nP4J_TS0IKg&list=PLDqMkB5cbBA7F_Rn8Jfj8CVBKGlAzMNA3&index=17&t=1s)\n",
    "14. [Sunrise Alarm Clock](https://www.youtube.com/watch?v=yrVHVQojadI&list=PLDqMkB5cbBA7F_Rn8Jfj8CVBKGlAzMNA3&index=6)\n",
    "15. [High-Bandwidth, Low-Latency Communication with SPI Devices](https://www.youtube.com/watch?v=EnL8gttUbmg&list=PLDqMkB5cbBA7F_Rn8Jfj8CVBKGlAzMNA3&index=20&t=3s)\n",
    "16. [LED Amusement Park](https://www.youtube.com/watch?v=-2II7Y3TdYU&list=PLDqMkB5cbBA7F_Rn8Jfj8CVBKGlAzMNA3&index=8&t=1s)\n",
    "17. [One Pedal to Rule Them All](https://www.youtube.com/watch?v=UL1ZJhQVSd0&list=PLDqMkB5cbBA7F_Rn8Jfj8CVBKGlAzMNA3&index=12)\n",
    "18. [TKButtons](https://www.youtube.com/watch?v=_s16Ll9Dj_A&list=PLDqMkB5cbBA7F_Rn8Jfj8CVBKGlAzMNA3&index=10&t=31s)\n",
    "19. [Remote Control Tank](https://www.youtube.com/watch?v=GjJ3Wrl3ZTQ&list=PLDqMkB5cbBA7F_Rn8Jfj8CVBKGlAzMNA3&index=23&t=1s)\n",
    "20. [Play-Along Keyboard](https://www.youtube.com/watch?v=4yE1_7Ef0uY&list=PLDqMkB5cbBA7F_Rn8Jfj8CVBKGlAzMNA3&index=3&t=1s)\n",
    "21. [PIC32 Boom Box](https://www.youtube.com/watch?v=LlqETmVYjvI&list=PLDqMkB5cbBA7F_Rn8Jfj8CVBKGlAzMNA3&index=15)\n",
    "22. [Oscilloscope Music](https://www.youtube.com/watch?v=_1qdSzosE68&list=PLDqMkB5cbBA7F_Rn8Jfj8CVBKGlAzMNA3&index=22&t=1032s)\n",
    "23. [Enigma Machine](https://www.youtube.com/watch?v=YPvVB9XXHsw&list=PLDqMkB5cbBA7F_Rn8Jfj8CVBKGlAzMNA3&index=21&t=1s)\n",
    "24. [Cat-Bot](https://www.youtube.com/watch?v=1CcHTHXVe5w&list=PLDqMkB5cbBA7F_Rn8Jfj8CVBKGlAzMNA3&index=7&t=1s)"
   ]
  },
  {
   "cell_type": "markdown",
   "metadata": {},
   "source": [
    "## Spring 2021 - Remote learning semester\n",
    "\n",
    "1. [PIC32 Realtime Network Audio](https://www.youtube.com/watch?v=bwNfyrPR6RA&list=PLDqMkB5cbBA7F_Rn8Jfj8CVBKGlAzMNA3&index=31)\n",
    "2. [PicChess](https://www.youtube.com/watch?v=pG-H4LrpY90&list=PLDqMkB5cbBA7F_Rn8Jfj8CVBKGlAzMNA3&index=26)\n",
    "3. [Speech Vocoder](https://www.youtube.com/watch?v=1AhtMpd-_o0&list=PLDqMkB5cbBA7F_Rn8Jfj8CVBKGlAzMNA3&index=25&t=4s)\n",
    "4. [Maze Game](https://www.youtube.com/watch?v=x9-ofhwU_Wc&list=PLDqMkB5cbBA7F_Rn8Jfj8CVBKGlAzMNA3&index=34&t=2s)\n",
    "5. [Karaoke Robot Judge](https://www.youtube.com/watch?v=lrC2Q3I92iE&list=PLDqMkB5cbBA7F_Rn8Jfj8CVBKGlAzMNA3&index=35&t=493s)\n",
    "6. [Ms. PIC-Man](https://www.youtube.com/watch?v=oEFAjAwt9dw&list=PLDqMkB5cbBA7F_Rn8Jfj8CVBKGlAzMNA3&index=32)\n",
    "7. [Sight via Sound](https://www.youtube.com/watch?v=2B_LJx3konw&list=PLDqMkB5cbBA7F_Rn8Jfj8CVBKGlAzMNA3&index=33)\n",
    "8. [Co-Op Virtual Reality Maze Game](https://www.youtube.com/watch?v=3lw3BM_ad_0&list=PLDqMkB5cbBA7F_Rn8Jfj8CVBKGlAzMNA3&index=28&t=1009s)\n",
    "9. [TFTanks](https://www.youtube.com/watch?v=XasOpWB5hGg&list=PLDqMkB5cbBA7F_Rn8Jfj8CVBKGlAzMNA3&index=30)\n",
    "10. [Voice-controlled Dino Game](https://www.youtube.com/watch?v=O5_BQlLSv90&list=PLDqMkB5cbBA7F_Rn8Jfj8CVBKGlAzMNA3&index=36&t=3s)\n",
    "11. [Spy Robot](https://www.youtube.com/watch?v=mwJAvcA9KmY&list=PLDqMkB5cbBA7F_Rn8Jfj8CVBKGlAzMNA3&index=29)\n",
    "12. [Markov-Chain Music Synthesizer](https://www.youtube.com/watch?v=lj2vdetZiGM&list=PLDqMkB5cbBA7F_Rn8Jfj8CVBKGlAzMNA3&index=27&t=2s)\n",
    "13. PIC-Based Audio Coupling and Encryption"
   ]
  },
  {
   "cell_type": "markdown",
   "metadata": {},
   "source": [
    "***"
   ]
  }
 ],
 "metadata": {
  "kernelspec": {
   "display_name": "Python 3",
   "language": "python",
   "name": "python3"
  },
  "language_info": {
   "codemirror_mode": {
    "name": "ipython",
    "version": 3
   },
   "file_extension": ".py",
   "mimetype": "text/x-python",
   "name": "python",
   "nbconvert_exporter": "python",
   "pygments_lexer": "ipython3",
   "version": "3.8.3"
  }
 },
 "nbformat": 4,
 "nbformat_minor": 4
}
