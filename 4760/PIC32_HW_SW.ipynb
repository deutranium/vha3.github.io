{
 "cells": [
  {
   "cell_type": "markdown",
   "metadata": {},
   "source": [
    "# Hardware and Software Setup for PIC32\n",
    "#### V. Hunter Adams (vha3@cornell.edu)"
   ]
  },
  {
   "cell_type": "markdown",
   "metadata": {},
   "source": [
    "## Hardware\n",
    "\n",
    "The *Big Board* which you will be using features a [port expander](http://people.ece.cornell.edu/land/courses/ece4760/PIC32/Microchip_stuff/port_expander.pdf), [DAC](http://www.microchip.com/wwwproducts/en/MCP4822), TFT header-socket, programming header-plug, and power supply. See the [construction page](http://people.ece.cornell.edu/land/courses/ece4760/PIC32/target_board.html) for specific code examples of each device on the big board. The connections from the PIC32 to the various peripherals is determined by the construction of the board. The list is repeated here.\n",
    "\n",
    "#### PIC32 i/o pins used on the big board, sorted by port number\n",
    "\n",
    "Any pin can be recovered for general use by unplugging the device that uses the pin (of course, if you're doing this lab remotely, you will not be able to unplug these devices). SPI chip select ports have jumpers to unplug.\n",
    "\n",
    "`RA0 on-board LED. Active high.`<br>\n",
    "`RA1 Uart2 RX signal, if serial is turned on in protothreads 1_2_2`<br>\n",
    "`RA2 port expander intZ`<br>\n",
    "`RA3 port expander intY` <br>\n",
    "`RA4 PortExpander SPI MISO`<br>\n",
    "`-----` <br>\n",
    "`RB0 TFT D/C` <br>\n",
    "`RB1 TFT-LCD SPI chip select (can be disconnected/changed)`<br>\n",
    "`RB2 TFT reset` <br>\n",
    "`RB4 DAC SPI chip select (can be disconnected/changed)`<br>\n",
    "`RB5 DAC/PortExpander SPI MOSI` <br>\n",
    "`RB6 !!! Does not exist on this package!!! (silk screen should read Vbus)` <br>\n",
    "`RB9 Port Expander SPI chip select (can be disconnected/changed)`<br>\n",
    "`RB10 Uart2 TX signal, if serial is turned on in protothreads 1_2_2`<br>\n",
    "`RB11 TFT SPI MOSI` <br>\n",
    "`RB12 !!! Does not exist on this package!!! (silk screen should read Vusb3.3)`<br> \n",
    "`RB14 TFT SPI Sclock` <br>\n",
    "`RB15 DAC/PortExpander SPI Sclock`\n",
    "\n",
    "But note the few silk-screen errors on the board.\n",
    "\n",
    "**SECABB version 2 silk screen errors.** (fixed on version 2.1)\n",
    "\n",
    "- Edge connector pin marked RB6 -- RB6 does not exist on this package! Silk screen should read Vusb.\n",
    "- Edge connector marked RB12 -- RB12 does not exist on this package! Silk screen should read Vusb3.3\n",
    "- LED D1 outline -- Silk screen should have flat side should be oriented toward PIC32"
   ]
  },
  {
   "cell_type": "markdown",
   "metadata": {},
   "source": [
    "***"
   ]
  },
  {
   "cell_type": "markdown",
   "metadata": {},
   "source": [
    "## Software\n",
    "\n",
    "Software you will use is freely downloadable and consists of:\n",
    "\n",
    "- [MPLABX](http://www.microchip.com/pagehandler/en-us/family/mplabx/) version 3.05 (see the *Downloads Archive*)\n",
    "- [XC32](http://www.microchip.com/mplab/compilers) compiler version 1.40 (see the *Downloads Archive*)\n",
    "- [plib](http://www.microchip.com/mplab/compilers) (near bottom of page choose *Downloads --> Scroll to bottom)\n",
    "\n",
    "(All of this is already installed on the lab PC's). More information can be found at the links below.\n",
    "\n",
    "- [Getting started with PIC32](http://ww1.microchip.com/downloads/en/DeviceDoc/61146B.pdf)\n",
    "- [MPLABX IDE users guide](http://ww1.microchip.com/downloads/en/DeviceDoc/50002027E.pdf)\n",
    "- [32 bit peripherals library](http://people.ece.cornell.edu/land/courses/ece4760/PIC32/Microchip_stuff/32-bit-Peripheral-Library-Guide.pdf) -- [PLIB examples](http://people.ece.cornell.edu/land/courses/ece4760/PIC32/PLIB_examples/plib_examples/)\n",
    "- [32 bit language tools and libraries](http://ww1.microchip.com/downloads/en/DeviceDoc/51685E.pdf) including C libraries, DSB, and debugging tools\n",
    "- [XC32 Compiler Users Guide](http://people.ece.cornell.edu/land/courses/ece4760/PIC32/Microchip_stuff/mplab-xc32-users-guide.pdf)\n",
    "- [PIC32MX2xx datasheet](http://people.ece.cornell.edu/land/courses/ece4760/PIC32/Microchip_stuff/2xx_datasheet.pdf) -- [Errata](http://people.ece.cornell.edu/land/courses/ece4760/PIC32/Microchip_stuff/Erata_PIC32MX.pdf)\n",
    "- [MicrostickII pinout](http://people.ece.cornell.edu/land/courses/ece4760/PIC32/Microchip_stuff/Microstick_pinput.pdf)\n",
    "- [PIC32MX250 configuration options](http://people.ece.cornell.edu/land/courses/ece4760/PIC32/Microchip_stuff/32mx250f128b.html)\n",
    "> - JTAG enable overrides pins 13, 14, and 15\n",
    "> - Primary oscillator enable overrides pins 9 and 10\n",
    "> - Secondary oscillator enable overrides pins 11 and 12\n",
    "- [PIC32 reference manual](http://hades.mech.northwestern.edu/images/2/21/61132B_PIC32ReferenceManual.pdf)\n",
    "> - This is **huge**, better to go to the [PIC32 page](http://www.microchip.com/pagehandler/en-us/family/32bit/) then Documentation --> Reference Manual and choose the section\n",
    "- **Specific pages from the PIC32 datasheet**\n",
    "> - PIC32MX250F128B [PDIP pinout](http://people.ece.cornell.edu/land/courses/ece4760/PIC32/Microchip_stuff/PIC32MX250F128B_pinput.PNG) by pin\n",
    "> - PIC32MX250F128B:: **Signal Names** $\\rightarrow$ **Pins**::[1](http://people.ece.cornell.edu/land/courses/ece4760/PIC32/Microchip_stuff/Pinput_name_table_1_1_1.PNG), [2](http://people.ece.cornell.edu/land/courses/ece4760/PIC32/Microchip_stuff/Pinput_name_table_1_1_2.PNG), [3](http://people.ece.cornell.edu/land/courses/ece4760/PIC32/Microchip_stuff/Pinput_name_table_1_1_3.PNG), [4](http://people.ece.cornell.edu/land/courses/ece4760/PIC32/Microchip_stuff/Pinput_name_table_1_1_4.PNG), [5](http://people.ece.cornell.edu/land/courses/ece4760/PIC32/Microchip_stuff/Pinput_name_table_1_1_5.PNG), [6](http://people.ece.cornell.edu/land/courses/ece4760/PIC32/Microchip_stuff/Pinput_name_table_1_1_6.PNG), [7](http://people.ece.cornell.edu/land/courses/ece4760/PIC32/Microchip_stuff/Pinput_name_table_1_1_7.PNG) PDIP highlighted in green (for **PPS** see next tables)\n",
    "> - PIC32MX250F128B [Peripheral Pin Select (PPS) input table](http://people.ece.cornell.edu/land/courses/ece4760/PIC32/Microchip_stuff/PPS_inputs_table_11_1.PNG)\n",
    "> > - Example: UART receive pin ::: specify PPS group, signal, logical pin name<br> `PPSInput(2, U2RX, RPB11);`<br> `// Assign U2RX to pin RPB11 - Physical pin 22 on 28 PDIP`\n",
    "> - PIC32MX250F128B [Peripheral Pin Select (PPS) output table](http://people.ece.cornell.edu/land/courses/ece4760/PIC32/Microchip_stuff/PPS_outputs_table11_2.PNG)\n",
    "> > - Example: UART transmit pin ::: specify PPS group, logical pin name, signal<br> `PPSOutput(4, RPB10, U2TX);`<br> `// Assign U2TX to pin RPB10 - Physical pin 21 on 28 PDIP`\n",
    "\n",
    "Oscilloscope software:\n",
    "\n",
    "- See [this webpage](https://people.ece.cornell.edu/land/courses/ece4760/PIC32/index_remote.html)"
   ]
  },
  {
   "cell_type": "markdown",
   "metadata": {},
   "source": [
    "***"
   ]
  },
  {
   "cell_type": "markdown",
   "metadata": {},
   "source": [
    "## Programmer\n",
    "\n",
    "#### PicKit3\n",
    "\n",
    "[Here is the pinout](http://people.ece.cornell.edu/land/courses/ece4760/PIC32/Microchip_stuff/pickit3_connections.PNG) for the [PICKIT3](http://people.ece.cornell.edu/land/courses/ece4760/PIC32/Microchip_stuff/pickit3_users_guide.pdf), the programmer which was used to develop the boards you will be using. On both the big and small boards, J1 marks pin1 of the 6-pin ICSP header.\n",
    "\n",
    "| Signal | PICkit3 (ICSP)<br>connector on board |\n",
    "| :- | :-:|\n",
    "| MCLR | 1 |\n",
    "|ground| 3 | \n",
    "|prog data (PGD) | 4 |\n",
    "|prog clock (PGC) | 5 |"
   ]
  },
  {
   "cell_type": "markdown",
   "metadata": {},
   "source": [
    "***"
   ]
  }
 ],
 "metadata": {
  "kernelspec": {
   "display_name": "Python 3",
   "language": "python",
   "name": "python3"
  },
  "language_info": {
   "codemirror_mode": {
    "name": "ipython",
    "version": 3
   },
   "file_extension": ".py",
   "mimetype": "text/x-python",
   "name": "python",
   "nbconvert_exporter": "python",
   "pygments_lexer": "ipython3",
   "version": "3.8.3"
  }
 },
 "nbformat": 4,
 "nbformat_minor": 4
}
