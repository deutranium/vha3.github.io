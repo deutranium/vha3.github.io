{
 "cells": [
  {
   "cell_type": "markdown",
   "metadata": {},
   "source": [
    "# Audio Spectrogram"
   ]
  },
  {
   "cell_type": "markdown",
   "metadata": {},
   "source": [
    "#### ECE 4760, Spring 2021, Adams/Land"
   ]
  },
  {
   "cell_type": "code",
   "execution_count": 3,
   "metadata": {},
   "outputs": [
    {
     "data": {
      "text/html": [
       "<script>\n",
       "code_show=true; \n",
       "function code_toggle() {\n",
       " if (code_show){\n",
       " $('div.input').hide();\n",
       " } else {\n",
       " $('div.input').show();\n",
       " }\n",
       " code_show = !code_show\n",
       "} \n",
       "$( document ).ready(code_toggle);\n",
       "</script>\n",
       "<form action=\"javascript:code_toggle()\"><input type=\"submit\" value=\"Click here to toggle on/off the raw code.\"></form>"
      ],
      "text/plain": [
       "<IPython.core.display.HTML object>"
      ]
     },
     "execution_count": 3,
     "metadata": {},
     "output_type": "execute_result"
    }
   ],
   "source": [
    "HTML('''<script>\n",
    "code_show=true; \n",
    "function code_toggle() {\n",
    " if (code_show){\n",
    " $('div.input').hide();\n",
    " } else {\n",
    " $('div.input').show();\n",
    " }\n",
    " code_show = !code_show\n",
    "} \n",
    "$( document ).ready(code_toggle);\n",
    "</script>\n",
    "<form action=\"javascript:code_toggle()\"><input type=\"submit\" value=\"Click here to toggle on/off the raw code.\"></form>''')"
   ]
  },
  {
   "cell_type": "code",
   "execution_count": 2,
   "metadata": {},
   "outputs": [
    {
     "data": {
      "text/html": [
       "\n",
       "<style>\n",
       ".output_png {\n",
       "    display: table-cell;\n",
       "    text-align: center;\n",
       "    vertical-align: middle;\n",
       "}\n",
       "</style>\n"
      ],
      "text/plain": [
       "<IPython.core.display.HTML object>"
      ]
     },
     "execution_count": 2,
     "metadata": {},
     "output_type": "execute_result"
    }
   ],
   "source": [
    "import numpy\n",
    "import matplotlib.pyplot as plt\n",
    "from IPython.display import Audio\n",
    "from IPython.display import Image\n",
    "from scipy import signal\n",
    "from scipy.fft import fftshift\n",
    "from scipy.io import wavfile\n",
    "plt.rcParams['figure.figsize'] = [12, 3]\n",
    "from IPython.core.display import HTML\n",
    "HTML(\"\"\"\n",
    "<style>\n",
    ".output_png {\n",
    "    display: table-cell;\n",
    "    text-align: center;\n",
    "    vertical-align: middle;\n",
    "}\n",
    "</style>\n",
    "\"\"\")"
   ]
  },
  {
   "cell_type": "markdown",
   "metadata": {},
   "source": [
    "## Webpage table of contents"
   ]
  },
  {
   "cell_type": "markdown",
   "metadata": {},
   "source": [
    "> - [Background and Introduction](#Background-and-Introduction)\n",
    "> - [Mathematical Considerations](#Mathematical-Considerations)\n",
    "> > - [Nyquist sampling](#Nyquist-sampling)\n",
    "> > - [The FFT](#The-FFT)\n",
    "> > - [Hann window](#Hann-window)\n",
    "> > - [Alpha Max Beta Min Algorithm](#Alpha-Max-Beta-Min-Algorithm)\n",
    "> - [Hardware](#Hardware)\n",
    "> > - [Biased high-pass filter](#Biased-high-pass-filter)\n",
    "> > - [Connection to PIC32](#Connections-to-PIC32)\n",
    "> - [Program Organization](#Program-organization)\n",
    "> - [Weekly checkpoints and lab report](#Weekly-checkpoints-and-lab-report)\n",
    "> > - [Week one checkpoint](#Week-one-required-checkpoint)\n",
    "> > - [Week two checkpoint](#Week-two-assignment)\n",
    "> > - [Lab report](#Lab-report)\n",
    "> - [Example videos](#Examples-of-working-system)"
   ]
  },
  {
   "cell_type": "markdown",
   "metadata": {},
   "source": [
    "## Background and Introduction"
   ]
  },
  {
   "cell_type": "markdown",
   "metadata": {},
   "source": [
    "In this lab, we will create a realtime audio [spectrogram](https://en.wikipedia.org/wiki/Spectrogram). A spectrogram provides a visual time-history for the frequency content of a signal. They are extremely interesting in that they provide us with a way to *look at sounds* (and other signals) in a way that our brains can comprehend."
   ]
  },
  {
   "cell_type": "markdown",
   "metadata": {},
   "source": [
    "We will use an ADC on the PIC32 to sample an audio signal (your own voice, your favorite song, animal calls, etc.), the PIC32 will compute the FFT for that signal, and the output will be displayed on the TFT. In particular, you will associate each pixel in a row or column of the TFT display to a particular range of frequencies, and you will color the pixels in that row according to the magnitude of the FFT output at those frequencies. By coloring each row/column sequentially, you create a visual time history for the frequencies contained in that audio signal. See the example immediately below, and the rest of the examples at the end of this webpage."
   ]
  },
  {
   "cell_type": "markdown",
   "metadata": {},
   "source": [
    "Through a Python user interface, the user may specify the range of frequencies that he/she would like represented on the spectrogram, and the PIC32 will change the sample rate in order to achieve that range of frequencies. It will also redraw the axis labels shown on the left side of the TFT display in the two examples below. ECE 5730 students are asked to also allow the user to choose between linear and logarithmic colorization schemes."
   ]
  },
  {
   "cell_type": "markdown",
   "metadata": {},
   "source": [
    "<iframe width=\"560\" height=\"315\" src=\"https://www.youtube.com/embed/ViF0CJ4XnYc\" frameborder=\"0\" allow=\"accelerometer; autoplay; clipboard-write; encrypted-media; gyroscope; picture-in-picture\" allowfullscreen></iframe>"
   ]
  },
  {
   "cell_type": "markdown",
   "metadata": {},
   "source": [
    "## Mathematical Considerations"
   ]
  },
  {
   "cell_type": "markdown",
   "metadata": {},
   "source": [
    "#### Nyquist sampling"
   ]
  },
  {
   "cell_type": "markdown",
   "metadata": {},
   "source": [
    "Sound is fundamentally continuous. We will use the ADC to discretely sample this continous signal. The rate at which we sample the audio determines the frequencies which we can recover for our spectrogram. The faster we sample, the higher the frequencies that we can recover."
   ]
  },
  {
   "cell_type": "markdown",
   "metadata": {},
   "source": [
    "This is rigorously described by the [Nyquist-Shannon sampling theorem](https://en.wikipedia.org/wiki/Nyquist–Shannon_sampling_theorem), which, to quote the first line of the linked Wikipedia article, \"acts as the fundamental bridge between continous-time signals and discrete-time signals.\" It states that one must sample a continuous signal at $2B$ hertz in order to recover frequencies as high as $B$ Hz. So, if you want to represent frequencies as high as 5kHz in your spectrogram, you must sample the audio signal at *at least* 10kHz. You will use the Nyquist-Shannon sampling theorem to build your interrupt timer (i.e. how many CPU cycles should there be between ADC samples?)."
   ]
  },
  {
   "cell_type": "markdown",
   "metadata": {},
   "source": [
    "#### The FFT"
   ]
  },
  {
   "cell_type": "markdown",
   "metadata": {},
   "source": [
    "We would like to convert a discrete-time audio signal of a finite number of points, $N$, to a discrete number of $N$ frequency signals. In order to accomplish this, we will compute the [Discrete Fourier Transform (DFT)](https://en.wikipedia.org/wiki/Discrete_Fourier_transform) of the audio samples. Note that these samples are purely real-valued."
   ]
  },
  {
   "cell_type": "markdown",
   "metadata": {},
   "source": [
    "In particular, we are going to compute the [Fast Fourier Transform (FFT)](https://en.wikipedia.org/wiki/Fast_Fourier_transform) of the audio signal. The linked wikipedia article provides extensive background on these algorithms. You needn't code this from scratch. [This example code](https://people.ece.cornell.edu/land/courses/ece4760/PIC32/FFT_TFT_spectrum/TFT_FFT_ADC.c) includes an FFTfix function which computes the FFT of two fixed-point input arrays. This particular example uses `fix14`. Below is a listing of the same function using the `_Accum` datatype which is a part of the `stdfix`. This is a fixed-point data type that is understood by the compiler, so you can use multiplication operators as usual and the compiler will know to apply fixed-point multiplication. Otherwise, as shown in the linked example code, you will need to write your own fixed-point multipliers. That's not difficult, just something to remember."
   ]
  },
  {
   "cell_type": "markdown",
   "metadata": {},
   "source": [
    "```c\n",
    "void FFTfix(_Accum fr[], _Accum fi[], int m)\n",
    "//Adapted from code by:\n",
    "//Tom Roberts 11/8/89 and Malcolm Slaney 12/15/94 malcolm@interval.com\n",
    "//fr[n],fi[n] are real,imaginary arrays, INPUT AND RESULT.\n",
    "//size of data = 2**m\n",
    "// This routine does foward transform only\n",
    "begin\n",
    "    int mr,nn,i,j,L,k,istep, n;\n",
    "    _Accum qr,qi,tr,ti,wr,wi;\n",
    "\n",
    "    mr = 0;\n",
    "    n = 1<<m;   //number of points\n",
    "    nn = n - 1;\n",
    "\n",
    "    /* decimation in time - re-order data */\n",
    "    for(m=1; m<=nn; ++m)\n",
    "    begin\n",
    "        L = n;\n",
    "        do L >>= 1; while(mr+L > nn);\n",
    "        mr = (mr & (L-1)) + L;\n",
    "        if(mr <= m) continue;\n",
    "        tr = fr[m];\n",
    "        fr[m] = fr[mr];\n",
    "        fr[mr] = tr;\n",
    "        //ti = fi[m];   //for real inputs, don't need this\n",
    "        //fi[m] = fi[mr];\n",
    "        //fi[mr] = ti;\n",
    "    end\n",
    "\n",
    "    L = 1;\n",
    "    k = LOG2_N_WAVE-1;\n",
    "    while(L < n)\n",
    "    begin\n",
    "        istep = L << 1;\n",
    "        for(m=0; m<L; ++m)\n",
    "        begin\n",
    "            j = m << k;\n",
    "            wr =  Sinewave[j+N_WAVE/4];\n",
    "            wi = -Sinewave[j];\n",
    "            //wr >>= 1; do need if scale table\n",
    "            //wi >>= 1;\n",
    "\n",
    "            for(i=m; i<n; i+=istep)\n",
    "            begin\n",
    "                j = i + L;\n",
    "                tr = (wr*fr[j]) - (wi*fi[j]);\n",
    "                ti = (wr*fi[j]) + (wi*fr[j]);\n",
    "                qr = fr[i] >> 1;\n",
    "                qi = fi[i] >> 1;\n",
    "                fr[j] = qr - tr;\n",
    "                fi[j] = qi - ti;\n",
    "                fr[i] = qr + tr;\n",
    "                fi[i] = qi + ti;\n",
    "            end\n",
    "        end\n",
    "        --k;\n",
    "        L = istep;\n",
    "    end\n",
    "end\n",
    "```"
   ]
  },
  {
   "cell_type": "markdown",
   "metadata": {},
   "source": [
    "#### Hann window"
   ]
  },
  {
   "cell_type": "markdown",
   "metadata": {},
   "source": [
    "Before computing the FFT, we must apply a [window function](https://en.wikipedia.org/wiki/Window_function#Symmetry) to the sampled audio data. The FFT assumes that the signal on which it is operating is periodic over the entire sampling window. This is, of course, not the case. If we were to blindly apply the FFT to our raw audio samples, we'd find that we would get significant high-frequency components in the output of our FFT."
   ]
  },
  {
   "cell_type": "markdown",
   "metadata": {},
   "source": [
    "The solution is to apply a window function. There are lots of these, many of which are listed in the wikipedia article linked directly above, and each of which with different frequency characteristics. A nice choice is a Hann window, given by the equation below:"
   ]
  },
  {
   "cell_type": "markdown",
   "metadata": {},
   "source": [
    "\\begin{align}\n",
    "w[n] = 0.5\\left[1 - \\cos{\\frac{2\\pi n}{N}}\\right]\n",
    "\\end{align}"
   ]
  },
  {
   "cell_type": "markdown",
   "metadata": {},
   "source": [
    "where $N$ is the number of samples in the window (a power of 2), and $n\\leq N$ is the particular index in that window. So, for a 512-sample window, this equation looks like the following:"
   ]
  },
  {
   "cell_type": "markdown",
   "metadata": {},
   "source": [
    "\\begin{align}\n",
    "w[n] = 0.5\\left[1 - \\cos{\\frac{2\\pi n}{512}}\\right]\n",
    "\\end{align}"
   ]
  },
  {
   "cell_type": "markdown",
   "metadata": {},
   "source": [
    "After we gather 512 audio samples, which multiply each sample by the corresponding value in the Hann window *before* performing the FFT algorithm. This zeros the samples at the extremes of the array, making the signal periodic over the sample window. Here's what this looks like visually."
   ]
  },
  {
   "cell_type": "markdown",
   "metadata": {},
   "source": [
    "Suppose we start with these raw audio samples:"
   ]
  },
  {
   "cell_type": "code",
   "execution_count": 6,
   "metadata": {},
   "outputs": [
    {
     "data": {
      "image/png": "[encoded data removed]",
      "text/plain": [
       "<Figure size 864x216 with 1 Axes>"
      ]
     },
     "metadata": {
      "needs_background": "light"
     },
     "output_type": "display_data"
    }
   ],
   "source": [
    "raw =   (numpy.sin((2*numpy.pi*numpy.linspace(0, 511, 512))/45) +\n",
    "         numpy.sin((2*numpy.pi*numpy.linspace(0, 511, 512))/223)  +\n",
    "         numpy.sin((2*numpy.pi*numpy.linspace(0, 511, 512))/61) + 2.5)*0.7\n",
    "plt.plot(raw)\n",
    "plt.title('Raw Audio')\n",
    "plt.xlabel('Sample number')\n",
    "plt.ylabel('Amplitude')\n",
    "plt.show()"
   ]
  },
  {
   "cell_type": "markdown",
   "metadata": {},
   "source": [
    "We multiply each raw sample by the corresponding sample in the Hann window:"
   ]
  },
  {
   "cell_type": "code",
   "execution_count": 7,
   "metadata": {},
   "outputs": [
    {
     "data": {
      "image/png": "[encoded data removed]",
      "text/plain": [
       "<Figure size 864x216 with 1 Axes>"
      ]
     },
     "metadata": {
      "needs_background": "light"
     },
     "output_type": "display_data"
    }
   ],
   "source": [
    "Hann = 0.5*(1-numpy.cos((2*numpy.pi*numpy.linspace(0, 511, 512))/512))\n",
    "plt.plot(Hann)\n",
    "plt.title('Hann window');\n",
    "plt.xlabel('Sample number')\n",
    "plt.ylabel('Amplitude')\n",
    "plt.show()"
   ]
  },
  {
   "cell_type": "markdown",
   "metadata": {},
   "source": [
    "And the result looks like this:"
   ]
  },
  {
   "cell_type": "code",
   "execution_count": 8,
   "metadata": {},
   "outputs": [
    {
     "data": {
      "image/png": "[encoded data removed]",
      "text/plain": [
       "<Figure size 864x216 with 1 Axes>"
      ]
     },
     "metadata": {
      "needs_background": "light"
     },
     "output_type": "display_data"
    }
   ],
   "source": [
    "plt.plot(Hann*raw)\n",
    "plt.title('Windowed audio samples')\n",
    "plt.xlabel('Sample number')\n",
    "plt.ylabel('Amplitude')\n",
    "plt.show()"
   ]
  },
  {
   "cell_type": "markdown",
   "metadata": {},
   "source": [
    "#### Alpha Max Beta Min Algorithm"
   ]
  },
  {
   "cell_type": "markdown",
   "metadata": {},
   "source": [
    "The output from the FFT is a collection of complex numbers that have both real parts and imaginary parts. In the spectrogram, we just want to display information related to the *magnitude* of these complex numbers. To compute this value precisely, we would compute the square root of the sum of squares of the real/imaginary parts of each complex number. This, however, is computationally expensive. The [alpha max beta min algorithm](https://en.wikipedia.org/wiki/Alpha_max_plus_beta_min_algorithm) provides a shortcut which is accurate to within about 4% (good enough for us) and is less expensive."
   ]
  },
  {
   "cell_type": "markdown",
   "metadata": {},
   "source": [
    "`|amplitude| = max(|Re|, |Im|) + 0.4*min(|Re|, |Im|)`"
   ]
  },
  {
   "cell_type": "markdown",
   "metadata": {},
   "source": [
    "## Hardware"
   ]
  },
  {
   "cell_type": "markdown",
   "metadata": {},
   "source": [
    "#### Biased high-pass filter"
   ]
  },
  {
   "cell_type": "markdown",
   "metadata": {},
   "source": [
    "The audio output voltage is in the range -2V to 2V. We must bias/scale this to the range 0-3.3V for sampling by the ADC. We can do this with a biasing high-pass filter as shown below."
   ]
  },
  {
   "cell_type": "markdown",
   "metadata": {},
   "source": [
    "<figure>\n",
    "    <img align=\"center\" width=\"400\" height=\"200\" src=\"highpass.png\" alt='missing' />\n",
    "    <center><figcaption>Biased high-pass filter to shift audio input.</figcaption></center>\n",
    "</figure>"
   ]
  },
  {
   "cell_type": "markdown",
   "metadata": {},
   "source": [
    "**Note**: If you aren't seeing anything on your spectrogram, check the audio input with the oscilloscope. Make sure the volume isn't turned down."
   ]
  },
  {
   "cell_type": "markdown",
   "metadata": {},
   "source": [
    "#### Connections to PIC32"
   ]
  },
  {
   "cell_type": "markdown",
   "metadata": {},
   "source": [
    "- **Serial**: serial default for protothreads (1.3.2) uses pins: <br>\n",
    "`PPSInput(2, U2RX, RPA1)`<br>\n",
    "`PPSOutput(4, RPB10, U2TX)`<br>\n",
    "*Be sure to uncomment* `#define use_art_serial` *in the config file.*\n",
    "- **ADC**: <br>\n",
    "`SetChanADC10( ADC_CH0_NEG_SAMPLEA_NVREF | ADC_CH0_POS_SAMPLEA_AN11 ); // configure to sample AN11 `\n",
    "- **TFT**: As described on the [Big Board page](http://people.ece.cornell.edu/land/courses/ece4760/PIC32/target_board.html)"
   ]
  },
  {
   "cell_type": "markdown",
   "metadata": {},
   "source": [
    "## Program organization"
   ]
  },
  {
   "cell_type": "markdown",
   "metadata": {},
   "source": [
    "Here is a suggestion for how to organize your program:"
   ]
  },
  {
   "cell_type": "markdown",
   "metadata": {},
   "source": [
    "- **Protothreads** maintains the ISR-driven, millisecond-scale timing as part of the supplied system. Use this for all low-precision timing (can have several milliseconds jitter).\n",
    "- **ADC ISR** uses a timer interrupt to ensure the exact sample rate that is required for the user-specified frequency range.\n",
    "> - Gathers an audio sample from the ADC ([fixed-point of some variety](http://people.ece.cornell.edu/land/courses/ece4760/PIC32/index_fixed_point.html), either `_Accum` or something custom, like `fix14`)\n",
    "> - Scales the sample with a [Hann window](https://en.wikipedia.org/wiki/Window_function#Hann_and_Hamming_windows)\n",
    "> - Stores that scaled sample in an array 512 elements long\n",
    "> - Signals when the array is full, then waits for a signal to start refilling\n",
    "- **Main** sets up peripherals and protothreads then just schedules tasks, round-robin\n",
    "> - Opens interrupt timer and configurs interrupt\n",
    "> - Opens and configures ADC\n",
    "> - Initializes TFT display\n",
    "> - Creates sine wave (needed for `FFTfix` function) and the Hann window array\n",
    "> - Sets up protothreads and schedules tasks round-robin\n",
    "- **Python Serial Input Thread [(see here)](https://people.ece.cornell.edu/land/courses/ece4760/PIC32/index_remote.html)**\n",
    "> - Waits for serial command from Python user interface for a new desired max frequency for the spectrogram (an `int`)\n",
    "> - If user input is received, disables the interrupt timer, re-draws frequency axis, re-opens interrupt timer to the necessary rate to achieve user's desired max frequency, re-opens the interrupt timer\n",
    "- **Spectrogram Thread (See example 4 on the [PIC32 DSP Page](https://people.ece.cornell.edu/land/courses/ece4760/PIC32/index_DSP.html) for a place to start)**\n",
    "> - Waits for signal from ADC ISR that sample array is full\n",
    "> - Disables interrupts, then copies sample array into a second array (`_Accum fr[]` input in the FFT function above). `_Accum fi[]`, the other input, will be an array of 0's. This is because our samples are real numbers with no imaginary parts.\n",
    "> - Signals the ISR to start refilling the sample array, then re-enables interrupts\n",
    "> - Performs FFT by calling `FFTfix` function\n",
    "> - Computes magnitude of FFT using the [alpha max beta min algorithm](https://en.wikipedia.org/wiki/Alpha_max_plus_beta_min_algorithm). Note that you need only do this for the first half of the real/imaginary output arrays from the FFT since, for purely real-valued signals, the FFT output is perfectly mirrored across the $\\frac{N}{2}$ point in the discrete Fourier Transform.\n",
    "> - Draws spectrogram using the log of computed amplitudes, and prints the frequency with the maximum amplitude"
   ]
  },
  {
   "cell_type": "markdown",
   "metadata": {},
   "source": [
    "## Weekly checkpoints and lab report"
   ]
  },
  {
   "cell_type": "markdown",
   "metadata": {},
   "source": [
    "Note that these checkpoints are **cumulative.** In week 2, for example, you must have also completed all of the requirements from week 1."
   ]
  },
  {
   "cell_type": "markdown",
   "metadata": {},
   "source": [
    "#### Week one required checkpoint"
   ]
  },
  {
   "cell_type": "markdown",
   "metadata": {},
   "source": [
    "By the end of lab section in week one you must have:"
   ]
  },
  {
   "cell_type": "markdown",
   "metadata": {},
   "source": [
    "- Using [this code](https://people.ece.cornell.edu/land/courses/ece4760/PIC32/FFT_TFT_spectrum/TFT_FFT_ADC.c) as a starting point, get a spectrogram displaying on the TFT display that properly redraws itself when it reaches the end of the display (like an oscilloscope). I recommend the colorization scheme given below.\n",
    "- Test your spectrogram using an online tone generator like [this one](https://www.szynalski.com/tone-generator/)\n",
    "- Compute and display the maximum frequency\n",
    "- *Finishing a checkpoint does NOT mean you can leave lab early!*"
   ]
  },
  {
   "cell_type": "markdown",
   "metadata": {},
   "source": [
    "#### Week two assignment"
   ]
  },
  {
   "cell_type": "markdown",
   "metadata": {},
   "source": [
    "Timing of all functions in this lab, **and in every exercise in this course** will be handled by interrupt-driven counters, not by software wait-loops. ProtoThreads maintains an ISR driven timer for you. This will be enforced because wait-loops are hard to debug and tend to limit multitasking"
   ]
  },
  {
   "cell_type": "markdown",
   "metadata": {},
   "source": [
    "*Write a Protothreads C program which will:*\n",
    "\n",
    "- When the program starts, it begins producing a spectrogram with a range of 0 Hz to 2500 Hz.\n",
    "- The frequency axis will have axis ticks with labels.\n",
    "- The maximum frequency will be displayed on the TFT.\n",
    "- The pixels will be colored according to the *log* of the magnitude of the FFT output. The colorization scheme is up to you, though the spectrograms look nice with black for low magnitude, white for large magnitude, and a gradient of grayscale in between. This are the color choices that I used for the examples on this webpage:<br>\n",
    "<table align=\"left | left\">\n",
    "  <tr>\n",
    "    <th>If Magnitude</th>\n",
    "    <th>Color</th>\n",
    "  </tr>\n",
    "  <tr>\n",
    "    <td>&#60;1</td>\n",
    "    <td>0x0000</td>\n",
    "  </tr>\n",
    "  <tr>\n",
    "    <td>&#60;2</td>\n",
    "    <td>0x2945</td>\n",
    "  </tr>\n",
    "  <tr>\n",
    "    <td>&#60;4</td>\n",
    "    <td>0x4a49</td>\n",
    "  </tr>\n",
    "  <tr>\n",
    "    <td>&#60;8</td>\n",
    "    <td>0x738e</td>\n",
    "  </tr>\n",
    "  <tr>\n",
    "    <td>&#60;16</td>\n",
    "    <td>0x85c1</td>\n",
    "  </tr>\n",
    "  <tr>\n",
    "    <td>&#60;32</td>\n",
    "    <td>0xad55</td>\n",
    "  </tr>\n",
    "  <tr>\n",
    "    <td>&#60;64</td>\n",
    "    <td>0xc638</td>\n",
    "  </tr>\n",
    "  <tr>\n",
    "      <td>else</td>\n",
    "      <td>0xFFFF</td>\n",
    "</table>\n",
    "- As you draw each row/column of pixels, you must have a blank region at least 5 pixels wide in front of the row/column that you are drawing (like an oscilloscope).\n",
    "- When you reach the end of the TFT, start drawing again from the first row/column.\n",
    "- Through a Python UI, the user may specify a new maximum frequency for the spectrogram (perhaps via a slider, as shown below). The program will automatically change the ADC sample rate and redraw the axis labels."
   ]
  },
  {
   "cell_type": "markdown",
   "metadata": {},
   "source": [
    "*Write a Python program which will:*\n",
    "\n",
    "- Enable the user to select the maximum frequency for the spectrogram (perhaps via slider, as shown below)"
   ]
  },
  {
   "cell_type": "markdown",
   "metadata": {},
   "source": [
    "<figure>\n",
    "    <img align=\"center\" width=\"400\" height=\"200\" src=\"ui.PNG\" alt='missing' />\n",
    "    <center><figcaption>Python interface for spectrogram manipulation.</figcaption></center>\n",
    "</figure>"
   ]
  },
  {
   "cell_type": "markdown",
   "metadata": {},
   "source": [
    "*ECE 5730 students*\n",
    "\n",
    "In addition to the objectives listed above, ECE 5730 students must allow the user to select between the above colorization thresholds (logarithmic) and the below colorization thresholds (linear):<br>\n",
    "<table align=\"left | left\">\n",
    "  <tr>\n",
    "    <th>If Magnitude</th>\n",
    "    <th>Color</th>\n",
    "  </tr>\n",
    "  <tr>\n",
    "    <td>&#60;1</td>\n",
    "    <td>0x0000</td>\n",
    "  </tr>\n",
    "  <tr>\n",
    "    <td>&#60;10</td>\n",
    "    <td>0x2945</td>\n",
    "  </tr>\n",
    "  <tr>\n",
    "    <td>&#60;20</td>\n",
    "    <td>0x4a49</td>\n",
    "  </tr>\n",
    "  <tr>\n",
    "    <td>&#60;30</td>\n",
    "    <td>0x738e</td>\n",
    "  </tr>\n",
    "  <tr>\n",
    "    <td>&#60;40</td>\n",
    "    <td>0x85c1</td>\n",
    "  </tr>\n",
    "  <tr>\n",
    "    <td>&#60;50</td>\n",
    "    <td>0xad55</td>\n",
    "  </tr>\n",
    "  <tr>\n",
    "    <td>&#60;60</td>\n",
    "    <td>0xc638</td>\n",
    "  </tr>\n",
    "  <tr>\n",
    "      <td>else</td>\n",
    "      <td>0xFFFF</td>\n",
    "</table>\n",
    "The mechanism by which the user selects these two modes is up to you. You may use a button, a switch, or you may augment the user interface. What is the user interface that you prefer? Why?"
   ]
  },
  {
   "cell_type": "markdown",
   "metadata": {},
   "source": [
    "You will be asked to demo your program with an online pure tone generator like [this one](https://www.szynalski.com/tone-generator/), and with any other audio of your choice. This might be your own voice, a song, animal calls, or anything else you think is interesting. At no time during the demo can you reset or reprogram the MCU."
   ]
  },
  {
   "cell_type": "markdown",
   "metadata": {},
   "source": [
    "#### Lab report"
   ]
  },
  {
   "cell_type": "markdown",
   "metadata": {},
   "source": [
    "Your written lab report should include the sections mentioned in the [policy page](http://people.ece.cornell.edu/land/courses/ece4760/EE4760_policy.html), and:"
   ]
  },
  {
   "cell_type": "markdown",
   "metadata": {},
   "source": [
    "- Photos of your spectrogram, showing at least 2 different frequency ranges\n",
    "- A heavily commented listing of your code"
   ]
  },
  {
   "cell_type": "markdown",
   "metadata": {},
   "source": [
    "## Example of working system"
   ]
  },
  {
   "cell_type": "markdown",
   "metadata": {},
   "source": [
    "<iframe width=\"560\" height=\"315\" src=\"https://www.youtube.com/embed/6yNN2hy6YhI\" frameborder=\"0\" allow=\"accelerometer; autoplay; clipboard-write; encrypted-media; gyroscope; picture-in-picture\" allowfullscreen></iframe>"
   ]
  },
  {
   "cell_type": "markdown",
   "metadata": {},
   "source": [
    "<iframe width=\"560\" height=\"315\" src=\"https://www.youtube.com/embed/5olmUStNbFg\" frameborder=\"0\" allow=\"accelerometer; autoplay; clipboard-write; encrypted-media; gyroscope; picture-in-picture\" allowfullscreen></iframe>"
   ]
  },
  {
   "cell_type": "code",
   "execution_count": null,
   "metadata": {},
   "outputs": [],
   "source": []
  }
 ],
 "metadata": {
  "kernelspec": {
   "display_name": "Python 3",
   "language": "python",
   "name": "python3"
  },
  "language_info": {
   "codemirror_mode": {
    "name": "ipython",
    "version": 3
   },
   "file_extension": ".py",
   "mimetype": "text/x-python",
   "name": "python",
   "nbconvert_exporter": "python",
   "pygments_lexer": "ipython3",
   "version": "3.8.3"
  }
 },
 "nbformat": 4,
 "nbformat_minor": 4
}
