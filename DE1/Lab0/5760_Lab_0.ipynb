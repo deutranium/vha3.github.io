{
 "cells": [
  {
   "cell_type": "markdown",
   "metadata": {},
   "source": [
    "# Lab 0\n",
    "#### ECE 5760, Adams/Land, Spring 2022"
   ]
  },
  {
   "cell_type": "markdown",
   "metadata": {},
   "source": [
    "The purpose of the first lab section is just to get everyone logged into a lab PC. The first two weeks of this semester will be conducted remotely. This means that your first checkoff for lab 1 will be conducted remotely. In order to perform this checkoff, you will need to be able to remotely access the Verilog simulation software (ModelSim) on the lab PC's."
   ]
  },
  {
   "cell_type": "markdown",
   "metadata": {},
   "source": [
    "This is the **only lab of the semester** for which you may leave early if you finish early. This is also the only lab that will be completed individually."
   ]
  },
  {
   "cell_type": "markdown",
   "metadata": {},
   "source": [
    "Lab 0 tasks:\n",
    "> - Access Cornell's VPN\n",
    "> - Establish a Remote Desktop connection to a Lab PC"
   ]
  },
  {
   "cell_type": "markdown",
   "metadata": {},
   "source": [
    "***"
   ]
  },
  {
   "cell_type": "markdown",
   "metadata": {},
   "source": [
    "## Webpage Table of Contents"
   ]
  },
  {
   "cell_type": "markdown",
   "metadata": {},
   "source": [
    "> - [Accessing Cornell's VPN](#Accessing-Cornell's-VPN)\n",
    "> - [Remote Desktop](#Establishing-a-Remote-Desktop-connection-to-a-Lab-PC)\n",
    "> > - [From a PC](#Remote-Desktop-Connection-via-PC)\n",
    "> > - [From a Mac](#Remote-Desktop-Connection-via-Mac)"
   ]
  },
  {
   "cell_type": "markdown",
   "metadata": {},
   "source": [
    "***"
   ]
  },
  {
   "cell_type": "markdown",
   "metadata": {},
   "source": [
    "## Accessing Cornell's VPN"
   ]
  },
  {
   "cell_type": "markdown",
   "metadata": {},
   "source": [
    "Please follow Cornell's guide for setting up and connecting to Cornell's VPN [linked here](https://it.cornell.edu/cuvpn). You will only need to set this up once."
   ]
  },
  {
   "cell_type": "markdown",
   "metadata": {},
   "source": [
    "## Establishing a Remote Desktop connection to a Lab PC"
   ]
  },
  {
   "cell_type": "markdown",
   "metadata": {},
   "source": [
    "There are two sets of instructions below. One for Mac users, and the other for PC users. Accessing the Lab PC's requires permission from CIT. If you are denied access, please let me know so that I can verify that your netid is on the approved list."
   ]
  },
  {
   "cell_type": "markdown",
   "metadata": {},
   "source": [
    "#### Remote Desktop Connection via PC"
   ]
  },
  {
   "cell_type": "markdown",
   "metadata": {},
   "source": [
    "1. Logon to Cornell's VPN using your netid and password\n",
    "2. Open the Remote Desktop Application\n",
    "3. Expand the \"Show Options\" menu as shown below"
   ]
  },
  {
   "cell_type": "markdown",
   "metadata": {},
   "source": [
    "<figure>\n",
    "    <img align=\"center\" width=\"400\" height=\"300\" src=\"five2.PNG\" alt='missing' />\n",
    "</figure>"
   ]
  },
  {
   "cell_type": "markdown",
   "metadata": {},
   "source": [
    "4. Enter the name of your Lab PC (this will be provided to you on the day of the lab, and your group will be assigned a particular PC to use all semsester). The name of the PC will be of the form `en-ec-lph238-`**XX**`.ece.cornell.edu` where **XX** will be the number of your particular PC, different for each group. *Do not log on to a PC that isn't assigned to you.*"
   ]
  },
  {
   "cell_type": "markdown",
   "metadata": {},
   "source": [
    "<figure>\n",
    "    <img align=\"center\" width=\"400\" height=\"300\" src=\"six.PNG\" alt='missing' />\n",
    "</figure>"
   ]
  },
  {
   "cell_type": "markdown",
   "metadata": {},
   "source": [
    "5. Navigate to the \"Local Resources\" tab and click \"Settings\" for Remote audio.\n",
    "6. Make sure the Remote audio settings are configured as shown below."
   ]
  },
  {
   "cell_type": "markdown",
   "metadata": {},
   "source": [
    "<figure>\n",
    "    <img align=\"center\" width=\"400\" height=\"300\" src=\"eight.PNG\" alt='missing' />\n",
    "</figure>"
   ]
  },
  {
   "cell_type": "markdown",
   "metadata": {},
   "source": [
    "7. Click \"Ok\" and then \"Connect.\" Login with your netid and password.\n",
    "8. The warning message shown below may open. If so, just click \"Yes\" to connect to the PC."
   ]
  },
  {
   "cell_type": "markdown",
   "metadata": {},
   "source": [
    "<figure>\n",
    "    <img align=\"center\" width=\"400\" height=\"300\" src=\"ten.PNG\" alt='missing' />\n",
    "</figure>"
   ]
  },
  {
   "cell_type": "markdown",
   "metadata": {},
   "source": [
    "9. You are now in control of the Lab PC."
   ]
  },
  {
   "cell_type": "markdown",
   "metadata": {},
   "source": [
    "#### Remote Desktop Connection via Mac"
   ]
  },
  {
   "cell_type": "markdown",
   "metadata": {},
   "source": [
    "1. If necessary, install the Microsoft Remote Desktop application, available at [this link](https://apps.apple.com/us/app/microsoft-remote-desktop/id1295203466?mt=12).\n",
    "1. Logon to Cornell's VPN using your netid and password\n",
    "2. Open the Remote Desktop Application\n",
    "3. Click the \"+\" button in the top toolbar, and then click \"Add PC\" as shown below"
   ]
  },
  {
   "cell_type": "markdown",
   "metadata": {},
   "source": [
    "<figure>\n",
    "    <img align=\"center\" width=\"400\" height=\"300\" src=\"one.png\" alt='missing' />\n",
    "</figure>"
   ]
  },
  {
   "cell_type": "markdown",
   "metadata": {},
   "source": [
    "5. In the window that appears, enter the name of your Lab PC (this will be provided to you on the day of the lab, and your group will be assigned a particular PC to use all semsester). The name of the PC will be of the form `en-ec-lph238-`**XX**`.ece.cornell.edu` where **XX** will be the number of your particular PC, different for each group. *Do not log on to a PC that isn't assigned to you.*"
   ]
  },
  {
   "cell_type": "markdown",
   "metadata": {},
   "source": [
    "<figure>\n",
    "    <img align=\"center\" width=\"400\" height=\"300\" src=\"two.png\" alt='missing' />\n",
    "</figure>"
   ]
  },
  {
   "cell_type": "markdown",
   "metadata": {},
   "source": [
    "6. Navigate to the \"Devices & Audio\" menu, and make sure that it is configured as shown below. In the \"Redirect\" menu, both Clipboard and Microphone should be checked. In the \"Play Sound\" dropdown menu, \"On the remote PC\" should be selected."
   ]
  },
  {
   "cell_type": "markdown",
   "metadata": {},
   "source": [
    "<figure>\n",
    "    <img align=\"center\" width=\"400\" height=\"300\" src=\"three.png\" alt='missing' />\n",
    "</figure>"
   ]
  },
  {
   "cell_type": "markdown",
   "metadata": {},
   "source": [
    "7. Click \"Add\" and your PC will appear in the main window. Double-click and login using your netID and password."
   ]
  },
  {
   "cell_type": "markdown",
   "metadata": {},
   "source": [
    "<figure>\n",
    "    <img align=\"center\" width=\"400\" height=\"300\" src=\"four.png\" alt='missing' />\n",
    "</figure>"
   ]
  },
  {
   "cell_type": "markdown",
   "metadata": {},
   "source": [
    "8. Click \"Continue\" and the desktop for the lab PC will appear. You are now in control of the Lab PC."
   ]
  }
 ],
 "metadata": {
  "kernelspec": {
   "display_name": "Python 3",
   "language": "python",
   "name": "python3"
  },
  "language_info": {
   "codemirror_mode": {
    "name": "ipython",
    "version": 3
   },
   "file_extension": ".py",
   "mimetype": "text/x-python",
   "name": "python",
   "nbconvert_exporter": "python",
   "pygments_lexer": "ipython3",
   "version": "3.8.3"
  }
 },
 "nbformat": 4,
 "nbformat_minor": 4
}
