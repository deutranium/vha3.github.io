{
 "cells": [
  {
   "cell_type": "markdown",
   "metadata": {},
   "source": [
    "# Lab 0"
   ]
  },
  {
   "cell_type": "markdown",
   "metadata": {},
   "source": [
    "#### ECE 4760, Adams/Land, Spring 2021"
   ]
  },
  {
   "cell_type": "markdown",
   "metadata": {},
   "source": [
    "The purpose of the first lab section is to get familiar with this course's infrastructure and workflow."
   ]
  },
  {
   "cell_type": "markdown",
   "metadata": {},
   "source": [
    "This is the **only lab of the semester** for which you may leave early if you finish early. This is also the only lab that will be completed individually. You must demonstrate the provided example code running on a PIC32 in the lab and producing a sound through Zoom. "
   ]
  },
  {
   "cell_type": "markdown",
   "metadata": {},
   "source": [
    "Lab 0 tasks:\n",
    "> - Access Cornell's VPN\n",
    "> - Establish a Remote Desktop connection to a Lab PC\n",
    "> - Download, build, and program the PIC32 with some example code\n",
    "> - Join the Zoom call from the Lab PC, demonstrate audio coming from the PIC32 through Zoom\n",
    "> - Download and run the Python script associated with the example code"
   ]
  },
  {
   "cell_type": "markdown",
   "metadata": {},
   "source": [
    "***"
   ]
  },
  {
   "cell_type": "markdown",
   "metadata": {},
   "source": [
    "## Webpage Table of Contents"
   ]
  },
  {
   "cell_type": "markdown",
   "metadata": {},
   "source": [
    "> - [Accessing Cornell's VPN](#Accessing-Cornell's-VPN)\n",
    "> - [Remote Desktop](#Establishing-a-Remote-Desktop-connection-to-a-Lab-PC)\n",
    "> > - [From a PC](#Remote-Desktop-Connection-via-PC)\n",
    "> > - [From a Mac](#Remote-Desktop-Connection-via-Mac)\n",
    "> - [Creating a new project in MPLABx](#Creating-a-new-project-in-MPLABx)\n",
    "> - [Downloading and building some example software](#Downloading-and-building-some-example-software)\n",
    "> - [Programming the PIC with the example software](#Programming-the-PIC)\n",
    "> - [Using Sound Card as an Oscilloscope](#Using-Sound-Card-as-an-Oscilloscope)\n",
    "> - [Listening to the example code through Zoom](#Listening-to-the-example-code-through-Zoom)\n",
    "> - [Running the associated Python code](#Running-the-associated-Python-code)"
   ]
  },
  {
   "cell_type": "markdown",
   "metadata": {},
   "source": [
    "***"
   ]
  },
  {
   "cell_type": "markdown",
   "metadata": {},
   "source": [
    "## Accessing Cornell's VPN"
   ]
  },
  {
   "cell_type": "markdown",
   "metadata": {},
   "source": [
    "Please follow Cornell's guide for setting up and connecting to Cornell's VPN [linked here](https://it.cornell.edu/cuvpn). You will only need to set this up once."
   ]
  },
  {
   "cell_type": "markdown",
   "metadata": {},
   "source": [
    "## Establishing a Remote Desktop connection to a Lab PC"
   ]
  },
  {
   "cell_type": "markdown",
   "metadata": {},
   "source": [
    "There are two sets of instructions below. One for Mac users, and the other for PC users. Accessing the Lab PC's requires permission from CIT. If you are denied access, please let me know so that I can verify that your netid is on the approved list."
   ]
  },
  {
   "cell_type": "markdown",
   "metadata": {},
   "source": [
    "#### Remote Desktop Connection via PC"
   ]
  },
  {
   "cell_type": "markdown",
   "metadata": {},
   "source": [
    "1. Logon to Cornell's VPN using your netid and password\n",
    "2. Open the Remote Desktop Application\n",
    "3. Expand the \"Show Options\" menu as shown below"
   ]
  },
  {
   "cell_type": "markdown",
   "metadata": {},
   "source": [
    "<figure>\n",
    "    <img align=\"center\" width=\"400\" height=\"300\" src=\"five2.PNG\" alt='missing' />\n",
    "</figure>"
   ]
  },
  {
   "cell_type": "markdown",
   "metadata": {},
   "source": [
    "4. Enter the name of your Lab PC (this will be provided to you on the day of the lab, and your group will be assigned a particular PC to use all semsester). The name of the PC will be of the form `en-ec-lph238-`**XX**`.ece.cornell.edu` where **XX** will be the number of your particular PC, different for each group. *Do not log on to a PC that isn't assigned to you.*"
   ]
  },
  {
   "cell_type": "markdown",
   "metadata": {},
   "source": [
    "<figure>\n",
    "    <img align=\"center\" width=\"400\" height=\"300\" src=\"six.PNG\" alt='missing' />\n",
    "</figure>"
   ]
  },
  {
   "cell_type": "markdown",
   "metadata": {},
   "source": [
    "5. Navigate to the \"Local Resources\" tab and click \"Settings\" for Remote audio.\n",
    "6. Make sure the Remote audio settings are configured as shown below."
   ]
  },
  {
   "cell_type": "markdown",
   "metadata": {},
   "source": [
    "<figure>\n",
    "    <img align=\"center\" width=\"400\" height=\"300\" src=\"eight.PNG\" alt='missing' />\n",
    "</figure>"
   ]
  },
  {
   "cell_type": "markdown",
   "metadata": {},
   "source": [
    "7. Click \"Ok\" and then \"Connect.\" Login with your netid and password.\n",
    "8. The warning message shown below may open. If so, just click \"Yes\" to connect to the PC."
   ]
  },
  {
   "cell_type": "markdown",
   "metadata": {},
   "source": [
    "<figure>\n",
    "    <img align=\"center\" width=\"400\" height=\"300\" src=\"ten.PNG\" alt='missing' />\n",
    "</figure>"
   ]
  },
  {
   "cell_type": "markdown",
   "metadata": {},
   "source": [
    "9. You are now in control of the Lab PC. Open up the Camera application to see the hardware connected to your PC."
   ]
  },
  {
   "cell_type": "markdown",
   "metadata": {},
   "source": [
    "<figure>\n",
    "    <img align=\"center\" width=\"500\" height=\"300\" src=\"five.png\" alt='missing' />\n",
    "</figure>"
   ]
  },
  {
   "cell_type": "markdown",
   "metadata": {},
   "source": [
    "#### Remote Desktop Connection via Mac"
   ]
  },
  {
   "cell_type": "markdown",
   "metadata": {},
   "source": [
    "1. If necessary, install the Microsoft Remote Desktop application, available at [this link](https://apps.apple.com/us/app/microsoft-remote-desktop/id1295203466?mt=12).\n",
    "1. Logon to Cornell's VPN using your netid and password\n",
    "2. Open the Remote Desktop Application\n",
    "3. Click the \"+\" button in the top toolbar, and then click \"Add PC\" as shown below"
   ]
  },
  {
   "cell_type": "markdown",
   "metadata": {},
   "source": [
    "<figure>\n",
    "    <img align=\"center\" width=\"400\" height=\"300\" src=\"one.png\" alt='missing' />\n",
    "</figure>"
   ]
  },
  {
   "cell_type": "markdown",
   "metadata": {},
   "source": [
    "5. In the window that appears, enter the name of your Lab PC (this will be provided to you on the day of the lab, and your group will be assigned a particular PC to use all semsester). The name of the PC will be of the form `en-ec-lph238-`**XX**`.ece.cornell.edu` where **XX** will be the number of your particular PC, different for each group. *Do not log on to a PC that isn't assigned to you.*"
   ]
  },
  {
   "cell_type": "markdown",
   "metadata": {},
   "source": [
    "<figure>\n",
    "    <img align=\"center\" width=\"400\" height=\"300\" src=\"two.png\" alt='missing' />\n",
    "</figure>"
   ]
  },
  {
   "cell_type": "markdown",
   "metadata": {},
   "source": [
    "6. Navigate to the \"Devices & Audio\" menu, and make sure that it is configured as shown below. In the \"Redirect\" menu, both Clipboard and Microphone should be checked. In the \"Play Sound\" dropdown menu, \"On the remote PC\" should be selected."
   ]
  },
  {
   "cell_type": "markdown",
   "metadata": {},
   "source": [
    "<figure>\n",
    "    <img align=\"center\" width=\"400\" height=\"300\" src=\"three.png\" alt='missing' />\n",
    "</figure>"
   ]
  },
  {
   "cell_type": "markdown",
   "metadata": {},
   "source": [
    "7. Click \"Add\" and your PC will appear in the main window. Double-click and login using your netID and password."
   ]
  },
  {
   "cell_type": "markdown",
   "metadata": {},
   "source": [
    "<figure>\n",
    "    <img align=\"center\" width=\"400\" height=\"300\" src=\"four.png\" alt='missing' />\n",
    "</figure>"
   ]
  },
  {
   "cell_type": "markdown",
   "metadata": {},
   "source": [
    "8. Click \"Continue\" and the desktop for the lab PC will appear. You are now in control of the Lab PC. Open up the Camera application to see the hardware connected to your PC."
   ]
  },
  {
   "cell_type": "markdown",
   "metadata": {},
   "source": [
    "<figure>\n",
    "    <img align=\"center\" width=\"500\" height=\"300\" src=\"five.png\" alt='missing' />\n",
    "</figure>"
   ]
  },
  {
   "cell_type": "markdown",
   "metadata": {},
   "source": [
    "## Creating a new project in MPLABx"
   ]
  },
  {
   "cell_type": "markdown",
   "metadata": {},
   "source": [
    "1. Open **MPLAB X IDE v.3.05** on the desktop. Note that there may be more than one version of the MPLAB X IDE installed. Make sure you open v. 3.05.\n",
    "2. In the window that opens, navigate to `File --> New Project`.\n",
    "3. Select the \"Microchip Embedded\" category and \"Standalone Project,\" as shown below."
   ]
  },
  {
   "cell_type": "markdown",
   "metadata": {},
   "source": [
    "<figure>\n",
    "    <img align=\"center\" width=\"500\" height=\"300\" src=\"eleven.PNG\" alt='missing' />\n",
    "</figure>"
   ]
  },
  {
   "cell_type": "markdown",
   "metadata": {},
   "source": [
    "4. Select the \"32-bit MCUs (PIC32)\" Family from the dropdown menu, and then select the device \"PIC32MX250F128B.\" Then click Next."
   ]
  },
  {
   "cell_type": "markdown",
   "metadata": {},
   "source": [
    "<figure>\n",
    "    <img align=\"center\" width=\"500\" height=\"300\" src=\"12.PNG\" alt='missing' />\n",
    "</figure>"
   ]
  },
  {
   "cell_type": "markdown",
   "metadata": {},
   "source": [
    "5. Select the PICkit3 attached to your particular lab pc (the SN will be different, but it will appear as shown below)."
   ]
  },
  {
   "cell_type": "markdown",
   "metadata": {},
   "source": [
    "<figure>\n",
    "    <img align=\"center\" width=\"500\" height=\"300\" src=\"13.PNG\" alt='missing' />\n",
    "</figure>"
   ]
  },
  {
   "cell_type": "markdown",
   "metadata": {},
   "source": [
    "6. Select the XC32 (v 1.40) compiler, as shown below."
   ]
  },
  {
   "cell_type": "markdown",
   "metadata": {},
   "source": [
    "<figure>\n",
    "    <img align=\"center\" width=\"500\" height=\"300\" src=\"14.PNG\" alt='missing' />\n",
    "</figure>"
   ]
  },
  {
   "cell_type": "markdown",
   "metadata": {},
   "source": [
    "7. Give your project a name. Here, I've called it \"Demo.\""
   ]
  },
  {
   "cell_type": "markdown",
   "metadata": {},
   "source": [
    "<figure>\n",
    "    <img align=\"center\" width=\"500\" height=\"300\" src=\"15.PNG\" alt='missing' />\n",
    "</figure>"
   ]
  },
  {
   "cell_type": "markdown",
   "metadata": {},
   "source": [
    "8. Click \"Finish.\" Your project will then appear in the project navigator on the left. You'll see that there are a number of folders associated with your project, including \"Header Files\" and \"Source Files.\" We will add demo software to these two folders in the subsequent section."
   ]
  },
  {
   "cell_type": "markdown",
   "metadata": {},
   "source": [
    "<figure>\n",
    "    <img align=\"center\" width=\"700\" height=\"300\" src=\"16.PNG\" alt='missing' />\n",
    "</figure>"
   ]
  },
  {
   "cell_type": "markdown",
   "metadata": {},
   "source": [
    "## Downloading and building some example software"
   ]
  },
  {
   "cell_type": "markdown",
   "metadata": {},
   "source": [
    "1. Download the zipped demo project files from [**this link**](http://people.ece.cornell.edu/land/courses/ece4760/labs/s2021/Lab_0.zip) (also available on the [Remote Interfaces webpage](http://people.ece.cornell.edu/land/courses/ece4760/PIC32/index_remote.html). Unzip the file, and you will find that it contains a bunch of c header and source files.\n",
    "2. In the MPLABX IDE, right-click the \"Header Files\" folder in the project navigator on the left side of the screen, and then select \"Add existing item.\"\n",
    "3. In the window that pops up, navigate to the folder which contains all of the demo code.\n",
    "4. Select all header (`.h`) files and click \"Select.\"\n",
    "5. If you expand the \"Header Files\" folder, it should now contain:<br>\n",
    "`config_1_3_2.h`<br>\n",
    "`port_expander_brl4.h`<br>\n",
    "`pt_cornell_1_3_2_python.h`<br>\n",
    "`tft_gfx.h`<br>\n",
    "`tft_master.h`\n",
    "6. Similarly, right-click the \"Source Files\" folder and select \"Add existing item.\"\n",
    "7. Navigate to the folder that contains all of the demo code.\n",
    "8. Select all of the source (`.c`) files and click \"Select.\"\n",
    "9. If you expand the \"Source Files\" folder, it should now contain:<br>\n",
    "`glcdfont.c`<br>\n",
    "`port_expander_brl4.c`<br>\n",
    "`SECABB_python_target_v4_1_3_2.c`<br>\n",
    "`tft_gfx.c`<br>\n",
    "`tft_master.c`<br>\n",
    "(which one contains `main`?)\n",
    "10. Click the hammer icon in the top toolbar to build the project. A series of warnings may be thrown, and then it should indicate \"BUILD SUCCESSFUL\" in green font."
   ]
  },
  {
   "cell_type": "markdown",
   "metadata": {},
   "source": [
    "## Programming the PIC"
   ]
  },
  {
   "cell_type": "markdown",
   "metadata": {},
   "source": [
    "1. In the top toolbar, click the down-arrow icon to Make and Program Device Main Project. Programming status will be displayed at the top of the screen.\n",
    "2. When the device is finished programming, open the Camera application. The TFT display should show a line and circle, as pictured below:"
   ]
  },
  {
   "cell_type": "markdown",
   "metadata": {},
   "source": [
    "<figure>\n",
    "    <img align=\"center\" width=\"500\" height=\"300\" src=\"tft.JPG\" alt='missing' />\n",
    "</figure>"
   ]
  },
  {
   "cell_type": "markdown",
   "metadata": {},
   "source": [
    "3. At reset, the demo code produces a 400 Hz sine wave through DACA. If you open the oscilloscope software, Channel A is connected to DACA. You should see a 400 Hz sine wave on Channel A, as shown below."
   ]
  },
  {
   "cell_type": "markdown",
   "metadata": {},
   "source": [
    "<figure>\n",
    "    <img align=\"center\" width=\"500\" height=\"300\" src=\"scope.PNG\" alt='missing' />\n",
    "</figure>"
   ]
  },
  {
   "cell_type": "markdown",
   "metadata": {},
   "source": [
    "***Note***: Because of COVID-related shipping delays, it is possible that the PicoScopes oscilloscopes are not available for the first few weeks of the lab. Ask Hunter if there is a PicoScope installed at your lab bench. If there is not, you can use the sound card of your lab PC as an oscilloscope! This has certain limitations (we are limited to 100kSamples/sec, and we can only observe AC signals). Those limitations make the sound card less useful than a conventional oscilloscope for some application, but it is *perfect* for looking at sound coming from your DAC. Here is a guide for doing that:"
   ]
  },
  {
   "cell_type": "markdown",
   "metadata": {},
   "source": [
    "## Using Sound Card as an Oscilloscope"
   ]
  },
  {
   "cell_type": "markdown",
   "metadata": {},
   "source": [
    "### Only necessary if the PicoScope shipping is delayed! Though you may find this useful for Lab 1 anyway."
   ]
  },
  {
   "cell_type": "markdown",
   "metadata": {},
   "source": [
    "1. Open the WaveForms application on your lab PC, as shown below:"
   ]
  },
  {
   "cell_type": "markdown",
   "metadata": {},
   "source": [
    "<figure>\n",
    "    <img align=\"center\" width=\"300\" height=\"300\" src=\"17.PNG\" alt='missing' />\n",
    "</figure>"
   ]
  },
  {
   "cell_type": "markdown",
   "metadata": {},
   "source": [
    "2. A warning will pop-up stating that no device is detected. That's ok, just click \"Ok\":"
   ]
  },
  {
   "cell_type": "markdown",
   "metadata": {},
   "source": [
    "<figure>\n",
    "    <img align=\"center\" width=\"500\" height=\"300\" src=\"18.PNG\" alt='missing' />\n",
    "</figure>"
   ]
  },
  {
   "cell_type": "markdown",
   "metadata": {},
   "source": [
    "3. Scroll to the bottom of the Device Manager list, and select Sound Card. Make sure that \"Microphone (Realtek High Definition Audio)\" is selected from the dropdown menu for scope. You can keep all other configurations as they are."
   ]
  },
  {
   "cell_type": "markdown",
   "metadata": {},
   "source": [
    "<figure>\n",
    "    <img align=\"center\" width=\"500\" height=\"300\" src=\"19.PNG\" alt='missing' />\n",
    "</figure>"
   ]
  },
  {
   "cell_type": "markdown",
   "metadata": {},
   "source": [
    "4. Select the \"Scope\" button on the left side of the screen."
   ]
  },
  {
   "cell_type": "markdown",
   "metadata": {},
   "source": [
    "<figure>\n",
    "    <img align=\"center\" width=\"500\" height=\"300\" src=\"20.PNG\" alt='missing' />\n",
    "</figure>"
   ]
  },
  {
   "cell_type": "markdown",
   "metadata": {},
   "source": [
    "5. Click \"Run\" and you will observe the waveform that is being input to the audio jack of your Lab PC, which is the high-passed output of the PIC32 DAC."
   ]
  },
  {
   "cell_type": "markdown",
   "metadata": {},
   "source": [
    "<figure>\n",
    "    <img align=\"center\" width=\"500\" height=\"300\" src=\"21.PNG\" alt='missing' />\n",
    "</figure>"
   ]
  },
  {
   "cell_type": "markdown",
   "metadata": {},
   "source": [
    "6. Play with this! Note that there's a spectrogram option, that could be very useful for Lab 1. Change the DDS frequency in the Python interface and observe the change in the waveform. **Note**: if your waveform is clipped, you can turn down your microphone input volume in Sound Settings."
   ]
  },
  {
   "cell_type": "markdown",
   "metadata": {},
   "source": [
    "## Listening to the example code through Zoom"
   ]
  },
  {
   "cell_type": "markdown",
   "metadata": {},
   "source": [
    "As you can see on the [Remote interface webpage](http://people.ece.cornell.edu/land/courses/ece4760/PIC32/index_remote.html), the output from DACA is put through a high-pass filter and into the microphone input jack of the lab PC. So, if you join the Zoom call from the lab PC and point Zoom to the microphone input, you will be able to hear the sound being generated by the PIC32 through Zoom."
   ]
  },
  {
   "cell_type": "markdown",
   "metadata": {},
   "source": [
    "1. ***On the Lab PC***, login to Canvas and join this Zoom meeting.\n",
    "2. You may need to wait for an instructor or TA to admit to you the meeting.\n",
    "3. In your Zoom sound settings, make certain that your Microphone is set to \"Microphone (Realtek High Definition Audio).\n",
    "4. *If Microphone (Realtek High Definition Audio) does not appear as an option, double-check your Remote Desktop audio settings to make sure that sound is being played on the remote PC).*\n",
    "5. You should now be able to hear the tone being generated by the PIC through your headphones."
   ]
  },
  {
   "cell_type": "markdown",
   "metadata": {},
   "source": [
    "## Running the associated Python code"
   ]
  },
  {
   "cell_type": "markdown",
   "metadata": {},
   "source": [
    "1. Download [this Python code](http://people.ece.cornell.edu/land/courses/ece4760/PIC32/remote/pic_target_4a.py) which is available on the [Remote interfaces webpage](http://people.ece.cornell.edu/land/courses/ece4760/PIC32/index_remote.html) under the subtitle \"The python interface GUI running on the desktop.\"\n",
    "2. On the Lab PC, open device manager to determine the COM port to which the serial connection to the PIC32 is attached.\n",
    "3. Open the Python script and navigate to lines 34-36, which contain the following code:<br>\n",
    "```python\n",
    "# open microcontroller serial port\n",
    "# For windows the device will be 'COMx'\n",
    "ser = serial.Serial('/dev/ttyUSB0', 115200, timeout=0.001)\n",
    "```\n",
    "4. Replace `'/dev/ttyUSB0'` with the name of the COM port to which the PIC32 is attached. This will be of the form `COMx`, where `x` is the number of the port.\n",
    "5. Make certain that the baud rate specified in the Python script is the same as the baud rate in `config.h.` Should be 115200.\n",
    "5. Open the Windows PowerShell application, and navigate to the directory which contains the python script which you've just edited.\n",
    "6. In the powershell, run `python .\\pic_target_4a.py`\n",
    "> - **NOTE**: If this throws an error about PySimpleGUI, you may need to run `pip install PySimpleGUI`\n",
    "> - **NOTE**: If this throws an error about pyserial, you may need to run `pip install pyserial`\n",
    "> - **NOTE**: If this throws an error about the COM port, you may have edited the document to point to the wrong COM port. Double-check in Device Manager\n",
    "7. The window below will appear"
   ]
  },
  {
   "cell_type": "markdown",
   "metadata": {},
   "source": [
    "<figure>\n",
    "    <img align=\"center\" width=\"300\" height=\"300\" src=\"gui.PNG\" alt='missing' />\n",
    "</figure>"
   ]
  },
  {
   "cell_type": "markdown",
   "metadata": {},
   "source": [
    "8. This Python interface interacts with the C code that you've already loaded onto the PIC32. Open the Camera application so that you can see the board, and press the topmost LED button. You should see the LED illuminate when it is pressed. Toggling the \"Dot Color\" button will change the color of the circle on the TFT display, and the \"Line Position\" slider will move the line on the TFT display. If you change the DDS Freq. slider, you should hear the frequency of the produced tone change, and see the frequency change on the oscilloscope. You can also manipulate the shape of the wave being produced from a Sine wave to a square or triangle wave."
   ]
  }
 ],
 "metadata": {
  "kernelspec": {
   "display_name": "Python 3",
   "language": "python",
   "name": "python3"
  },
  "language_info": {
   "codemirror_mode": {
    "name": "ipython",
    "version": 3
   },
   "file_extension": ".py",
   "mimetype": "text/x-python",
   "name": "python",
   "nbconvert_exporter": "python",
   "pygments_lexer": "ipython3",
   "version": "3.8.3"
  }
 },
 "nbformat": 4,
 "nbformat_minor": 4
}
