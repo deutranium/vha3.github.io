{
 "cells": [
  {
   "cell_type": "markdown",
   "metadata": {},
   "source": [
    "# Generate blocks\n",
    "#### V. Hunter Adams (vha3@cornell.edu)"
   ]
  },
  {
   "cell_type": "markdown",
   "metadata": {},
   "source": [
    "### Introduction\n",
    "\n",
    "Generate blocks are a mechanism by which we can generate *lots* of Verilog. To quote the Sutherland HDL guide, \"generate blocks provide control over the creation of many types of module items. A generate block must be defined within a module, and is used to generate code within that module.\"\n",
    "\n",
    "Within these generate blocks, you can do things like declare variables, instantiate modules, wire modules together, etc. And furthermore, you can do these things *conditionally.* Usually, the conditions within a generate block will depend on the value of one or a number of `genvars`. \n",
    "\n",
    "A `genvar` is \"an integer variable which must be a positive value. They may only be used within a generate block. `Genvar` variables only have a value during elaboration, and do not exist during simulation. `Genvar` variables must be declared within the module where the `genvar` is used. They may be declared either inside or outside of a generate block.\" ([Evans and Sutherland HDL guide](https://sutherland-hdl.com/pdfs/verilog_2001_ref_guide.pdf)).\n",
    "\n",
    "Because generate blocks are only evaluated at elaboration, any conditionals within a generate block must have arguments which are constant expressions. Recall that the generate blocks are being used to *build hardware.* It therefore must be the case that all conditionals are evaluatable at compile time. If not, that would suggest we were building hardware at runtime, which doesn't make sense."
   ]
  },
  {
   "cell_type": "markdown",
   "metadata": {},
   "source": [
    "### Video discussion of the content on this page\n",
    "\n",
    "<br><br>\n",
    "<iframe width=\"560\" height=\"315\" src=\"https://www.youtube.com/embed/AVgiAFpPzZg?start=125\" title=\"YouTube video player\" frameborder=\"0\" allow=\"accelerometer; autoplay; clipboard-write; encrypted-media; gyroscope; picture-in-picture\" allowfullscreen></iframe><br><br>"
   ]
  },
  {
   "cell_type": "markdown",
   "metadata": {},
   "source": [
    "### Example\n",
    "\n",
    "Suppose that we wanted to construct a shift register, like the one shown below.<br><br>\n",
    "\n",
    "<figure>\n",
    "    <img align=\"center\" width=\"1000\" height=\"500\" src=\"shiftreg.png\" alt='missing' />\n",
    "    <center><figcaption></figcaption></center>\n",
    "</figure>\n",
    "\n",
    "We'll consider two ways of doing this. One using a generate block, and the other without using a generate block. Hopefully, by doing so, the utility of the generate block will be clear. \n",
    "\n",
    "#### A shift register *without* using a generate block\n",
    "\n",
    "Let us first construct this circuit without using a generate block.\n",
    "\n",
    "Please note that I have implemented this shift register such that we can replace a section with the generate block. In practice, you may implement this a bit more concisely. This is optimized instead for clarity. The output of this module will be 8 0's, then 8 1's, then 8 0's, etc.\n",
    "\n",
    "```verilog\n",
    "module shift (input  wire clock,     // clock input\n",
    "              output wire q) ;       // output of shift register\n",
    "    \n",
    "    wire [7:0] p ;                   // the wire through which we will shift\n",
    "    \n",
    "    reg [3:0] count = 4'd_0 ;        // a register which will contain an incrementing value\n",
    "    always @ (posedge clock) begin   // the always block which increments that value\n",
    "        count <= (count + 4'd_1) ;\n",
    "    end\n",
    "    \n",
    "    assign p[0] = count[3] ;         // assign the first bit of p the MSB of count \n",
    "    \n",
    "    reg [7:0] preg ;                 // the shift register\n",
    "    \n",
    "    always @ (posedge clock) begin   // repetitive logic which implements the shift register\n",
    "        preg[1] <= p[0] ;\n",
    "        preg[2] <= p[1] ;\n",
    "        preg[3] <= p[2] ;\n",
    "        preg[4] <= p[3] ;\n",
    "        preg[5] <= p[4] ;\n",
    "        preg[6] <= p[5] ;\n",
    "        preg[7] <= p[6] ;\n",
    "    end\n",
    "    \n",
    "    assign p[7:1] = preg[7:1];        // assign the p wire the value of the p register\n",
    "    \n",
    "    assign q = p[7];                  // output the MSB of the shift register\n",
    "endmodule\n",
    "```\n",
    "\n",
    "#### A shift register using a generate block\n",
    "\n",
    "Instead of building all of the repetitive logic above, we could instead use a generate block. We would do so by creating a separate flip-flop module. This is the logic which we will use the generate block to create many copies of.\n",
    "\n",
    "```verilog\n",
    "module dflop(input wire clock,      // clock input\n",
    "             input wire d,          // data input (1 bit wide)\n",
    "             output wire q) ;       // data output (1 bit wide)\n",
    "    \n",
    "    reg out ;                       // register that will contain the data for output\n",
    "    always @ (posedge clock) begin  // at each rising clock edge, out gets the value of the input data\n",
    "        out <= d ;\n",
    "    end\n",
    "    \n",
    "    assign q = out ;                // the output is assigned the value of out\n",
    "endmodule\n",
    "```\n",
    "\n",
    "We can then use a generate block to instantiate and connect a bunch of copies of this module.\n",
    "\n",
    "```verilog\n",
    "module shift (input wire clock,                // clock input\n",
    "              output wire q) ;                 // output of shift register\n",
    "    \n",
    "    wire [7:0] wire p ;                        // the wire through which we will shift\n",
    "    \n",
    "    reg [3:0] count = 4'd_0 ;                  // a register which will contain an incrementing value\n",
    "    always @ (posedge clock) begin             // the always block which increments that value\n",
    "        count <= (count + 4'd_1) ;\n",
    "    end\n",
    "    \n",
    "    assign p[0] = count[3] ;                   // assign the first bit of p the MSB of count\n",
    "    \n",
    "    // The generate block below replaces the repetitive logic from above\n",
    "    \n",
    "    generate                                   // indicate start of generate block\n",
    "        genvar n;                              // instantiate a genvar called n\n",
    "        for (n=0; n<=6; n=n+1) begin: flopGen  // a for loop which increments n from 0 to 6 (named)\n",
    "            dflop u(.clock(clock),             // each time, instantiate a dflop module, connect to p\n",
    "                    .d(p[n]),\n",
    "                    .q(p[n+1]));\n",
    "        end\n",
    "    endgenerate\n",
    "    \n",
    "    assign q = p[7] ;                          // output the MSB of the shift register\n",
    "endmodule\n",
    "```"
   ]
  },
  {
   "cell_type": "markdown",
   "metadata": {},
   "source": [
    "***\n",
    "***\n",
    "***"
   ]
  }
 ],
 "metadata": {
  "kernelspec": {
   "display_name": "Python 3",
   "language": "python",
   "name": "python3"
  },
  "language_info": {
   "codemirror_mode": {
    "name": "ipython",
    "version": 3
   },
   "file_extension": ".py",
   "mimetype": "text/x-python",
   "name": "python",
   "nbconvert_exporter": "python",
   "pygments_lexer": "ipython3",
   "version": "3.8.3"
  }
 },
 "nbformat": 4,
 "nbformat_minor": 4
}
