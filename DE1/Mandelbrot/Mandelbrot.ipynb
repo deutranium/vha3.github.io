{
 "cells": [
  {
   "cell_type": "code",
   "execution_count": 4,
   "metadata": {},
   "outputs": [],
   "source": [
    "from scipy.io import wavfile\n",
    "from IPython.display import Audio\n",
    "import numpy\n",
    "from scipy.fft import fft\n",
    "from scipy.signal import welch\n",
    "import matplotlib.pyplot as plt\n",
    "from IPython.display import HTML\n",
    "plt.rcParams[\"figure.figsize\"] = (20,3)\n",
    "%matplotlib inline"
   ]
  },
  {
   "cell_type": "code",
   "execution_count": 2,
   "metadata": {},
   "outputs": [],
   "source": [
    "def iterate(ci, cr, max_iterations):\n",
    "    \n",
    "    iterations = 0\n",
    "    \n",
    "    zi = 0\n",
    "    zr = 0\n",
    "    \n",
    "    for i in range(max_iterations):\n",
    "        iterations += 1\n",
    "    \n",
    "        zr_temp = zr*zr - zi*zi + cr\n",
    "        zi_temp = 2*zr*zi + ci\n",
    "        \n",
    "        zi = zi_temp\n",
    "        zr = zr_temp\n",
    "        \n",
    "        if ((zi*zi + zr*zr) > 4):\n",
    "            break\n",
    "            \n",
    "    return iterations"
   ]
  },
  {
   "cell_type": "code",
   "execution_count": 14,
   "metadata": {},
   "outputs": [
    {
     "data": {
      "text/plain": [
       "26"
      ]
     },
     "execution_count": 14,
     "metadata": {},
     "output_type": "execute_result"
    }
   ],
   "source": [
    "iterate(-.125, -.75, 1000)"
   ]
  },
  {
   "cell_type": "code",
   "execution_count": 16,
   "metadata": {},
   "outputs": [
    {
     "data": {
      "text/plain": [
       "0.125"
      ]
     },
     "execution_count": 16,
     "metadata": {},
     "output_type": "execute_result"
    }
   ],
   "source": [
    "(1./(2**3))"
   ]
  },
  {
   "cell_type": "code",
   "execution_count": 44,
   "metadata": {},
   "outputs": [
    {
     "data": {
      "image/png": "[encoded data removed]",
      "text/plain": [
       "<Figure size 720x216 with 1 Axes>"
      ]
     },
     "metadata": {
      "needs_background": "light"
     },
     "output_type": "display_data"
    }
   ],
   "source": [
    "one_array = numpy.ones(10)\n",
    "plt.rcParams[\"figure.figsize\"] = (10,3)\n",
    "colors_array = numpy.array(['#000f0f', '#ffffff', '#0f0f0f',\n",
    "                            '#0f0f0f', '#ff0000', '#0f0f0f',\n",
    "                            '#0f0f0f', '#0000ff', '#0f0f0f',\n",
    "                            '#0f0f0f'])\n",
    "# for i in range(10):\n",
    "plt.scatter(numpy.arange(0, 10), one_array, s=1000, c=colors_array)\n",
    "plt.show()"
   ]
  },
  {
   "cell_type": "code",
   "execution_count": 59,
   "metadata": {},
   "outputs": [],
   "source": [
    "def rgbTohex(red, green, blue):\n",
    "    newred = int((red/255.)*7)\n",
    "    newgreen = int((green/255)*7)\n",
    "    newblue = (int((blue/255)*3))\n",
    "    return (bin(newred)[2:] + '_' + bin(newgreen)[2:] + '_' + bin(newblue)[2:])"
   ]
  },
  {
   "cell_type": "code",
   "execution_count": 70,
   "metadata": {},
   "outputs": [
    {
     "data": {
      "text/plain": [
       "'10_10_0'"
      ]
     },
     "execution_count": 70,
     "metadata": {},
     "output_type": "execute_result"
    }
   ],
   "source": [
    "rgbTohex(79, 79, 79)"
   ]
  }
 ],
 "metadata": {
  "kernelspec": {
   "display_name": "Python 3",
   "language": "python",
   "name": "python3"
  },
  "language_info": {
   "codemirror_mode": {
    "name": "ipython",
    "version": 3
   },
   "file_extension": ".py",
   "mimetype": "text/x-python",
   "name": "python",
   "nbconvert_exporter": "python",
   "pygments_lexer": "ipython3",
   "version": "3.8.3"
  }
 },
 "nbformat": 4,
 "nbformat_minor": 4
}
