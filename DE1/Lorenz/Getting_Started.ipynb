{
 "cells": [
  {
   "cell_type": "markdown",
   "metadata": {},
   "source": [
    "# Getting the DE1-SoC up and running\n",
    "#### V. Hunter Adams\n",
    "\n",
    "**Note**: This is mostly an abridged version of the [Linux on HPS](https://people.ece.cornell.edu/land/courses/ece5760/DE1_SOC/HPS_peripherials/linux_index.html) webpage with the parts omitted that will not be relevant for this semester.\n",
    "\n",
    "> - [Setting up the hardware](#Setting-up-the-hardware)\n",
    "> - [Configuring the Linux environment](#Configuring-the-Linux-environment)\n",
    "> - [Secure Shell Login](#Secure-Shell-Login)\n",
    "> - [Going further](#Going-further)"
   ]
  },
  {
   "cell_type": "markdown",
   "metadata": {},
   "source": [
    "***"
   ]
  },
  {
   "cell_type": "markdown",
   "metadata": {},
   "source": [
    "### Setting up the hardware\n",
    "\n",
    "1. **Acquire a DE1-SoC from Hunter.**\n",
    "2. **Confirm the orientation of the MSEL switches.** Look at the bottom of the board. Confirm that the MSEL switches are in configuration `010101` (left to right), as specified on pages 12-13 of the [user's manual](http://people.ece.cornell.edu/land/courses/ece5760/DE1_SOC/DE1-SoC_User_manualv.1.2.2_revE.pdf). If they aren't, show Hunter before you change them.\n",
    "1. **Hook up the hardware:** For most exercises there will be 5 or six connections to the board: serial, ethernet, VGA, audio (for lab 2), USB blaster, power. See the image below.<br><br>\n",
    "<figure>\n",
    "    <img align=\"center\" width=\"500\" height=\"500\" src=\"lab1_connections.png\" alt='missing' />\n",
    "    <center><figcaption></figcaption></center>\n",
    "</figure><br><br>\n",
    "2. **Acquire a micro-SD card from Hunter**.\n",
    "3. Load [this Linux image](https://cornell.box.com/s/0f9fxd2azgbsnsle9zwvfk9qb5dwr3s5) onto the SD card.\n",
    "> - If you are working with a windows machine, The sections 2.1 and 2.2 [Using Linux on the DE1-SoC](https://people.ece.cornell.edu/land/courses/ece5760/DE1_SOC/DE1-SoC-UP-Linux/Linux.pdf)\n",
    "shows how to install Linux on an SDcard.\n",
    "> - If you are on a Mac, use something like [ApplePiBaker](http://www.tweaking4all.com/software/macosx-software/macosx-apple-pi-baker/).\n",
    "4. **Open a serial connection to the DE1 (don't boot it yet).** Use baud 115200.\n",
    "5. **Insert the SD card into the DE1.**\n",
    "6. **Boot it.** You will see a bunch of text scroll past on the serial terminal.\n",
    "\n",
    "### Configuring the Linux environment\n",
    "\n",
    "1. The Cornell 10space system will be used for any FPGA on the internet in the lab.\n",
    "> - The Cornell 10space system is not reachable from wireless devices!\n",
    "> - The MAC address and IP address are locked down and must match. \n",
    "> - You will use a static address assigned to your group. You may not use another group's addresses.\n",
    "1. **YOU MUST CHANGE YOUR MAC AND IP ADDRESSES.** Ask Hunter for your group's MAC/IP addresses. They will be of the following form:\n",
    "> - IP: `10.253.17.xx`\n",
    "> - MAC: `12:34:56:78:90:yy`\n",
    "2. **Write these down!!** These are sacred to your group.\n",
    "3. **From the serial command line**, navigate to `/etc/network/interfaces` and open it using a command-line editor. It will look like this:<br>\n",
    "`auto eth0\n",
    "iface eth0 inet static\n",
    "hwaddress ether 12:34:56:78:90:yy \n",
    "address 10.253.17.xx\n",
    "netmask 255.255.255.0\n",
    "gateway 10.253.17.1\n",
    "dns-nameservers 132.236.56.250 128.253.180.2 192.35.82.50`\n",
    "4. **Modify the address and hwaddress to match your group's assigned IP and MAC addresses.**\n",
    "5. Save, then run `/etc/init.d/networking restart`.\n",
    "> - If you get a eth0 error, then run `reboot`\n",
    "\n",
    "### Secure Shell Login\n",
    "\n",
    "1. From a Lab PC (or your own PC if you've VPN'd onto the Cornell network), open an ssh connection to `root@10.253.17.xx` (where xx is your group's assigned IP).\n",
    "2. The default root password is `bigred5760`\n",
    "3. **Change this password using `passwd`!!**\n",
    "\n",
    "### Going further\n",
    "\n",
    "1. Read the [Linux on HPS](https://people.ece.cornell.edu/land/courses/ece5760/DE1_SOC/HPS_peripherials/linux_index.html) page to learn how to move files to/from the HPS, and how to compile/run C using GCC."
   ]
  },
  {
   "cell_type": "markdown",
   "metadata": {},
   "source": [
    "***\n",
    "***\n",
    "***"
   ]
  }
 ],
 "metadata": {
  "kernelspec": {
   "display_name": "Python 3",
   "language": "python",
   "name": "python3"
  },
  "language_info": {
   "codemirror_mode": {
    "name": "ipython",
    "version": 3
   },
   "file_extension": ".py",
   "mimetype": "text/x-python",
   "name": "python",
   "nbconvert_exporter": "python",
   "pygments_lexer": "ipython3",
   "version": "3.8.3"
  }
 },
 "nbformat": 4,
 "nbformat_minor": 4
}
