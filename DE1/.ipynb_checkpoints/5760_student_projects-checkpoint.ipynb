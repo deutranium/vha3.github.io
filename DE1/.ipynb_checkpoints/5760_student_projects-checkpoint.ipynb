{
 "cells": [
  {
   "cell_type": "markdown",
   "metadata": {},
   "source": [
    "# ECE 5760 Student Projects\n",
    "#### V. Hunter Adams (vha3@cornell.edu)\n",
    "\n",
    "**Note**: This webpage contains all of the student projects that have taken place since Hunter has started teaching ECE 5760. For a list of all final projects back to 2006, see [here](https://people.ece.cornell.edu/land/courses/ece5760/FinalProjects/)."
   ]
  },
  {
   "cell_type": "markdown",
   "metadata": {},
   "source": [
    "## Spring 2022\n",
    "\n",
    "1. [Rapid Implementation of Hardware Neural Networks Powered by Verython](https://www.youtube.com/watch?v=w3I1DwIM_Wg&list=PLDqMkB5cbBA7nUwrxsLgtrOsce9UgJXJb&index=1)\n",
    "2. [Gesture-Based User Interface](https://www.youtube.com/watch?v=t3wiyY3wj0o&list=PLDqMkB5cbBA7nUwrxsLgtrOsce9UgJXJb&index=2)\n",
    "3. [Fourier Transform Drawing Machine and Audio Synthesizer](https://www.youtube.com/watch?v=RKkkq6O9Xi8&list=PLDqMkB5cbBA7nUwrxsLgtrOsce9UgJXJb&index=3)\n",
    "4. [Digit-classifying Neural Net](https://www.youtube.com/watch?v=c1UtKyA6q7Q&list=PLDqMkB5cbBA7nUwrxsLgtrOsce9UgJXJb&index=5)\n",
    "5. [Fractal Landscape Generation](https://www.youtube.com/watch?v=cTo0VKEKx4s&list=PLDqMkB5cbBA7nUwrxsLgtrOsce9UgJXJb&index=6)\n",
    "6. [HPP Cellular Automaton](https://www.youtube.com/watch?v=qGom1fkaAP0&list=PLDqMkB5cbBA7nUwrxsLgtrOsce9UgJXJb&index=7&t=282s)\n",
    "7. [Bombe Machine](https://www.youtube.com/watch?v=id8X-yvV6cw&list=PLDqMkB5cbBA7nUwrxsLgtrOsce9UgJXJb&index=8)\n",
    "8. [Realtime Anaglyph 3D Video and Depth Mapping](https://www.youtube.com/watch?v=WhVD_qxHhO8&list=PLDqMkB5cbBA7nUwrxsLgtrOsce9UgJXJb&index=9)\n",
    "9. [Lennard-Jones Molecular Simulator](https://www.youtube.com/watch?v=mpDcrlHr-kI&list=PLDqMkB5cbBA7nUwrxsLgtrOsce9UgJXJb&index=10)\n",
    "10. [FFT-Based Landscape Generation](https://www.youtube.com/watch?v=9IEg6CW8-yE&list=PLDqMkB5cbBA7nUwrxsLgtrOsce9UgJXJb&index=11)\n",
    "11. [Playing Guitar-Hero with a DE1-SoC](https://www.youtube.com/watch?v=qhmE1IepYgg&list=PLDqMkB5cbBA7nUwrxsLgtrOsce9UgJXJb&index=12)\n",
    "12. Particle Simulation"
   ]
  },
  {
   "cell_type": "markdown",
   "metadata": {},
   "source": [
    "## Fall 2020 - Remote learning semester\n",
    "\n",
    "1. [Connect Four AI](https://www.youtube.com/watch?v=0pyqyh4LQd0&list=PLDqMkB5cbBA7nUwrxsLgtrOsce9UgJXJb&index=1&t=27s)\n",
    "2. [Matrix Multiplication Accelerator](https://www.youtube.com/watch?v=Q44vtsFqRs8&list=PLDqMkB5cbBA7nUwrxsLgtrOsce9UgJXJb&index=6&t=5s)\n",
    "3. [Capital Letter Recognition with Harris Corner](https://www.youtube.com/watch?v=vaEQ_IAY9V8&list=PLDqMkB5cbBA7nUwrxsLgtrOsce9UgJXJb&index=8&t=5s)\n",
    "4. [Fractal Landscapes](https://www.youtube.com/watch?v=2iGEP-gRrzk&list=PLDqMkB5cbBA7nUwrxsLgtrOsce9UgJXJb&index=3&t=4s)\n",
    "5. [Bolero Surround Sound](https://www.youtube.com/watch?v=l3B7Ojo7a4g&list=PLDqMkB5cbBA7nUwrxsLgtrOsce9UgJXJb&index=2&t=4s)\n",
    "6. [RF Signal Modulation Predictor](https://www.youtube.com/watch?v=4QyU-ckhWz4&list=PLDqMkB5cbBA7nUwrxsLgtrOsce9UgJXJb&index=7&t=4s)\n",
    "7. [Graphing L-Systems on the FPGA](https://www.youtube.com/watch?v=NIYnzu1di3o&list=PLDqMkB5cbBA7nUwrxsLgtrOsce9UgJXJb&index=5&t=2s)\n",
    "8. [F1 Tire Degradation Prediction](https://www.youtube.com/watch?v=883qqANxAV8&list=PLDqMkB5cbBA7nUwrxsLgtrOsce9UgJXJb&index=4&t=4s)"
   ]
  },
  {
   "cell_type": "markdown",
   "metadata": {},
   "source": [
    "***"
   ]
  }
 ],
 "metadata": {
  "kernelspec": {
   "display_name": "Python 3",
   "language": "python",
   "name": "python3"
  },
  "language_info": {
   "codemirror_mode": {
    "name": "ipython",
    "version": 3
   },
   "file_extension": ".py",
   "mimetype": "text/x-python",
   "name": "python",
   "nbconvert_exporter": "python",
   "pygments_lexer": "ipython3",
   "version": "3.8.3"
  }
 },
 "nbformat": 4,
 "nbformat_minor": 4
}
