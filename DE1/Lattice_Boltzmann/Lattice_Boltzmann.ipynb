{
 "cells": [
  {
   "cell_type": "markdown",
   "metadata": {},
   "source": [
    "# Lattice-Boltzmann in Python, C, and Verilog\n",
    "### An example of hardware acceleration via FPGA\n",
    "#### [V. Hunter Adams](https://vanhunteradams.com)"
   ]
  },
  {
   "cell_type": "markdown",
   "metadata": {},
   "source": [
    "> - [Introduction](#Introduction)\n",
    "> - [What is the Lattice Boltzmann Algorithm?](What-is-the-Lattice-Boltzmann-Algorithm?)\n",
    "> - [Representation](#Representation)\n",
    "> > - [Conceptual overview of representation](#Conceptual-overview-of-representation)\n",
    "> > - [Python/C representation](#Python/C-representation)\n",
    "> > - [Verilog representation](#Verilog-representation)\n",
    "> - [Streaming](#Streaming)\n",
    "> > - [Conceptual overview of streaming](#Conceptual-overview-of-streaming)\n",
    "> > - [Python/C streaming](#Python/C-streaming)\n",
    "> > - [Verilog streaming](#Verilog-streaming)\n",
    "> - [Bouncing](#Bouncing)\n",
    "> > - [Conceptual overview of bouncing](#Conceptual-overview-of-bouncing)\n",
    "> > - [Python/C bouncing](#Python/C-bouncing)\n",
    "> > - [Verilog bouncing](#Verilog-bouncing)\n",
    "> - [Colliding](#Colliding)\n",
    "> > - [Conceptual overview of colliding](#Conceptual-overview-of-colliding)\n",
    "> > - [Python/C colliding](#Python/C-colliding)\n",
    "> > - [Verilog colliding](#Verilog-colliding)\n",
    "> - [Animation](#Animation)\n",
    "> > - [Python animation](#Python-animation)\n",
    "> > - [C animation](#C-animation)\n",
    "> > - [Verilog animation](#Verilog-animation)"
   ]
  },
  {
   "cell_type": "markdown",
   "metadata": {},
   "source": [
    "***"
   ]
  },
  {
   "cell_type": "code",
   "execution_count": 19,
   "metadata": {},
   "outputs": [],
   "source": [
    "import numpy\n",
    "import matplotlib.pyplot as plt\n",
    "import matplotlib.animation as animation\n",
    "from matplotlib import rc\n",
    "plt.rcParams[\"figure.figsize\"] = (50,3)"
   ]
  },
  {
   "cell_type": "markdown",
   "metadata": {},
   "source": [
    "***"
   ]
  },
  {
   "cell_type": "markdown",
   "metadata": {},
   "source": [
    "## Introduction\n",
    "\n",
    "This webpage introduces the Lattice-Boltmann algorithm and then demonstrates and compares implementations in Python, C, and Verilog. Please note that the Python implementation is not particularly \"Pythonic.\" It was assembled in a way that maps more directly to C and Verilog. For its readability, Python is used for introducing the algorithm. At the relevant places, links are provided to the C and Verilog implementations.\n",
    "\n",
    "The takeaway is that the Verilog implementation requires about 3.5x the number of lines of HDL as the C implementation requires lines of code, but rewards us with *way* faster execution. I put this together as a potential lab exercise for [ECE 5760](https://people.ece.cornell.edu/land/courses/ece5760/) at Cornell, but I think it's a bit too much to ask in the time dedicated to a single laboratory assignment. So, it'll become an in-class example of hardware acceleration via FPGA's.\n",
    "\n",
    "The table below summarizes the performance for a variety of Lattice Boltzmann implementations. Note that the clock rates for Python and both C implementations are *faster* than that for the Verilog implementation (the PLL used by the Verilog is only 100MHz). The speedup associated with the Verilog implementation is due to the row-wise parallelism that it implements across the lattice. Note also that the rate of computation for the Verilog implementation is not affected by adding graphics because the FPGA makes use of [a custom VGA driver](https://vanhunteradams.com/DE1/VGA_Driver/Driver.html) which avoids VGA memory write bottlenecks.\n",
    "\n",
    "**Looking for the code?** Please see the links in the top row of the table below.\n",
    "\n",
    "$\\hspace{1mm}$ | Python<br>(Mac M1) | C<br>(Arm A9 on DE1-SoC) | C<br>(Mac M1) | Verilog <br>(Cyclone V on DE1-SoC)\n",
    ":- | :-: | :-: | :-: | :-:\n",
    "Code | On this webpage | [Link](./lattice_boltzmann_de1.c.txt) | [Link](./lb.c.txt) | [Link](./lattice_boltzmann.v.txt)\n",
    "Time for frame update<br>(no graphics)| 370ms | 14.5ms | 1.23ms | 0.087ms\n",
    "Time for frame update<br>(+ graphics) | 452ms | 18.2ms |        | 0.087ms\n",
    "Lines of code <br>(no graphics)       | ~165  | ~360   | ~360   | ~1230\n",
    "\n",
    "<br><br><br>\n",
    "\n",
    "<iframe width=\"560\" height=\"315\" src=\"https://www.youtube.com/embed/de33OTFvMXk\" title=\"YouTube video player\" frameborder=\"0\" allow=\"accelerometer; autoplay; clipboard-write; encrypted-media; gyroscope; picture-in-picture; web-share\" allowfullscreen></iframe>"
   ]
  },
  {
   "cell_type": "markdown",
   "metadata": {},
   "source": [
    "***"
   ]
  },
  {
   "cell_type": "markdown",
   "metadata": {},
   "source": [
    "## What is the Lattice-Boltzmann Algorithm?\n",
    "\n",
    "The Lattice-Boltzmann algorithm provides a method for doing computational fluid dynamics which does not require solving or discretizing the Navier-Stokes equations. Instead, we think about the fluid as a collection of molecules which exists on a grid (or \"lattice\"). For each generation of the simulation, we imagine that these particles move to adjacent cells on that lattice, and then they collide with other particles. The macroscopic properties of the fluid in each cell of the lattice (density, velocity, etc.) can then be computed from the particles that it contains. So, in short, the algorithm involves:\n",
    "\n",
    "> 1. **Streaming**: All particle number densities move into adjacent/diagonal lattice cells.\n",
    "> 2. **Bouncing**: Any particle number densities that have streamed into a cell containing a barrier are reflected back from whence they came.\n",
    "> 3. **Collisions**: From the *new* set of number densities contained within each cell, we compute what the densities would be if the molecules in that cell were in thermal equilibrium. We then update all the densities in the cell toward this equilibrium state. The rate at which the cell moves toward its equilibrium state is related to the fluid's viscosity.\n",
    "\n",
    "This method has some nice properties. It can accomodate for complex boundaries in a straightforward way and it parallelizes really nicely. This makes the algorithm very well suited for implementation on an FPGA. A limitation of this algorithm is that it cannot be used to simulate fluid flow at speeds comparable to, or larger than, the speed of sound."
   ]
  },
  {
   "cell_type": "markdown",
   "metadata": {},
   "source": [
    "***"
   ]
  },
  {
   "cell_type": "markdown",
   "metadata": {},
   "source": [
    "## Representation\n",
    "\n",
    "### Conceptual overview of representation\n",
    "\n",
    "Lattice-Boltzmann simulations can be generated for a variety of different lattices (cubic, triangular, etc.). We classify the particular version of the Lattice-Boltmann algorithm using the \"DnQm\" naming convention, where \"Dn\" represents the number of dimensions and \"Qm\" represents the number of directions that particles can move. A common flavor of Lattice-Boltzmann (and the particular version which we'll treat in this project) is D2Q9. This is a simulation on a two-dimensional lattice, and particles on that lattice can move in nine different directions. A visual representation of that lattice is shown in Fig. 1.\n",
    "\n",
    "<figure>\n",
    "    <img align=\"center\" width=\"300\" height=\"300\" src=\"lattice.png\" alt='missing' />\n",
    "    <center><figcaption>Fig. 1: Lattice for a D2Q9 Lattice-Boltmann simulation</figcaption></center>\n",
    "</figure>\n",
    "\n",
    "Each cell in this lattice contains ten states. Nine of those states represent the probability density for particles moving in the direction of each of the 8 adjacent cells (north, south, east, west, northeast, northwest, southeast, southwest) and of remaining on the current cell. These states are visually represented for the center cell in Fig. 2A, and labeled in Fig. 2B.\n",
    "\n",
    "A | B \n",
    "- | - \n",
    "<img align=\"center\" width=\"300\" height=\"300\" src=\"lattice_labeled.png\" alt='missing' /><center><figcaption>Visual representation of states in each cell</figcaption></center> | <img align=\"center\" width=\"340\" height=\"340\" src=\"states.png\" alt='missing' /><center><figcaption>States in each cell with names</figcaption></center>\n",
    "Fig. 2 | \n",
    "\n",
    "A particular cell of the lattice may also contain a barrier. These barrier-containing cells are represented by the gray boxes in Fig. 3. This is the (boolean) 10th state for each cell. If that boolean is true, then the cell contains a barrier. If not, then it does not contain a barrier.\n",
    "\n",
    "<figure>\n",
    "    <img align=\"center\" width=\"300\" height=\"300\" src=\"barrier.png\" alt='missing' />\n",
    "    <center><figcaption>Fig. 3: Lattice with barrier</figcaption></center>\n",
    "</figure>\n",
    "\n",
    "### Python/C representation\n",
    "\n",
    "In both Python and C, the instantaneous state of the lattice is contained in 10 arrays. Each of these arrays contains as many elements as there are cells in the lattice. A particular index of the array corresponds to a particular cell in the lattice, and each array holds one of the 10 states for the cell (north, south, east, west, northeast, northwest, southeast, southwest, null, barrier). In both Python and C, one could certainly use 2D arrays to organize this information. I chose to use 1D arrays so that I could work out some of the array manipulations that would be required in Verilog. The mapping from cell to index is `index = (cell row number) * (number of cells per row) + (cell column number)`. The mapping from array index to lattice cell is shown in Fig. 4. The Python code is provided below, and the corresponding C code can be found [at this link](./lb.c.txt).\n",
    "\n",
    "\n",
    "<figure>\n",
    "    <img align=\"center\" width=\"300\" height=\"300\" src=\"index.png\" alt='missing' />\n",
    "    <center><figcaption>Fig. 4: Mapping from array index to cell</figcaption></center>\n",
    "</figure>"
   ]
  },
  {
   "cell_type": "code",
   "execution_count": 29,
   "metadata": {},
   "outputs": [],
   "source": [
    "# Parameters\n",
    "height = 32                      # grid height\n",
    "width = 512                      # grid width\n",
    "viscosity = 0.002                # viscosity\n",
    "omega = 1./(3*viscosity + 0.5)   # relaxation parameter (a function of viscosity)\n",
    "u0 = 0.1                         # initial in-flow speed (eastward)\n",
    "four9ths = 4./9.                 # a constant\n",
    "one9th   = 1./9.                 # a constant\n",
    "one36th  = 1./36.                # a constant\n",
    "\n",
    "# Microscopic densities\n",
    "n0  = numpy.zeros(height*width)  # Naught\n",
    "nN  = numpy.zeros(height*width)  # North\n",
    "nS  = numpy.zeros(height*width)  # South\n",
    "nE  = numpy.zeros(height*width)  # East\n",
    "nW  = numpy.zeros(height*width)  # West\n",
    "nNW = numpy.zeros(height*width)  # Northwest\n",
    "nNE = numpy.zeros(height*width)  # Northeast\n",
    "nSE = numpy.zeros(height*width)  # Southeast\n",
    "nSW = numpy.zeros(height*width)  # Southwest\n",
    "\n",
    "# Barriers\n",
    "bar = numpy.zeros(height*width)  # Barriers\n",
    "\n",
    "# Macroscopic density and velocity\n",
    "rho = numpy.zeros(height*width)    # Cell density\n",
    "ux  = numpy.zeros(height*width)    # Cell x-velocity\n",
    "uy  = numpy.zeros(height*width)    # Cell y-velocity\n",
    "speed2 = numpy.zeros(height*width) # Cell squared velocity"
   ]
  },
  {
   "cell_type": "markdown",
   "metadata": {},
   "source": [
    "### Verilog representation\n",
    "\n",
    "In the Verilog implementation, there are 10 independent memory blocks associated with *each* row of the lattice. Each of these memory blocks can be read/written independently and in parallel, and all memory blocks in separate rows can be read/written in parallel. The first element in the memory block for each row corresponds to column 0, the second element corresponds to column 1, and so on. Please find the Verilog [at this link](lattice_boltzmann.v.txt).\n",
    "\n",
    "<figure>\n",
    "    <img align=\"center\" width=\"800\" height=\"300\" src=\"vrep.png\" alt='missing' />\n",
    "    <center><figcaption>Fig. 5: Storing state information in Verilog</figcaption></center>\n",
    "</figure>"
   ]
  },
  {
   "cell_type": "markdown",
   "metadata": {},
   "source": [
    "***"
   ]
  },
  {
   "cell_type": "markdown",
   "metadata": {},
   "source": [
    "## Streaming\n",
    "\n",
    "\n",
    "### Conceptual overview of streaming\n",
    "\n",
    "In the streaming step of the update, particle densities move to adjacent lattice cells. The \"East\" particle density of a particular cell becomes the \"East\" density of the cell to its east. Likewise for all other directions. The stationary (or \"naught\") densities for each cell remain in those cells. This is represented visually in Fig. 5. Note that, at this step, density may stream *into* barrier cells. The gray cells around the perimeter represent boundary conditions which never change.\n",
    "\n",
    "A | B \n",
    "- | - \n",
    "<img align=\"center\" width=\"340\" height=\"340\" src=\"stream1.png\" alt='missing' /><center><figcaption>Before streaming</figcaption></center> | <img align=\"center\" width=\"340\" height=\"340\" src=\"stream2.png\" alt='missing' /><center><figcaption>After streaming</figcaption></center>\n",
    "Fig. 5: Visualizing streaming| \n",
    "\n",
    "### Python/C streaming\n",
    "\n",
    "In Python/C, streaming can be accomplished in one traversal of the lattice. Some pointer footwork is required to make certain that no cell is overwritten before its previous values have streamed. This means moving through the lattice from each of the four corners. The Python code which implements this is given below, and the corresponding C code can be viewed [here](./lb.c.txt)."
   ]
  },
  {
   "cell_type": "code",
   "execution_count": 13,
   "metadata": {},
   "outputs": [],
   "source": [
    "def stream():\n",
    "    \n",
    "    # Stream all internal cells\n",
    "    for x in range(0, width-1):\n",
    "        for y in range(1, height-1):\n",
    "            # Movement north (Northwest corner)\n",
    "            nN[y*width + x] = nN[y*width + x + width]\n",
    "            # Movement northwest (Northwest corner)\n",
    "            nNW[y*width + x] = nNW[y*width + x + width + 1]\n",
    "            # Movement west (Northwest corner)\n",
    "            nW[y*width + x] = nW[y*width + x + 1]\n",
    "            # Movement south (Southwest corner)\n",
    "            nS[(height-y-1)*width + x] = nS[(height-y-1-1)*width + x]\n",
    "            # Movement southwest (Southwest corner)\n",
    "            nSW[(height-y-1)*width + x] = nSW[(height-y-1-1)*width + x + 1]\n",
    "            # Movement east (Northeast corner)\n",
    "            nE[y*width + (width-x-1)] = nE[y*width + (width-(x+1)-1)]\n",
    "            # Movement northeast (Northeast corner)\n",
    "            nNE[y*width + (width-x-1)] = nNE[y*width + width + (width-(x+1)-1)]\n",
    "            # Movement southeast (Southeast corner)\n",
    "            nSE[(height-y-1)*width + (width-x-1)] = nSE[(height-y-1-1)*width +\n",
    "                                                        (width-(x+1)-1)]  \n",
    "            \n",
    "    # Tidy up the edges\n",
    "    x += 1\n",
    "    for y in range(1, height-1):\n",
    "        # Movement north on right boundary (Northwest corner)\n",
    "        nN[y*width + x] = nN[y*width + x + width]\n",
    "        # Movement south on right boundary (Southwest corner)\n",
    "        nS[(height-y-1)*width + x] = nS[(height-y-1-1)*width + x]"
   ]
  },
  {
   "cell_type": "markdown",
   "metadata": {},
   "source": [
    "### Verilog streaming\n",
    "\n",
    "All *rows* of the lattice are streamed in *parallel* on the FPGA. We do this by introducing a two-column pipeline to the memory block reads. We then scan from column 0 to the final column, and we rewrite the data in each memory block as we move. This is the first example of acceleration via parallelization on the FPGA. We needn't loop through every cell in the lattice, we need only loop through every column.\n",
    "\n",
    "The full state machine is linked [here](./lattice_boltzmann.v.txt). Streaming occurs in states 20-23."
   ]
  },
  {
   "cell_type": "markdown",
   "metadata": {},
   "source": [
    "***"
   ]
  },
  {
   "cell_type": "markdown",
   "metadata": {},
   "source": [
    "## Bouncing\n",
    "\n",
    "### Conceptual overview of bouncing\n",
    "\n",
    "After all particle densities have moved to adjacent lattice cells, we do a subsequent pass through the lattice to bounce densities off of barriers. Any cell which contains a barrier reflects any densities that it contains after streaming *back* into the cell from which it streamed. When those densities are bounced back, they also reverse direction. So, if a cell streamed density eastward into a barrier, that density would bounce back and point westward after bouncing. This is illustrated in Fig. 6.\n",
    "\n",
    "A | B | C \n",
    "- | - | - \n",
    "<img align=\"center\" width=\"340\" height=\"340\" src=\"stream1.png\" alt='missing' /><center><figcaption>Before streaming</figcaption></center> | <img align=\"center\" width=\"340\" height=\"340\" src=\"stream2.png\" alt='missing' /><center><figcaption>After streaming, before bouncing</figcaption></center> | <img align=\"center\" width=\"340\" height=\"340\" src=\"stream3.png\" alt='missing' /><center><figcaption>After bouncing</figcaption></center>\n",
    " |Fig. 6: Streaming and bouncing | \n",
    "\n",
    "### Python/C bouncing\n",
    "\n",
    "As with streaming, we loop through all cells in the lattice (omitting those at the boundaries, where boundary conditions are enforced). If a particular cell contains a barrier, then any densities contained in that cell get pushed back from whence they came, reversing direction in the process. The Python code which implements this is given below, and the corresponding C code can be viewed [here](./lb.c.txt)."
   ]
  },
  {
   "cell_type": "code",
   "execution_count": 14,
   "metadata": {},
   "outputs": [],
   "source": [
    "def bounce():\n",
    "    \n",
    "    # Loop through all interior cells\n",
    "    for x in range(2, width-2):\n",
    "        for y in range(2, height-2):\n",
    "            \n",
    "            # If the cell contains a boundary . . .\n",
    "            if (bar[y*width + x]):\n",
    "                \n",
    "                # Push densities back from whence they came\n",
    "                nN[(y-1)*width + x] = nS[y*width + x]\n",
    "                nS[(y+1)*width + x] = nN[y*width + x]\n",
    "                nE[y*width + x + 1] = nW[y*width + x]\n",
    "                nW[y*width + (x-1)] = nE[y*width + x]    \n",
    "                nNE[(y-1)*width + (x+1)] = nSW[y*width + x]\n",
    "                nNW[(y-1)*width + (x-1)] = nSE[y*width + x]\n",
    "                nSE[(y+1)*width + (x+1)] = nNW[y*width + x]\n",
    "                nSW[(y+1)*width + (x-1)] = nNE[y*width + x]\n",
    "                \n",
    "                # Clear the densities in the barrier cells\n",
    "                n0[y*width + x] = 0\n",
    "                nN[y*width + x] = 0\n",
    "                nS[y*width + x] = 0\n",
    "                nE[y*width + x] = 0\n",
    "                nW[y*width + x] = 0\n",
    "                nNE[y*width + x] = 0\n",
    "                nNW[y*width + x] = 0\n",
    "                nSE[y*width + x] = 0\n",
    "                nSW[y*width + x] = 0\n",
    "                "
   ]
  },
  {
   "cell_type": "markdown",
   "metadata": {},
   "source": [
    "### Verilog bouncing\n",
    "\n",
    "As with streaming, the Verilog implements bouncing in parallel across all rows. Rather than moving through every cell in the lattice, we instead move through every column. [See states 0-4](./lattice_boltzmann.v.txt)."
   ]
  },
  {
   "cell_type": "markdown",
   "metadata": {},
   "source": [
    "***"
   ]
  },
  {
   "cell_type": "markdown",
   "metadata": {},
   "source": [
    "## Colliding\n",
    "\n",
    "### Conceptual overview of colliding\n",
    "\n",
    "**Note**: For an approachable derivation of the equations presented in this section, please see [Daniel Schroeder's writeup on the topic](https://physics.weber.edu/schroeder/javacourse/LatticeBoltzmann.pdf).\n",
    "\n",
    "After streaming, each cell in the lattice has a new set of values for its nine densities. From those densities, we can compute the macroscopic density for that cell, and the average (macroscopic) cell velocities.\n",
    "\n",
    "\\begin{align}\n",
    "\\rho &= n_0 + n_N + n_E + n_S + n_W + n_{NE} + n_{SE} + n_{SW} + n_{NW} = \\text{total density}\\\\\n",
    "u_x &= \\frac{n_E + n_{NE} + n_{SE} - n_W - n_{NW} - n_{SW}}{\\rho} = \\text{average cell x velocity}\\\\\n",
    "u_y &= \\frac{n_N + n_{NE} + n_{NW} - n_S - n_{SE} - n_{SW}}{\\rho} = \\text{average cell y velocity}\n",
    "\\end{align}\n",
    "\n",
    "From the macroscopic density $\\rho$ and velocity $\\overline{u} = [u_x, u_y]$, we can compute what the nine densities *would be* if the system were in equilibrium.\n",
    "\n",
    "\\begin{align}\n",
    "n_i^{eq} &= \\rho w_i \\left[ 1 + 3\\overline{e}_i \\cdot \\overline{u} + \\frac{9}{2} \\left(\\overline{e}_i \\cdot \\overline{u}\\right)^2 - \\frac{3}{2} |\\overline{u}|^2\\right]\n",
    "\\end{align}\n",
    "\n",
    "Each of those $w_i$'s is a weight.\n",
    "\n",
    "\\begin{align}\n",
    "\\omega_0 = \\frac{4}{9} && \\omega_N = \\omega_E = \\omega_S = \\omega_W = \\frac{1}{9} && \\omega_{NE} = \\omega_{NW} = \\omega_{SW} = \\omega_{SE} = \\frac{1}{36}\n",
    "\\end{align}\n",
    "\n",
    "From the general expression above, we can write down the specific expressions for each of the nine densitites.\n",
    "\n",
    "\\begin{align}\n",
    "n_0^{eq} &= \\rho \\cdot \\frac{4}{9} \\left[1 - \\frac{3}{2}\\left(u_x^2 + u_y^2\\right)\\right]\\\\\n",
    "n_N^{eq} &= \\rho \\cdot \\frac{1}{9} \\left[1 + 3u_y + \\frac{9}{2}u_y^2- \\frac{3}{2}\\left(u_x^2 + u_y^2\\right)\\right]\\\\\n",
    "n_S^{eq} &= \\rho \\cdot \\frac{1}{9} \\left[1 - 3u_y + \\frac{9}{2}u_y^2- \\frac{3}{2}\\left(u_x^2 + u_y^2\\right)\\right]\\\\\n",
    "n_E^{eq} &= \\rho \\cdot \\frac{1}{9} \\left[1 + 3u_x + \\frac{9}{2}u_x^2- \\frac{3}{2}\\left(u_x^2 + u_y^2\\right)\\right]\\\\\n",
    "n_W^{eq} &= \\rho \\cdot \\frac{1}{9} \\left[1 - 3u_x + \\frac{9}{2}u_x^2- \\frac{3}{2}\\left(u_x^2 + u_y^2\\right)\\right]\\\\\n",
    "n_{NE}^{eq} &= \\rho \\cdot \\frac{1}{36} \\left[1 + 3(u_x+u_y) + \\frac{9}{2}(u_x+u_y)^2- \\frac{3}{2}\\left(u_x^2 + u_y^2\\right)\\right]\\\\\n",
    "n_{SE}^{eq} &= \\rho \\cdot \\frac{1}{36} \\left[1 + 3(u_x-u_y) + \\frac{9}{2}(u_x-u_y)^2- \\frac{3}{2}\\left(u_x^2 + u_y^2\\right)\\right]\\\\\n",
    "n_{NW}^{eq} &= \\rho \\cdot \\frac{1}{36} \\left[1 + 3(-u_x+u_y) + \\frac{9}{2}(-u_x+u_y)^2- \\frac{3}{2}\\left(u_x^2 + u_y^2\\right)\\right]\\\\\n",
    "n_{SW}^{eq} &= \\rho \\cdot \\frac{1}{36} \\left[1 + 3(-u_x-u_y) + \\frac{9}{2}(-u_x-u_y)^2- \\frac{3}{2}\\left(u_x^2 + u_y^2\\right)\\right]\\\\\n",
    "\\end{align}\n",
    "\n",
    "In practice, we'll compute the total density, compute all eight nonzero densities, and then determine the zero vector density such that it conserves mass. If we wanted for the time scale for reaching equilibrium to match the timestep of the simulation, then we would simply set all the cell densities to these equilibrium values. But these two timescales needn't be identical, so we will instead relax the system toward equilibrium with the parameter $\\omega$. This parameter is related to the viscosity of the fluid. A larger $\\omega$ means that the collisions happen more quickly.\n",
    "\n",
    "\\begin{align}\n",
    "n_i^{new} &= n_{i}^{old} + \\omega\\left(n_i^{eq} - n_i^{old}\\right)\n",
    "\\end{align}\n",
    "\n",
    "Once all the new densities have been computed for each cell, we might draw an updated picture (of speed, or density, or curl), and then stream all particles and go through the process again."
   ]
  },
  {
   "cell_type": "markdown",
   "metadata": {},
   "source": [
    "### Python/C colliding\n",
    "\n",
    "The Python code which implements collisions is shown below, and the corresponding C code can be viewed [here](./lb.c.txt)."
   ]
  },
  {
   "cell_type": "code",
   "execution_count": 15,
   "metadata": {},
   "outputs": [],
   "source": [
    "def collide():\n",
    "    \n",
    "    # Do not touch cells on top, bottom, or left\n",
    "    for x in range(1, width-1):\n",
    "        for y in range(1, height-1):\n",
    "            \n",
    "            # What's our current index?\n",
    "            i = y*width + x\n",
    "            \n",
    "            # Skip over cells containing barriers\n",
    "            if (bar[i]):\n",
    "                continue\n",
    "                \n",
    "            else:\n",
    "                # Compute the macroscopic density\n",
    "                rho[i] = n0[i] + nN[i] + nE[i] + nS[i] + nW[i] + nNE[i] + nSE[i] + nSW[i] + nNW[i]\n",
    "                # Compute the macroscopic velocities\n",
    "                if (rho[i] > 0):\n",
    "                    ux[i]  = (nE[i] + nNE[i] + nSE[i] - nW[i] - nNW[i] - nSW[i]) * (1-(rho[i]-1)+((rho[i]-1)**2.))\n",
    "                    uy[i]  = (nN[i] + nNE[i] + nNW[i] - nS[i] - nSE[i] - nSW[i]) * (1-(rho[i]-1)+((rho[i]-1)**2.))\n",
    "                    \n",
    "                # Pre-compute some convenient constants\n",
    "                one9th_rho = one9th * rho[i]\n",
    "                one36th_rho = one36th * rho[i]\n",
    "                vx3 = 3 * ux[i]\n",
    "                vy3 = 3 * uy[i]\n",
    "                vx2 = ux[i] * ux[i]\n",
    "                vy2 = uy[i] * uy[i]\n",
    "                vxvy2 = 2 * ux[i] * uy[i]\n",
    "                v2 = vx2 + vy2\n",
    "                speed2[i] = v2\n",
    "                v215 = 1.5 * v2\n",
    "                \n",
    "                # Update densities\n",
    "                nE[i]  += omega * (   one9th_rho * (1 + vx3       + 4.5*vx2        - v215) - nE[i])\n",
    "                nW[i]  += omega * (   one9th_rho * (1 - vx3       + 4.5*vx2        - v215) - nW[i])\n",
    "                nN[i]  += omega * (   one9th_rho * (1 + vy3       + 4.5*vy2        - v215) - nN[i])\n",
    "                nS[i]  += omega * (   one9th_rho * (1 - vy3       + 4.5*vy2        - v215) - nS[i])\n",
    "                nNE[i] += omega * (  one36th_rho * (1 + vx3 + vy3 + 4.5*(v2+vxvy2) - v215) - nNE[i])\n",
    "                nNW[i] += omega * (  one36th_rho * (1 - vx3 + vy3 + 4.5*(v2-vxvy2) - v215) - nNW[i])\n",
    "                nSE[i] += omega * (  one36th_rho * (1 + vx3 - vy3 + 4.5*(v2-vxvy2) - v215) - nSE[i])\n",
    "                nSW[i] += omega * (  one36th_rho * (1 - vx3 - vy3 + 4.5*(v2+vxvy2) - v215) - nSW[i])\n",
    "                \n",
    "                # Conserve mass\n",
    "                n0[i]   = rho[i] - (nE[i]+nW[i]+nN[i]+nS[i]+nNE[i]+nSE[i]+nNW[i]+nSW[i]);"
   ]
  },
  {
   "cell_type": "markdown",
   "metadata": {},
   "source": [
    "### Verilog colliding\n",
    "\n",
    "The particular FPGA that I'm using (a Cyclone V on a DE1-SoC) contains 74 DSP blocks. I'm using fixed-point, 3.17 arithmetic, which means that each row can use two multipliers in parallel. The arithmetic described above is implemented in a 13-stage state machine, which uses (at maximum) two multipliers per state. As with bouncing and streaming, collisions are row-wise parallel. [See states 5-18 in the Verilog](./lattice_boltzmann.v.txt)."
   ]
  },
  {
   "cell_type": "markdown",
   "metadata": {},
   "source": [
    "## Initial conditions\n",
    "\n",
    "For this particular simulation, all cells get initialized with a density of 1, and with an eastward macroscopic velocity $u_x$ of 0.1. From this macroscopic velocity, we compute all the equilibrium number densities. The initialization function also builds a linear boundary of user-specified height and location on the lattice."
   ]
  },
  {
   "cell_type": "markdown",
   "metadata": {},
   "source": [
    "### Python initializations\n",
    "\n",
    "The Python code which initializes the lattice is given below. The corresponding C code can be viewed [here](./lb.c.txt)."
   ]
  },
  {
   "cell_type": "code",
   "execution_count": 11,
   "metadata": {},
   "outputs": [],
   "source": [
    "def initialize(xtop, ytop, yheight, u0=u0):\n",
    "    xcoord = 0\n",
    "    ycoord = 0\n",
    "    \n",
    "    count = 0\n",
    "    for i in range(height*width):\n",
    "        n0[i] = four9ths* (1 - 1.5*(u0**2.))\n",
    "        nN[i] = one9th  * (1 - 1.5*(u0**2.))\n",
    "        nS[i] = one9th  * (1 - 1.5*(u0**2.))\n",
    "        nE[i] = one9th  * (1 + 3*u0 + 4.5*(u0**2.) - 1.5*(u0**2.))\n",
    "        nW[i] = one9th  * (1 - 3*u0 + 4.5*(u0**2.) - 1.5*(u0**2.))\n",
    "        nNE[i]= one36th * (1 + 3*u0 + 4.5*(u0**2.) - 1.5*(u0**2.))\n",
    "        nSE[i]= one36th * (1 + 3*u0 + 4.5*(u0**2.) - 1.5*(u0**2.))\n",
    "        nNW[i]= one36th * (1 - 3*u0 + 4.5*(u0**2.) - 1.5*(u0**2.))\n",
    "        nSW[i]= one36th * (1 - 3*u0 + 4.5*(u0**2.) - 1.5*(u0**2.))\n",
    "        \n",
    "        rho[i] =  n0[i] + nN[i] + nS[i] + nE[i] + nW[i] + nNE[i] + nSE[i] + nNW[i] + nSW[i]\n",
    "        \n",
    "        ux[i]  = (nE[i] + nNE[i] + nSE[i] - nW[i] - nNW[i] - nSW[i]) * (1-(rho[i]-1)+((rho[i]-1)**2.))\n",
    "        uy[i]  = (nN[i] + nNE[i] + nNW[i] - nS[i] - nSE[i] - nSW[i]) * (1-(rho[i]-1)+((rho[i]-1)**2.))\n",
    "        \n",
    "        if (xcoord==xtop):\n",
    "            if (ycoord >= ytop):\n",
    "                if (ycoord < (ytop+yheight)):\n",
    "                    count += 1\n",
    "                    bar[ycoord*width + xcoord] = 1\n",
    "        \n",
    "        xcoord = (xcoord+1) if xcoord<(width-1) else 0\n",
    "        ycoord = ycoord if (xcoord != 0) else (ycoord + 1)"
   ]
  },
  {
   "cell_type": "markdown",
   "metadata": {},
   "source": [
    "### Verilog initializations\n",
    "\n",
    "Initialization occurs in [state 19](./lattice_boltzmann.v.txt)."
   ]
  },
  {
   "cell_type": "markdown",
   "metadata": {},
   "source": [
    "***"
   ]
  },
  {
   "cell_type": "markdown",
   "metadata": {},
   "source": [
    "## Animation\n",
    "\n",
    "We animate the fluid motion over the barriers by repeatedly streaming, bouncing, and colliding the densities. One might choose to visualize any one of a number of macroscopic cell properties (x velocity, y velocity, density, curl, etc.). In these animations, we visualize the squared velocity of the fluid in each cell.\n",
    "\n",
    "### Python animation\n",
    "\n",
    "The code for generating an animation in Python is provided below. To generate each of the two animations shown in the embedded video took a few hours.\n",
    "\n",
    "<iframe width=\"560\" height=\"315\" src=\"https://www.youtube.com/embed/FB2ykB5bLnM\" title=\"YouTube video player\" frameborder=\"0\" allow=\"accelerometer; autoplay; clipboard-write; encrypted-media; gyroscope; picture-in-picture; web-share\" allowfullscreen></iframe>"
   ]
  },
  {
   "cell_type": "code",
   "execution_count": 70,
   "metadata": {},
   "outputs": [
    {
     "name": "stdout",
     "output_type": "stream",
     "text": [
      "Done!\n"
     ]
    },
    {
     "data": {
      "image/png": "[encoded data removed]",
      "text/plain": [
       "<Figure size 1440x360 with 1 Axes>"
      ]
     },
     "metadata": {
      "needs_background": "light"
     },
     "output_type": "display_data"
    }
   ],
   "source": [
    "# Frames per second, and number of seconds\n",
    "fps = 600\n",
    "nSeconds = 15\n",
    "\n",
    "# First set up the figure, the axis, and the plot element we want to animate\n",
    "fig = plt.figure( figsize=(20,5) )\n",
    "\n",
    "# Initialize the barriers (occurs in previous section)\n",
    "initialize(25, 11, 10)\n",
    "\n",
    "# Don't animate first few frames\n",
    "for i in range(10):\n",
    "    stream()\n",
    "    bounce()\n",
    "    collide()\n",
    "\n",
    "# Plot which we'll be animating\n",
    "a = speed2\n",
    "im = plt.imshow(a.reshape(height,width))\n",
    "\n",
    "# Animation function (stream, bounce, collide, and update heatmap)\n",
    "def animate_func(i):\n",
    "    stream()\n",
    "    bounce()\n",
    "    collide()\n",
    "    im.set_array(speed2.reshape(height, width))\n",
    "    return [im]\n",
    "\n",
    "# Animation object\n",
    "anim = animation.FuncAnimation(\n",
    "                               fig, \n",
    "                               animate_func, \n",
    "                               frames = nSeconds * fps,\n",
    "                               interval = 1000 / fps, # in ms\n",
    "                               )\n",
    "\n",
    "print('Done!')\n",
    "\n",
    "# Generate an mp4 video of the animation\n",
    "f = r\"./animation4.mp4\" \n",
    "writervideo = animation.FFMpegWriter(fps=600) \n",
    "anim.save(f, writer=writervideo)"
   ]
  },
  {
   "cell_type": "markdown",
   "metadata": {},
   "source": [
    "### C animation\n",
    "\n",
    "The C code animates to the VGA display by means of the [Altera video core](./Video_core.pdf). The Arm A9 communicates pixel data from L3 cache --> Axi bus --> Avalon bus --> SDRAM. Then, the Altera video core scans through that SDRAM to gather pixel data for display. The associated C code is available [here](./lattice_boltzmann_de1.c.txt).\n",
    "\n",
    "\n",
    "### Verilog animation\n",
    "\n",
    "The Verilog uses a [custom VGA driver](https://vanhunteradams.com/DE1/VGA_Driver/Driver.html) to avoid bottlenecks when writing to VGA memory. Each parallel solver writes to its own memory block (in parallel), and the custom VGA driver then multiplexes into those memory blocks to access pixel information. The memory blocks support read during write, so this eliminates all bottlenecks and avoids transactions over the Avalon bus."
   ]
  },
  {
   "cell_type": "markdown",
   "metadata": {},
   "source": [
    "***"
   ]
  }
 ],
 "metadata": {
  "kernelspec": {
   "display_name": "Python 3",
   "language": "python",
   "name": "python3"
  },
  "language_info": {
   "codemirror_mode": {
    "name": "ipython",
    "version": 3
   },
   "file_extension": ".py",
   "mimetype": "text/x-python",
   "name": "python",
   "nbconvert_exporter": "python",
   "pygments_lexer": "ipython3",
   "version": "3.8.3"
  }
 },
 "nbformat": 4,
 "nbformat_minor": 4
}
