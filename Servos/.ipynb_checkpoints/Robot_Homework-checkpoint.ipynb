{
 "cells": [
  {
   "cell_type": "markdown",
   "metadata": {},
   "source": [
    "# Homework and Reading for Servo Lab"
   ]
  },
  {
   "cell_type": "markdown",
   "metadata": {},
   "source": [
    "#### ECE 4760, Adams/Land, Spring 2021"
   ]
  },
  {
   "cell_type": "markdown",
   "metadata": {},
   "source": [
    "In order to complete the first lab checkout on time, the following reading and problems should be completed **before the start of the first lab section for this lab.**"
   ]
  },
  {
   "cell_type": "markdown",
   "metadata": {},
   "source": [
    "## Reading"
   ]
  },
  {
   "cell_type": "markdown",
   "metadata": {},
   "source": [
    "All of the readings from Labs 1, 2, and 3 plus:"
   ]
  },
  {
   "cell_type": "markdown",
   "metadata": {},
   "source": [
    ">- [**The lab webpage.**](http://people.ece.cornell.edu/land/courses/ece4760/labs/s2021/Servos/Servos.html) - It is *extremely critical* that you read the *entire webpage for this lab* ***before*** the start of the first lab section.<br><br>\n",
    ">- [**Timers** (Reference Manual Section 14)](http://people.ece.cornell.edu/land/courses/ece4760/PIC32/Microchip_stuff/Ref_Manual/section_14_Timers.pdf) - review the part about chaining 2 16-bit timers to create a 32-bit timer\n",
    ">- [**Output Compare** (Reference Manual Section 16)](http://people.ece.cornell.edu/land/courses/ece4760/PIC32/Microchip_stuff/Ref_Manual/section_16_OutputCompare.pdf)<br><br>\n",
    ">- [**PLIB Manual** (Section 13)](http://ww1.microchip.com/downloads/en/DeviceDoc/32bitPeripheralLibraryGuide.pdf)"
   ]
  },
  {
   "cell_type": "markdown",
   "metadata": {},
   "source": [
    "## Questions"
   ]
  },
  {
   "cell_type": "markdown",
   "metadata": {},
   "source": [
    "#### Question 1"
   ]
  },
  {
   "cell_type": "markdown",
   "metadata": {},
   "source": [
    "The servo motors require a PWM period of 20 ms. At a CPU rate of 40 MHz, how many CPU cycles correspond to 20ms? How many bits are required to represent that number of cycles?"
   ]
  },
  {
   "cell_type": "markdown",
   "metadata": {},
   "source": [
    "#### Question 2"
   ]
  },
  {
   "cell_type": "markdown",
   "metadata": {},
   "source": [
    "You may find, based on your answer to Question 1, that you require a timer with more than 16 bits. Which two timers can be chained to create a 32-bit timer? Write the code that chains these two timers and sets up an interrupt to trigger every 20ms."
   ]
  },
  {
   "cell_type": "markdown",
   "metadata": {},
   "source": [
    "#### Question 3"
   ]
  },
  {
   "cell_type": "markdown",
   "metadata": {},
   "source": [
    "Write the code that opens Output Compare 3 on RPA3 and Output Compare 4 on RPA2. Both of these should be opened in 32-bit mode, and should use the chained 32-bit timer."
   ]
  }
 ],
 "metadata": {
  "kernelspec": {
   "display_name": "Python 3",
   "language": "python",
   "name": "python3"
  },
  "language_info": {
   "codemirror_mode": {
    "name": "ipython",
    "version": 3
   },
   "file_extension": ".py",
   "mimetype": "text/x-python",
   "name": "python",
   "nbconvert_exporter": "python",
   "pygments_lexer": "ipython3",
   "version": "3.8.3"
  }
 },
 "nbformat": 4,
 "nbformat_minor": 4
}
