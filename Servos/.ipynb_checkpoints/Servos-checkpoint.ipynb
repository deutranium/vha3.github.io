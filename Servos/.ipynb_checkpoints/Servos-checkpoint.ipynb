{
 "cells": [
  {
   "cell_type": "markdown",
   "metadata": {},
   "source": [
    "# Robot that gets bored in Zoom meetings"
   ]
  },
  {
   "cell_type": "markdown",
   "metadata": {},
   "source": [
    "#### ECE 4760, Spring 2021, Adams/Land"
   ]
  },
  {
   "cell_type": "code",
   "execution_count": 5,
   "metadata": {},
   "outputs": [
    {
     "data": {
      "text/html": [
       "<script>\n",
       "code_show=true; \n",
       "function code_toggle() {\n",
       " if (code_show){\n",
       " $('div.input').hide();\n",
       " } else {\n",
       " $('div.input').show();\n",
       " }\n",
       " code_show = !code_show\n",
       "} \n",
       "$( document ).ready(code_toggle);\n",
       "</script>\n",
       "<form action=\"javascript:code_toggle()\"><input type=\"submit\" value=\"Click here to toggle on/off the raw code.\"></form>"
      ],
      "text/plain": [
       "<IPython.core.display.HTML object>"
      ]
     },
     "execution_count": 5,
     "metadata": {},
     "output_type": "execute_result"
    }
   ],
   "source": [
    "HTML('''<script>\n",
    "code_show=true; \n",
    "function code_toggle() {\n",
    " if (code_show){\n",
    " $('div.input').hide();\n",
    " } else {\n",
    " $('div.input').show();\n",
    " }\n",
    " code_show = !code_show\n",
    "} \n",
    "$( document ).ready(code_toggle);\n",
    "</script>\n",
    "<form action=\"javascript:code_toggle()\"><input type=\"submit\" value=\"Click here to toggle on/off the raw code.\"></form>''')"
   ]
  },
  {
   "cell_type": "code",
   "execution_count": 6,
   "metadata": {},
   "outputs": [
    {
     "data": {
      "text/html": [
       "\n",
       "<style>\n",
       ".output_png {\n",
       "    display: table-cell;\n",
       "    text-align: center;\n",
       "    vertical-align: middle;\n",
       "}\n",
       "</style>\n"
      ],
      "text/plain": [
       "<IPython.core.display.HTML object>"
      ]
     },
     "execution_count": 6,
     "metadata": {},
     "output_type": "execute_result"
    }
   ],
   "source": [
    "import numpy\n",
    "import matplotlib.pyplot as plt\n",
    "from IPython.display import Audio\n",
    "from IPython.display import Image\n",
    "from scipy import signal\n",
    "from scipy.fft import fftshift\n",
    "from scipy.io import wavfile\n",
    "plt.rcParams['figure.figsize'] = [12, 3]\n",
    "from IPython.core.display import HTML\n",
    "HTML(\"\"\"\n",
    "<style>\n",
    ".output_png {\n",
    "    display: table-cell;\n",
    "    text-align: center;\n",
    "    vertical-align: middle;\n",
    "}\n",
    "</style>\n",
    "\"\"\")"
   ]
  },
  {
   "cell_type": "markdown",
   "metadata": {},
   "source": [
    "## Webpage table of contents"
   ]
  },
  {
   "cell_type": "markdown",
   "metadata": {},
   "source": [
    "> - [Introduction](#Introduction)\n",
    "> - [Hardware](#Hardware)\n",
    "> > - [Micro servos](#Micro-Servos)\n",
    "> > - [Connections to PIC32](#Connections-to-PIC32)\n",
    "> - [Program Organization](#Program-Organization)\n",
    "> - [Weekly checkpoints and lab report](#Weekly-checkpoints-and-lab-report)\n",
    "> > - [Week one checkpoint](#Week-one-checkpoint)\n",
    "> > - [Week two checkpoint](#Week-two-assignment)\n",
    "> > - [Lab report](#Lab-Report)\n",
    "> - [Opportunities to keep going](#Opportunities-to-keep-going)"
   ]
  },
  {
   "cell_type": "markdown",
   "metadata": {},
   "source": [
    "## Introduction"
   ]
  },
  {
   "cell_type": "markdown",
   "metadata": {},
   "source": [
    "In this lab, you will give a very simple robot a personality. \n",
    "\n",
    "The nature of this lab is a bit different than that of the other labs. In all of the previous laboratory assignments, you built tools of some variety. In the first lab, you built a tool for understanding birdsong. In the second, you built a tool for understanding flocking behavior. In the third lab, you built a tool for doing realtime frequency analysis. The outcome of this lab will not be a tool that could be used for some other purpose. Instead, the objective of this lab is to *build something that makes you smile.* The extent to which a couple of simple behaviors can give a robot a personality is remarkable. In this lab, you are tasked with creating that personality, subject to a couple constraints. One of those constraints is that the robot must react to your voice."
   ]
  },
  {
   "cell_type": "markdown",
   "metadata": {},
   "source": [
    "<iframe width=\"560\" height=\"315\" src=\"https://www.youtube.com/embed/1d1NcKnuzK4\" frameborder=\"0\" allow=\"accelerometer; autoplay; clipboard-write; encrypted-media; gyroscope; picture-in-picture\" allowfullscreen></iframe>"
   ]
  },
  {
   "cell_type": "markdown",
   "metadata": {},
   "source": [
    "## Hardware"
   ]
  },
  {
   "cell_type": "markdown",
   "metadata": {},
   "source": [
    "#### Micro Servos"
   ]
  },
  {
   "cell_type": "markdown",
   "metadata": {},
   "source": [
    "The \"robot\" used for this lab is simply composed of two micro-servos (SG90) arranged in a pan/tilt configuration. A passive piece of hardware is mounted on top of the assembly to give the appearance of eyes. Every behavior that you program will be a sequence of pan/tilt commands to the servos."
   ]
  },
  {
   "cell_type": "markdown",
   "metadata": {},
   "source": [
    "Each of these servos is controlled using pulse-width modulation. The period of the PWM signal is 20 ms (50 Hz), and the length of the pulse is 1-2 ms. A pulse-width of 1 ms corresponds to a \"left\" position of the servo (which can rotate 180 degrees). A pulse-width of 1.5 ms corresponds to the center position, and 2 ms corresponds to the right position. See the image below."
   ]
  },
  {
   "cell_type": "markdown",
   "metadata": {},
   "source": [
    "**Note**: Because of the physical arrangement of the assembly, the \"tilt\" servo is constrained in the range of 90-180 degrees. It cannot look \"down,\" in other words."
   ]
  },
  {
   "cell_type": "markdown",
   "metadata": {},
   "source": [
    "<figure>\n",
    "    <img align=\"center\" width=\"600\" height=\"200\" src=\"pwm.png\" alt='missing' />\n",
    "    <center><figcaption>PWM signal for controlling servos.</figcaption></center>\n",
    "</figure>"
   ]
  },
  {
   "cell_type": "markdown",
   "metadata": {},
   "source": [
    "In order to generate these PWM signals, you will need to setup two output compare units on a 32-bit timer. See the [timer page](http://people.ece.cornell.edu/land/courses/ece4760/PIC32/index_Timers.html) for information about setting up a 32-bit timer and output-compare units. Note that you will need to configure the output compare units to 32-bit mode, as shown below for OC3:"
   ]
  },
  {
   "cell_type": "markdown",
   "metadata": {},
   "source": [
    "`OpenOC3(OC_ON | OC_TIMER_MODE32 | OC_TIMER2_SRC | OC_PWM_FAULT_PIN_DISABLE , 0, 0) ;`"
   ]
  },
  {
   "cell_type": "markdown",
   "metadata": {},
   "source": [
    "#### Connections to PIC32"
   ]
  },
  {
   "cell_type": "markdown",
   "metadata": {},
   "source": [
    "- **Serial**: serial default for protothreads (1.3.2) uses pins: <br>\n",
    "`PPSInput(2, U2RX, RPA1)`<br>\n",
    "`PPSOutput(4, RPB10, U2TX)`<br>\n",
    "*Be sure to uncomment* `#define use_art_serial` *in the config file.*\n",
    "- **Output compare**: <br>\n",
    "`PPSOutput(4, RPA3, OC3) ;  // configure OC3 to RPA3 `<br>\n",
    "`PPSOutput(3, RPA2, OC4) ;  // configure OC4 to RPA2 `\n",
    "- **ADC**: <br>\n",
    "`SetChanADC10( ADC_CH0_NEG_SAMPLEA_NVREF | ADC_CH0_POS_SAMPLEA_AN11 ); // configure to sample AN11 `\n",
    "- **TFT**: As described on the [Big Board page](http://people.ece.cornell.edu/land/courses/ece4760/PIC32/target_board.html)\n",
    "- **Scope Probe 1**: `RPA3`\n",
    "- **Scope Probe 2**: `RPA2`<br>\n",
    "*Probes movable upon request*"
   ]
  },
  {
   "cell_type": "markdown",
   "metadata": {},
   "source": [
    "## Program Organization"
   ]
  },
  {
   "cell_type": "markdown",
   "metadata": {},
   "source": [
    "Here is a suggestion for how to organize your program."
   ]
  },
  {
   "cell_type": "markdown",
   "metadata": {},
   "source": [
    "- **Protothreads** maintains the ISR-driven, millisecond-scale timing as part of the supplied system. Use this for all low-precision timing (can have several milliseconds jitter).\n",
    "- **Output-Compare ISR** uses a timer interrupt to ensure a 20ms period for the PWM signals to the servos\n",
    "> - Sets the duty cycle for the PWM signals to each motor\n",
    "> - Gathers of sample from the ADC\n",
    "> - If that sample exceeds a certain threshold (i.e. volume), signals Personality Thread to return the motors to their pre-programmed positions.\n",
    "- **Main** sets up peripherals and protothreads then just schedules tasks, round-robin\n",
    "> - Opens 32-bit interrupt timer and configures interrupt\n",
    "> - Opens and configures ADC\n",
    "> - Opens and configures output compare modules\n",
    "> - Sets up protothreads and schedules tasks round-robin\n",
    "- **Python Serial Input Thread [(see here)](https://people.ece.cornell.edu/land/courses/ece4760/PIC32/index_remote.html)**\n",
    "> - Waits for serial command from Python user interface\n",
    "> - Places system into \"Programming\" or \"Active\" mode based on state of Python toggle switch\n",
    "> - In \"Programming\" mode, sets position of servos with slider values and stores those positions in global variables\n",
    "- **Personality Thread**\n",
    "> - In the absence of audio input, manipulates the PWM signals to each motor to exhibit some personality\n",
    "> - When audio input is received, returns the motors to their pre-programmed positions (either instantly or slowly). The motors should remain in that position for a programmed amount of time, and then return to their personality-exhibiting mode."
   ]
  },
  {
   "cell_type": "markdown",
   "metadata": {},
   "source": [
    "## Weekly checkpoints and lab report"
   ]
  },
  {
   "cell_type": "markdown",
   "metadata": {},
   "source": [
    "#### Week one checkpoint"
   ]
  },
  {
   "cell_type": "markdown",
   "metadata": {},
   "source": [
    "By the end of lab section in week one you must have:"
   ]
  },
  {
   "cell_type": "markdown",
   "metadata": {},
   "source": [
    "- Programming Mode working. That is, you must be able to control the positions of both servos using sliders in the Python interface. See the first 15 seconds of the video above.\n",
    "- *Finishing a checkpoint does NOT mean you can leave lab early!*"
   ]
  },
  {
   "cell_type": "markdown",
   "metadata": {},
   "source": [
    "#### Week two assignment"
   ]
  },
  {
   "cell_type": "markdown",
   "metadata": {},
   "source": [
    "*Write a Protothreads C program which will:*\n",
    "\n",
    "- The program will have two modes: Programming and Active.\n",
    "- At reset, the program starts in Programming mode. In this mode, the positions of the servo motors are controlled by sliders in the Python user interface. The user manipulates the robot into the position to which it will return in Active mode.\n",
    "- De-selecting a toggle switch in the Python interface places the system into Active mode. In this mode, the robot exhibits some behavior (i.e. looks around) until audio above a threshold volume is detected.\n",
    "- When audio above a threshold volume is detected, the robot returns to its pre-programmed position for a short amount of time (1-2 seconds), and then resumes looking around.\n",
    "- Selecting the \"Programming Mode\" toggle switch in the Python interface places the system back into Programming mode, and allows the user to select a new return position for the robot."
   ]
  },
  {
   "cell_type": "markdown",
   "metadata": {},
   "source": [
    "*Write a Python program which will:*\n",
    "\n",
    "- Include two sliders (one for pan, one for tilt) that allows the user to set the pre-programmed positions for the servos\n",
    "- Include a toggle switch that puts the system into programming/active mode\n",
    "- Optionally includes a \"Return to position\" button that makes the robot return to its pre-programmed position in precisely the same way that it does in response to audio. This is not required, but nice for debugging."
   ]
  },
  {
   "cell_type": "markdown",
   "metadata": {},
   "source": [
    "<figure>\n",
    "    <img align=\"center\" width=\"300\" height=\"200\" src=\"ui.png\" alt='missing' />\n",
    "    <center><figcaption>Python interface</figcaption></center>\n",
    "</figure>"
   ]
  },
  {
   "cell_type": "markdown",
   "metadata": {},
   "source": [
    "At no time during the demo can you reset or reprogram the MCU."
   ]
  },
  {
   "cell_type": "markdown",
   "metadata": {},
   "source": [
    "#### Lab Report"
   ]
  },
  {
   "cell_type": "markdown",
   "metadata": {},
   "source": [
    "Your written lab report should include the sections mentioned in the [policy page](http://people.ece.cornell.edu/land/courses/ece4760/EE4760_policy.html), and:"
   ]
  },
  {
   "cell_type": "markdown",
   "metadata": {},
   "source": [
    "- A heavily commented listing of your code"
   ]
  },
  {
   "cell_type": "markdown",
   "metadata": {},
   "source": [
    "## Opportunities to keep going"
   ]
  },
  {
   "cell_type": "markdown",
   "metadata": {},
   "source": [
    "- Can you program multiple behaviors and personalities? Can you make your robot appear inattentive, curious, angry, etc.?\n",
    "- Can you have your robot recognize different voices based on frequency content, and respond differently to each voice?\n",
    "- Can you have your robot respond differently to different volumes of voice? Perhaps it exhibits one behavior when yelled at, and another behavior when calmly spoken to.\n",
    "- Can you extract frequency content from music to have your robot dance?"
   ]
  }
 ],
 "metadata": {
  "kernelspec": {
   "display_name": "Python 3",
   "language": "python",
   "name": "python3"
  },
  "language_info": {
   "codemirror_mode": {
    "name": "ipython",
    "version": 3
   },
   "file_extension": ".py",
   "mimetype": "text/x-python",
   "name": "python",
   "nbconvert_exporter": "python",
   "pygments_lexer": "ipython3",
   "version": "3.8.3"
  }
 },
 "nbformat": 4,
 "nbformat_minor": 4
}
