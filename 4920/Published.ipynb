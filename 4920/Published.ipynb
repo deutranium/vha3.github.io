{
 "cells": [
  {
   "cell_type": "markdown",
   "metadata": {},
   "source": [
    "# Published student projects\n",
    "#### ECE 4920, V. Hunter Adams (vha3@cornell.edu)"
   ]
  },
  {
   "cell_type": "markdown",
   "metadata": {},
   "source": [
    "***"
   ]
  },
  {
   "cell_type": "markdown",
   "metadata": {},
   "source": [
    "### 2022\n",
    "- Build a Play-Along Keyboard Using a PIC32 Microcontroller, By Elias Hanna, Marek Chmielewski, and Matias Goldfeld, Circuit Cellar Magazine #386 September 2022 pp 12-20\n",
    "- PIC32 Based Home Arcade, By Alga Peng and Xiangyi Zhao, Circuit Cellar Magazine #386 September 2022 pp 20-26\n",
    "- Around Sound: Digital Echolocation for the Visually Impaired, By Amulya Khurana, Krithik Ranjan, and Aparajito Saha, Circuit Cellar Magazine #386 September 2022 pp 38-44\n",
    "- Build a Bluetooth Controlled Robot Tank, By Luis Martinez and Matt Hales, Servo Magazine 2022 Issue 2, **COVER ARTICLE**\n",
    "<figure>\n",
    "    <img align=\"center\" width=\"200\" height=\"500\" src=\"Martinez_Hales.JPG\" alt='missing' />\n",
    "    <center><figcaption>Martinez/Hales cover article</figcaption></center>\n",
    "</figure>\n",
    "- A Rubik's Cube Solving Guide Based on a PIC32 Microcontroller, By Alexander Drazic, Tushar Khan, and Myles Cherebin, Circuit Cellar Magazine #385 August 2022 pp 6-12\n",
    "- Oscilloscope Music: Visualizing Sounds and Hearing Images, By Ruby Min, Samantha Cobado, and Eric Khan, Circuit Cellar Magazine #385 August 2022 pp 12-20\n",
    "- Building a Tri-Effect Guitar Pedal Using a PIC32 MCU, By Kingsley Odae, Jade Pinkenburg, and Jake Saunders, Circuit Cellar Magazine #384 July 2022 pp 28-34\n",
    "- Designing and Building a PIC32 Video Game: Sharks and Minnows Multiplayer Game, By Tyler Bisk and Chidera Wokonko, Circuit Cellar Magazine #384 July 2022 pp 14-20\n",
    "- Asynchronous High-Bandwidth, Low-Latency Communication: CPU-Intensive Devices, By Joseph Whelan, Akugbe Imudia, and Devlin Babcock, Circuit Cellar Magazine #384 July 2022 pp 20-28\n",
    "- Sunrise Alarm Clock: Wake up with a Natural Sunrise Simulation, By Jonathan Pfeifer, Circuit Cellar Magazine #384 July 2022 pp 28-34\n",
    "- Asymmetric VR Game with Custom Microcontroller Peripherals: Collaborative Game, By Cameron Haire, Michaela Bettez, and Daniel Batan Circuit Cellar Magazine #383 June 2022 pp 20-27\n",
    "- Make a Stochastic Music Generator: PIC32-Based Design, By William Salcedo, Rishi Singhal and Raghav Kumar, Circuit Cellar Magazine #380, March 2022, pp 18-23 \n",
    "- Build a Maze Generator and Game: Using a PIC32 MCU, By Kyle Infantino, Jack Brzozowski and Dilan Lakhani, Circuit Cellar Magazine #379, Feb 2022, pp 18-24 "
   ]
  },
  {
   "cell_type": "markdown",
   "metadata": {},
   "source": [
    "***"
   ]
  }
 ],
 "metadata": {
  "kernelspec": {
   "display_name": "Python 3",
   "language": "python",
   "name": "python3"
  },
  "language_info": {
   "codemirror_mode": {
    "name": "ipython",
    "version": 3
   },
   "file_extension": ".py",
   "mimetype": "text/x-python",
   "name": "python",
   "nbconvert_exporter": "python",
   "pygments_lexer": "ipython3",
   "version": "3.8.3"
  }
 },
 "nbformat": 4,
 "nbformat_minor": 4
}
