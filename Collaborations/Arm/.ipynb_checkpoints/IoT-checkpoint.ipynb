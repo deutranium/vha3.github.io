{
 "cells": [
  {
   "cell_type": "markdown",
   "metadata": {},
   "source": [
    "# Outline for 1-credit IoT class\n",
    "\n",
    "#### [Van Hunter Adams](https://vanhunteradams.com) and [Dave Schneider](https://www.systemseng.cornell.edu/faculty-directory/david-r-schneider)"
   ]
  },
  {
   "cell_type": "markdown",
   "metadata": {},
   "source": [
    "***"
   ]
  },
  {
   "cell_type": "markdown",
   "metadata": {},
   "source": [
    "## What will the course webpage look like?\n",
    "\n",
    "The course homepage will contain a collection of links to each of the lesson webpages. It will look similar to the ECE 4760 website linked below.\n",
    "\n",
    "- [ECE 4760: Digital systems design with microcontrollers](https://ece4760.github.io)"
   ]
  },
  {
   "cell_type": "markdown",
   "metadata": {},
   "source": [
    "***"
   ]
  },
  {
   "cell_type": "markdown",
   "metadata": {},
   "source": [
    "## What will a lesson webpage look like?\n",
    "\n",
    "The webpages linked below are not necessarily relevant to this particular course, nor are they necessarily of the appropriate technical depth for this course, but they illustrate what a lesson webpage will look and feel like. There will be expository text, equations (as necessary), embedded code, and embedded video from YouTube. Demo code for the course will live in a git repo that is linked to by the webpages.\n",
    "\n",
    "- [Phenomenological introduction to PID controllers](https://vanhunteradams.com/PID/PID.html)\n",
    "- [The Cooley-Tukey FFT](https://vanhunteradams.com/FFT/FFT.html)\n",
    "- [Generate blocks in Verilog](https://vanhunteradams.com/DE1/Drum/Generate.html)\n",
    "- [Introduction to estimation](https://vanhunteradams.com/Estimation/Estimation.html)\n",
    "- [Complementary filters](https://vanhunteradams.com/Pico/ReactionWheel/Complementary_Filters.html)\n",
    "- [Fixed point arithmetic](https://vanhunteradams.com/FixedPoint/FixedPoint.html)\n",
    "- [Discretizing the 2D wave equation](https://vanhunteradams.com/DE1/Drum/Discretization.html)\n",
    "- [Spacecraft attitude dynamics and determination](https://vanhunteradams.com/5160/ADCS/Supplements/ADCS.html)\n",
    "- [Direct digital synthesis](https://vanhunteradams.com/DDS/DDS.html)"
   ]
  },
  {
   "cell_type": "markdown",
   "metadata": {},
   "source": [
    "***"
   ]
  },
  {
   "cell_type": "markdown",
   "metadata": {},
   "source": [
    "## Outline of lessons"
   ]
  },
  {
   "cell_type": "markdown",
   "metadata": {},
   "source": [
    "#### Lesson 1: Course introduction\n",
    "- High-level architecture of an IoT system\n",
    "- Discussion of constraints which are often present in these systems (power, memory)\n",
    "- Discussion of requirements that are often associated with these systems (data rate, lifetime)\n",
    "- Overview of the topics which will be covered in this course, contextualized by the high-level architecture of the system"
   ]
  },
  {
   "cell_type": "markdown",
   "metadata": {},
   "source": [
    "#### Lesson 2: Power management\n",
    "- How to develop a power budget\n",
    "- Sleep/wake cycles vs. polling\n",
    "- Achieving low-power sleep modes\n",
    "> - Deep dive thru datasheet\n",
    "> - How to measure power consumption\n",
    "> - How to track down current leaks"
   ]
  },
  {
   "cell_type": "markdown",
   "metadata": {},
   "source": [
    "#### Lesson 3: Power management continued\n",
    "- Techniques for minimizing wake time\n",
    "> - Using DMA and other peripherals for concurrent execution of multiple tasks\n",
    "> - Techniques for performing fast arithmetic (e.g. fixed point)\n",
    "- How to transition between sleep/wake states\n",
    "> - Reminder about timer interrupts\n",
    "> - Introduction to latching circuits\n",
    "> - Only wake when you need to wake. This is application-specific."
   ]
  },
  {
   "cell_type": "markdown",
   "metadata": {},
   "source": [
    "#### Lesson 4: Power harvesting\n",
    "- Solar cells, and maximum power point tracking\n",
    "- How to find sources of energy in your environment\n",
    "> - Look for gradients, where there is a gradient, there is energy\n",
    "> - Harvesting gradients (temperature, pressure, chemical, magnetic field, gravitational potential, radioactivity)\n",
    "> - Look for energy distributers (people, animals, vehicles)\n",
    "> - Black-swan energy events (hurricanes, landslides, volcanoes, etc.)"
   ]
  },
  {
   "cell_type": "markdown",
   "metadata": {},
   "source": [
    "#### Lesson 5: Power storage\n",
    "- Lithion-Ion batteries, and other sorts of batteries\n",
    "- How to charge a Li-Ion battery with a solar cell\n",
    "- Other varieties of power storage\n",
    "> - Mechanical, gravitational, etc."
   ]
  },
  {
   "cell_type": "markdown",
   "metadata": {},
   "source": [
    "#### Lesson 6: Interfacing with sensors\n",
    "- One-lesson review of SPI, I2C, UART, analog sensing, etc.\n",
    "- Using solar cells as light sensors"
   ]
  },
  {
   "cell_type": "markdown",
   "metadata": {},
   "source": [
    "#### Lesson 7: Communicating data via WiFi\n",
    "- Overview of TCP/IP, UDP, and how packets are routed across the Internet\n",
    "- Conceptual overview of the relationship between the IoT device, a server, and a webpage\n",
    "- Discussion of applications for which WiFi communication is/isn't the right choice"
   ]
  },
  {
   "cell_type": "markdown",
   "metadata": {},
   "source": [
    "#### Lesson 8: Communicating data via Bluetooth\n",
    "- Overview of how Bluetooth works, and its limitations (range, bandwidth, etc.)\n",
    "- Discussion of applications for which Bluetooth is/isn't the right choice"
   ]
  },
  {
   "cell_type": "markdown",
   "metadata": {},
   "source": [
    "#### Lesson 9: Communicating data via ISM-band radio, and LoRa\n",
    "- What are the ISM bands?\n",
    "- Radio modulations and encodings\n",
    "- Discussion of applications for which ISM-band radio is/isn't the right choice\n",
    "- Discussion of LoRa"
   ]
  },
  {
   "cell_type": "markdown",
   "metadata": {},
   "source": [
    "#### Lesson 10: Unconventional communication strategies\n",
    "- Acoustic communication, optical communication, seismic communication, stigmergy (communication via modifications of a shared environment), communication via different kinds of physics"
   ]
  },
  {
   "cell_type": "markdown",
   "metadata": {},
   "source": [
    "#### Lesson 11: Maximizing communication distance\n",
    "- Coding gain in radio transmissions\n",
    "- The link budget equation\n",
    "- Forward error correction\n",
    "- Reed-Solomon encoding\n",
    "- Hamming codes"
   ]
  },
  {
   "cell_type": "markdown",
   "metadata": {},
   "source": [
    "#### Lesson 12: Data encoding and data privacy\n",
    "- Discussion of encoding and encryption strategies for data communication"
   ]
  },
  {
   "cell_type": "markdown",
   "metadata": {},
   "source": [
    "#### Lesson 13: Mechanical engineering and IoT devices\n",
    "- IoT devices are deployed in stressful environments. Their mechanical enclosures must protect them from those environments, without inhibiting the acquisition of accurate measurements\n",
    "- Discussion of temperature sensing and Stevenson Screens\n",
    "- Underwater devices\n",
    "- Devices in extreme thermal environments"
   ]
  },
  {
   "cell_type": "markdown",
   "metadata": {},
   "source": [
    "***"
   ]
  }
 ],
 "metadata": {
  "kernelspec": {
   "display_name": "Python 3",
   "language": "python",
   "name": "python3"
  },
  "language_info": {
   "codemirror_mode": {
    "name": "ipython",
    "version": 3
   },
   "file_extension": ".py",
   "mimetype": "text/x-python",
   "name": "python",
   "nbconvert_exporter": "python",
   "pygments_lexer": "ipython3",
   "version": "3.8.3"
  }
 },
 "nbformat": 4,
 "nbformat_minor": 4
}
