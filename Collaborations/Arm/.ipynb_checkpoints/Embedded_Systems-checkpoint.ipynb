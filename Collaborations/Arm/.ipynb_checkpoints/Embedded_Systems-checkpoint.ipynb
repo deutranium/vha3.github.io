{
 "cells": [
  {
   "cell_type": "markdown",
   "metadata": {},
   "source": [
    "# Outline for 1-credit embedded systems course\n",
    "#### [V. Hunter Adams](https://vanhunteradams.com) and [Dave Schneider](https://www.systemseng.cornell.edu/faculty-directory/david-r-schneider)"
   ]
  },
  {
   "cell_type": "markdown",
   "metadata": {},
   "source": [
    "> - [What will the course webpage look like?](#What-will-the-course-webpage-look-like?)\n",
    "> - [What will a lesson webpage look like?](#What-will-a-lesson-webpage-look-like?)\n",
    "> - [Outline of lessons](#Outline-of-lessons)\n",
    "> > - [Lesson 1: Course introduction](#Lesson-1:-Course-introduction)\n",
    "> > - [Lesson 2: Digital output and introduction to functional problem decomposition](#Lesson-2:-Digital-output-and-introduction-to-functional-problem-decomposition)\n",
    "> > - [Lesson 3: Digital input, task definition, and introduction to Agile](#Lesson-3:-Digital-input,-task-definition,-and-introduction-to-Agile)\n",
    "> > - [Lesson 4: GPIO interrupts and use cases](#Lesson-4:-GPIO-interrupts-and-use-cases)\n",
    "> > - [Lesson 5: UART communication and user stories](#Lesson-5:-UART-communication-and-user-stories)\n",
    "> > - [Lesson 6: Analog input and user stories (continued)](#Lesson-6:-Analog-input-and-user-stories-(continued))\n",
    "> > - [Lesson 7: Filtering and functional flow block diagrams](#Lesson-7:-Filtering-and-functional-flow-block-diagrams)\n",
    "> > - [Lesson 8: Timers, timer interrupts, and functional flow block diagrams (continued)](#Lesson-8:-Timers,-timer-interrupts,-and-functional-flow-block-diagrams-continued)\n",
    "> > - [Lesson 9: Pulse-width modulation, interface identification and specification](#Lesson-9:-Pulse-width-modulation,-interface-identification-and-specification)\n",
    "> > - [Lesson 10: SPI and interface requirements and testing](#Lesson-10:-SPI-and-interface-requirements-and-testing)\n",
    "> > - [Lesson 11: Direct digital synthesis and interface testing continued](#Lesson-11:-Direct-digital-synthesis-and-interface-testing-continued)\n",
    "> > - [Lesson 12: I2C and making changes to interface and other design documents](#Lesson-12:-I2C-and-making-changes-to-interface-and-other-design-documents)\n",
    "> > - [Lesson 13: Motors and performance criteria/metrics](#Lesson-13:-Motors-and-performance-criteria/metrics)\n",
    "> > - [Lesson 14: Direct Memory Access and key performance parameters](#Lesson-14:-Direct-Memory-Access-and-key-performance-parameters)\n",
    "> > - [Lesson 15: CAN bus and technical performance metrics](#Lesson-15:-CAN-bus-and-technical-performance-metrics)\n",
    "> > - [Lesson 16: Realtime operating systems and project updates](#Lesson-16:-Realtime-operating-systems-and-project-updates)\n",
    "> > - [Lesson 17: Multicore microcontrollers and project decision justifications](#Lesson-17:-Multicore-microcontrollers-and-project-decision-justifications)"
   ]
  },
  {
   "cell_type": "markdown",
   "metadata": {},
   "source": [
    "***"
   ]
  },
  {
   "cell_type": "markdown",
   "metadata": {},
   "source": [
    "## What will the course webpage look like?\n",
    "\n",
    "The course homepage will contain a collection of links to each of the lesson webpages. It will look similar to the ECE 4760 website linked below.\n",
    "\n",
    "- [ECE 4760: Digital systems design with microcontrollers](https://ece4760.github.io)"
   ]
  },
  {
   "cell_type": "markdown",
   "metadata": {},
   "source": [
    "***"
   ]
  },
  {
   "cell_type": "markdown",
   "metadata": {},
   "source": [
    "## What will a lesson webpage look like?\n",
    "\n",
    "The webpages linked below are not necessarily relevant to this particular course, nor are they necessarily of the appropriate technical depth for this course, but they illustrate what a lesson webpage will look and feel like. There will be expository text, equations (as necessary), embedded code, and embedded video from YouTube. Demo code for the course will live in a git repo that is linked to by the webpages.\n",
    "\n",
    "- [Phenomenological introduction to PID controllers](https://vanhunteradams.com/PID/PID.html)\n",
    "- [The Cooley-Tukey FFT](https://vanhunteradams.com/FFT/FFT.html)\n",
    "- [Generate blocks in Verilog](https://vanhunteradams.com/DE1/Drum/Generate.html)\n",
    "- [Introduction to estimation](https://vanhunteradams.com/Estimation/Estimation.html)\n",
    "- [Complementary filters](https://vanhunteradams.com/Pico/ReactionWheel/Complementary_Filters.html)\n",
    "- [Fixed point arithmetic](https://vanhunteradams.com/FixedPoint/FixedPoint.html)\n",
    "- [Discretizing the 2D wave equation](https://vanhunteradams.com/DE1/Drum/Discretization.html)\n",
    "- [Spacecraft attitude dynamics and determination](https://vanhunteradams.com/5160/ADCS/Supplements/ADCS.html)\n",
    "- [Direct digital synthesis](https://vanhunteradams.com/DDS/DDS.html)"
   ]
  },
  {
   "cell_type": "markdown",
   "metadata": {},
   "source": [
    "***"
   ]
  },
  {
   "cell_type": "markdown",
   "metadata": {},
   "source": [
    "## Outline of lessons"
   ]
  },
  {
   "cell_type": "markdown",
   "metadata": {},
   "source": [
    "#### Lesson 1: Course introduction\n",
    "What is a microcontroller?\n",
    "\n",
    "- A microcontroller is a small computer on a single integrated circuit that is designed to control specific functions or systems. The appropriate mental model for a microcontroller is *different* than that for a personal computer on which you read emails or watch movies. A microcontroller includes a processor, but often also includes a collection of *other* hardware peripherals with which that processor communicates, like memory for storing informaiton, or input/output pins for interfacing with sensors and other devices. Microcontrollers are an entire tool*kit* rather than a singular tool, and a good microcontroller programmer thinks carefully about how best to use the various tools in that kit to accomplish a specific task.\n",
    "\n",
    "Where do we find microcontrollers?\n",
    "\n",
    "- We find microcontrollers in places where we need a relatively simple task carried out *extremely* reliably, often subject to strict timing requirements. We find them communicating with sensors in robots and cars. We find them controlling motors in airplanes and medical equipment. We find them in keyfobs, security systems, spaceships, rockets, race cars, and rovers. In the future, we may even find them in brains and bodies. They are one of *the* foundational technologies for maintaining industrialized society.\n",
    "\n",
    "- Because microcontrollers are increasingly present in nearly every major industrial area, it is essential to learn how do develop with them as parts of larger devices and even systems of devices, programs, people, the environment, etc. Hence, this course will also introduce you to systems engineering concepts.\n",
    "\n",
    "What makes embedded systems engineering and programming interesting?\n",
    "\n",
    "- Programs for microcontrollers are *different* than those for personal computers in that a program not only describes a sequence of instructions for the processor, but also configures and controls those *hardware peripherals* with which the processor communicates. A microcontroller is also different from a personal computer in that it interfaces with the outside world. This makes debugging an embedded system *way* different than debugging a computer program on a PC. A bug in an embedded system may stem from software (an error in one's code), or it may be a consequence of physics (are my motor control lines generating electromagnetic fields which are inducing noise on my sensor measurements?). This makes debugging a full sensory experience. We parse our code, but we also use instrumentation to measure voltages, we use our nose to smell for burning, we use our hands to make connections among components, and we sometimes even use our ears to deduce what is happening.\n",
    "\n",
    "- Programming a microcontroller is also different from programming a personal computer in that (in my biased opinion) it is way more fun. A microcontroller forces the engineer to achieve objectives subject to *constraints*. You only have so much memory to spend. You only have so many cycles. You may only have so much power. These constraints require *cleverness*, and they require thinking deeply about about the problem that you're trying to solve and the device that you're using to solve it. Debugging these systems puts you in conversation with physics in a way that is very different than that which you get from a textbook, and that is deeply interesting.\n",
    "\n",
    "For what role will this course prepare you?\n",
    "\n",
    "- This course does not aim to make you an expert in embedded systems. Instead, it aims to help you work with embedded systems experts by familiarizing you with core concepts from embedded systems, and by describing *the way that embedded systems engineers think about problems*. The best way to introduce all of these concepts is by building something, and so this course will be structured around a project. In particular, we will make a digital theremin - a musical instrument that you'll play without touching.\n",
    "\n",
    "What is systems engineering and why should I be interested in it?\n",
    "\n",
    "- Systems Engineering encompasses and formalizes many of the best design and organizational practices of the world’s leading technology companies and organizations. In fact, In a special meeting of numerous top Cornell alumni and industry contacts, Systems Engineering was ranked as the #1 skills set that all engineers should have – and not just to help them to have a good career start, but be able to continue to make a valuable difference in their jobs ten years from now. It may be part of the reason why so many top companies are willing to pay for their employees to come to Cornell.\n",
    "\n",
    "- Normally only taught at the graduate level, this course can offer undergrads and graduate students alike the opportunity to apply (not just learn about) some fundamental systems engineering tools that they can start making a difference with today. Graduate students who already have had an introduction to systems engineering, will be able to apply these skills even further as they develop both a systems design and implementation of their own embedded systems project. \n",
    "\n",
    "- With permission, students with limited systems engineering exposure may still take on the graduate challenge but will be required to review additional supplemental Systems Engineering materials on their own time."
   ]
  },
  {
   "cell_type": "markdown",
   "metadata": {},
   "source": [
    "#### Lesson 2: Digital output and introduction to functional problem decomposition\n",
    "Project goal: Blink an LED\n",
    "- When a computer programming is learning a new programming language, the first thing that they do is write a program that prints \"Hello, World!\" onto the screen. When an embedded systems engineer gets a new microcontroller, the first thing they do is blink an LED. If you've never written a computer program that caused something to happen in the physical world, this will be an experience that you'll remember.\n",
    "- In order to get an LED to blink, we must understand a few things about our microcontroller.\n",
    "> - What is the general structure of a program?\n",
    "> - What does an embedded program \"do\" when it runs? (leads to a discussion of registers, memory map, and software abstractions)\n",
    "> - What are the GPIO ports? How do they map to the hardware peripheral tools in the microcontroller?\n",
    "> - How do we attach an LED to a GPIO port on a breadboard?\n",
    "> - How do we write a program that makes this LED blink?\n",
    "> - What does \"digital\" mean, in the context of microcontrollers?\n",
    "\n",
    "Having a LED blink is a kinda fun first step. But even in this simple “Hello World!” example, as potential designers of larger systems, we want to start to think about what does this kind of capability offer us? Or said another way, what kind of functionality can this help us achieve by itself, and to help solve larger problems? \n",
    "\n",
    "In order to start to answer questions like these, we first have to start by understanding:\n",
    "- The difference between functional vs. structural\n",
    "- How to recognize the functionality a new technology could offer"
   ]
  },
  {
   "cell_type": "markdown",
   "metadata": {},
   "source": [
    "#### Lesson 3: Digital input, task definition, and introduction to Agile\n",
    "Project goal: Turn on an LED with a button press\n",
    "- We've learned how to use a GPIO port to output a digital (high/low) voltage. We will now learn how to use a GPIO port to sense a digital voltage. In particular, to measure whether or not a button is pushed. In order to do this, we must understand a few things.\n",
    "> - Pullup/pulldown resistors\n",
    "> - Using a multimeter to measure voltage\n",
    "> - What does it mean for a GPIO port to be configured as an input (discussion of input impedance, and how to avoid destroying GPIO ports)\n",
    "> - Brief discussion of comparators circuits, digital logic, and other uses for digital input\n",
    "\n",
    "For small teams, like most of those you might experience in college, you can sometime get away with doing this informally. But college should be the time to practice skills on simpler problems so that you’re ready to take on more complex situations later. So for the relatively simple work that is being asked to be performed in this course, we will create formal tasks as if they were a part of a larger team’s development plan and offer ways to:\n",
    "- Define task deliverables objectively so that we can . . .\n",
    "> - Recognize task dependency and define task deliverables to support this\n",
    "> - Estimate relative effort of a task\n",
    "\n",
    "Furthermore, we’ll introduce the basic concepts of the Agile development process and discuss how the homeworks in the course do (and do not) follow this process"
   ]
  },
  {
   "cell_type": "markdown",
   "metadata": {},
   "source": [
    "#### Lesson 4: GPIO interrupts and use cases\n",
    "Project goal: Toggle the LED with each button press\n",
    "- Rather than have the LED turn on when the button is pressed, and off when it is not, we'd like to toggle it on/off with presses. We can do this via a GPIO interrupt service routine.\n",
    "> - What is an interrupt service routine?\n",
    "> - What is a state machine?\n",
    "> - Why is a GPIO interrupt often advantageous over polling?\n",
    "> - Button debouncing\n",
    "> - Cacheing and volatile variables.\n",
    "\n",
    "With the new ability to create interrupts, we can now begin to explore basics of use cases as a formally defined sets of functionality that must be achieved to develop a valid solution to a stakeholder’s needs. Developing a complete set of use cases early in the design process helps the entire design team better understand the problem scope and what is everything that needs to be accomplished to create a valid solution. In this lesson, we’ll go over:\n",
    "- What is a use case and how we can define them\n",
    "- How to decompose a simple problem into a set of use cases\n",
    "- The importance of considering undesired use cases as well. "
   ]
  },
  {
   "cell_type": "markdown",
   "metadata": {},
   "source": [
    "#### Lesson 5: UART communication and user stories\n",
    "\n",
    "Project goal: Print \"Button pressed!\" each time the user presses a button\n",
    "\n",
    "- A common strategy for making information from a program available to the programmer is to print information to a serial terminal.\n",
    "> - What is UART, and how does it work?\n",
    "> - How do we print statements to a serial terminal from a program?\n",
    "> - How do we send data to a program from a serial terminal?\n",
    "\n",
    "Like tasks and their deliverables, user stories provide a clear definition of a needed subset of functionality and how we will objectively verify that that functionality has been appropriately achieved. In this lesson we’ll:\n",
    "\n",
    "- Define user story \"cards” as a description of the needed subset of functionality.\n",
    "- Define user story “confirmations” as our objective means of verifying that our target functionality has been appropriately achieved.\n"
   ]
  },
  {
   "cell_type": "markdown",
   "metadata": {},
   "source": [
    "#### Lesson 6: Analog input and user stories (continued)\n",
    "\n",
    "Project goal: print distance measurements from an ultrasonic rangefinder\n",
    "\n",
    "- Generally speaking, the world is analog. If we are sensing something in the world, there is very often an *analog* device at the front-end of that sensor.\n",
    "> - What does analog mean?\n",
    "> - What is an analog-to-digital converter (ADC)?\n",
    "> - How do we associate a GPIO port with an internal ADC of the RP2040?\n",
    "\n",
    "Building upon the embedded systems skills we’ve developed so far, we’ll also take a closer look at the “customer” aspect of user stories, helping use to formalize our stakeholder’s special requirements in developing a a kind of functionality."
   ]
  },
  {
   "cell_type": "markdown",
   "metadata": {},
   "source": [
    "#### Lesson 7: Filtering and functional flow block diagrams\n",
    "\n",
    "Project goal: Print filtered distance measurements from an ultrasonic rangefinder\n",
    "\n",
    "> - What does it mean for our distance measurements to be noisy? How do we mitigate this noise, without losing important information?\n",
    "> - Brief discussion of digital filtering\n",
    "> - Brief discussion of RC lowpass filtering\n",
    "> - A peek down the rabbithole that is filtering and estimation\n",
    "\n",
    "We’re now at the point of performing multiple actions that need to come together in the right, logical order to make sure the end result will be what we desire. To help the entire team be able to see and iterate on how to do these actions, we’ll introduce the Functional Flow Block Diagram (FFBD)."
   ]
  },
  {
   "cell_type": "markdown",
   "metadata": {},
   "source": [
    "#### Lesson 8: Timers, timer interrupts, and functional flow block diagrams continued\n",
    "\n",
    "Project goal: Toggle an LED within a timer interrupt\n",
    "\n",
    "> - What is a timer, and how do we configure it?\n",
    "> - Why would we use a timer interrupt?\n",
    "> - What are the applications for which we need highly precise timing, and what happens if we miss timing deadlines?\n",
    "> - How do we write code that is fast enough to meet these deadlines?\n",
    "\n",
    "Systems engineers believe that everything can always be made better and this is true of our FFBDs too. As we add more complexity to our work, we don’t only want to represent the logical order of our function but relate what needs to be shared between these function for the both their design and operation."
   ]
  },
  {
   "cell_type": "markdown",
   "metadata": {},
   "source": [
    "#### Lesson 9: Pulse-width modulation, interface identification and specification\n",
    "\n",
    "Project goal: Generate tones from a buzzer that maps to the analog reading from the rangefinder.\n",
    "\n",
    "- In many applications, we need to generate a square wave with a specified (and perhaps dynamic) duty cycle. We might do this by directly manipulating the GPIO ports in software (as we did with the LED), but this would be an unwise use of the tools in our toolkit. Instead, we can use the PWM peripheral.\n",
    "- The PWM peripheral connects a *tiny bit* of extra logic to an onboard timer, and maps to a GPIO port. With it, we can generate square waves of a specified period and duty cycle with *no* CPU interaction. That saves us cycles for other things!\n",
    "\n",
    "> - In what sorts of applications do we require precise square waves?\n",
    "> - Why is it a bad idea to generate these waves in software? (consumes CPU time, hard to guarantee timing)\n",
    "> - How does the PWM peripheral work?\n",
    "> - How do we use the PWM peripheral in collaboration with the ADC?\n",
    "\n",
    "Using our FFBDs as a starting point, we’re going to formally identify the interfaces between our not only our functions but the structural components used to implement these functions. Very few professional solutions are built by an individual or even a small team, so keeping track of what every subteam needs from every other subteam to both design and operate their part of the solution is essential. So as we begin to send commands to other devices, like the buzzer, we’ll show how to:\n",
    "- Track interfaces for any given subsystem\n",
    "- Identify which other subsystems are these interfaces with\n",
    "- Record what are the specific pieces of information that need to be shared across subteams"
   ]
  },
  {
   "cell_type": "markdown",
   "metadata": {},
   "source": [
    "#### Lesson 10: SPI and interface requirements and testing\n",
    "\n",
    "Project goal: Communicate a voltage to an SPI DAC that is a function of analog measurements from the rangefinder.\n",
    "\n",
    "- Many sensors/devices do not have analog interfaces, but instead communicate with a microcontroller using a digital protocol. There are a variety of such protocols, but a common one is the Serial Peripheral Interface.\n",
    "\n",
    "> - How does SPI work?\n",
    "> - How do we read a device datasheet for an SPI sensor?\n",
    "> - What is a digital-to-analog converter?\n",
    "> - What is an oscilloscope, and how do we use one?\n",
    "> - How do we debug an SPI connection?\n",
    "\n",
    "Communications between many Many modern problems are so complex that different parts of the solution might not only be developed by different departments within the same company, but by entirely different companies, potentially spread all around the world. To ensure what is delivered by each group is in fact what is needed, stricter requirements that can be tested are needed to be agreed upon by all parties. Building upon the formality we established in defining tasks and user stories, we’ll show how to specify and run tests for interfaces too. "
   ]
  },
  {
   "cell_type": "markdown",
   "metadata": {},
   "source": [
    "#### Lesson 11: Direct digital synthesis and interface testing continued\n",
    "\n",
    "Project goal: Generate a tone from a speaker using a DAC and Direct Digital Synthesis.\n",
    "\n",
    "- DDS is an *algorithm*. There's nothing about it that is specific to microcontrollers, but it's really useful to know about for a lot of microcontroller applications! We use it to generate a waveform of any shape that we'd like, and with any frequency that we'd like. That's useful for controlling motors, generating local (digital) oscillators, and generating sounds!\n",
    "- DDS is a \"rubber meets the road\" algorithm in embedded systems.\n",
    "> - What is DDS, and how does it work?\n",
    "> - How do we use DDS to generate sound?\n",
    "\n",
    "Here we’ll use our new skills to practice our ability to specify and check against tests further. Here you’ll create a test for a functionality that someone else needs to develop a solution for and show that they passed that test – and additionally, you’ll also develop and perform a test for a functionality someone else specified. "
   ]
  },
  {
   "cell_type": "markdown",
   "metadata": {},
   "source": [
    "#### Lesson 12: I2C and making changes to interface and other design documents\n",
    "\n",
    "Project goal: Read data from an I2C accelerometer, use that data to change the frequency of the DDS-generated tone.\n",
    "\n",
    "- Just like SPI, I2C is *another* digital communication protocol common among sensors and devices with which we interface the microcontroller.\n",
    "> - How does I2C work, and how is it different from SPI?\n",
    "> - How do we read a device datasheet for an I2C sensor?\n",
    "> - How do we debug an I2C connection?\n",
    "\n",
    "In performing testing, it’s not uncommon to recognize that we need to make changes to our design or even our overall approach to a problem. Here, we’ll introduce good practices for reviewing and updating our designs based upon new information or even changes in stakeholders’ needs! And we’ll use this lesson’s knowledge of a new digital communication protocol to practice how to do this."
   ]
  },
  {
   "cell_type": "markdown",
   "metadata": {},
   "source": [
    "#### Lesson 13: Motors and performance criteria/metrics\n",
    "\n",
    "- What are DC motors, stepper motors, servo motors, and other methods of actuation? For which sorts of application is each appropriate?\n",
    "- How do we *safely* interface a microcontroller with a motor?\n",
    "> - Why do motors generate so much noise?\n",
    "> - How do we electrically isolate a motor?\n",
    "> - What are optical isolators, bypass capacitors, and snubber diodes?\n",
    "\n",
    "Just as there are many different kinds of motors to choose from, there may be several products that meet a customer’s needs, but in the end the customer somehow determines that one is better than the rest. Defining performance criteria to objectively evaluate how well our potential solution meets a stakeholder’s needs is essential for helping to justify design decisions both to our stakeholders as well as to our internal teams."
   ]
  },
  {
   "cell_type": "markdown",
   "metadata": {},
   "source": [
    "#### Lesson 14: Direct Memory Access and key performance parameters\n",
    "- Direct memory access is (arguably) *the* most powerful peripheral available in a microcontroller.\n",
    "> - What is DMA?\n",
    "> - Why is DMA useful, and why is it so powerful? In a memory-mapped device, peripherals have associated memory addresses. A DMA channel can whisk data from memory to memory, memory to peripheral, peripheral to memory, or peripheral to peripheral with *no CPU interaction*.\n",
    "> - They are also Turing Complete. You could implement a CPU using only DMA channels, and indeed our good friend Bruce Land has.\n",
    "\n",
    "Keeping track of our demonstrated performance, and making updates to our estimated performance based on progress and testing, is a critical means of helping to track the overall progress in developing a new product. However, sometimes it can be costly in terms of both time and resources to do as extensive performance testing as we would like along the way. Here we’ll discuss the pros and cons of the key performance parameter approach and let you try it out to make decisions related to your course project work."
   ]
  },
  {
   "cell_type": "markdown",
   "metadata": {},
   "source": [
    "#### Lesson 15: CAN bus and technical performance metrics\n",
    "\n",
    "- We see the CAN bus being used in large, complicated systems (automobiles, planes, robots, etc).\n",
    "> - Where is the CAN bus used?\n",
    "> - How does the CAN bus work?\n",
    "\n",
    "Your stakeholders (or even your boss) may not be as technically savvy as you might hope when it comes to your project. However, you still need an objective way to communicate about the progress (and problems) you might have in your technology’s development. Building off of everything we’ve discussed on task definition, interface requirements, and performance metrics, you’ll get the chance try out technical performance measures (TPM) that you’ll use to track your progress on your next assignment."
   ]
  },
  {
   "cell_type": "markdown",
   "metadata": {},
   "source": [
    "#### Lesson 16: Realtime operating systems and project updates\n",
    "\n",
    "- As applications grow in complexity, it becomes impractical to use interrupt-based state machines. Instead, we use realtime operating systems to write concurrent programs.\n",
    "\n",
    "> - What is concurrency?\n",
    "> - What is a realtime operating system?\n",
    "> - What does preemptive vs. non-preemptive mean?\n",
    "\n",
    "No one every works in a bubble. Utilizing many of your past tools, you’ll how get some practice in using the 4-quadrant method to make an update describing your accomplishments, your next steps, your issues, and provide supporting information as part of the critical role of keeping your fellow teammates and your boss well-informed. In fact, you’ll be presenting your current project assignment as your upcoming next steps!"
   ]
  },
  {
   "cell_type": "markdown",
   "metadata": {},
   "source": [
    "#### Lesson 17: Multicore microcontrollers and project decision justifications\n",
    "\n",
    "- The RP2040 contains *two* Arm Cortex-M0's.\n",
    "> - How do we parallelize across two cores?\n",
    "> - How do we synchronize across cores?\n",
    "> - How do we protect shared resources between cores (mutex's, spinlocks, etc.)\n",
    "\n",
    "Pulling together all of our tools, you’ll need to make an objective, defendable argument on decision to what you would do to take your project forward beyond the course!"
   ]
  },
  {
   "cell_type": "markdown",
   "metadata": {},
   "source": [
    "***"
   ]
  }
 ],
 "metadata": {
  "kernelspec": {
   "display_name": "Python 3",
   "language": "python",
   "name": "python3"
  },
  "language_info": {
   "codemirror_mode": {
    "name": "ipython",
    "version": 3
   },
   "file_extension": ".py",
   "mimetype": "text/x-python",
   "name": "python",
   "nbconvert_exporter": "python",
   "pygments_lexer": "ipython3",
   "version": "3.8.3"
  }
 },
 "nbformat": 4,
 "nbformat_minor": 4
}
