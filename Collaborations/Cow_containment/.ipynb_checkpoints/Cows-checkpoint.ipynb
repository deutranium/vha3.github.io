{
 "cells": [
  {
   "cell_type": "markdown",
   "metadata": {},
   "source": [
    "# Cow containment conversation starter\n",
    "#### [V. Hunter Adams](https://vanhunteradams.com)"
   ]
  },
  {
   "cell_type": "markdown",
   "metadata": {},
   "source": [
    "> - [Purpose of this document](#Purpose-of-this-document)\n",
    "> - [The idea](#The-idea)\n",
    "> > - [Cows are herding animals](#Cows-are-herding-animals)\n",
    "> > - [Cows are trainable](#Cows-are-trainable)\n",
    "> > - [The cost function](#The-cost-function)\n",
    "> - [Advantages and disadvantages](#Advantages-and-disadvantages)"
   ]
  },
  {
   "cell_type": "markdown",
   "metadata": {},
   "source": [
    "***"
   ]
  },
  {
   "cell_type": "markdown",
   "metadata": {},
   "source": [
    "## Purpose of this document\n",
    "\n",
    "I've been generating a lot of [simulations of herding behavior](https://vanhunteradams.com/Pico/Animal_Movement/Animal_Movement.html) for a class that I teach. Playing with these simulations has led to an idea for cow containment. More than anything else, this document is meant only to start a brainstorming conversation about how to contain a herd."
   ]
  },
  {
   "cell_type": "markdown",
   "metadata": {},
   "source": [
    "## The idea\n",
    "\n",
    "The fundamental notion is to build a device which generates a bias toward a preferred location for the *herd*, rather than containing individual cows. A technology for containing a herding animal (e.g. cows) can be very different than a technology for containing a non-herding animal (e.g. cats).\n",
    "\n",
    "We could build a device which, at a programmable frequency, generates a sound and presents some cow treats. The cows will come and enjoy the treats and then begin to wander and graze. Some time later, the device produces another sound and offers more treats. A subset of the cows will be biased to move in the direction of the device whenever the sound is produced, and this biased subset pulls the herd along with them (this is precisely how a small [collection of scout bees leads the swarm to a new hive location](https://www.americanscientist.org/article/group-decision-making-in-honey-bee-swarms), how schools of fish find food, and how migratory plains animals find water and food sources). Rather than being contained by physical impediments or negative stimuli from wearable devices, the cows are instead contained by their natural herding tendencies. A bias among a [remarkably small](https://www.nature.com/articles/nature03236?message=remove&free=2) subset of the herd will pull the herd in the direction of their bias.\n",
    "\n",
    "<figure>\n",
    "    <img align=\"center\" width=\"500\" height=\"500\" src=\"cows.png\" alt='missing' />\n",
    "    <center><figcaption>Cow containment by natural herding tendencies with a biased subset population</figcaption></center>\n",
    "</figure>\n",
    "\n",
    "This machine would not (necessarily) require any silicon devices. It could be powered by gravity batteries which are recharged by the cows themselves while enjoying their treats. Daily maintenance would only involve refilling a repository of cow treats, and users could move the herd by moving the device. Eventually, the sound alone will be sufficient to contain and relocate the herd.\n",
    "\n",
    "This idea comes from three observations, which are discussed in more detail below:\n",
    "\n",
    "1. Cows are herding animals\n",
    "2. Cows are trainable\n",
    "3. The cost function that we are trying to optimize aims to minimize the *expected daily value loss* of a herd. Terms in this cost function include the daily maintenance cost of the \"enclosure,\" the probability of cow escape from the \"enclosure,\" and the cost of a total system failure."
   ]
  },
  {
   "cell_type": "markdown",
   "metadata": {},
   "source": [
    "### Cows are herding animals\n",
    "\n",
    "To be a herding animal means that you abide by three rules:\n",
    "\n",
    "1. You aim to match the direction of travel of your observable neighbors.\n",
    "2. You aim to maintain a certain distance between yourself and your neighbors.\n",
    "3. You walk gently toward the center of mass of your observable neighbors.\n",
    "\n",
    "Large collections which abide by the above three rules (cows, caribou, fish, bees, etc.) generate some emergent phenomena. One of those phenomena is that a very small group of *biased* individuals can have absolute influence on the direction of travel for the entire collective. This is because the unbiased neighbors of the biased individuals amplify their bias by following the rules listed above. A positive feedback occurs, and soon enough the whole herd is moving in the direction that the biased subset wants to move. This has been studied by a bunch of folks, but I particularly like [Couzin's paper](https://www.nature.com/articles/nature03236?message=remove&free=2) on the topic.\n",
    "\n",
    "The video below is a realtime simulation of a large herd of animals that I generated with an RP2040 microcontroller. This herd is programmed according to the model described in Couzin's paper, and it shows a small biased minority steering the unbiased majority. The results from the Couzin paper are animated and narrated in this video. You can imagine that the biased subset discussed in this video represents the particularly \"smart cows\" which have come to associate a sound from the device with treats. As demonstrated in this video, that biased subset will steer the entire herd in the direction of their bias. As the size of the herd grows, the fraction of biased individuals required to steer the whole group shrinks.\n",
    "\n",
    "<iframe width=\"560\" height=\"315\" src=\"https://www.youtube.com/embed/xXa3rFRc7o0?start=133\" title=\"YouTube video player\" frameborder=\"0\" allow=\"accelerometer; autoplay; clipboard-write; encrypted-media; gyroscope; picture-in-picture; web-share\" allowfullscreen></iframe>"
   ]
  },
  {
   "cell_type": "markdown",
   "metadata": {},
   "source": [
    "### Cows are trainable\n",
    "\n",
    "Not a scientific experiment, but pretty clear that cows are responding to the sound of a person's voice. Those that did not hear the call were pulled by herd dynamics. Instead of being called by a voice, the cows would be called by the treat-dispensing containment device.\n",
    "\n",
    "<iframe width=\"560\" height=\"315\" src=\"https://www.youtube.com/embed/haUFls6OCew\" title=\"YouTube video player\" frameborder=\"0\" allow=\"accelerometer; autoplay; clipboard-write; encrypted-media; gyroscope; picture-in-picture; web-share\" allowfullscreen></iframe>"
   ]
  },
  {
   "cell_type": "markdown",
   "metadata": {},
   "source": [
    "### The cost function\n",
    "\n",
    "We are not trying to prevent all cows from escaping. Instead, we are trying to minimize *something like* (installation cost of device) + (daily maintenance cost of device) + (expected permeability of device) + (cost of system failure). \n",
    "\n",
    "It may be the case that this device is more permeable than a physical fence (I imagine it depends on the quality of the cow treats and the total herd population). But, if the containment system is significantly lower cost than alternatives *and* it carries significantly lower risk to the farmer in the event of failure, then it is worth considering. Once the herd is trained, the farmer can call it by making the sound that the device makes, even if the device itself has failed. The same is not possible for some alternative solutions."
   ]
  },
  {
   "cell_type": "markdown",
   "metadata": {},
   "source": [
    "## Advantages and disadvantages\n",
    "\n",
    "The advantages of this device:\n",
    "\n",
    "1. A single device could contain an entire herd. The larger the herd, the more effective the device.\n",
    "2. The device requires no silicon components or exotic materials.\n",
    "3. The device could be powered by the cows themselves.\n",
    "4. The user could move the herd by moving the device.\n",
    "5. Daily maintenance costs are low at first and (eventually) zero. Once the cows are trained to respond to sound, the user need not reload treats.\n",
    "6. Once a herd is trained, new cows can be added to the herd and (as long as a sufficient biased subset is maintained) they will also be contained by their own herding tendencies.\n",
    "7. In the event of device failure, the farmer can call back the herd by replicating the sound of the device.\n",
    "\n",
    "The disadvantages of this device:\n",
    "\n",
    "1. It does not prevent intrusion of predators.\n",
    "2. It is (maybe?) more permeable than a physical fence.\n",
    "3. It could lead to aggregation of neighboring herds."
   ]
  },
  {
   "cell_type": "markdown",
   "metadata": {},
   "source": [
    "***"
   ]
  }
 ],
 "metadata": {
  "kernelspec": {
   "display_name": "Python 3",
   "language": "python",
   "name": "python3"
  },
  "language_info": {
   "codemirror_mode": {
    "name": "ipython",
    "version": 3
   },
   "file_extension": ".py",
   "mimetype": "text/x-python",
   "name": "python",
   "nbconvert_exporter": "python",
   "pygments_lexer": "ipython3",
   "version": "3.8.3"
  }
 },
 "nbformat": 4,
 "nbformat_minor": 4
}
