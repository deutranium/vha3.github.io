{
 "cells": [
  {
   "cell_type": "markdown",
   "metadata": {},
   "source": [
    "# Test embed of 3D model"
   ]
  },
  {
   "cell_type": "markdown",
   "metadata": {},
   "source": [
    "<div class=\"sketchfab-embed-wrapper\"> <iframe title=\"Altar\" frameborder=\"0\" allowfullscreen mozallowfullscreen=\"true\" webkitallowfullscreen=\"true\" allow=\"autoplay; fullscreen; xr-spatial-tracking\" xr-spatial-tracking execution-while-out-of-viewport execution-while-not-rendered web-share width=\"640\" height=\"480\" src=\"https://sketchfab.com/models/7c169b391446461a8dfd55f577d0d406/embed\"> </iframe> </div>"
   ]
  },
  {
   "cell_type": "markdown",
   "metadata": {},
   "source": [
    "<div class=\"sketchfab-embed-wrapper\"> <iframe title=\"bird_mummy_8\" frameborder=\"0\" allowfullscreen mozallowfullscreen=\"true\" webkitallowfullscreen=\"true\" allow=\"autoplay; fullscreen; xr-spatial-tracking\" xr-spatial-tracking execution-while-out-of-viewport execution-while-not-rendered web-share width=\"640\" height=\"480\" src=\"https://sketchfab.com/models/9ecc4245e6d2405c86b7b26bcb9220b9/embed?autospin=1&autostart=1&preload=1\"> </iframe> <p style=\"font-size: 13px; font-weight: normal; margin: 5px; color: #4A4A4A;\"> <a href=\"https://sketchfab.com/3d-models/bird-mummy-8-9ecc4245e6d2405c86b7b26bcb9220b9?utm_medium=embed&utm_campaign=share-popup&utm_content=9ecc4245e6d2405c86b7b26bcb9220b9\" target=\"_blank\" style=\"font-weight: bold; color: #1CAAD9;\"> bird_mummy_8 </a> by <a href=\"https://sketchfab.com/vha3?utm_medium=embed&utm_campaign=share-popup&utm_content=9ecc4245e6d2405c86b7b26bcb9220b9\" target=\"_blank\" style=\"font-weight: bold; color: #1CAAD9;\"> vha3 </a> on <a href=\"https://sketchfab.com?utm_medium=embed&utm_campaign=share-popup&utm_content=9ecc4245e6d2405c86b7b26bcb9220b9\" target=\"_blank\" style=\"font-weight: bold; color: #1CAAD9;\">Sketchfab</a></p></div>"
   ]
  },
  {
   "cell_type": "code",
   "execution_count": null,
   "metadata": {},
   "outputs": [],
   "source": []
  }
 ],
 "metadata": {
  "kernelspec": {
   "display_name": "Python 3",
   "language": "python",
   "name": "python3"
  },
  "language_info": {
   "codemirror_mode": {
    "name": "ipython",
    "version": 3
   },
   "file_extension": ".py",
   "mimetype": "text/x-python",
   "name": "python",
   "nbconvert_exporter": "python",
   "pygments_lexer": "ipython3",
   "version": "3.8.3"
  }
 },
 "nbformat": 4,
 "nbformat_minor": 4
}
