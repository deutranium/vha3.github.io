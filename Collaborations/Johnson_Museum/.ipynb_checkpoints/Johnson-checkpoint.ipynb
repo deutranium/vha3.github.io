{
 "cells": [
  {
   "cell_type": "markdown",
   "metadata": {},
   "source": [
    "# 3D Scanning Artifacts at the Johnson Museum of Art\n",
    "#### V. Hunter Adams"
   ]
  },
  {
   "cell_type": "markdown",
   "metadata": {},
   "source": [
    "***"
   ]
  },
  {
   "cell_type": "markdown",
   "metadata": {},
   "source": [
    "## Project objectives\n",
    "\n",
    "This project was conducted in collaboration with the Johnson Museum of Art at Cornell. [Jack Defay](https://jackdefay.com), and independent-study student of mine at Cornell, led an effort to build photogrammetric 3D models of some of the artifacts at the museum. We took thousands of photos of each of these objects with our phones, and then Jack used an [open-sourced photogrammetric computer vision framework](https://alicevision.org) to turn those images into 3D models."
   ]
  },
  {
   "cell_type": "markdown",
   "metadata": {},
   "source": [
    "***"
   ]
  },
  {
   "cell_type": "markdown",
   "metadata": {},
   "source": [
    "### Seated Saint Anne, with the Virgin and Child\n",
    "Please find more informaiton on this object at [this link](https://emuseum.cornell.edu/objects/9510/seated-saint-anne-with-the-virgin-and-child?ctx=562587fd480cb60ea07bdac2ac2d1e8f7251d7bb&idx=0).<br><br>\n",
    "\n",
    "<div class=\"sketchfab-embed-wrapper\"> <iframe title=\"Altar\" frameborder=\"0\" allowfullscreen mozallowfullscreen=\"true\" webkitallowfullscreen=\"true\" allow=\"autoplay; fullscreen; xr-spatial-tracking\" xr-spatial-tracking execution-while-out-of-viewport execution-while-not-rendered web-share width=\"640\" height=\"480\" src=\"https://sketchfab.com/models/7c169b391446461a8dfd55f577d0d406/embed\"> </iframe> </div>"
   ]
  },
  {
   "cell_type": "markdown",
   "metadata": {},
   "source": [
    "### White-ground Greek Lekythos\n",
    "Please find more information on this object at [this link](https://emuseum.cornell.edu/objects/37888/whiteground-greek-lekythos?ctx=7d520d98ca2739086681f67a9aff687d7046716a&idx=2).<br><br>\n",
    "\n",
    "<div class=\"sketchfab-embed-wrapper\"> <iframe title=\"urn3_small_final\" frameborder=\"0\" allowfullscreen mozallowfullscreen=\"true\" webkitallowfullscreen=\"true\" allow=\"autoplay; fullscreen; xr-spatial-tracking\" xr-spatial-tracking execution-while-out-of-viewport execution-while-not-rendered web-share width=\"640\" height=\"480\" src=\"https://sketchfab.com/models/719647014b194aa186ebbff61f2977f4/embed\"> </iframe> <p style=\"font-size: 13px; font-weight: normal; margin: 5px; color: #4A4A4A;\"> <a href=\"https://sketchfab.com/3d-models/urn3-small-final-719647014b194aa186ebbff61f2977f4?utm_medium=embed&utm_campaign=share-popup&utm_content=719647014b194aa186ebbff61f2977f4\" target=\"_blank\" style=\"font-weight: bold; color: #1CAAD9;\"> urn3_small_final </a> by <a href=\"https://sketchfab.com/vha3?utm_medium=embed&utm_campaign=share-popup&utm_content=719647014b194aa186ebbff61f2977f4\" target=\"_blank\" style=\"font-weight: bold; color: #1CAAD9;\"> vha3 </a> on <a href=\"https://sketchfab.com?utm_medium=embed&utm_campaign=share-popup&utm_content=719647014b194aa186ebbff61f2977f4\" target=\"_blank\" style=\"font-weight: bold; color: #1CAAD9;\">Sketchfab</a></p></div>"
   ]
  },
  {
   "cell_type": "markdown",
   "metadata": {},
   "source": [
    "### Dogon lock and latch\n",
    "Please find more information on this object at [this link](https://emuseum.cornell.edu/objects/17237/lock-and-latch?ctx=c13ef786b53fe51b8dfadca978a795171275b48d&idx=15).<br><br>\n",
    "\n",
    "<div class=\"sketchfab-embed-wrapper\"> <iframe title=\"museum_lock_3\" frameborder=\"0\" allowfullscreen mozallowfullscreen=\"true\" webkitallowfullscreen=\"true\" allow=\"autoplay; fullscreen; xr-spatial-tracking\" xr-spatial-tracking execution-while-out-of-viewport execution-while-not-rendered web-share width=\"640\" height=\"480\" src=\"https://sketchfab.com/models/13b366ce31994ad5bcf738d552e9973f/embed\"> </iframe> <p style=\"font-size: 13px; font-weight: normal; margin: 5px; color: #4A4A4A;\"> <a href=\"https://sketchfab.com/3d-models/museum-lock-3-13b366ce31994ad5bcf738d552e9973f?utm_medium=embed&utm_campaign=share-popup&utm_content=13b366ce31994ad5bcf738d552e9973f\" target=\"_blank\" style=\"font-weight: bold; color: #1CAAD9;\"> museum_lock_3 </a> by <a href=\"https://sketchfab.com/vha3?utm_medium=embed&utm_campaign=share-popup&utm_content=13b366ce31994ad5bcf738d552e9973f\" target=\"_blank\" style=\"font-weight: bold; color: #1CAAD9;\"> vha3 </a> on <a href=\"https://sketchfab.com?utm_medium=embed&utm_campaign=share-popup&utm_content=13b366ce31994ad5bcf738d552e9973f\" target=\"_blank\" style=\"font-weight: bold; color: #1CAAD9;\">Sketchfab</a></p></div>"
   ]
  },
  {
   "cell_type": "markdown",
   "metadata": {},
   "source": [
    "***\n",
    "***\n",
    "***"
   ]
  }
 ],
 "metadata": {
  "kernelspec": {
   "display_name": "Python 3",
   "language": "python",
   "name": "python3"
  },
  "language_info": {
   "codemirror_mode": {
    "name": "ipython",
    "version": 3
   },
   "file_extension": ".py",
   "mimetype": "text/x-python",
   "name": "python",
   "nbconvert_exporter": "python",
   "pygments_lexer": "ipython3",
   "version": "3.8.3"
  }
 },
 "nbformat": 4,
 "nbformat_minor": 4
}
