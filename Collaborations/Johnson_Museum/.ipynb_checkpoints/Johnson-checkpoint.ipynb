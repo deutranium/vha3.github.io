{
 "cells": [
  {
   "cell_type": "markdown",
   "metadata": {},
   "source": [
    "# Test embed of 3D model"
   ]
  },
  {
   "cell_type": "markdown",
   "metadata": {},
   "source": [
    "<div class=\"sketchfab-embed-wrapper\"> <iframe title=\"Altar\" frameborder=\"0\" allowfullscreen mozallowfullscreen=\"true\" webkitallowfullscreen=\"true\" allow=\"autoplay; fullscreen; xr-spatial-tracking\" xr-spatial-tracking execution-while-out-of-viewport execution-while-not-rendered web-share src=\"https://sketchfab.com/models/7c169b391446461a8dfd55f577d0d406/embed\"> </iframe> <p style=\"font-size: 13px; font-weight: normal; margin: 5px; color: #4A4A4A;\"> <a href=\"https://sketchfab.com/3d-models/altar-7c169b391446461a8dfd55f577d0d406?utm_medium=embed&utm_campaign=share-popup&utm_content=7c169b391446461a8dfd55f577d0d406\" target=\"_blank\" style=\"font-weight: bold; color: #1CAAD9;\"> Altar </a> by <a href=\"https://sketchfab.com/vha3?utm_medium=embed&utm_campaign=share-popup&utm_content=7c169b391446461a8dfd55f577d0d406\" target=\"_blank\" style=\"font-weight: bold; color: #1CAAD9;\"> vha3 </a> on <a href=\"https://sketchfab.com?utm_medium=embed&utm_campaign=share-popup&utm_content=7c169b391446461a8dfd55f577d0d406\" target=\"_blank\" style=\"font-weight: bold; color: #1CAAD9;\">Sketchfab</a></p></div>"
   ]
  }
 ],
 "metadata": {
  "kernelspec": {
   "display_name": "Python 3",
   "language": "python",
   "name": "python3"
  },
  "language_info": {
   "codemirror_mode": {
    "name": "ipython",
    "version": 3
   },
   "file_extension": ".py",
   "mimetype": "text/x-python",
   "name": "python",
   "nbconvert_exporter": "python",
   "pygments_lexer": "ipython3",
   "version": "3.8.3"
  }
 },
 "nbformat": 4,
 "nbformat_minor": 4
}
