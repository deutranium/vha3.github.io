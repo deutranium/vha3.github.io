{
 "cells": [
  {
   "cell_type": "markdown",
   "metadata": {},
   "source": [
    "# 3D-scanning an Egyptian mummy\n",
    "#### V. Hunter Adams"
   ]
  },
  {
   "cell_type": "markdown",
   "metadata": {},
   "source": [
    "## Project objectives\n",
    "\n",
    "This project was conducted in collaboration with the Archeology Department at Cornell. In particular, it was conducted in collaboration with [Carol Anne Barsody](https://archaeology.cornell.edu/carol-anne-barsody), an archeology MA student that is studying museum exhibitions. With help from [Jack Defay](https://jackdefay.com/), we generated a photogrammetric 3D model of an Egyptian mummy containing the remains of an Ibis. This model will be used in an exhibition hosted on the Cornell campus.\n",
    "\n",
    "For more information:\n",
    "- [Cornell Chronicle article](https://news.cornell.edu/stories/2022/04/cross-college-researchers-unravel-mummy-bird-mystery)\n",
    "- [CNN article](https://www.cnn.com/2022/05/01/world/mummified-bird-cornell-museum-exhibit-scn/index.html)\n",
    "- [Smithsonian article](https://www.smithsonianmag.com/smart-news/museums-mysterious-mummy-identified-as-ibis-likely-sacrificed-to-egyptian-god-180980057/)"
   ]
  },
  {
   "cell_type": "markdown",
   "metadata": {},
   "source": [
    "## Scan"
   ]
  },
  {
   "cell_type": "markdown",
   "metadata": {},
   "source": [
    "<div class=\"sketchfab-embed-wrapper\"> <iframe title=\"bird_mummy_8\" frameborder=\"0\" allowfullscreen mozallowfullscreen=\"true\" webkitallowfullscreen=\"true\" allow=\"autoplay; fullscreen; xr-spatial-tracking\" xr-spatial-tracking execution-while-out-of-viewport execution-while-not-rendered web-share width=\"640\" height=\"480\" src=\"https://sketchfab.com/models/9ecc4245e6d2405c86b7b26bcb9220b9/embed?autospin=1&autostart=1&preload=1\"> </iframe> <p style=\"font-size: 13px; font-weight: normal; margin: 5px; color: #4A4A4A;\"> <a href=\"https://sketchfab.com/3d-models/bird-mummy-8-9ecc4245e6d2405c86b7b26bcb9220b9?utm_medium=embed&utm_campaign=share-popup&utm_content=9ecc4245e6d2405c86b7b26bcb9220b9\" target=\"_blank\" style=\"font-weight: bold; color: #1CAAD9;\"> bird_mummy_8 </a> by <a href=\"https://sketchfab.com/vha3?utm_medium=embed&utm_campaign=share-popup&utm_content=9ecc4245e6d2405c86b7b26bcb9220b9\" target=\"_blank\" style=\"font-weight: bold; color: #1CAAD9;\"> vha3 </a> on <a href=\"https://sketchfab.com?utm_medium=embed&utm_campaign=share-popup&utm_content=9ecc4245e6d2405c86b7b26bcb9220b9\" target=\"_blank\" style=\"font-weight: bold; color: #1CAAD9;\">Sketchfab</a></p></div>"
   ]
  },
  {
   "cell_type": "markdown",
   "metadata": {},
   "source": [
    "***\n",
    "***\n",
    "***"
   ]
  }
 ],
 "metadata": {
  "kernelspec": {
   "display_name": "Python 3",
   "language": "python",
   "name": "python3"
  },
  "language_info": {
   "codemirror_mode": {
    "name": "ipython",
    "version": 3
   },
   "file_extension": ".py",
   "mimetype": "text/x-python",
   "name": "python",
   "nbconvert_exporter": "python",
   "pygments_lexer": "ipython3",
   "version": "3.8.3"
  }
 },
 "nbformat": 4,
 "nbformat_minor": 4
}
