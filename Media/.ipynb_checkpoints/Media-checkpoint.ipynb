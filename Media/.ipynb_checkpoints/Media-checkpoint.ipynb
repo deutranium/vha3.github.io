{
 "cells": [
  {
   "cell_type": "markdown",
   "metadata": {},
   "source": [
    "# Articles/Media"
   ]
  },
  {
   "cell_type": "markdown",
   "metadata": {},
   "source": [
    "###### V. Hunter Adams (vha3@cornell.edu)"
   ]
  },
  {
   "cell_type": "markdown",
   "metadata": {},
   "source": [
    "#### About my work\n",
    "1. [Building Bio-Inspired Prototypes with Personality](https://www.ece.cornell.edu/spotlights/building-bio-inspired-prototypes-personality)\n",
    "1. [Unforgettable Pivots](https://www.unyicorps.org/unforgettable-pivots-part-3/)\n",
    "2. [Space Satellites Also Good for Grapes](http://www.goodfruit.com/space-satellites-also-good-for-grapes/)\n",
    "3. [Chipsats--Hoards of Tiny Circuit Boards Sent to Space (or Attached to Cows)](https://www.allaboutcircuits.com/news/chipsats-hoards-of-tiny-circuit-boards-sent-to-space-or-attached-on-cows/)\n",
    "4. [Cedar Crest Alumnus Building Micro-Satellites with Potential to Change Space Data Collection](https://lebtown.com/2019/11/19/cedar-crest-alumnus-building-micro-satellites-with-potential-to-change-space-data-collection/)\n",
    "5. [Monarch Satellites Open New Frontier in Crop Monitoring](https://www.farmprogress.com/technology/monarch-satellites-open-new-frontier-crop-monitoring)\n",
    "6. [Micro-Satellites Offer a Fresh View of NYS Agriculture](https://news.cornell.edu/stories/2019/10/micro-satellites-offer-fresh-view-nys-agriculture)\n",
    "7. [PhD Profile: Hunter Adams](https://www.engineering.cornell.edu/spotlights/phd-profile-hunter-adams)\n",
    "8. [Student Focus -- Viticulture and Enology](https://grapesandwine.cals.cornell.edu/newsletters/appellation-cornell/2019-newsletters/issue-38-august-2019/student-focus/)"
   ]
  },
  {
   "cell_type": "markdown",
   "metadata": {},
   "source": [
    "#### Including my work\n",
    "1. [Drones, Sensors, Satellites and Cameras: New Tools for Managing a Vineyard](https://www.winebusiness.com/news/?go=getArticle&dataId=217707)\n",
    "2. [Viticulture goes Digital with Symposium and Tour](https://www.growingproduce.com/fruits/viticulture-goes-digital-with-symposium-and-tour/)\n",
    "3. [GLEE Mission](https://www.glee2023.org/mission)\n",
    "4. [TEDx Talks: Mason Peck on How to Build Your Own Spacecraft](https://www.youtube.com/watch?v=iapEm2XvUrY)\n",
    "5. [Commercialization Fellows Explore Market for Inventions](https://news.cornell.edu/stories/2018/06/commercialization-fellows-explore-market-inventions)"
   ]
  },
  {
   "cell_type": "markdown",
   "metadata": {},
   "source": [
    "#### About projects that I contributed to\n",
    "1. [Cross-college researchers unravel mummy bird mystery](https://news.cornell.edu/stories/2022/04/cross-college-researchers-unravel-mummy-bird-mystery)"
   ]
  }
 ],
 "metadata": {
  "kernelspec": {
   "display_name": "Python 3",
   "language": "python",
   "name": "python3"
  },
  "language_info": {
   "codemirror_mode": {
    "name": "ipython",
    "version": 3
   },
   "file_extension": ".py",
   "mimetype": "text/x-python",
   "name": "python",
   "nbconvert_exporter": "python",
   "pygments_lexer": "ipython3",
   "version": "3.8.3"
  }
 },
 "nbformat": 4,
 "nbformat_minor": 4
}
