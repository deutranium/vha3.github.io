{
 "cells": [
  {
   "cell_type": "markdown",
   "metadata": {},
   "source": [
    "# Resonance Confusion!"
   ]
  },
  {
   "cell_type": "markdown",
   "metadata": {},
   "source": [
    "###### V. Hunter Adams"
   ]
  },
  {
   "cell_type": "code",
   "execution_count": 3,
   "metadata": {
    "collapsed": true
   },
   "outputs": [],
   "source": [
    "from IPython.display import Latex"
   ]
  },
  {
   "cell_type": "markdown",
   "metadata": {},
   "source": [
    "## Question 3a"
   ]
  },
  {
   "cell_type": "markdown",
   "metadata": {},
   "source": [
    "We are asked to calculate the semi-major axes that correspond to a series of resonances with Jupiter, and we are given the following information:"
   ]
  },
  {
   "cell_type": "markdown",
   "metadata": {},
   "source": [
    "\\begin{align}\n",
    "P^2&=a^3\\\\\n",
    "a_{Jupiter}&=5.2 \\text{ AU}\n",
    "\\end{align}"
   ]
  },
  {
   "cell_type": "markdown",
   "metadata": {},
   "source": [
    "Where, in the above representation of Kepler's Third Law, P is in years and $a$ is in AU. Let us begin by finding the orbital period of Jupiter:"
   ]
  },
  {
   "cell_type": "markdown",
   "metadata": {},
   "source": [
    "\\begin{align}\n",
    "P^2_{Jupiter} &= a_{Jupiter}^3\\\\\n",
    "&= 5.2^3\\\\\n",
    "&= 140.6\n",
    "\\end{align}"
   ]
  },
  {
   "cell_type": "markdown",
   "metadata": {},
   "source": [
    "So, solving for $P_{Jupiter}$:"
   ]
  },
  {
   "cell_type": "markdown",
   "metadata": {},
   "source": [
    "\\begin{align}\n",
    "P_{Jupiter} &= \\sqrt{140.6}\\\\\n",
    "&= 11.9\\text{ years}\n",
    "\\end{align}"
   ]
  },
  {
   "cell_type": "markdown",
   "metadata": {},
   "source": [
    "The homework then lists a series of resonances and asks to find the semi-major axes associated with each. Remember, *resonance* refers to a ratio between the orbital periods of two objects. So, if we know the orbital period of one object (Jupiter), and we know the resonance, then we can solve for the orbital period of the other object via. Then, via Kepler's Third Law, we can solve for the semi-major axis. Let's take this one step at a time."
   ]
  },
  {
   "cell_type": "markdown",
   "metadata": {},
   "source": [
    "###### 3:1 Resonance"
   ]
  },
  {
   "cell_type": "markdown",
   "metadata": {},
   "source": [
    "A 3:1 resonance means that the object for which we're trying to find the semimajor axis orbits the Sun 3 times in the same amount of time that it takes for Jupiter to orbit once. Let's solve for the orbital period of this object:"
   ]
  },
  {
   "cell_type": "markdown",
   "metadata": {},
   "source": [
    "\\begin{align}\n",
    "3P_{object} &= 1P_{Jupiter}\\\\\n",
    "3P_{object} &= 11.9\\text{ years}\\\\\n",
    "P_{object} &= \\frac{11.9\\text{ years}}{3}\\\\\n",
    "&= 3.97 \\text{ years}\n",
    "\\end{align}"
   ]
  },
  {
   "cell_type": "markdown",
   "metadata": {},
   "source": [
    "So, an object in 3:1 resonance with Jupiter orbits every 3.97 years. What is it's semimajor axis? We can get this information via Kepler's Third:"
   ]
  },
  {
   "cell_type": "markdown",
   "metadata": {},
   "source": [
    "\\begin{align}\n",
    "P_{object}^2 &= a_{object}^3\\\\\n",
    "46.9^2 &= a_{object}^3\\\\\n",
    "a_{object} &= \\left(3.97^2\\right)^{\\frac{1}{3}}\\\\\n",
    "&\\approx 2.5\\text{ AU}\n",
    "\\end{align}"
   ]
  },
  {
   "cell_type": "markdown",
   "metadata": {},
   "source": [
    "Precisely the same procedure can be used to find the semimajor axes for all of the remaining resonances."
   ]
  },
  {
   "cell_type": "markdown",
   "metadata": {},
   "source": [
    "## Question 3b"
   ]
  },
  {
   "cell_type": "markdown",
   "metadata": {},
   "source": [
    "What you see in this plot is that there are *very few asteriods* at the semimajor axes associated with resonance with Jupiter. This is due to the fact that the asteriods are getting periodically tugged by Jupiter. This tug changes the orbital elements of the asteroid (it either gives it more energy, or it takes energy away). This is somewhat analagous to pushing a child on a swing. This tugging will create gaps and concentrations of asteroids at different distances."
   ]
  },
  {
   "cell_type": "markdown",
   "metadata": {},
   "source": [
    "## Question 3c"
   ]
  },
  {
   "cell_type": "markdown",
   "metadata": {},
   "source": [
    "The rate at which the semimajor axis is increasing is:"
   ]
  },
  {
   "cell_type": "markdown",
   "metadata": {},
   "source": [
    "\\begin{align}\n",
    "\\text{rate} &= 10^{-9}\\frac{\\text{AU}}{\\text{year}}\n",
    "\\end{align}"
   ]
  },
  {
   "cell_type": "markdown",
   "metadata": {},
   "source": [
    "The asteroid starts at 2.2 AU, and the questions asks how long it will take for the semimajor axis to become 2.5 AU. In order for this to happen, the asteroid needs to travel 2.5-2.2=0.3AU."
   ]
  },
  {
   "cell_type": "markdown",
   "metadata": {},
   "source": [
    "\\begin{align}\n",
    "\\text{distance} &= 0.3\\text{AU}\\\\\n",
    "\\text{rate} &= 10^{-9}\\frac{\\text{AU}}{\\text{year}}\\\\\n",
    "\\text{time} &= ?\n",
    "\\end{align}"
   ]
  },
  {
   "cell_type": "markdown",
   "metadata": {},
   "source": [
    "We know that distance=rate $\\times$ time. So, solving for time:"
   ]
  },
  {
   "cell_type": "markdown",
   "metadata": {},
   "source": [
    "\\begin{align}\n",
    "\\text{distance} &= \\text{rate} \\times \\text{time}\\\\\n",
    "\\text{time} &= \\frac{\\text{distance}}{\\text{rate}}\\\\\n",
    "&= \\frac{0.3\\text{AU}}{10^{-9}\\frac{\\text{AU}}{\\text{year}}}\\\\\n",
    "&= 3\\times 10^{8} \\text{ years}\n",
    "\\end{align}"
   ]
  },
  {
   "cell_type": "markdown",
   "metadata": {},
   "source": [
    "How does this \"create\" objects that visit the inner solar system? What happens when this asteroid gets to 2.5 AU (look at the plot in the previous part of the question). Where does Jupiter force the asteroids to aggregate?"
   ]
  },
  {
   "cell_type": "code",
   "execution_count": null,
   "metadata": {
    "collapsed": true
   },
   "outputs": [],
   "source": []
  }
 ],
 "metadata": {
  "kernelspec": {
   "display_name": "Python 2",
   "language": "python",
   "name": "python2"
  },
  "language_info": {
   "codemirror_mode": {
    "name": "ipython",
    "version": 2
   },
   "file_extension": ".py",
   "mimetype": "text/x-python",
   "name": "python",
   "nbconvert_exporter": "python",
   "pygments_lexer": "ipython2",
   "version": "2.7.9"
  }
 },
 "nbformat": 4,
 "nbformat_minor": 2
}
