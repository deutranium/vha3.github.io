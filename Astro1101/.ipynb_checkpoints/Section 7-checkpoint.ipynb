{
 "cells": [
  {
   "cell_type": "markdown",
   "metadata": {},
   "source": [
    "# Section 7"
   ]
  },
  {
   "cell_type": "markdown",
   "metadata": {},
   "source": [
    "###### V. Hunter Adams"
   ]
  },
  {
   "cell_type": "code",
   "execution_count": 1,
   "metadata": {
    "collapsed": true
   },
   "outputs": [],
   "source": [
    "from IPython.display import Latex\n",
    "import matplotlib.pyplot as plt\n",
    "%matplotlib inline\n",
    "import numpy\n",
    "from matplotlib import animation, rc\n",
    "from IPython.core.display import HTML \n",
    "from IPython.display import HTML\n",
    "from ipywidgets import *\n",
    "from scipy.integrate import odeint\n",
    "from IPython.display import Image"
   ]
  },
  {
   "cell_type": "markdown",
   "metadata": {},
   "source": [
    "## Some General Thoughts"
   ]
  },
  {
   "cell_type": "markdown",
   "metadata": {},
   "source": [
    "In your homeworks, you learned a number of *procedures* for solving problems. You learned the procedure for calculating the equilibrium temperature of the Earth, finding the age of a sample via radioactive decay etc."
   ]
  },
  {
   "cell_type": "markdown",
   "metadata": {},
   "source": [
    "When you're studying for this exam, make sure that you *understand* these derived relationships. How does equilibrium temperature relate to distance from the Sun? How does the fraction of remaining isotope change with number of half lives? Don't just be able to go through the motions for solving a problem of a particular type, but develop an *understanding* of these equations."
   ]
  },
  {
   "cell_type": "markdown",
   "metadata": {},
   "source": [
    "There's a common misconception that \"conceptual\" means \"easy\" when we're talking about exam questions. Don't fall into that trap. We've covered a lot of concepts since the last prelim, and not all of them agree with intuition."
   ]
  },
  {
   "cell_type": "markdown",
   "metadata": {},
   "source": [
    "You have examples of all of these problems on my previous section notes and your homework. Instead, let's spend this section talking about the important *concepts* and doing question and answer."
   ]
  },
  {
   "cell_type": "markdown",
   "metadata": {},
   "source": [
    "## What Have We Covered Since Prelim 1?"
   ]
  },
  {
   "cell_type": "markdown",
   "metadata": {},
   "source": [
    "### Solar System Origins"
   ]
  },
  {
   "cell_type": "markdown",
   "metadata": {},
   "source": [
    "*Question*: The solar system formed from a large cloud of gas and dust. How did that cloud of gas and dust become the solar system?"
   ]
  },
  {
   "cell_type": "markdown",
   "metadata": {},
   "source": [
    "*Answer*: This cloud of gas and dust began to collapse under its own gravity. The particles that compose this gas cloud have random velocities, but due to randomness, there will be *some net rotation* of the entire gas cloud. As the cloud collapses, this very small amount of net rotation is amplified in order to conserve angular momentum. The result is a flattened disk of material surrounding the center star."
   ]
  },
  {
   "cell_type": "markdown",
   "metadata": {},
   "source": [
    "*Question*: What evidence supports this theory for solar system formation?"
   ]
  },
  {
   "cell_type": "markdown",
   "metadata": {},
   "source": [
    "*Answer*: The motion of the objects in the solar system (planar, same direction of rotation), the composition of the Sun and other objects in the solar system, the relative ages of the Sun and objects in the Solar System, and evidence for planets around other stars."
   ]
  },
  {
   "cell_type": "markdown",
   "metadata": {},
   "source": [
    "*Question*: What's planetary migration? How does this relate to hot Jupiters?"
   ]
  },
  {
   "cell_type": "markdown",
   "metadata": {},
   "source": [
    "*Answer*: Gas giants form towards the outside of the planetary nebula. Why? Because that's where the H/He is located. The reason that scientists have found so many \"hot Jupiters\" (gas giants orbiting extremely close to parent star) is because of drag from the planetary nebula and (to a lesser extent) resonances."
   ]
  },
  {
   "cell_type": "markdown",
   "metadata": {},
   "source": [
    "### Exoplanet Detection"
   ]
  },
  {
   "cell_type": "markdown",
   "metadata": {},
   "source": [
    "*Question*: What biases are present in the various forms of exoplanet detection?"
   ]
  },
  {
   "cell_type": "markdown",
   "metadata": {},
   "source": [
    "*Answer*: Doppler: prefers large-mass, short-period planets. Transit: prefers large-radius, short-period planets with edge-on orbits. Direct imaging: prefers bright, large planets on large orbits around their suns."
   ]
  },
  {
   "cell_type": "markdown",
   "metadata": {},
   "source": [
    "*Question*: What can be learned about a planet from Doppler measurements of its sun's motion?"
   ]
  },
  {
   "cell_type": "markdown",
   "metadata": {},
   "source": [
    "*Answer*: Orbital period (and eccentricity), lower bound on mass of the planet (conservation of linear momentum)."
   ]
  },
  {
   "cell_type": "markdown",
   "metadata": {},
   "source": [
    "*Question*: What can be learned about a planet from transit measurements?"
   ]
  },
  {
   "cell_type": "markdown",
   "metadata": {},
   "source": [
    "*Answer*: Orbital period, size of the planet, temperature/composition of atmosphere (with spectral data)."
   ]
  },
  {
   "cell_type": "markdown",
   "metadata": {},
   "source": [
    "**What sorts of things can you learn by combining these techniques?**"
   ]
  },
  {
   "cell_type": "markdown",
   "metadata": {},
   "source": [
    "### Exoplanet Observations"
   ]
  },
  {
   "cell_type": "markdown",
   "metadata": {},
   "source": [
    "*Question*: Explain the habitable zone. Why might a planet be warmer than suggested by its location in the habitable zone? How does the habitable zone change with stellar mass?"
   ]
  },
  {
   "cell_type": "markdown",
   "metadata": {},
   "source": [
    "*Answer*: The habitable zone is the range of distances from the parent star where liquid water could exist on the surface of a planet. Greenhouse gasses may warm the planet beyond its habitable zone estimate. Larger mass stars have a wider habitable zone."
   ]
  },
  {
   "cell_type": "markdown",
   "metadata": {},
   "source": [
    "*Question*: Explain the Kepler mission."
   ]
  },
  {
   "cell_type": "markdown",
   "metadata": {},
   "source": [
    "*Answer*: Kepler is a space telescope. It detects exoplanet transits and has vastly increased the number of known exoplanets."
   ]
  },
  {
   "cell_type": "markdown",
   "metadata": {},
   "source": [
    "### Dating"
   ]
  },
  {
   "cell_type": "markdown",
   "metadata": {},
   "source": [
    "*Question*: How does mass spectroscopy work?"
   ]
  },
  {
   "cell_type": "markdown",
   "metadata": {},
   "source": [
    "*Answer*: Break sample into constituent atoms and molecules. Ionize them (give them a charge), pump them through a magnet, measure deflection to get mass/charge ratio."
   ]
  },
  {
   "cell_type": "markdown",
   "metadata": {},
   "source": [
    "*Question*: What's an isotope?"
   ]
  },
  {
   "cell_type": "markdown",
   "metadata": {},
   "source": [
    "*Answer*: Same number of protons, different number of neutrons."
   ]
  },
  {
   "cell_type": "markdown",
   "metadata": {},
   "source": [
    "*Question*: After 4 half lives, what fraction of the original radioactive isotope remains?"
   ]
  },
  {
   "cell_type": "markdown",
   "metadata": {},
   "source": [
    "*Answer*: $(0.5)^4$"
   ]
  },
  {
   "cell_type": "markdown",
   "metadata": {},
   "source": [
    "*Question*: What are some relevant isotopes and half-lives?"
   ]
  },
  {
   "cell_type": "markdown",
   "metadata": {},
   "source": [
    "*Answer*: CARBON: 5,730 years. This is used to date samples that are human-being aged. POTASSIUM-40: 1.28 billion years. RUBIDIUM-87: 47.5 billion years. ALUMINUM-26: 717,000 years."
   ]
  },
  {
   "cell_type": "markdown",
   "metadata": {},
   "source": [
    "*Question*: Why must we assume that the sample was initially molten when using rubidium-strontium dating curves?"
   ]
  },
  {
   "cell_type": "markdown",
   "metadata": {},
   "source": [
    "*Answer*: Argon escapes from molten material because it is a noble gas."
   ]
  },
  {
   "cell_type": "markdown",
   "metadata": {},
   "source": [
    "### Earth Geology"
   ]
  },
  {
   "cell_type": "markdown",
   "metadata": {},
   "source": [
    "*Question*: How do we know the internal composition of the Earth? (crust, mantle, liquid outer core, solid inner core)."
   ]
  },
  {
   "cell_type": "markdown",
   "metadata": {},
   "source": [
    "*Answer*: Earthquakes! S-waves communiate through solid material. P-waves communicate through solid and liquid. Plus there's refraction, leading to the *shadow zone* where very weak P-waves are felt."
   ]
  },
  {
   "cell_type": "markdown",
   "metadata": {},
   "source": [
    "*Question*: How do we know that the magnetic field has reversed polarity throughout the earth's history?"
   ]
  },
  {
   "cell_type": "markdown",
   "metadata": {},
   "source": [
    "*Answer*: Striping at the mid-atlantic rift."
   ]
  },
  {
   "cell_type": "markdown",
   "metadata": {},
   "source": [
    "### Earth Atmosphere"
   ]
  },
  {
   "cell_type": "markdown",
   "metadata": {},
   "source": [
    "*Question*: Explain how greenhouse warming works."
   ]
  },
  {
   "cell_type": "markdown",
   "metadata": {},
   "source": [
    "*Answer*: The incident energy from the Sun is in the form of short-wavelength (~500nm) light. This incident energy is partially absorbed by the Earth and re-radiated. However, because the Earth is substantially cooler than the Sun, the radiated energy has significantly longer wavelengths. Greenhouse gasses in the atmosphere allow the short-wavelength light from the Sun to pass through to the Earth unimpeded. They absorb the re-radiated long-wavelength energy, however, and emit it in all directions. Some of this emitted energy goes back down to the Earth, creating a warming effect."
   ]
  },
  {
   "cell_type": "markdown",
   "metadata": {},
   "source": [
    "*Question*: Which layer of the atmosphere contains ozone. Which layer has most weather?"
   ]
  },
  {
   "cell_type": "markdown",
   "metadata": {},
   "source": [
    "*Answer*: Stratosphere and mesosphere, Troposphere"
   ]
  },
  {
   "cell_type": "markdown",
   "metadata": {},
   "source": [
    "*Question*: How does equilibrium temperature relate to distance from the Sun?"
   ]
  },
  {
   "cell_type": "markdown",
   "metadata": {},
   "source": [
    "*Answer*: To find the equilibrium temperature, we set the emitted energy from the Earth ($4\\pi R_E^2 \\sigma T^4$) equal to the incident energy from the Sun $\\left(\\frac{L}{4 \\pi R_{E\\rightarrow S}^2} \\pi R_E^2 = \\frac{4\\pi \\sigma T_s^4}{4\\pi R_{E \\rightarrow S}^2}\\pi R_E^2\\right)$. Equating these things:"
   ]
  },
  {
   "cell_type": "markdown",
   "metadata": {},
   "source": [
    "\\begin{align}\n",
    "4\\pi R_E^2 \\sigma T^4 &= \\frac{4\\pi R_s^2 \\sigma T_s^4}{4\\pi R_{E\\rightarrow S}^2} = \\frac{L_s}{4 \\pi R_{E\\rightarrow S}^2} \\pi R_E^2\n",
    "\\end{align}"
   ]
  },
  {
   "cell_type": "markdown",
   "metadata": {},
   "source": [
    "\\begin{align}\n",
    "4 \\sigma T^4 &= \\frac{L_s}{4 \\pi R_{E\\rightarrow S}^2}\n",
    "\\end{align}"
   ]
  },
  {
   "cell_type": "markdown",
   "metadata": {},
   "source": [
    "\\begin{align}\n",
    "T^4 &= \\frac{L_s}{16\\sigma \\pi R_{E\\rightarrow S}^2}\n",
    "\\end{align}"
   ]
  },
  {
   "cell_type": "markdown",
   "metadata": {},
   "source": [
    "\\begin{align}\n",
    "T &= \\frac{L_s^{\\frac{1}{4}}}{\\left(16\\sigma \\pi\\right)^{\\frac{1}{4}}R_{E\\rightarrow S}^{\\frac{1}{2}}}\n",
    "\\end{align}"
   ]
  },
  {
   "cell_type": "markdown",
   "metadata": {},
   "source": [
    "\\begin{align}\n",
    "T &= \\frac{C}{R_{E\\rightarrow S}^{\\frac{1}{2}}}\n",
    "\\end{align}"
   ]
  },
  {
   "cell_type": "markdown",
   "metadata": {},
   "source": [
    "So...If $R_{E\\rightarrow S} \\longrightarrow \\frac{1}{4}R_{E\\rightarrow S}$, then $T \\rightarrow 2T$."
   ]
  },
  {
   "cell_type": "markdown",
   "metadata": {},
   "source": [
    "*Question*: Why does Earth's atmosphere have so much less CO2 than Venus? Where did it go?"
   ]
  },
  {
   "cell_type": "markdown",
   "metadata": {},
   "source": [
    "*Answer*: Chemical and biological processes have sequestered the CO2 into rocks and the oceans."
   ]
  },
  {
   "cell_type": "markdown",
   "metadata": {},
   "source": [
    "*Question*: What is the atmospheric composition of Earth?"
   ]
  },
  {
   "cell_type": "markdown",
   "metadata": {},
   "source": [
    "*Answer*: Nitrogen, Oxygen, Argon, Water, C02"
   ]
  },
  {
   "cell_type": "code",
   "execution_count": null,
   "metadata": {
    "collapsed": true
   },
   "outputs": [],
   "source": []
  }
 ],
 "metadata": {
  "kernelspec": {
   "display_name": "Python 2",
   "language": "python",
   "name": "python2"
  },
  "language_info": {
   "codemirror_mode": {
    "name": "ipython",
    "version": 2
   },
   "file_extension": ".py",
   "mimetype": "text/x-python",
   "name": "python",
   "nbconvert_exporter": "python",
   "pygments_lexer": "ipython2",
   "version": "2.7.9"
  }
 },
 "nbformat": 4,
 "nbformat_minor": 2
}
