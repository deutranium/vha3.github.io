{
 "cells": [
  {
   "cell_type": "markdown",
   "metadata": {},
   "source": [
    "# 4160 Prelim Results"
   ]
  },
  {
   "cell_type": "markdown",
   "metadata": {},
   "source": [
    "###### V. Hunter Adams"
   ]
  },
  {
   "cell_type": "code",
   "execution_count": 1,
   "metadata": {
    "collapsed": true
   },
   "outputs": [],
   "source": [
    "from IPython.display import Latex\n",
    "import matplotlib.pyplot as plt\n",
    "%matplotlib inline\n",
    "from copy import deepcopy\n",
    "import numpy\n",
    "from matplotlib import animation, rc\n",
    "from IPython.core.display import HTML \n",
    "from IPython.display import HTML\n",
    "from ipywidgets import *\n",
    "from scipy.integrate import odeint\n",
    "import plotly.plotly as py\n",
    "import plotly\n",
    "from numpy.linalg import pinv\n",
    "import plotly.graph_objs as go\n",
    "import pandas as pd\n",
    "import plotly.tools as tls\n",
    "import urllib2\n",
    "tls.set_credentials_file(username='v.h.adams', api_key='werEw55EhyYuY92HZtTt')"
   ]
  },
  {
   "cell_type": "markdown",
   "metadata": {},
   "source": [
    "## Section Scores"
   ]
  },
  {
   "cell_type": "code",
   "execution_count": 13,
   "metadata": {
    "collapsed": false
   },
   "outputs": [],
   "source": [
    "question1  = [3., 3., 3., 3., 3., 3., 3.,\n",
    "              4., 4., 4., 4., 4., 5., 5.,\n",
    "              5., 5., 5., 5., 5., 5., 5.,\n",
    "              5., 5., 5., 5., 5., 5., 5.,\n",
    "              5., 5.]\n",
    "question2  = [4., 4., 4., 4., 4., 4., 4.,\n",
    "              4., 4., 4., 4., 4., 4., 4.,\n",
    "              4., 4., 4., 4.5, 4.5, 4.5, 4.5,\n",
    "              5., 5., 5., 5., 5., 5., 5., 5., 5.]\n",
    "question3  = [3., 3., 3., 3., 3., 4., 5., 5.,\n",
    "              5., 5., 5., 5., 5., 5., 5., 5.,\n",
    "              5., 5., 5., 5., 5., 5., 5., 5.,\n",
    "              5., 5., 5., 5., 5., 5.]\n",
    "question4  = [1., 1., 4., 4., 4., 4., 4., 4.,\n",
    "              4., 4., 4., 5., 5., 5., 5., 5.,\n",
    "              5., 5., 5., 5., 5., 5., 5., 5.,\n",
    "              5., 5., 5., 5., 5., 5.]\n",
    "question5  = [3., 3., 3., 3., 4., 4., 4., 4.,\n",
    "              4., 4., 4., 4., 4., 4.5, 5., 5.,\n",
    "              5., 5., 5., 5., 5., 5., 5., 5.,\n",
    "              5., 5., 5., 5., 5., 5.]\n",
    "question6  = [3.5, 3.5, 5., 5., 5., 5., 5.,\n",
    "              5., 5., 5., 5., 5., 5., 5., 5.,\n",
    "              5., 5., 5., 5., 5., 5., 5., 5.,\n",
    "              5., 5., 5., 5., 5., 5., 5.]\n",
    "question7 =  [2.5, 2.5, 2.5, 2.5, 2.5, 2.5,\n",
    "              2.5, 2.5, 2.5, 2.5, 2.5, 5.,\n",
    "              5., 5., 5., 5., 5., 5., 5.,\n",
    "              5., 5., 5., 5., 5., 5., 5.,\n",
    "              5., 5., 5., 5.]\n",
    "question8  = [2.5, 2.5, 2.5, 2.5, 2.5, 2.5, 2.5,\n",
    "              2.5, 2.5, 2.5, 2.5, 2.5, 2.5, 2.5,\n",
    "              2.5, 2.5, 2.5, 2.5, 2.5, 2.5, 2.5,\n",
    "              2.5, 2.5, 2.5, 2.5, 2.5, 2.5, 2.5, 5., 5.]\n",
    "question9  = [5., 5., 5., 5., 5., 5.,\n",
    "              5., 5., 5., 5., 5., 5.,\n",
    "              5., 5., 5., 5., 5., 5.,\n",
    "              5., 5., 5., 5., 5., 5.,\n",
    "              5., 5., 5., 5., 5., 5.]\n",
    "question10 = [5., 5., 5., 5., 5.,\n",
    "              5., 5., 5., 5., 5.,\n",
    "              5., 5., 5., 5., 5.,\n",
    "              5., 5., 5., 5., 5.,\n",
    "              5., 5., 5., 5., 5.,\n",
    "              5., 5., 5., 2.5, 4.]\n",
    "question11 = [5., 5., 5., 5., 5.,\n",
    "              5., 5., 5., 5., 5.,\n",
    "              5., 5., 5., 5., 5.,\n",
    "              5., 5., 5., 5., 5.,\n",
    "              5., 5., 5., 4., 4.,\n",
    "              3., 3., 3., 3., 2.5]\n",
    "question12 = [5., 5., 5., 5., 5.,\n",
    "              5., 5., 5., 5., 5.,\n",
    "              5., 5., 5., 5., 5.,\n",
    "              5., 5., 5., 5., 5.,\n",
    "              5., 5., 4., 4., 4., 4.,\n",
    "              4., 4., 4., 3.]\n",
    "question13 = [5., 5., 5., 5., 5.,\n",
    "              5., 5., 5., 5., 5.,\n",
    "              5., 5., 5., 5., 5.,\n",
    "              5., 5., 5., 5., 5.,\n",
    "              5., 5., 5., 5., 5.,\n",
    "              5., 5., 5., 5., 2.]\n",
    "question14 = [3., 3., 3., 3., 3.,\n",
    "              3., 3., 3., 3., 3.,\n",
    "              3., 3., 3., 3., 3.,\n",
    "              3., 3., 3., 3., 3.,\n",
    "              3., 3., 3., 3., 3.,\n",
    "              3., 0., 0., 0., 0.,]\n",
    "question15 = [3., 3., 3., 3., 3.,\n",
    "              3., 3., 3., 3., 3.,\n",
    "              3., 3., 3., 3., 3.,\n",
    "              3., 3., 0., 0., 0.,\n",
    "              0., 0., 0., 0., 0.,\n",
    "              0., 0., 0., 0., 0.,]\n",
    "question16 = [3., 3., 3., 3., 3.,\n",
    "              3., 3., 3., 3., 3.,\n",
    "              3., 3., 3., 3., 3.,\n",
    "              3., 3., 3., 3., 3.,\n",
    "              3., 3., 3., 3., 3.,\n",
    "              3., 3., 3., 0., 0.,]\n",
    "question17 = [3., 3., 3., 3., 3.,\n",
    "              3., 3., 3., 3., 3.,\n",
    "              3., 3., 3., 3., 3.,\n",
    "              3., 3., 3., 3., 3.,\n",
    "              3., 3., 3., 3., 3.,\n",
    "              3., 3., 3., 3., 3.,]\n",
    "question18 = [3., 3., 3., 3., 3.,\n",
    "              3., 3., 3., 3., 3.,\n",
    "              3., 3., 3., 3., 3.,\n",
    "              3., 3., 3., 3., 3.,\n",
    "              3., 3., 3., 3., 3.,\n",
    "              3., 3., 3., 0., 0.,]\n",
    "question19 = [3., 3., 3., 3., 3.,\n",
    "              3., 3., 3., 3., 3.,\n",
    "              3., 3., 3., 3., 3.,\n",
    "              3., 3., 3., 3., 3.,\n",
    "              3., 3., 3., 3., 3.,\n",
    "              3., 3., 3., 3., 0.,]\n",
    "question20 = [3., 3., 3., 3., 3.,\n",
    "              3., 3., 3., 3., 3.,\n",
    "              3., 3., 3., 3., 3.,\n",
    "              3., 3., 3., 3., 3.,\n",
    "              3., 3., 3., 3., 3.,\n",
    "              3., 3., 0., 0., 0.,]\n",
    "question21 = [3., 3., 3., 3., 3.,\n",
    "              3., 3., 3., 3., 3.,\n",
    "              3., 3., 3., 3., 3.,\n",
    "              3., 3., 3., 3., 3.,\n",
    "              3., 3., 3., 3., 3.,\n",
    "              3., 0., 0., 0., 0.,]\n",
    "question22 = [3., 3., 3., 3., 3.,\n",
    "              3., 3., 3., 3., 3.,\n",
    "              3., 3., 3., 3., 3.,\n",
    "              3., 3., 3., 3., 3.,\n",
    "              3., 3., 3., 3., 3.,\n",
    "              3., 3., 3., 3., 0.,]\n",
    "question23 = [3., 3., 3., 3., 3.,\n",
    "              3., 3., 3., 3., 3.,\n",
    "              3., 3., 3., 3., 3.,\n",
    "              3., 3., 3., 3., 3.,\n",
    "              3., 3., 3., 3., 3.,\n",
    "              3., 3., 3., 0., 0.,]\n",
    "totalscores= [86., 92.5, 100., 86.5, 92.,\n",
    "              93., 78.5, 87., 91., 92.,\n",
    "              88., 92.5, 92.5, 94.5, 94.5,\n",
    "              97.5, 95.5, 89., 93.5, 96.5,\n",
    "              87., 84., 70, 86.5, 90.,\n",
    "              84., 89.5, 93., 83.5, 82.]\n",
    "total = deepcopy(question1)\n",
    "total.extend(question2)\n",
    "total.extend(question3)\n",
    "total.extend(question4)\n",
    "total.extend(question5)\n",
    "total.extend(question6)\n",
    "total.extend(question7)\n",
    "total.extend(question8)\n",
    "total.extend(question9)\n",
    "# total.extend(question3)"
   ]
  },
  {
   "cell_type": "markdown",
   "metadata": {},
   "source": [
    "## Histogram of Scores"
   ]
  },
  {
   "cell_type": "code",
   "execution_count": 33,
   "metadata": {
    "collapsed": false
   },
   "outputs": [
    {
     "data": {
      "text/html": [
       "<iframe id=\"igraph\" scrolling=\"no\" style=\"border:none;\" seamless=\"seamless\" src=\"https://plot.ly/~v.h.adams/215.embed\" height=\"525px\" width=\"100%\"></iframe>"
      ],
      "text/plain": [
       "<plotly.tools.PlotlyDisplay object>"
      ]
     },
     "execution_count": 33,
     "metadata": {},
     "output_type": "execute_result"
    }
   ],
   "source": [
    "Totals = go.Histogram(\n",
    "    x=totalscores,\n",
    "    histnorm='count',\n",
    "    name='Total Scores',\n",
    "    autobinx=True,\n",
    "#     xbins=dict(\n",
    "#         start=0,\n",
    "#         end=10.5,\n",
    "#         size=0.25\n",
    "#     ),\n",
    "    opacity=0.75,\n",
    ")\n",
    "\n",
    "data = [Totals]\n",
    "\n",
    "layout = go.Layout(\n",
    "    barmode='stack',\n",
    "    title='4160 Prelim Results',\n",
    "    xaxis=dict(\n",
    "        title='Points'\n",
    "    ),\n",
    "    yaxis=dict(\n",
    "        title='Count'\n",
    "    ),\n",
    "    bargap=0.1,\n",
    "    bargroupgap=0\n",
    ")\n",
    "fig = go.Figure(data=data, layout=layout)\n",
    "\n",
    "py.iplot(fig, filename='4160')"
   ]
  },
  {
   "cell_type": "markdown",
   "metadata": {},
   "source": [
    "## Bar Plot of Section Statistics"
   ]
  },
  {
   "cell_type": "code",
   "execution_count": 39,
   "metadata": {
    "collapsed": false
   },
   "outputs": [
    {
     "data": {
      "text/html": [
       "<iframe id=\"igraph\" scrolling=\"no\" style=\"border:none;\" seamless=\"seamless\" src=\"https://plot.ly/~v.h.adams/217.embed\" height=\"525px\" width=\"100%\"></iframe>"
      ],
      "text/plain": [
       "<plotly.tools.PlotlyDisplay object>"
      ]
     },
     "execution_count": 39,
     "metadata": {},
     "output_type": "execute_result"
    }
   ],
   "source": [
    "means = []\n",
    "ppossible = numpy.array([5., 5., 5., 5., 5., 5., 5., 5., 5., 5., 5., 5., 5.,\n",
    "             3., 3., 3., 3., 3., 3., 3., 3., 3., 3., 100.])\n",
    "scores = numpy.array([question1, question2, question3, question4, question5,\n",
    "          question6, question7, question8, question9, question10,\n",
    "          question11, question12, question13, question14, question15,\n",
    "          question16, question17, question18, question19, question20,\n",
    "          question21, question22, question23, totalscores])\n",
    "for i in range(len(scores)):\n",
    "    means.extend([numpy.mean(scores[i])/ppossible[i]])\n",
    "stdvs = []\n",
    "for i in range(len(scores)):\n",
    "    stdvs.extend([numpy.std(scores[i]/ppossible[i])])\n",
    "\n",
    "data = [go.Bar(\n",
    "            x=['1', '2', '3', '4', '5', '6', '7', '8', '9', '10',\n",
    "               '11', '12', '13', '14', '15', '16', '17', '18', '19',\n",
    "               '20', '21', '22', '23', '24'],\n",
    "            y=means,\n",
    "            error_y=dict(\n",
    "            type='data',\n",
    "            array=stdvs,\n",
    "            visible=True,\n",
    "        ),\n",
    "            opacity=0.6,\n",
    "    )]\n",
    "layout = go.Layout(\n",
    "    title='Normalized Performance on Each Question, and Standard Deviation',\n",
    "    xaxis=dict(\n",
    "        title='Question Number',\n",
    "        showticklabels=True,\n",
    "        tickangle=90,\n",
    "        tickfont=dict(\n",
    "            size=12,\n",
    "        ),\n",
    "    ),\n",
    "    yaxis=dict(\n",
    "        title='Percent of total points earned'\n",
    "    ),\n",
    ")\n",
    "\n",
    "fig = go.Figure(data=data, layout=layout)\n",
    "py.iplot(fig, filename='4160_bar')"
   ]
  },
  {
   "cell_type": "code",
   "execution_count": null,
   "metadata": {
    "collapsed": true
   },
   "outputs": [],
   "source": []
  }
 ],
 "metadata": {
  "kernelspec": {
   "display_name": "Python 2",
   "language": "python",
   "name": "python2"
  },
  "language_info": {
   "codemirror_mode": {
    "name": "ipython",
    "version": 2
   },
   "file_extension": ".py",
   "mimetype": "text/x-python",
   "name": "python",
   "nbconvert_exporter": "python",
   "pygments_lexer": "ipython2",
   "version": "2.7.9"
  }
 },
 "nbformat": 4,
 "nbformat_minor": 2
}
