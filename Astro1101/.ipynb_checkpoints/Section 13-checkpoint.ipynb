{
 "cells": [
  {
   "cell_type": "markdown",
   "metadata": {},
   "source": [
    "# Section 13"
   ]
  },
  {
   "cell_type": "markdown",
   "metadata": {},
   "source": [
    "###### V. Hunter Adams"
   ]
  },
  {
   "cell_type": "code",
   "execution_count": 1,
   "metadata": {
    "collapsed": true
   },
   "outputs": [],
   "source": [
    "from IPython.display import Latex\n",
    "import matplotlib.pyplot as plt\n",
    "%matplotlib inline\n",
    "import numpy\n",
    "from matplotlib import animation, rc\n",
    "from IPython.core.display import HTML \n",
    "from IPython.display import HTML\n",
    "from ipywidgets import *\n",
    "from scipy.integrate import odeint\n",
    "from IPython.display import Image"
   ]
  },
  {
   "cell_type": "markdown",
   "metadata": {},
   "source": [
    "## Comets"
   ]
  },
  {
   "cell_type": "markdown",
   "metadata": {},
   "source": [
    "#### What are they?"
   ]
  },
  {
   "cell_type": "markdown",
   "metadata": {},
   "source": [
    "The nucleus of a comet is a relatively small (up to a few tens of km) amalgamation of rock, ice, and frozen gasses like carbon dioxide, carbon monoxide, ammonia, and methane (icy dirtballs). These nuclei can also contain a variety of organic compounds."
   ]
  },
  {
   "cell_type": "markdown",
   "metadata": {},
   "source": [
    "Comets have extraordinarily low albedo. While asphalt reflects about 7 percent of incident light, a comet will reflect 3-4 percent. This makes them extremely difficult to detect when they're not outgassing in the inner solar system. (Ice is likely beneath a surface layer of dark organics - think tar). This low albedo also allows the comet to absorb heat, which drives outgassing processes when it enters the inner atmosphere."
   ]
  },
  {
   "cell_type": "markdown",
   "metadata": {},
   "source": [
    "#### Where do they come from?"
   ]
  },
  {
   "cell_type": "markdown",
   "metadata": {},
   "source": [
    "Comets are often classified by the length of their orbital periods. The longer the period, the higher the eccentricity of the orbit."
   ]
  },
  {
   "cell_type": "markdown",
   "metadata": {},
   "source": [
    "*Short-Period (Jupiter-Family) Comets*"
   ]
  },
  {
   "cell_type": "markdown",
   "metadata": {},
   "source": [
    "A Jupiter-Family Comets gets its name because it has a semimajor axis approximately equal to that of Jupiter. These comets have orbital periods of less than 20 years, and they have a relatively low inclination (up to ~30 degrees). Because comets (both short-period and long-period) are subject to gravitational perturbation, one often finds them on orbits with aphelia near those of the dominant perturbing body, in this case (and most often) Jupiter."
   ]
  },
  {
   "cell_type": "markdown",
   "metadata": {},
   "source": [
    "The majority of short-period comets are thought to originate from centaurs and the Kuiper belt/scattered disk."
   ]
  },
  {
   "cell_type": "markdown",
   "metadata": {},
   "source": [
    "*Long-Period Comets*"
   ]
  },
  {
   "cell_type": "markdown",
   "metadata": {},
   "source": [
    "Long-period comets have highly eccentric orbits and periods ranging from 200 to thousands of years, and orbit with all different inclinations. This comets originate in the Oort cloud, a vast space extending from 2000-5000 AU from the Sun. At these distances, objects are only very weakly gravitationally bound to the Sun, and are susceptible to orbital perturbations that can send them into the inner solar system where they become long-period comets. These perturbations may come from passing stars or galactic tides."
   ]
  },
  {
   "cell_type": "markdown",
   "metadata": {},
   "source": [
    "#### Comet anatomy"
   ]
  },
  {
   "cell_type": "markdown",
   "metadata": {},
   "source": [
    "*Nucleus*"
   ]
  },
  {
   "cell_type": "markdown",
   "metadata": {},
   "source": [
    "As we talked about earlier, a comet is a nucleus of inert rock and dust with frozen gasses underneath. These gasses are *volatiles*. When they heat up, they will sublimate (go from a solid state to a gaseaous state) and carry some dust with them. Fundamentally, it is this process that creates the various features of the comet."
   ]
  },
  {
   "cell_type": "markdown",
   "metadata": {},
   "source": [
    "*Coma*"
   ]
  },
  {
   "cell_type": "markdown",
   "metadata": {},
   "source": [
    "As the comet enters the inner solar system, energy from the Sun begins to cause the volatiles to outgas. This process creates a (sometimes very large), very tenuous atmosphere surrounding the comet called the *coma*. This coma is typically composed largely of water and dust, and may extend to the size of the Sun. When the comet gets within about 1.5 AU of the Sun, the size of the coma often decreases because the solar wind becomes strong enough to blow it into the tail."
   ]
  },
  {
   "cell_type": "markdown",
   "metadata": {},
   "source": [
    "*Tails*"
   ]
  },
  {
   "cell_type": "markdown",
   "metadata": {},
   "source": [
    "As the volatiles outgas, they carry dust with them off the comet. The gas and dust each form their own tail, which point in slightly different directions. The dust tends to be left behind in the orbital path of the comet, forming a long, curved *dust tail*. The gasses, however, are more strongly affected by solar wind and tend to follow magnetic field lines rather than orbital trajectory. The *ion tail* therefore always points away from the Sun."
   ]
  },
  {
   "cell_type": "markdown",
   "metadata": {},
   "source": [
    "*Jets*"
   ]
  },
  {
   "cell_type": "markdown",
   "metadata": {},
   "source": [
    "Uneven heating can cause newly formed gasses in the interior to burst out through a weak spot on the surface of the nucleus. Much like a thruster or a geyser, this carries gas and dust off of the nucleus and can impart some angular momentum, potentially causing the nucleus to split apart."
   ]
  },
  {
   "cell_type": "markdown",
   "metadata": {},
   "source": [
    "#### Comet death"
   ]
  },
  {
   "cell_type": "markdown",
   "metadata": {},
   "source": [
    "*Ejection from Solar System*"
   ]
  },
  {
   "cell_type": "markdown",
   "metadata": {},
   "source": [
    "Comets (in particular long-period comets) tend to be on highly elliptical orbits. If these comets receive some extra energy from another gravitational body (often Jupiter), then they can be put onto a hyperbolic orbit and ejected from the solar system."
   ]
  },
  {
   "cell_type": "markdown",
   "metadata": {},
   "source": [
    "*Exhaustion of volatiles*"
   ]
  },
  {
   "cell_type": "markdown",
   "metadata": {},
   "source": [
    "After a number of trips to the inner solar system, a comet can exhaust all of its volatiles such that on all subsequent trips, it will have no outgassing and no tails. This just leaves an inert, dark lump of rubble. Roughly six percent of near-Earth asteroids are thought to be extinct comet nuclei."
   ]
  },
  {
   "cell_type": "markdown",
   "metadata": {},
   "source": [
    "*Breakup and Collision*"
   ]
  },
  {
   "cell_type": "markdown",
   "metadata": {},
   "source": [
    "The nuclei of comets can be quite fragile, and a number of nuclei breakups have been observed. Perhaps the most spectacular was that of comet Shoemaker-Levy 9, which broke apart during a close encounter with Jupiter. The pieces fell into Jupiter's atmosphere - the first time astronomers observed two objects impacting in the solar system. Thermal stresses, internal gas pressure, and impact can all cause comets to split apart."
   ]
  },
  {
   "cell_type": "markdown",
   "metadata": {},
   "source": [
    "## Trans-Neptunian Objects"
   ]
  },
  {
   "cell_type": "markdown",
   "metadata": {},
   "source": [
    "These are objects that reside beyond the orbit of Neptune. The fall into three fuzzy flavors: Kuiper Belt objects, Scattered-Disk Object, and Oort-Cloud objects."
   ]
  },
  {
   "cell_type": "markdown",
   "metadata": {},
   "source": [
    "### The Kuiper Belt"
   ]
  },
  {
   "cell_type": "markdown",
   "metadata": {},
   "source": [
    "Objects in the Kuiper Belt (35-55 AU) have semimajor axis that are exterior to Neptune's orbit. *Centaurs* have orbits that lie between Jupiter and Neptune, they are likely scattered Kuiper Belt objects and they rarely last long. Pluto is a Kuiper-Belt object, and there are many many others. The Kuiper Belt is characterized by stable, resonant orbits with Neptune. Objects that are in orbits that allow for scattering (rather than resonance) with Neptune are in the *Scattered Disk*."
   ]
  },
  {
   "cell_type": "markdown",
   "metadata": {},
   "source": [
    "### Scattered Disk Objects"
   ]
  },
  {
   "cell_type": "markdown",
   "metadata": {},
   "source": [
    "Scattered disk objects come within gravitational range of Neptune at closest approach, but may have an aphelion much, much farther away."
   ]
  },
  {
   "cell_type": "markdown",
   "metadata": {},
   "source": [
    "### The Oort Cloud"
   ]
  },
  {
   "cell_type": "markdown",
   "metadata": {},
   "source": [
    "Objects in the Oort cloud live at the tenuous, chaotic edge of the Sun's gravitational influence. The outer edge of the Oort cloud is the edge of the solar system, where the Sun's gravitational effect becomes negligible. These are very unstable gravitational conditions. A passing star or tidal forces from the galaxy itself can be sufficient to sent an Oort cloud object hurling into the inner solar system to become a long-period comet."
   ]
  },
  {
   "cell_type": "code",
   "execution_count": null,
   "metadata": {
    "collapsed": true
   },
   "outputs": [],
   "source": []
  }
 ],
 "metadata": {
  "kernelspec": {
   "display_name": "Python 2",
   "language": "python",
   "name": "python2"
  },
  "language_info": {
   "codemirror_mode": {
    "name": "ipython",
    "version": 2
   },
   "file_extension": ".py",
   "mimetype": "text/x-python",
   "name": "python",
   "nbconvert_exporter": "python",
   "pygments_lexer": "ipython2",
   "version": "2.7.9"
  }
 },
 "nbformat": 4,
 "nbformat_minor": 2
}
