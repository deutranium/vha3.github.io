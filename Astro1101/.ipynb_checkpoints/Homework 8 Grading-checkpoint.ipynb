{
 "cells": [
  {
   "cell_type": "markdown",
   "metadata": {},
   "source": [
    "# Homework 8 Results"
   ]
  },
  {
   "cell_type": "markdown",
   "metadata": {},
   "source": [
    "###### V. Hunter Adams"
   ]
  },
  {
   "cell_type": "code",
   "execution_count": 49,
   "metadata": {
    "collapsed": true
   },
   "outputs": [],
   "source": [
    "from IPython.display import Latex\n",
    "import matplotlib.pyplot as plt\n",
    "%matplotlib inline\n",
    "from copy import deepcopy\n",
    "import numpy\n",
    "from matplotlib import animation, rc\n",
    "from IPython.core.display import HTML \n",
    "from IPython.display import HTML\n",
    "from ipywidgets import *\n",
    "from scipy.integrate import odeint\n",
    "import plotly.plotly as py\n",
    "import plotly\n",
    "from numpy.linalg import pinv\n",
    "import plotly.graph_objs as go\n",
    "import pandas as pd\n",
    "import plotly.tools as tls\n",
    "import urllib2\n",
    "tls.set_credentials_file(username='v.h.adams', api_key='werEw55EhyYuY92HZtTt')"
   ]
  },
  {
   "cell_type": "markdown",
   "metadata": {},
   "source": [
    "## Section Scores"
   ]
  },
  {
   "cell_type": "code",
   "execution_count": 54,
   "metadata": {
    "collapsed": false
   },
   "outputs": [],
   "source": [
    "section201 = [8.5, 10, 9.5, 8.5, 7.5, 8.5,\n",
    "              10, 8, 10, 9.5, 10, 8, 7,\n",
    "              7.5, 10, 8.5, 10, 10]\n",
    "section202 = [7.5, 8.5, 8.5, 7.5, 9.5, 9.5,\n",
    "              10, 7.5, 9.5, 9.5, 9, 9.5,\n",
    "              9.5, 7.5, 10, 10, 10, 7, 10,\n",
    "              10, 7, 10, 9.5, 8]\n",
    "section203 = [8, 10, 8.5, 8, 9.5, 7, 9]\n",
    "section204 = [10, 9, 8, 10, 8.5, 9, 8.5]\n",
    "section205 = [10, 7, 8.5, 9.5, 10, 10, 10,\n",
    "              9.5, 9.5, 10, 8, 10, 10, 9.5,\n",
    "              9.5, 6.5, 8.5, 9.5, 8.5, 7,\n",
    "              9.5, 9, 9]\n",
    "section206 = [10, 9, 10, 8, 9, 8.5, 9.5, 9.5,\n",
    "              10, 10, 8, 10, 9, 9, 10]\n",
    "section207 = [8.5, 10, 9, 9, 9, 8.5, 9, 9,\n",
    "              8.5, 9, 9, 9, 8, 9, 10, 10,\n",
    "              9.5, 7, 6.5, 9, 9]\n",
    "section208 = [9.5, 9.5, 9.5, 9.5, 7.5, 10,\n",
    "              10, 8, 9.5, 10, 10, 8, 10,\n",
    "              10, 10, 10]\n",
    "section209 = [8.5, 10, 10, 8, 9, 10, 9.5,\n",
    "              9, 9.5, 9.5, 9.5]\n",
    "section211 = [8.5, 9, 9, 8, 8, 8.5, 9.5,\n",
    "              10, 10, 8, 9.5, 9.5, 8.5,\n",
    "              9, 9, 10, 9, 9.5, 8.5]\n",
    "total = deepcopy(section201)\n",
    "total.extend(section202)\n",
    "total.extend(section203)\n",
    "total.extend(section204)\n",
    "total.extend(section205)\n",
    "total.extend(section206)\n",
    "total.extend(section207)\n",
    "total.extend(section208)\n",
    "total.extend(section209)\n",
    "total.extend(section211)"
   ]
  },
  {
   "cell_type": "markdown",
   "metadata": {},
   "source": [
    "## Histogram of Scores"
   ]
  },
  {
   "cell_type": "code",
   "execution_count": 45,
   "metadata": {
    "collapsed": false
   },
   "outputs": [
    {
     "data": {
      "text/html": [
       "<iframe id=\"igraph\" scrolling=\"no\" style=\"border:none;\" seamless=\"seamless\" src=\"https://plot.ly/~v.h.adams/35.embed\" height=\"525px\" width=\"100%\"></iframe>"
      ],
      "text/plain": [
       "<plotly.tools.PlotlyDisplay object>"
      ]
     },
     "execution_count": 45,
     "metadata": {},
     "output_type": "execute_result"
    }
   ],
   "source": [
    "Section201 = go.Histogram(\n",
    "    x=section201,\n",
    "    histnorm='count',\n",
    "    name='Section 201',\n",
    "    autobinx=False,\n",
    "    xbins=dict(\n",
    "        start=0,\n",
    "        end=10.5,\n",
    "        size=0.25\n",
    "    ),\n",
    "    opacity=0.75\n",
    ")\n",
    "Section202 = go.Histogram(\n",
    "    x=section202,\n",
    "    histnorm='count',\n",
    "    name='Section 202',\n",
    "    autobinx=False,\n",
    "    xbins=dict(\n",
    "        start=0,\n",
    "        end=10.5,\n",
    "        size=0.25\n",
    "    ),\n",
    "    opacity=0.75\n",
    ")\n",
    "Section203 = go.Histogram(\n",
    "    x=section203,\n",
    "    histnorm='count',\n",
    "    name='Section 203',\n",
    "    autobinx=False,\n",
    "    xbins=dict(\n",
    "        start=0,\n",
    "        end=10.5,\n",
    "        size=0.25\n",
    "    ),\n",
    "    opacity=0.75\n",
    ")\n",
    "Section204 = go.Histogram(\n",
    "    x=section204,\n",
    "    histnorm='count',\n",
    "    name='Section 204',\n",
    "    autobinx=False,\n",
    "    xbins=dict(\n",
    "        start=0,\n",
    "        end=10.5,\n",
    "        size=0.25\n",
    "    ),\n",
    "    opacity=0.75\n",
    ")\n",
    "Section205 = go.Histogram(\n",
    "    x=section205,\n",
    "    histnorm='count',\n",
    "    name='Section 205',\n",
    "    autobinx=False,\n",
    "    xbins=dict(\n",
    "        start=0,\n",
    "        end=10.5,\n",
    "        size=0.25\n",
    "    ),\n",
    "    opacity=0.75\n",
    ")\n",
    "Section206 = go.Histogram(\n",
    "    x=section206,\n",
    "    histnorm='count',\n",
    "    name='Section 206',\n",
    "    autobinx=False,\n",
    "    xbins=dict(\n",
    "        start=0,\n",
    "        end=10.5,\n",
    "        size=0.25\n",
    "    ),\n",
    "    opacity=0.75\n",
    ")\n",
    "Section207 = go.Histogram(\n",
    "    x=section207,\n",
    "    histnorm='count',\n",
    "    name='Section 207',\n",
    "    autobinx=False,\n",
    "    xbins=dict(\n",
    "        start=0,\n",
    "        end=10.5,\n",
    "        size=0.25\n",
    "    ),\n",
    "    opacity=0.75\n",
    ")\n",
    "Section208 = go.Histogram(\n",
    "    x=section208,\n",
    "    histnorm='count',\n",
    "    name='Section 208',\n",
    "    autobinx=False,\n",
    "    xbins=dict(\n",
    "        start=0,\n",
    "        end=10.5,\n",
    "        size=0.25\n",
    "    ),\n",
    "    opacity=0.75\n",
    ")\n",
    "Section209 = go.Histogram(\n",
    "    x=section209,\n",
    "    histnorm='count',\n",
    "    name='Section 209',\n",
    "    autobinx=False,\n",
    "    xbins=dict(\n",
    "        start=0,\n",
    "        end=10.5,\n",
    "        size=0.25\n",
    "    ),\n",
    "    opacity=0.75\n",
    ")\n",
    "Section211 = go.Histogram(\n",
    "    x=section211,\n",
    "    histnorm='count',\n",
    "    name='Section 211',\n",
    "    autobinx=False,\n",
    "    xbins=dict(\n",
    "        start=0,\n",
    "        end=10.5,\n",
    "        size=0.25\n",
    "    ),\n",
    "    opacity=0.75\n",
    ")\n",
    "data = [Section201, Section202, Section203,\n",
    "        Section204, Section205, Section206,\n",
    "        Section207, Section208, Section209,\n",
    "        Section211]\n",
    "\n",
    "layout = go.Layout(\n",
    "    barmode='stack',\n",
    "    title='Homework 8 Results',\n",
    "    xaxis=dict(\n",
    "        title='Points'\n",
    "    ),\n",
    "    yaxis=dict(\n",
    "        title='Count'\n",
    "    ),\n",
    "    bargap=0.1,\n",
    "    bargroupgap=0.1\n",
    ")\n",
    "fig = go.Figure(data=data, layout=layout)\n",
    "\n",
    "py.iplot(fig, filename='hw8')"
   ]
  },
  {
   "cell_type": "markdown",
   "metadata": {},
   "source": [
    "## Bar Plot of Section Statistics"
   ]
  },
  {
   "cell_type": "code",
   "execution_count": 57,
   "metadata": {
    "collapsed": false
   },
   "outputs": [
    {
     "data": {
      "text/html": [
       "<iframe id=\"igraph\" scrolling=\"no\" style=\"border:none;\" seamless=\"seamless\" src=\"https://plot.ly/~v.h.adams/37.embed\" height=\"525px\" width=\"100%\"></iframe>"
      ],
      "text/plain": [
       "<plotly.tools.PlotlyDisplay object>"
      ]
     },
     "execution_count": 57,
     "metadata": {},
     "output_type": "execute_result"
    }
   ],
   "source": [
    "means = []\n",
    "for i in [section201, section202, section203,\n",
    "          section204, section205, section206,\n",
    "          section207, section208, section209,\n",
    "          section211, total]:\n",
    "    means.extend([numpy.mean(i)])\n",
    "stdvs = []\n",
    "for i in [section201, section202, section203,\n",
    "          section204, section205, section206,\n",
    "          section207, section208, section209,\n",
    "          section211, total]:\n",
    "    stdvs.extend([numpy.std(i)])\n",
    "\n",
    "data = [go.Bar(\n",
    "            x=['Section 201', 'Section 202', 'Section 203', 'Section 204',\n",
    "               'Section 205', 'Section 206', 'Section 207', 'Section 208',\n",
    "               'Section 209', 'Section 211', 'Class Total'],\n",
    "            y=means,\n",
    "            error_y=dict(\n",
    "            type='data',\n",
    "            array=stdvs,\n",
    "            visible=True\n",
    "        ),\n",
    "            opacity=0.6,\n",
    "    )]\n",
    "layout = go.Layout(\n",
    "    title='Mean and Standard Deviation for Each Section',\n",
    ")\n",
    "\n",
    "fig = go.Figure(data=data, layout=layout)\n",
    "py.iplot(fig, filename='hw8_bar')"
   ]
  },
  {
   "cell_type": "markdown",
   "metadata": {},
   "source": [
    "## TA-Specific Scores"
   ]
  },
  {
   "cell_type": "code",
   "execution_count": 40,
   "metadata": {
    "collapsed": true
   },
   "outputs": [],
   "source": [
    "kassandra = [8.5, 10, 9.5, 8.5, 7.5, 8.5,\n",
    "             10, 8, 10, 9.5, 10, 8, 7,\n",
    "             7.5, 10, 8.5, 10, 10, \n",
    "             10, 7, 8.5, 9.5, 10, 10, 10,\n",
    "             9.5, 9.5, 10, 8, 10, 10, 9.5,\n",
    "             9.5, 6.5, 8.5, 9.5, 8.5, 7,\n",
    "             9.5, 9, 9]\n",
    "\n",
    "gianfranco = [7.5, 8.5, 8.5, 7.5, 9.5, 9.5,\n",
    "              10, 7.5, 9.5, 9.5, 9, 9.5,\n",
    "              9.5, 7.5, 10, 10, 10, 7, 10,\n",
    "              10, 7, 10, 9.5, 8,\n",
    "              8.5, 9, 9, 8, 8, 8.5, 9.5,\n",
    "              10, 10, 8, 9.5, 9.5, 8.5,\n",
    "              9, 9, 10, 9, 9.5, 8.5]\n",
    "\n",
    "michael = [8, 10, 8.5, 8, 9.5, 7, 9,\n",
    "           8.5, 10, 10, 8, 9, 10, 9.5,\n",
    "           9, 9.5, 9.5, 9.5]\n",
    "\n",
    "hunter = [10, 9, 8, 10, 8.5, 9, 8.5,\n",
    "          10, 9, 10, 8, 9, 8.5, 9.5, 9.5,\n",
    "          10, 10, 8, 10, 9, 9, 10]\n",
    "\n",
    "andrew = [8.5, 10, 9, 9, 9, 8.5, 9, 9,\n",
    "          8.5, 9, 9, 9, 8, 9, 10, 10,\n",
    "          9.5, 7, 6.5, 9, 9,\n",
    "          9.5, 9.5, 9.5, 9.5, 7.5, 10,\n",
    "          10, 8, 9.5, 10, 10, 8, 10,\n",
    "          10, 10, 10]"
   ]
  },
  {
   "cell_type": "markdown",
   "metadata": {},
   "source": [
    "## Bar Plot of TA-Specific Scores"
   ]
  },
  {
   "cell_type": "code",
   "execution_count": 58,
   "metadata": {
    "collapsed": false
   },
   "outputs": [
    {
     "data": {
      "text/html": [
       "<iframe id=\"igraph\" scrolling=\"no\" style=\"border:none;\" seamless=\"seamless\" src=\"https://plot.ly/~v.h.adams/39.embed\" height=\"525px\" width=\"100%\"></iframe>"
      ],
      "text/plain": [
       "<plotly.tools.PlotlyDisplay object>"
      ]
     },
     "execution_count": 58,
     "metadata": {},
     "output_type": "execute_result"
    }
   ],
   "source": [
    "means2 = []\n",
    "for i in [kassandra, gianfranco, michael,\n",
    "          hunter, andrew, total]:\n",
    "    means2.extend([numpy.mean(i)])\n",
    "stdvs2 = []\n",
    "for i in [kassandra, gianfranco, michael,\n",
    "          hunter, andrew, total]:\n",
    "    stdvs2.extend([numpy.std(i)])\n",
    "\n",
    "data = [go.Bar(\n",
    "            x=['Kassandra', 'Gianfranco', 'Michael', 'Hunter',\n",
    "               'Andrew', 'Class Total'],\n",
    "            y=means2,\n",
    "            error_y=dict(\n",
    "            type='data',\n",
    "            array=stdvs2,\n",
    "            visible=True\n",
    "        ),\n",
    "            opacity=0.6,\n",
    "    )]\n",
    "layout = go.Layout(\n",
    "    title='Mean and Standard Deviation for Each TA, HW8',\n",
    ")\n",
    "\n",
    "fig = go.Figure(data=data, layout=layout)\n",
    "py.iplot(fig, filename='hw8_bar_TA')"
   ]
  },
  {
   "cell_type": "code",
   "execution_count": null,
   "metadata": {
    "collapsed": true
   },
   "outputs": [],
   "source": []
  }
 ],
 "metadata": {
  "kernelspec": {
   "display_name": "Python 2",
   "language": "python",
   "name": "python2"
  },
  "language_info": {
   "codemirror_mode": {
    "name": "ipython",
    "version": 2
   },
   "file_extension": ".py",
   "mimetype": "text/x-python",
   "name": "python",
   "nbconvert_exporter": "python",
   "pygments_lexer": "ipython2",
   "version": "2.7.9"
  }
 },
 "nbformat": 4,
 "nbformat_minor": 2
}
