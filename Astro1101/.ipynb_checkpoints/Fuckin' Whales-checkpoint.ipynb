{
 "cells": [
  {
   "cell_type": "code",
   "execution_count": 1,
   "metadata": {
    "collapsed": true
   },
   "outputs": [],
   "source": [
    "from IPython.display import Latex\n",
    "import matplotlib.pyplot as plt\n",
    "%matplotlib inline\n",
    "import numpy\n",
    "from matplotlib import animation, rc\n",
    "from IPython.core.display import HTML \n",
    "from IPython.display import HTML\n",
    "from ipywidgets import *\n",
    "from scipy.integrate import odeint"
   ]
  },
  {
   "cell_type": "markdown",
   "metadata": {},
   "source": [
    "The navy wants use the same acoustic communication channel as whales do (this is true). Longitudinal sound propagation through water (with bulk modulus P=109 Pa and density ρ=1000 kgm-3) including the viscous dissipative forces is governed by:"
   ]
  },
  {
   "cell_type": "markdown",
   "metadata": {},
   "source": [
    "\\begin{align}\n",
    "\\left[\\frac{\\partial{}^2}{\\partial{z}^2} -\\beta \\frac{\\partial{}}{\\partial{t}} - \\frac{1}{v^2}\\frac{\\partial{}^2}{\\partial{t}^2} \\right]\\xi(z,t) = 0\n",
    "\\end{align}"
   ]
  },
  {
   "cell_type": "markdown",
   "metadata": {},
   "source": [
    "# Show how to find the analytic solution to this equation for underdamped propagating sound."
   ]
  },
  {
   "cell_type": "markdown",
   "metadata": {},
   "source": [
    "We separate variables by making the assumption that $\\xi(z,t)$ can be written as the product of two functions:"
   ]
  },
  {
   "cell_type": "markdown",
   "metadata": {},
   "source": [
    "\\begin{align}\n",
    "\\xi(z,t) &= \\phi(z)\\chi(t)\n",
    "\\end{align}"
   ]
  },
  {
   "cell_type": "markdown",
   "metadata": {},
   "source": [
    "Substitute back into the given wave equation:"
   ]
  },
  {
   "cell_type": "markdown",
   "metadata": {},
   "source": [
    "\\begin{align}\n",
    "\\left[\\frac{\\partial{}^2}{\\partial{z}^2} -\\beta \\frac{\\partial{}}{\\partial{t}} - \\frac{1}{v^2}\\frac{\\partial{}^2}{\\partial{t}^2} \\right]\\phi(z)\\chi(t) = 0\n",
    "\\end{align}"
   ]
  },
  {
   "cell_type": "markdown",
   "metadata": {},
   "source": [
    "Distribute:"
   ]
  },
  {
   "cell_type": "markdown",
   "metadata": {},
   "source": [
    "\\begin{align}\n",
    "\\frac{\\partial{}^2}{\\partial{z}^2}\\left[\\phi(z)\\chi(t)\\right] -\\beta \\frac{\\partial{}}{\\partial{t}}\\left[\\phi(z)\\chi(t)\\right] - \\frac{1}{v^2}\\frac{\\partial{}^2}{\\partial{t}^2}\\left[\\phi(z)\\chi(t)\\right] = 0\n",
    "\\end{align}"
   ]
  },
  {
   "cell_type": "markdown",
   "metadata": {},
   "source": [
    "Take the partial derivatives:"
   ]
  },
  {
   "cell_type": "markdown",
   "metadata": {},
   "source": [
    "\\begin{align}\n",
    "\\chi(t)\\frac{\\partial^2{\\phi(z)}}{\\partial{z}^2} -\\beta \\phi(z) \\frac{\\partial{\\chi(t)}}{\\partial{t}} - \\phi(z)\\frac{1}{v^2}\\frac{\\partial^2{\\chi(t)}}{\\partial{t}^2} = 0\n",
    "\\end{align}"
   ]
  },
  {
   "cell_type": "markdown",
   "metadata": {},
   "source": [
    "Divide the whole thing by $\\chi \\phi$:"
   ]
  },
  {
   "cell_type": "markdown",
   "metadata": {},
   "source": [
    "\\begin{align}\n",
    "\\frac{1}{\\phi}\\frac{\\partial^2{\\phi}}{\\partial{z}^2} -\\frac{\\beta}{\\chi} \\frac{\\partial{\\chi}}{\\partial{t}} - \\frac{1}{\\chi v^2}\\frac{\\partial^2{\\chi}}{\\partial{t}^2} = 0\n",
    "\\end{align}"
   ]
  },
  {
   "cell_type": "markdown",
   "metadata": {},
   "source": [
    "Now each term in the expression is either of $\\chi$ or of $\\phi$ (there's no mixing). Rearranging, we have:"
   ]
  },
  {
   "cell_type": "markdown",
   "metadata": {},
   "source": [
    "\\begin{align}\n",
    "\\frac{1}{\\phi}\\frac{\\partial^2{\\phi}}{\\partial{z}^2} = \\frac{\\beta}{\\chi} \\frac{\\partial{\\chi}}{\\partial{t}} + \\frac{1}{\\chi v^2}\\frac{\\partial^2{\\chi}}{\\partial{t}^2}\n",
    "\\end{align}"
   ]
  },
  {
   "cell_type": "markdown",
   "metadata": {},
   "source": [
    "We know that each side of this equation must equal some constant **(why does this have to be constant?)** in order for the equation above it to be true. Let's call that constant $-k^2$:"
   ]
  },
  {
   "cell_type": "markdown",
   "metadata": {},
   "source": [
    "\\begin{align}\n",
    "\\frac{1}{\\phi}\\frac{\\partial^2{\\phi}}{\\partial{z}^2} = \\frac{\\beta}{\\chi} \\frac{\\partial{\\chi}}{\\partial{t}} + \\frac{1}{\\chi v^2}\\frac{\\partial^2{\\chi}}{\\partial{t}^2} = -k^2\n",
    "\\end{align}"
   ]
  },
  {
   "cell_type": "markdown",
   "metadata": {},
   "source": [
    "This gives us two separate differential equations:"
   ]
  },
  {
   "cell_type": "markdown",
   "metadata": {},
   "source": [
    "\\begin{align}\n",
    "\\frac{\\partial{}^2}{\\partial{z}^2}\\phi + k^2 \\phi &= 0\\\\\n",
    "\\frac{\\partial{}^2}{\\partial{t}^2}\\chi + \\beta v^2 \\frac{\\partial{}}{\\partial{t}}\\chi + k^2 \\chi &= 0\n",
    "\\end{align}"
   ]
  },
  {
   "cell_type": "markdown",
   "metadata": {},
   "source": [
    "## Consider the first equation:"
   ]
  },
  {
   "cell_type": "markdown",
   "metadata": {},
   "source": [
    "Let us assume a solution of the form $\\phi=Be^{rz}$. Substituting this into the first differential equation yields:"
   ]
  },
  {
   "cell_type": "markdown",
   "metadata": {},
   "source": [
    "\\begin{align}\n",
    "\\frac{\\partial{}^2}{\\partial{z}^2}Be^{rz} + k^2 Be^{rz} &= 0\\\\\n",
    "r^2 Be^{rz} + k^2B e^{rz} &= 0\\\\\n",
    "r^2 + k^2 &= 0\\\\\n",
    "r^2 &= -k^2\\\\\n",
    "r &= \\pm ik\n",
    "\\end{align}"
   ]
  },
  {
   "cell_type": "markdown",
   "metadata": {},
   "source": [
    "This gives us the solutions:"
   ]
  },
  {
   "cell_type": "markdown",
   "metadata": {},
   "source": [
    "\\begin{align}\n",
    "\\phi_{1,2}(z) &= Be^{\\pm ikz}\n",
    "\\end{align}"
   ]
  },
  {
   "cell_type": "markdown",
   "metadata": {},
   "source": [
    "The general solution is given by a linear combination of these two solutions:"
   ]
  },
  {
   "cell_type": "markdown",
   "metadata": {},
   "source": [
    "\\begin{align}\n",
    "\\phi(z) = a_1 e^{ikz} + a_2 e^{-ikz}\n",
    "\\end{align}"
   ]
  },
  {
   "cell_type": "markdown",
   "metadata": {},
   "source": [
    "If we use the Euler relationship, we can write this in a different way:"
   ]
  },
  {
   "cell_type": "markdown",
   "metadata": {},
   "source": [
    "\\begin{align}\n",
    "\\phi(z) &= c_1\\cos{kz} + c_2 \\sin{kz}\\\\\n",
    "&= C \\cos{\\left(kz + \\delta_1\\right)}\n",
    "\\end{align}"
   ]
  },
  {
   "cell_type": "markdown",
   "metadata": {},
   "source": [
    "where $\\delta_1$ is some phase."
   ]
  },
  {
   "cell_type": "markdown",
   "metadata": {},
   "source": [
    "## Consider the second equation:"
   ]
  },
  {
   "cell_type": "markdown",
   "metadata": {},
   "source": [
    "\\begin{align}\n",
    "\\frac{\\partial{}^2}{\\partial{t}^2}\\chi + \\beta v^2 \\frac{\\partial{}}{\\partial{t}}\\chi + k^2 \\chi &= 0\n",
    "\\end{align}"
   ]
  },
  {
   "cell_type": "markdown",
   "metadata": {},
   "source": [
    "This is of the general form of a damped harmonic oscillator:"
   ]
  },
  {
   "cell_type": "markdown",
   "metadata": {},
   "source": [
    "\\begin{align}\n",
    "\\ddot{\\chi} + \\gamma \\dot{\\chi} + \\omega_0^2 \\chi = 0\n",
    "\\end{align}"
   ]
  },
  {
   "cell_type": "markdown",
   "metadata": {},
   "source": [
    "where"
   ]
  },
  {
   "cell_type": "markdown",
   "metadata": {},
   "source": [
    "\\begin{align}\n",
    "\\gamma &= \\beta v^2\\\\\n",
    "\\omega_0^2 &= k^2\n",
    "\\end{align}"
   ]
  },
  {
   "cell_type": "markdown",
   "metadata": {},
   "source": [
    "We find the solution to this equation just as we did for the first one. Assume a solution of the form $\\chi = A e^{rt}$. Substituting:"
   ]
  },
  {
   "cell_type": "markdown",
   "metadata": {},
   "source": [
    "\\begin{align}\n",
    "Ar^2 e^{rt} + \\gamma Ar e^{rt} + \\omega_0^2 Ae^{rt} = 0\\\\\n",
    "r^2 + \\gamma r + \\omega_0^2 = 0\n",
    "\\end{align}"
   ]
  },
  {
   "cell_type": "markdown",
   "metadata": {},
   "source": [
    "Solve for $r$ using the quadratic formula:"
   ]
  },
  {
   "cell_type": "markdown",
   "metadata": {},
   "source": [
    "\\begin{align}\n",
    "r &= \\frac{-\\gamma \\pm \\sqrt{\\gamma^2 - 4 \\omega_0^2}}{2}\\\\\n",
    "&= \\frac{-\\gamma \\pm 2i\\omega_0\\sqrt{1 - \\left(\\frac{\\gamma}{2\\omega_0}\\right)^2}}{2}\\\\\n",
    "&= -\\frac{\\gamma}{2}\\pm i\\omega_0\\sqrt{1 - \\left(\\frac{\\gamma}{2\\omega_0}\\right)^2}\n",
    "\\end{align}"
   ]
  },
  {
   "cell_type": "markdown",
   "metadata": {},
   "source": [
    "In the underdamped case, we assume that the characteristic equation has complex roots (written in the above form, we assume that the term under the radical is positive). This gives us the solution:"
   ]
  },
  {
   "cell_type": "markdown",
   "metadata": {},
   "source": [
    "\\begin{align}\n",
    "\\chi_{1,2}(t) &= A e^{-\\frac{\\gamma}{2}t}e^{\\pm i\\omega_0 t \\sqrt{1-\\left(\\frac{\\gamma}{2\\omega_0}\\right)^2}}\n",
    "\\end{align}"
   ]
  },
  {
   "cell_type": "markdown",
   "metadata": {},
   "source": [
    "Substituting the original variables:"
   ]
  },
  {
   "cell_type": "markdown",
   "metadata": {},
   "source": [
    "\\begin{align}\n",
    "\\chi_{1,2}(t) &= A e^{-\\frac{\\beta v^2}{2}t}e^{\\pm i k t \\sqrt{1-\\left(\\frac{\\beta v^2}{2k}\\right)^2}}\n",
    "\\end{align}"
   ]
  },
  {
   "cell_type": "markdown",
   "metadata": {},
   "source": [
    "Again, the general solution is given by a linear combination of these two solutions:"
   ]
  },
  {
   "cell_type": "markdown",
   "metadata": {},
   "source": [
    "\\begin{align}\n",
    "\\chi(t) = e^{-\\frac{\\beta v^2}{2}t}\\left[a_1e^{i k t \\sqrt{1-\\left(\\frac{\\beta v^2}{2k}\\right)^2}} + a_2 e^{-i k t \\sqrt{1-\\left(\\frac{\\beta v^2}{2k}\\right)^2}}\\right]\n",
    "\\end{align}"
   ]
  },
  {
   "cell_type": "markdown",
   "metadata": {},
   "source": [
    "\\begin{align}\n",
    "\\chi(t) = Ae^{-\\frac{\\beta v^2}{2}t}\\cos{\\left(k t \\sqrt{1-\\left(\\frac{\\beta v^2}{2k}\\right)^2} + \\delta_2\\right)}\n",
    "\\end{align}"
   ]
  },
  {
   "cell_type": "markdown",
   "metadata": {},
   "source": [
    "## Put these things together"
   ]
  },
  {
   "cell_type": "markdown",
   "metadata": {},
   "source": [
    "\\begin{align}\n",
    "\\xi(z,t) &= \\chi(t)\\phi(z)\\\\\n",
    "&= Ae^{-\\frac{\\beta v^2}{2}t}\\cos{\\left(k t \\sqrt{1-\\left(\\frac{\\beta v^2}{2k}\\right)^2} + \\delta_2\\right)}\\cos{\\left(kz + \\delta_1\\right)}\n",
    "\\end{align}"
   ]
  },
  {
   "cell_type": "markdown",
   "metadata": {},
   "source": [
    "# Assuming no dispersion and that β = 2.5×10−7 , what is the largest separation of two subs where communication is possible if the second sub can detect a continuous sound wave which is 10-8 times smaller in amplitude than the amplitude at which it was emitted"
   ]
  },
  {
   "cell_type": "markdown",
   "metadata": {},
   "source": [
    "The source of attenuation is the decaying exponential. Let us first find the amount of time that it takes for a signal to decay from its initial amplitude $A$ to an amplitude of $10^{-8}A$:"
   ]
  },
  {
   "cell_type": "markdown",
   "metadata": {},
   "source": [
    "\\begin{align}\n",
    "Ae^{-\\frac{\\beta v^2}{2}t} = 10^{-8}A\n",
    "\\end{align}"
   ]
  },
  {
   "cell_type": "markdown",
   "metadata": {},
   "source": [
    "Cancel the $A$, take the log of both sides:"
   ]
  },
  {
   "cell_type": "markdown",
   "metadata": {},
   "source": [
    "\\begin{align}\n",
    "-\\frac{\\beta v^2}{2}t = log(10^{-8})\n",
    "\\end{align}"
   ]
  },
  {
   "cell_type": "markdown",
   "metadata": {},
   "source": [
    "Solve for $t$:"
   ]
  },
  {
   "cell_type": "markdown",
   "metadata": {},
   "source": [
    "\\begin{align}\n",
    "t = -\\frac{2}{\\beta v^2} log(10^{-8})\n",
    "\\end{align}"
   ]
  },
  {
   "cell_type": "markdown",
   "metadata": {},
   "source": [
    "The speed of sound can be written in terms of bulk modulus and density:"
   ]
  },
  {
   "cell_type": "markdown",
   "metadata": {},
   "source": [
    "\\begin{align}\n",
    "c &= \\sqrt{\\frac{B}{\\rho}}\n",
    "\\end{align}"
   ]
  },
  {
   "cell_type": "markdown",
   "metadata": {},
   "source": [
    "Thus, the distance is:"
   ]
  },
  {
   "cell_type": "markdown",
   "metadata": {},
   "source": [
    "\\begin{align}\n",
    "d &= ct\\\\\n",
    "&= \\sqrt{\\frac{B}{\\rho}}\\left[-\\frac{2}{\\beta v^2} log(10^{-8})\\right]\n",
    "\\end{align}"
   ]
  },
  {
   "cell_type": "markdown",
   "metadata": {},
   "source": [
    "We're given values for the bulk modulus, the density, $\\beta$. We can use the given bulk modulus and density to solve for the speed of sound, so we know everything in this equation."
   ]
  },
  {
   "cell_type": "markdown",
   "metadata": {},
   "source": [
    "\\begin{align}\n",
    "d &= 147365m\n",
    "\\end{align}"
   ]
  },
  {
   "cell_type": "markdown",
   "metadata": {},
   "source": [
    "So the subs can communicate at distances of about 147 kilometers (about 91 miles). Whales can communicate over distances of about 100 miles, so this seems close to correct."
   ]
  }
 ],
 "metadata": {
  "kernelspec": {
   "display_name": "Python 2",
   "language": "python",
   "name": "python2"
  },
  "language_info": {
   "codemirror_mode": {
    "name": "ipython",
    "version": 2
   },
   "file_extension": ".py",
   "mimetype": "text/x-python",
   "name": "python",
   "nbconvert_exporter": "python",
   "pygments_lexer": "ipython2",
   "version": "2.7.9"
  }
 },
 "nbformat": 4,
 "nbformat_minor": 2
}
