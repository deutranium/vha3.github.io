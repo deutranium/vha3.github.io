{
 "cells": [
  {
   "cell_type": "markdown",
   "metadata": {},
   "source": [
    "# Astro 1102/1104, Section 1"
   ]
  },
  {
   "cell_type": "markdown",
   "metadata": {},
   "source": [
    "###### V. Hunter Adams (vha3)"
   ]
  },
  {
   "cell_type": "code",
   "execution_count": 13,
   "metadata": {
    "collapsed": false
   },
   "outputs": [],
   "source": [
    "from IPython.display import Latex\n",
    "import matplotlib.pyplot as plt\n",
    "%matplotlib inline\n",
    "import numpy\n",
    "from matplotlib import animation, rc\n",
    "from IPython.core.display import HTML \n",
    "from IPython.display import HTML\n",
    "from ipywidgets import *\n",
    "from scipy.integrate import odeint"
   ]
  },
  {
   "cell_type": "markdown",
   "metadata": {},
   "source": [
    "## General Information"
   ]
  },
  {
   "cell_type": "markdown",
   "metadata": {},
   "source": [
    "#### My contact/office hours"
   ]
  },
  {
   "cell_type": "markdown",
   "metadata": {},
   "source": [
    "Name: Hunter Adams\n",
    "\n",
    "NetID: vha3\n",
    "\n",
    "Office Hours: Tuesdays, 10:00 - Noon (Space Sciences)"
   ]
  },
  {
   "cell_type": "markdown",
   "metadata": {},
   "source": [
    "#### Section grading policy"
   ]
  },
  {
   "cell_type": "markdown",
   "metadata": {},
   "source": [
    "Attendance, participation, quizzes?"
   ]
  },
  {
   "cell_type": "markdown",
   "metadata": {},
   "source": [
    "#### Homework grading/turnin policy"
   ]
  },
  {
   "cell_type": "markdown",
   "metadata": {},
   "source": [
    "Homework will be posted to Blackboard on Mondays, and will be due in section the following week. You must hand in your homework directly to the TA.  Homework left in anyone's mailbox will not be accepted.  If you cannot make it to section, you may submit your homework electronically on Blackboard. Scanned homework submitted on Blackboard that is not clearly legible will receive zero credit."
   ]
  },
  {
   "cell_type": "markdown",
   "metadata": {},
   "source": [
    "#### Structure of sections"
   ]
  },
  {
   "cell_type": "markdown",
   "metadata": {},
   "source": [
    "Everything that you need to know for exams will be covered in lecture and homeworks. The purpose for this section is entirely to support those aspects of the course. So, we can talk about whatever you guys want to talk about. I'm going to have a general plan to cover the topics associated with homework for a particular week, but we aren't necessarily limited to that. If there's a particular topic that you'd like to cover in more depth, let me know. If you want to talk about current events in space, let me know."
   ]
  },
  {
   "cell_type": "markdown",
   "metadata": {},
   "source": [
    "I can provide my lecture notes. I go into more depth than is required in my notes, so I don't want to distribute them and scare people. If you think it would be helpful though, I'm happy to do so."
   ]
  },
  {
   "cell_type": "markdown",
   "metadata": {},
   "source": [
    "## Topics Covered for Homework 1"
   ]
  },
  {
   "cell_type": "markdown",
   "metadata": {},
   "source": [
    "1. Scientific Notation\n",
    "2. Units/Dimensional Analysis\n",
    "3. Ratios/Dimensionless Numbers\n",
    "4. Newtonian Gravity\n",
    "5. Kepler's Laws"
   ]
  },
  {
   "cell_type": "markdown",
   "metadata": {},
   "source": [
    "## 1. Scientific Notation"
   ]
  },
  {
   "cell_type": "markdown",
   "metadata": {},
   "source": [
    "##### Why are we doing this?"
   ]
  },
  {
   "cell_type": "markdown",
   "metadata": {},
   "source": [
    "To do astronomy, one makes observations (i.e. measurements) of the physical world and draws conclusions based on those observations. Moreso than in many other scientific disciplines, however, the scales of the phenomena being observed in astronomy vary from the extremely large to the extremely small. The obvious example of this is distances. Consider the following distances:"
   ]
  },
  {
   "cell_type": "markdown",
   "metadata": {},
   "source": [
    "\\begin{align}\n",
    "\\text{Earth to Moon} &\\approx 384,000km\\\\\n",
    "\\text{Earth to Sun} &\\approx 1,496,000km\\\\\n",
    "\\text{Earth to Proxima Centauri} &\\approx 40,320,000,000,000km\\\\\n",
    "\\text{Earth to Andromeda Galaxy} &\\approx 24,010,000,000,000,000,000km\\\\\n",
    "\\text{Earth to edge of observable universe} &\\approx 440,900,000,000,000,000,000,000km\n",
    "\\end{align}"
   ]
  },
  {
   "cell_type": "markdown",
   "metadata": {},
   "source": [
    "To put this in perspective, if we scaled all of these distances such that the distance from the Earth to the Moon were the width of a human hair ($\\approx 0.00001 m$), Proxima Centauri would be about a kilometer away, the distance to Andromeda would be approximately equal to the diameter of the Sun, and the distance to the edge of the observable universe would be approximately equal to the diameter of the entire solar system. That is a HUGE range of distances, and (in the units that we've chosen) it requires a lot of zeros to write these numbers. Writing that many zeros isn't only tedious, but error-prone. Scientific notation gives us a way to write very large (or very small) numbers much more compactly."
   ]
  },
  {
   "cell_type": "markdown",
   "metadata": {},
   "source": [
    "Consider the distance from Earth to Proxima Centauri. We could write this distance as:"
   ]
  },
  {
   "cell_type": "markdown",
   "metadata": {},
   "source": [
    "\\begin{align}\n",
    "d_{\\text{Earth to Proxima Centauri}} = 4.032 \\times 10,000,000,000,000 km\n",
    "\\end{align}"
   ]
  },
  {
   "cell_type": "markdown",
   "metadata": {},
   "source": [
    "The term on the left is nice and compact, it's the huge term on the right that's the problem. But! That number is a power of 10. We could rewrite the above as:"
   ]
  },
  {
   "cell_type": "markdown",
   "metadata": {},
   "source": [
    "\\begin{align}\n",
    "d_{\\text{Earth to Proxima Centauri}} = 4.032 \\times \\left(10 \\times 10 \\times 10 \\times 10 \\times 10 \\times 10 \\times 10 \\times 10 \\times 10 \\times 10 \\times 10 \\times 10 \\times 10\\right)km\n",
    "\\end{align}"
   ]
  },
  {
   "cell_type": "markdown",
   "metadata": {},
   "source": [
    "We recognize the term in the parentheses as a power of 10, which allows us to rewrite once more as:"
   ]
  },
  {
   "cell_type": "markdown",
   "metadata": {},
   "source": [
    "\\begin{align}\n",
    "d_{\\text{Earth to Proxima Centauri}} = 4.032 \\times 10^{13} km\n",
    "\\end{align}"
   ]
  },
  {
   "cell_type": "markdown",
   "metadata": {},
   "source": [
    "This is the distance to Proxima Centauri represented in scientific notation. Not only do we avoid the tedium and potential errors associated with writing all those zeros, but we also have an immediate impression of the *order of magnitude* of the quantity in question ($10^{13}$ in this case). This enables us to easily compare the relative sizes of different quantities."
   ]
  },
  {
   "cell_type": "markdown",
   "metadata": {},
   "source": [
    " This works for very small numbers too. As an example, consider the radius of a hydrogen atom:"
   ]
  },
  {
   "cell_type": "markdown",
   "metadata": {},
   "source": [
    "\\begin{align}\n",
    "r_{hydrogen} &\\approx 0.000000000025m\n",
    "\\end{align}"
   ]
  },
  {
   "cell_type": "markdown",
   "metadata": {},
   "source": [
    "We can rewrite this as:"
   ]
  },
  {
   "cell_type": "markdown",
   "metadata": {},
   "source": [
    "\\begin{align}\n",
    "r_{hydrogen} &= \\frac{2.5}{10 \\times 10 \\times 10 \\times 10 \\times 10 \\times 10 \\times 10 \\times 10 \\times 10 \\times 10 \\times 10}m\\\\\n",
    "&= \\frac{2.5}{10^{11}}m\\\\\n",
    "&= 2.5 \\times 10^{-11}m\n",
    "\\end{align}"
   ]
  },
  {
   "cell_type": "markdown",
   "metadata": {},
   "source": [
    "(note that a *negative* exponent corresponds to *dividing* by powers of 10)."
   ]
  },
  {
   "cell_type": "markdown",
   "metadata": {},
   "source": [
    "##### Multiplying and Dividing in Scientific Notation"
   ]
  },
  {
   "cell_type": "markdown",
   "metadata": {},
   "source": [
    "Multiplication and division becomes much simpler when numbers are represented in scientific notation. Consider the following example:"
   ]
  },
  {
   "cell_type": "markdown",
   "metadata": {},
   "source": [
    "\\begin{align}\n",
    "x=\\left(6 \\times 10^7\\right)\\left(3 \\times 10^4\\right)\n",
    "\\end{align}"
   ]
  },
  {
   "cell_type": "markdown",
   "metadata": {},
   "source": [
    "We could rewrite this as:"
   ]
  },
  {
   "cell_type": "markdown",
   "metadata": {},
   "source": [
    "\\begin{align}\n",
    "x = \\left[6\\times\\left(10 \\times 10 \\times 10 \\times 10 \\times 10 \\times 10 \\times 10\\right)\\right] \\times \\left[3 \\times \\left(10 \\times 10 \\times 10 \\times 10\\right)\\right]\n",
    "\\end{align}"
   ]
  },
  {
   "cell_type": "markdown",
   "metadata": {},
   "source": [
    "Since the order in which we multiply things doesn't matter, we can rearrange the above equation:"
   ]
  },
  {
   "cell_type": "markdown",
   "metadata": {},
   "source": [
    "\\begin{align}\n",
    "x &= \\left(6 \\times 3\\right) \\times \\left(10 \\times 10 \\times 10 \\times 10 \\times 10 \\times 10 \\times 10 \\times 10 \\times 10 \\times 10 \\times 10\\right)\\\\\n",
    "&= 18 \\times 10^{11}\n",
    "\\end{align}"
   ]
  },
  {
   "cell_type": "markdown",
   "metadata": {},
   "source": [
    "So, to multiply two numbers in scientific notation, one simply multiplies the numbers in front and adds the exponents. Here are a few more examples:"
   ]
  },
  {
   "cell_type": "markdown",
   "metadata": {},
   "source": [
    "\\begin{align}\n",
    "\\left(4 \\times 10^{3}\\right)\\left(2 \\times 10^{-4}\\right) &= 8 \\times 10^{3-4} = 8 \\times 10^{-1}\\\\\n",
    "\\frac{3\\times 10^{2}}{2 \\times 10^{7}} &= \\left(3 \\times 10^{2}\\right)\\left(2 \\times 10^{-7}\\right) = 6 \\times 10^{2-7} = 6\\times 10^{-5}\n",
    "\\end{align}"
   ]
  },
  {
   "cell_type": "markdown",
   "metadata": {},
   "source": [
    "## 2. Units and Dimensional Analysis"
   ]
  },
  {
   "cell_type": "markdown",
   "metadata": {},
   "source": [
    "##### Why are we doing this?"
   ]
  },
  {
   "cell_type": "markdown",
   "metadata": {},
   "source": [
    "A healthy respect for units will make your life so much easier. When working a problem, you can choose units to match the scale of the physical process that's being modeled (it's far easier to give directions in terms of miles, for example, than centimeters). Furthermore, you can use units as guides when you're deriving an equation. If you're trying to find the equation for the velocity of an object, dimensional analysis allows you to verify that the equation at which you arrive does indeed yield units of velocity. If it yields any other sort of unit, you know that something has gone wrong. We'll see this in a few examples."
   ]
  },
  {
   "cell_type": "markdown",
   "metadata": {},
   "source": [
    "##### Dimensional Analysis"
   ]
  },
  {
   "cell_type": "markdown",
   "metadata": {},
   "source": [
    "If you know the units of all of the components of an equation, then you know the units of the result that the equation will yield. Let's take a very simple example, the equation for the area of a rectangle. As we all know:"
   ]
  },
  {
   "cell_type": "markdown",
   "metadata": {},
   "source": [
    "\\begin{align}\n",
    "A_{rectangle} &= length \\times width\n",
    "\\end{align}"
   ]
  },
  {
   "cell_type": "markdown",
   "metadata": {},
   "source": [
    "Since we know that units of length and width are *distances* (measured in meters, or cm, or km, or miles, etc.), then we know that the units area are $distance \\times distance$ or $distance^{2}$. Suppose, for example, we wish to find the area of a $2\\times3$ meter rectangle. The area is given by:"
   ]
  },
  {
   "cell_type": "markdown",
   "metadata": {},
   "source": [
    "\\begin{align}\n",
    "A_{rectangle} &= 2m \\times 3m\\\\\n",
    "&= \\left(2 \\times 3\\right)\\left(m \\times m\\right)\\\\\n",
    "&= 6m^{2}\n",
    "\\end{align}"
   ]
  },
  {
   "cell_type": "markdown",
   "metadata": {},
   "source": [
    "This is a simple example, but units can be used to determine whether an equation makes sense. Suppose I gave you the following equation for the Newtonian force from gravity:"
   ]
  },
  {
   "cell_type": "markdown",
   "metadata": {},
   "source": [
    "\\begin{align}\n",
    "F &= \\frac{G m_{1}m_2}{R^{2}}\n",
    "\\end{align}"
   ]
  },
  {
   "cell_type": "markdown",
   "metadata": {},
   "source": [
    "$F$ is the magnitude of the force between the two gravitational bodies, $m_1$ and $m_2$ are the masses of the two bodies (measured in $kg$), $R$ is the distance separating the two bodies (measured in $m$), and $G$ is Newton's Gravitational Constant, with units of $\\frac{m^{3}}{kg\\cdot sec^{2}}$. What, then, are the units of $F$?"
   ]
  },
  {
   "cell_type": "markdown",
   "metadata": {},
   "source": [
    "\\begin{align}\n",
    "\\text{units(F)} &= \\text{units$\\left(\\frac{Gm_1m_2}{R^2}\\right)$}\\\\\n",
    "&= \\frac{m^3}{kg\\cdot sec^2}\\cdot \\frac{kg \\cdot kg}{m \\cdot m}\n",
    "\\end{align}"
   ]
  },
  {
   "cell_type": "markdown",
   "metadata": {},
   "source": [
    "Cancelling terms, we have:"
   ]
  },
  {
   "cell_type": "markdown",
   "metadata": {},
   "source": [
    "\\begin{align}\n",
    "\\text{units(F)} &= \\frac{m \\cdot kg}{sec^{2}}\n",
    "\\end{align}"
   ]
  },
  {
   "cell_type": "markdown",
   "metadata": {},
   "source": [
    "Force is typically measured in Newtons, which is defined as $\\frac{m\\cdot kg}{sec^2}$! We used dimensional analysis to show that the term on the right side of Newton's gravitational equation does indeed yield units of force. If we had gotten units other than force, we would have known that the equation was wrong. In a later section, we'll look more deeply into this equation."
   ]
  },
  {
   "cell_type": "markdown",
   "metadata": {},
   "source": [
    "##### Changing Units"
   ]
  },
  {
   "cell_type": "markdown",
   "metadata": {},
   "source": [
    "As an exercise, we can convert the distance to the Sun to some nonconvential units. Let us convert from kilometers to Nora's (Nora is my neice, she's approximately 2.5 feet tall)."
   ]
  },
  {
   "cell_type": "markdown",
   "metadata": {},
   "source": [
    "\\begin{align}\n",
    "\\frac{1,496,000 km}{1} \\cdot \\frac{1000m}{1km} \\cdot \\frac{3.28 feet}{1m} \\cdot \\frac{1 \\text{Nora}}{2.5 feet} = 1,962,752,000\\text{ Noras}\n",
    "\\end{align}"
   ]
  },
  {
   "cell_type": "markdown",
   "metadata": {},
   "source": [
    "## 3. Ratios and Dimensionless Numbers"
   ]
  },
  {
   "cell_type": "markdown",
   "metadata": {},
   "source": [
    "##### Why are we doing this?"
   ]
  },
  {
   "cell_type": "markdown",
   "metadata": {},
   "source": [
    "Ratios are used to find the relative scale between two quantities that share the same units. This is best introduced by an example. Suppose you were asked *How much farther away is the Sun than the Moon*. You may answer this question by saying *1,112,000* km (a number at which you arrive by subtracting the distance to the Moon from the distance to the Sun. Alternatively, however, you may say *about 3.9 times farther away*. Sometimes, this second version of the answer is more insightful than the first version. It's with ratios and dimensionless numbers that we arrive at this answer."
   ]
  },
  {
   "cell_type": "markdown",
   "metadata": {},
   "source": [
    "To determine how many times farther away the Sun is than the Moon, we would setup an equation like the one below:"
   ]
  },
  {
   "cell_type": "markdown",
   "metadata": {},
   "source": [
    "\\begin{align}\n",
    "d_{\\text{Earth to Sun}} &= x \\cdot d_{\\text{Earth to Moon}}\n",
    "\\end{align}"
   ]
  },
  {
   "cell_type": "markdown",
   "metadata": {},
   "source": [
    "$x$ in the above equation is a *scaling factor*. If we were to solve for $x$ by rearranging the above equation, we would find:"
   ]
  },
  {
   "cell_type": "markdown",
   "metadata": {},
   "source": [
    "\\begin{align}\n",
    "x &= \\frac{d_{\\text{Earth to Sun}}}{d_{\\text{Earth to Moon}}}\\\\\n",
    "&= \\frac{1,496,000}{384,000}\\cdot\\frac{km}{km}\\\\\n",
    "&\\approx 3.9\n",
    "\\end{align}"
   ]
  },
  {
   "cell_type": "markdown",
   "metadata": {},
   "source": [
    "What are the units of $x$? The equation that we used to find $x$ had units of $\\frac{km}{km}$. As we saw in the previous section, we can cancel this units. This means that $x$ is *unitless*. $x$ is a *ratio*."
   ]
  },
  {
   "cell_type": "markdown",
   "metadata": {},
   "source": [
    "##### Another Example"
   ]
  },
  {
   "cell_type": "markdown",
   "metadata": {},
   "source": [
    "What is the ratio of the length of my 2.5 ft. niece Nora to the distance between the Earth and the Moon (384,000 km)?"
   ]
  },
  {
   "cell_type": "markdown",
   "metadata": {},
   "source": [
    "First, we need to get both of these quantities into the same units. Let's put them both in feet, which requires that we change the units for the distance to the Moon to feet:"
   ]
  },
  {
   "cell_type": "markdown",
   "metadata": {},
   "source": [
    "\\begin{align}\n",
    "\\frac{384,000 km}{1}\\cdot\\frac{1000m}{1km}\\cdot\\frac{3.28ft}{1m} = 1,259,520,000ft\n",
    "\\end{align}"
   ]
  },
  {
   "cell_type": "markdown",
   "metadata": {},
   "source": [
    "Now we setup the ratio:"
   ]
  },
  {
   "cell_type": "markdown",
   "metadata": {},
   "source": [
    "\\begin{align}\n",
    "d_{\\text{Earth to Moon}} &= x \\cdot l_{\\text{Nora}}\n",
    "\\end{align}"
   ]
  },
  {
   "cell_type": "markdown",
   "metadata": {},
   "source": [
    "Solve for $x$:"
   ]
  },
  {
   "cell_type": "markdown",
   "metadata": {},
   "source": [
    "\\begin{align}\n",
    "x &= \\frac{d_{\\text{Earth to Moon}}}{l_{\\text{Nora}}}\\\\\n",
    "&= \\frac{1,259,520,000 ft}{2.5ft}\\\\\n",
    "&= 503,808,000\n",
    "\\end{align}"
   ]
  },
  {
   "cell_type": "markdown",
   "metadata": {},
   "source": [
    "So, the distance separating the Earth and Moon is 503,808,000 times the length of Nora. We could convert this to scientific notation:"
   ]
  },
  {
   "cell_type": "markdown",
   "metadata": {},
   "source": [
    "\\begin{align}\n",
    "x &= 5.03808 \\times 10^{8}\n",
    "\\end{align}"
   ]
  },
  {
   "cell_type": "markdown",
   "metadata": {},
   "source": [
    "## 4.  Newtonian Gravity"
   ]
  },
  {
   "cell_type": "markdown",
   "metadata": {},
   "source": [
    "##### What needs to be known for class"
   ]
  },
  {
   "cell_type": "markdown",
   "metadata": {},
   "source": [
    "The gravitational force that an object feels from another object is given by:"
   ]
  },
  {
   "cell_type": "markdown",
   "metadata": {},
   "source": [
    "\\begin{align}\n",
    "F_{g} &= \\frac{Gm_1m_2}{r^2} = m_1a\n",
    "\\end{align}"
   ]
  },
  {
   "cell_type": "markdown",
   "metadata": {},
   "source": [
    "Each object feels the same amount of force, and that force is directed along the line connecting the centers of mass of the two bodies. (Note, can you see from the above equation why a feather and a stone will fall at the same rate in vacuum?)"
   ]
  },
  {
   "cell_type": "markdown",
   "metadata": {},
   "source": [
    "We can look at how the gravitational force changes as the gravitational bodies move apart from one another. The mass of the Earth, radius of the Earth, and Newton's gravitational constant are given below:"
   ]
  },
  {
   "cell_type": "code",
   "execution_count": 1,
   "metadata": {
    "collapsed": true
   },
   "outputs": [],
   "source": [
    "Me = 5.972e24    # Earth's mass (kg)\n",
    "G  = 6.67408e-20 # Newton's Gravitational Constant km^3 / (kg * sec^2)\n",
    "Mh = 68.         # Hunter's mass (kg)\n",
    "Re = 6371.       # Radius of Earth (km)"
   ]
  },
  {
   "cell_type": "markdown",
   "metadata": {},
   "source": [
    "In standard units, the above equation will return Newtons $\\left(\\frac{kg\\cdot m}{sec^2}\\right)$. Since it's nicer to think about distances in terms of km for this particular problem, I will use units of km instead of m in the above equation. This means that the equation will return units of $\\left(\\frac{kg\\cdot km}{sec^2}\\right) = \\frac{1}{1000}\\cdot\\left(\\frac{kg\\cdot m}{sec^2}\\right) = milliNewtons$. To recover the standard Newton unit, we simply multiply by 1000."
   ]
  },
  {
   "cell_type": "code",
   "execution_count": 2,
   "metadata": {
    "collapsed": true
   },
   "outputs": [],
   "source": [
    "def newtons(distance, m1, m2):\n",
    "    return 1000*((G*m1*m2)/(distance**2.))"
   ]
  },
  {
   "cell_type": "markdown",
   "metadata": {},
   "source": [
    "We can write a second equation that converts to pounds:"
   ]
  },
  {
   "cell_type": "code",
   "execution_count": 3,
   "metadata": {
    "collapsed": true
   },
   "outputs": [],
   "source": [
    "def toPounds(newton_array):\n",
    "    return 0.224808942443*newton_array"
   ]
  },
  {
   "cell_type": "markdown",
   "metadata": {},
   "source": [
    "Now we write a function that will plot my weight (in lbs) as I travel away from the Earth:"
   ]
  },
  {
   "cell_type": "code",
   "execution_count": 6,
   "metadata": {
    "collapsed": false
   },
   "outputs": [
    {
     "data": {
      "image/png": "[encoded data removed]",
      "text/plain": [
       "<matplotlib.figure.Figure at 0x108f0d950>"
      ]
     },
     "metadata": {},
     "output_type": "display_data"
    }
   ],
   "source": [
    "def weighHunter():\n",
    "    dist_array = numpy.arange(Re, 384000, 100)\n",
    "    in_newtons = newtons(dist_array, Mh, Me)\n",
    "    in_pounds = toPounds(in_newtons)\n",
    "    plt.plot(dist_array/Re,in_pounds)\n",
    "    plt.yscale('log')\n",
    "    plt.title('Hunter\\'s Weight as he Travels From Earth')\n",
    "    plt.xlabel('Distance from the Center of the Earth (in Earth radii)')\n",
    "    plt.ylabel('Pounds')\n",
    "    plt.show()\n",
    "weighHunter()"
   ]
  },
  {
   "cell_type": "markdown",
   "metadata": {},
   "source": [
    "(Note the logarithmic scale on the y-axis). At a distance of 1 Earth radius from the center of the Earth (in other words, on the surface of the Earth), I'm around 150 lbs. However, at around 12 Earth radii away, I weigh one pound."
   ]
  },
  {
   "cell_type": "markdown",
   "metadata": {},
   "source": [
    "## 5. Kepler's Laws of Planetary Motion"
   ]
  },
  {
   "cell_type": "markdown",
   "metadata": {},
   "source": [
    "Write a function that finds the derivative of the position (velocity) and the derivative of the velocity (acceleration) from the position and velocity of the spacecraft:"
   ]
  },
  {
   "cell_type": "code",
   "execution_count": 7,
   "metadata": {
    "collapsed": true
   },
   "outputs": [],
   "source": [
    "def propagate(y, t):\n",
    "    x, y, z, xdot, ydot, zdot, a = y\n",
    "    constant = -(G*Me)/((x**2. + y**2. + z**2.)**(3./2))\n",
    "    return [xdot, ydot, zdot,\n",
    "            x*constant, y*constant, z*constant,\n",
    "            2.*(16079.75/51530.69)*numpy.sqrt(51530.69**2. - (16079.75 + 15708.85)**2.)]"
   ]
  },
  {
   "cell_type": "markdown",
   "metadata": {},
   "source": [
    "And a function to integrate those equations:"
   ]
  },
  {
   "cell_type": "code",
   "execution_count": 14,
   "metadata": {
    "collapsed": false
   },
   "outputs": [],
   "source": [
    "def integrateEllipse(t = numpy.arange(0, 34000, 100), y0 = [Re+400, 0., 0., 0., 10., 0., 0.]):\n",
    "    eartharray = numpy.linspace(0, 2*numpy.pi, 100)\n",
    "    sol = odeint(propagate, y0, t)\n",
    "    return sol"
   ]
  },
  {
   "cell_type": "code",
   "execution_count": 15,
   "metadata": {
    "collapsed": true
   },
   "outputs": [],
   "source": [
    "results = integrateEllipse()"
   ]
  },
  {
   "cell_type": "markdown",
   "metadata": {},
   "source": [
    "### Law of Orbits"
   ]
  },
  {
   "cell_type": "markdown",
   "metadata": {},
   "source": [
    "##### What needs to be known for class"
   ]
  },
  {
   "cell_type": "markdown",
   "metadata": {},
   "source": [
    "The orbit of an object about a point-mass gravitational body is an ellipse, with the point-mass gravitational body at one of the two foci."
   ]
  },
  {
   "cell_type": "markdown",
   "metadata": {},
   "source": [
    "##### Supplementary Information and Examples"
   ]
  },
  {
   "cell_type": "markdown",
   "metadata": {},
   "source": [
    "One of the best ways to see this is via a simulation. If we believe Newton that the gravitational force is what he says it is, then we can simulate the forces on an object in orbit around the Earth. These forces cause accelerations on the body, which can be integrated to give velocities, which are integrated to find positions. This allows us to simulate the position of an object in orbit around the Earth."
   ]
  },
  {
   "cell_type": "markdown",
   "metadata": {},
   "source": [
    "In the simulation below, we consider an object that is directly above the Earth's equator, with an initial velocity of 10 km/sec in a direction tangential to the equator. Atmospheric drag and higher-order gravitational effects are omitted."
   ]
  },
  {
   "cell_type": "code",
   "execution_count": 21,
   "metadata": {
    "collapsed": false
   },
   "outputs": [
    {
     "data": {
      "image/png": "[encoded data removed]",
      "text/plain": [
       "<matplotlib.figure.Figure at 0x10cb58a50>"
      ]
     },
     "metadata": {},
     "output_type": "display_data"
    }
   ],
   "source": [
    "def showOrbit():\n",
    "    circlearray = numpy.linspace(0, 2*numpy.pi, 100)\n",
    "    plt.plot(Re*numpy.cos(circlearray), Re*numpy.sin(circlearray), 'g', label='Earth')\n",
    "    plt.plot(results[:,0], results[:,1], label='Trajectory')\n",
    "    plt.plot(0., 0., 'r.', label='Focii')\n",
    "    plt.plot((min(results[:,0])+Re+400), 0, 'r.')\n",
    "    plt.title('Elliptical Orbit of Spacecraft About Earth')\n",
    "    plt.xlabel('Kilometers')\n",
    "    plt.ylabel('Kilometers')\n",
    "    plt.legend(bbox_to_anchor=(1.05, 1), loc=2, borderaxespad=0.)\n",
    "    plt.show()\n",
    "showOrbit()"
   ]
  },
  {
   "cell_type": "markdown",
   "metadata": {},
   "source": [
    "The two focii of the ellipse traced by the orbiting spacecraft are plotted above. It can be seen that the center of the Earth is one of these focii. It can also be seen that the spacecraft speeds up when it gets nearer to the Earth. This leads us to Kepler's second law."
   ]
  },
  {
   "cell_type": "markdown",
   "metadata": {},
   "source": [
    "### Law of Areas"
   ]
  },
  {
   "cell_type": "markdown",
   "metadata": {},
   "source": [
    "##### What needs to be known for class"
   ]
  },
  {
   "cell_type": "markdown",
   "metadata": {},
   "source": [
    "A line segment joining the point-mass gravitational body to the orbiting body sweeps out equal areas in equal times."
   ]
  },
  {
   "cell_type": "markdown",
   "metadata": {},
   "source": [
    "##### Supplementary Information and Examples"
   ]
  },
  {
   "cell_type": "markdown",
   "metadata": {},
   "source": [
    "We can plot the accumulated area swept out by the spacecraft as it orbits the Earth:"
   ]
  },
  {
   "cell_type": "code",
   "execution_count": 25,
   "metadata": {
    "collapsed": false
   },
   "outputs": [
    {
     "data": {
      "image/png": "[encoded data removed]",
      "text/plain": [
       "<matplotlib.figure.Figure at 0x10dc38850>"
      ]
     },
     "metadata": {},
     "output_type": "display_data"
    }
   ],
   "source": [
    "def showArea():\n",
    "    plt.plot(numpy.arange(0, 34000, 100), results[:,6]/max(results[:,6]), label='Accumulated Area')\n",
    "    plt.title('Fractional Area Swept Out in One Orbit')\n",
    "    plt.xlabel('Time')\n",
    "    plt.ylabel('Fractional Area')\n",
    "    plt.legend(bbox_to_anchor=(1.05, 1), loc=2, borderaxespad=0.)\n",
    "    plt.show()\n",
    "showArea()"
   ]
  },
  {
   "cell_type": "markdown",
   "metadata": {},
   "source": [
    "What we see is that the area swept out increases in a *straight line*. This means that for each chunk of time, the *same* amount of area is being added to the area swept out. This shows that the spacecraft is sweeping out equal areas in equal times."
   ]
  },
  {
   "cell_type": "markdown",
   "metadata": {},
   "source": [
    "### Law of Periods"
   ]
  },
  {
   "cell_type": "markdown",
   "metadata": {},
   "source": [
    "##### What needs to be known for class"
   ]
  },
  {
   "cell_type": "markdown",
   "metadata": {},
   "source": [
    "The square of the orbital period (the time it takes to complete one orbit) of an object orbiting a point-mass gravitational body is directly proportional to the cube of the semi-major axis of its orbit."
   ]
  },
  {
   "cell_type": "markdown",
   "metadata": {},
   "source": [
    "##### Supplementary Information and Examples"
   ]
  },
  {
   "cell_type": "markdown",
   "metadata": {},
   "source": [
    "Another way to think about this is that the *ratio* of the square of the orbital period and the cube of the semi-major axis is a constant for all orbits. As one goes up, the other must also go up. As one goes down, the other must go down."
   ]
  },
  {
   "cell_type": "markdown",
   "metadata": {},
   "source": [
    "\\begin{align}\n",
    "\\frac{P^2}{a^3} = \\text{constant}\n",
    "\\end{align}"
   ]
  }
 ],
 "metadata": {
  "kernelspec": {
   "display_name": "Python 2",
   "language": "python",
   "name": "python2"
  },
  "language_info": {
   "codemirror_mode": {
    "name": "ipython",
    "version": 2
   },
   "file_extension": ".py",
   "mimetype": "text/x-python",
   "name": "python",
   "nbconvert_exporter": "python",
   "pygments_lexer": "ipython2",
   "version": "2.7.9"
  }
 },
 "nbformat": 4,
 "nbformat_minor": 0
}
