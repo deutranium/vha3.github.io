{
 "cells": [
  {
   "cell_type": "markdown",
   "metadata": {},
   "source": [
    "# Stefan-Boltzmann and Wien's Law"
   ]
  },
  {
   "cell_type": "markdown",
   "metadata": {},
   "source": [
    "###### V. Hunter Adams"
   ]
  },
  {
   "cell_type": "code",
   "execution_count": 1,
   "metadata": {
    "collapsed": true
   },
   "outputs": [],
   "source": [
    "from IPython.display import Latex\n",
    "import matplotlib.pyplot as plt\n",
    "%matplotlib inline\n",
    "import numpy\n",
    "from matplotlib import animation, rc\n",
    "from IPython.core.display import HTML \n",
    "from IPython.display import HTML\n",
    "from ipywidgets import *\n",
    "from scipy.integrate import odeint\n",
    "from IPython.display import Image"
   ]
  },
  {
   "cell_type": "markdown",
   "metadata": {},
   "source": [
    "## Stefan-Boltzmann"
   ]
  },
  {
   "cell_type": "markdown",
   "metadata": {},
   "source": [
    "The energy emitted per unit time per unit area is proportional to the fourth power of temperature:"
   ]
  },
  {
   "cell_type": "markdown",
   "metadata": {},
   "source": [
    "\\begin{align}\n",
    "F &= \\sigma T^4\n",
    "\\end{align}"
   ]
  },
  {
   "cell_type": "markdown",
   "metadata": {},
   "source": [
    "Consider the Sun, with temperature $T_s$ and radius $R_s$. Supposer I have another star that has the same temperature but twice the radius. Which star emits more energy, and by how much?"
   ]
  },
  {
   "cell_type": "markdown",
   "metadata": {},
   "source": [
    "Remember that the equation above is energy per unit time per unit area. So, to get energy per unit time, we need to multiply by the area:"
   ]
  },
  {
   "cell_type": "markdown",
   "metadata": {},
   "source": [
    "\\begin{align}\n",
    "A = \\pi R^2\n",
    "\\end{align}"
   ]
  },
  {
   "cell_type": "markdown",
   "metadata": {},
   "source": [
    "So the energy per unit time for the Sun is:"
   ]
  },
  {
   "cell_type": "markdown",
   "metadata": {},
   "source": [
    "\\begin{align}\n",
    "E_s &= \\pi R_s^2 \\sigma T_s^4\n",
    "\\end{align}"
   ]
  },
  {
   "cell_type": "markdown",
   "metadata": {},
   "source": [
    "How about for the other star? Well, for the other star $T=T_s$, and $R=2R_s$. So the energy per unit time is:"
   ]
  },
  {
   "cell_type": "markdown",
   "metadata": {},
   "source": [
    "\\begin{align}\n",
    "E_o &= \\pi (2R_s)^2\\sigma T_s^4\\\\\n",
    "&= 4 \\pi R_s^2 \\sigma T_s^4\n",
    "\\end{align}"
   ]
  },
  {
   "cell_type": "markdown",
   "metadata": {},
   "source": [
    "What's the ratio of these energies?"
   ]
  },
  {
   "cell_type": "markdown",
   "metadata": {},
   "source": [
    "\\begin{align}\n",
    "\\frac{E_o}{E_s} &= \\frac{4 \\pi R_s^2 \\sigma T_s^4}{\\pi R_s^2 \\sigma T_s^4}\\\\\n",
    "&= 4\n",
    "\\end{align}"
   ]
  },
  {
   "cell_type": "markdown",
   "metadata": {},
   "source": [
    "The other star emits *4 times as much energy as the Sun, per unit time*. Let's change it up, suppose the other star were half the size of the Sun, but twice as hot:"
   ]
  },
  {
   "cell_type": "markdown",
   "metadata": {},
   "source": [
    "\\begin{align}\n",
    "E_o &= \\pi \\left(\\frac{1}{2}R_s\\right)^2 \\sigma (2T_s)^4\\\\\n",
    "&= \\pi \\frac{1}{4} R_s^2 \\sigma 16 T_s^4\\\\\n",
    "&= 4 \\pi R_s^2 \\sigma T_s^4\n",
    "\\end{align}"
   ]
  },
  {
   "cell_type": "markdown",
   "metadata": {},
   "source": [
    "Giving the ratio:"
   ]
  },
  {
   "cell_type": "markdown",
   "metadata": {},
   "source": [
    "\\begin{align}\n",
    "\\frac{E_o}{E_s} &= \\frac{4 \\pi R_s^2 \\sigma T_s^4}{\\pi R_s^2 \\sigma T_s^4}\\\\\n",
    "&= 4\n",
    "\\end{align}"
   ]
  },
  {
   "cell_type": "markdown",
   "metadata": {},
   "source": [
    "The other star emits four times the energy per unit time."
   ]
  },
  {
   "cell_type": "markdown",
   "metadata": {},
   "source": [
    "## Wien's Law"
   ]
  },
  {
   "cell_type": "markdown",
   "metadata": {},
   "source": [
    "#### Cosmic Microwave Background"
   ]
  },
  {
   "cell_type": "markdown",
   "metadata": {},
   "source": [
    "*Question*: Does anybody know what the most perfect example of a blackbody ever observed in nature is?"
   ]
  },
  {
   "cell_type": "markdown",
   "metadata": {},
   "source": [
    "*Answer*: The Cosmic Microwave Background Radiation."
   ]
  },
  {
   "cell_type": "markdown",
   "metadata": {},
   "source": [
    "Seriously, do a Wikipedia search for Cosmic Microwave Background and look at the data from the COBE spacecraft plotted on top of the ideal blackbody curve. It's insane."
   ]
  },
  {
   "cell_type": "markdown",
   "metadata": {},
   "source": [
    "*Question*: What is the CMB?"
   ]
  },
  {
   "cell_type": "markdown",
   "metadata": {},
   "source": [
    "*Answer*: When the universe was very young, it was extremely hot. The protons, neutrons, and electrons existed as a plasma (they were too energetic to join together into nuclei and atoms). The thing about plasma is that photons (bits of light) interact with it. This means that light traveling through a plasma can't really escape, it's always getting bounced around in random directions. When the universe cooled enough for protons and electrons and neutrons to come together, however (around 3000K), the photons no longer interacted with them. They could escape. These are the photons that now make up the cosmic microwave background. (Small asymmetries are from quantum fluctuations getting inflated to the size of the universe, how insane is that?)."
   ]
  },
  {
   "cell_type": "markdown",
   "metadata": {},
   "source": [
    "The CMB's spectrum peaks in the microwave region ($\\lambda = 1.063mm$). What is its temperature?"
   ]
  },
  {
   "cell_type": "markdown",
   "metadata": {},
   "source": [
    "\\begin{align}\n",
    "\\lambda_{max} = \\frac{2898 \\mu m \\cdot T}{T}\n",
    "\\end{align}"
   ]
  },
  {
   "cell_type": "markdown",
   "metadata": {},
   "source": [
    "We can solve for $T$:"
   ]
  },
  {
   "cell_type": "markdown",
   "metadata": {},
   "source": [
    "\\begin{align}\n",
    "T &= \\frac{2898}{\\lambda_{max}}\n",
    "\\end{align}"
   ]
  },
  {
   "cell_type": "markdown",
   "metadata": {},
   "source": [
    "From the COBE data, we know $\\lambda_{max} = 1.063mm$."
   ]
  },
  {
   "cell_type": "markdown",
   "metadata": {},
   "source": [
    "\\begin{align}\n",
    "\\lambda_{max} = \\frac{1.063mm}{1} \\cdot \\frac{1000 \\mu m}{1 mm} = 1068 \\mu m\n",
    "\\end{align}"
   ]
  },
  {
   "cell_type": "markdown",
   "metadata": {},
   "source": [
    "Substituting:"
   ]
  },
  {
   "cell_type": "markdown",
   "metadata": {},
   "source": [
    "\\begin{align}\n",
    "T &= \\frac{2898}{1068} = 2.71 K\n",
    "\\end{align}"
   ]
  },
  {
   "cell_type": "markdown",
   "metadata": {},
   "source": [
    "That's pretty cold. Remember that 0 is absolute 0."
   ]
  },
  {
   "cell_type": "markdown",
   "metadata": {},
   "source": [
    "#### Lava"
   ]
  },
  {
   "cell_type": "markdown",
   "metadata": {},
   "source": [
    "Lava looks reddish. The peak of its emission spectrum is at about 1.97 $\\mu m$ (in the infrared). It emits into the red end of the visible spectrum, but less intensely. What is its temperature, assuming that it is a blackbody emitter?"
   ]
  },
  {
   "cell_type": "markdown",
   "metadata": {},
   "source": [
    "\\begin{align}\n",
    "\\lambda_{max} &= \\frac{2898 \\mu m \\cdot T}{T}\n",
    "\\end{align}"
   ]
  },
  {
   "cell_type": "markdown",
   "metadata": {},
   "source": [
    "Solve for $T$:"
   ]
  },
  {
   "cell_type": "markdown",
   "metadata": {},
   "source": [
    "\\begin{align}\n",
    "T &= \\frac{2898}{\\lambda_{max}}\n",
    "\\end{align}"
   ]
  },
  {
   "cell_type": "markdown",
   "metadata": {},
   "source": [
    "Solve:"
   ]
  },
  {
   "cell_type": "markdown",
   "metadata": {},
   "source": [
    "\\begin{align}\n",
    "T &= \\frac{2898}{1.97}\\\\\n",
    "&= 1471K\\\\\n",
    "&= 1197 C\n",
    "\\end{align}"
   ]
  }
 ],
 "metadata": {
  "kernelspec": {
   "display_name": "Python 2",
   "language": "python",
   "name": "python2"
  },
  "language_info": {
   "codemirror_mode": {
    "name": "ipython",
    "version": 2
   },
   "file_extension": ".py",
   "mimetype": "text/x-python",
   "name": "python",
   "nbconvert_exporter": "python",
   "pygments_lexer": "ipython2",
   "version": "2.7.9"
  }
 },
 "nbformat": 4,
 "nbformat_minor": 0
}
