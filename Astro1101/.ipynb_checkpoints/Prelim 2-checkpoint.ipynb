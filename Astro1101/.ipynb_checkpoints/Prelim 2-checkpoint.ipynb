{
 "cells": [
  {
   "cell_type": "markdown",
   "metadata": {},
   "source": [
    "# Prelim 2 Proposed Questions"
   ]
  },
  {
   "cell_type": "markdown",
   "metadata": {},
   "source": [
    "###### V. Hunter Adams"
   ]
  },
  {
   "cell_type": "code",
   "execution_count": 1,
   "metadata": {
    "collapsed": true
   },
   "outputs": [],
   "source": [
    "from IPython.display import Latex\n",
    "import matplotlib.pyplot as plt\n",
    "%matplotlib inline\n",
    "import numpy\n",
    "from matplotlib import animation, rc\n",
    "from IPython.core.display import HTML \n",
    "from IPython.display import HTML\n",
    "from ipywidgets import *\n",
    "from scipy.integrate import odeint\n",
    "from IPython.display import Image"
   ]
  },
  {
   "cell_type": "markdown",
   "metadata": {},
   "source": [
    "## Multiple Choice (5)"
   ]
  },
  {
   "cell_type": "markdown",
   "metadata": {},
   "source": [
    "**You measure the parallax angle of a nearby star to be 0.25 arcseconds. How far away is this star in parsecs?**"
   ]
  },
  {
   "cell_type": "markdown",
   "metadata": {},
   "source": [
    "a. 0.25 parsecs\n",
    "\n",
    "**b. 4 parsecs**\n",
    "\n",
    "c. 8 parsecs\n",
    "\n",
    "d. 2 parsecs\n",
    "\n",
    "e. 0.5 parsecs"
   ]
  },
  {
   "cell_type": "markdown",
   "metadata": {},
   "source": [
    " "
   ]
  },
  {
   "cell_type": "markdown",
   "metadata": {},
   "source": [
    "**Suppose the Sun were twice as far away. How much would the brightness decrease?**"
   ]
  },
  {
   "cell_type": "markdown",
   "metadata": {},
   "source": [
    "**a. The Sun would be $\\frac{1}{4}$ as bright.**\n",
    "\n",
    "b. The Sun would be $\\frac{1}{2}$ as bright.\n",
    "\n",
    "c. The Sun would be $\\frac{1}{8}$ as bright.\n",
    "\n",
    "d. The Sun would be $\\frac{1}{16}$ as bright.\n",
    "\n",
    "e. The Sun would be $\\frac{1}{3}$ as bright."
   ]
  },
  {
   "cell_type": "markdown",
   "metadata": {},
   "source": [
    " "
   ]
  },
  {
   "cell_type": "markdown",
   "metadata": {},
   "source": [
    "**Suppose you had a sample that was initially entirely Rubidium-87. After 3 half-lives, what fraction of the sample is still Rubidium-87, and what fraction has decayed into Strontium-87?**"
   ]
  },
  {
   "cell_type": "markdown",
   "metadata": {},
   "source": [
    "a. $\\frac{1}{16}$ Rubidium-87, $\\frac{15}{16}$ Strontium-87\n",
    "\n",
    "b. $\\frac{1}{2}$ Rubidium-87, $\\frac{1}{2}$ Strontium-87\n",
    "\n",
    "c. $\\frac{1}{4}$ Rubidium-87, $\\frac{3}{4}$ Strontium-87\n",
    "\n",
    "**d. $\\frac{1}{8}$ Rubidium-87, $\\frac{7}{8}$ Strontium-87**"
   ]
  },
  {
   "cell_type": "markdown",
   "metadata": {},
   "source": [
    "  "
   ]
  },
  {
   "cell_type": "markdown",
   "metadata": {},
   "source": [
    " **Almost all weather occurs in which layer of Earth's atmosphere?**"
   ]
  },
  {
   "cell_type": "markdown",
   "metadata": {},
   "source": [
    "a. Stratosphere\n",
    "\n",
    "b. Mesosphere\n",
    "\n",
    "c. Thermosphere\n",
    "\n",
    "**d. Troposphere**\n",
    "\n",
    "e. Corona"
   ]
  },
  {
   "cell_type": "markdown",
   "metadata": {},
   "source": [
    " "
   ]
  },
  {
   "cell_type": "markdown",
   "metadata": {},
   "source": [
    "**The Earth's atmosphere is energized by radiation from the Sun and what other factor?**"
   ]
  },
  {
   "cell_type": "markdown",
   "metadata": {},
   "source": [
    "a. Meteor Strikes\n",
    "\n",
    "b. Radioactive Decay\n",
    "\n",
    "c. Gravity\n",
    "\n",
    "d. Magnetic Field\n",
    "\n",
    "**e. Earth's Rotation**"
   ]
  },
  {
   "cell_type": "markdown",
   "metadata": {},
   "source": [
    " "
   ]
  },
  {
   "cell_type": "markdown",
   "metadata": {},
   "source": [
    " "
   ]
  },
  {
   "cell_type": "markdown",
   "metadata": {},
   "source": [
    "## Short Answer (2)"
   ]
  },
  {
   "cell_type": "markdown",
   "metadata": {},
   "source": [
    "**Briefly explain the mechanism by which the Greenhouse Effect increases the Earth's temperature.**"
   ]
  },
  {
   "cell_type": "markdown",
   "metadata": {},
   "source": [
    "The incident energy from the Sun is in the form of short-wavelength (~500nm) light. This incident energy is partially absorbed by the Earth and re-radiated. However, because the Earth is substantially cooler than the Sun, the radiated energy has significantly longer wavelengths. Greenhouse gasses in the atmosphere allow the short-wavelength light from the Sun to pass through to the Earth unimpeded. They absorb the re-radiated long-wavelength energy, however, and emit it in all directions. Some of this emitted energy goes back down to the Earth, creating a warming effect."
   ]
  },
  {
   "cell_type": "markdown",
   "metadata": {},
   "source": [
    " "
   ]
  },
  {
   "cell_type": "markdown",
   "metadata": {},
   "source": [
    "**Suppose the minerals in a particular sample solidified (changed from a molten to a solid state) at different times. What would be the observable result of this in a dating curve?**"
   ]
  },
  {
   "cell_type": "markdown",
   "metadata": {},
   "source": [
    "When the sample is fully molten, all minerals have the same ratio of Strontium 86 and 87. As soon as the mineral solidifies, Rubidium 87 starts decaying into Strontium 87. The result of this is that the ratio of Sr87/Sr86 to Rb87/Sr86 begins to increase. If the minerals solidified at different times, then this process would begin at different times and some would have a \"head start\" over others. The observable result would be that the Sr87/Sr86 to Rb87/Sr86 ratios for all minerals would *not* lie on a straight line."
   ]
  },
  {
   "cell_type": "markdown",
   "metadata": {},
   "source": [
    " "
   ]
  },
  {
   "cell_type": "markdown",
   "metadata": {},
   "source": [
    " "
   ]
  },
  {
   "cell_type": "markdown",
   "metadata": {},
   "source": [
    "## Long Answer (1)"
   ]
  },
  {
   "cell_type": "markdown",
   "metadata": {},
   "source": [
    "**a. The luminosity of the Sun (total energy per unit time) is $3.85 \\times 10^{26} W$. Given that Pluto is 7.5 billion km ($7.5 \\times 10^{12}$ m), what is the flux (energy per unit time per unit area) at Pluto?**"
   ]
  },
  {
   "cell_type": "markdown",
   "metadata": {},
   "source": [
    "\\begin{align}\n",
    "P_{Pluto} &= \\frac{L}{4\\pi R_{P\\rightarrow S}^2}\\\\\n",
    "&= \\frac{3.85 \\times 10^{26}W}{4 \\pi \\left(7.5 \\times 10^{12} m\\right)^{2}}\\\\\n",
    "&= 0.54 \\frac{W}{m^2}\n",
    "\\end{align}"
   ]
  },
  {
   "cell_type": "markdown",
   "metadata": {},
   "source": [
    "**b. Pluto has a radius $R_p$. Suppose Pluto absorbs 50 percent of the incident energy from the Sun. Write (but do not evaluate) the expression for the total amount of energy absorbed by Pluto.**"
   ]
  },
  {
   "cell_type": "markdown",
   "metadata": {},
   "source": [
    "\\begin{align}\n",
    "E_{incident} &= 0.5\\left[\\pi R_p^2\\left(0.54\\right)\\right]\\\\\n",
    "\\end{align}"
   ]
  },
  {
   "cell_type": "markdown",
   "metadata": {},
   "source": [
    "**c. If we model Pluto as a Blackbody, write the expression for the total energy emitted by Pluto.**"
   ]
  },
  {
   "cell_type": "markdown",
   "metadata": {},
   "source": [
    "\\begin{align}\n",
    "E_{emitted} &= \\sigma T^4 4 \\pi R_p^2\n",
    "\\end{align}"
   ]
  },
  {
   "cell_type": "markdown",
   "metadata": {},
   "source": [
    "**d. In equilibrium, the incident and emitted energies are equal. At what temperature is this the case?**"
   ]
  },
  {
   "cell_type": "markdown",
   "metadata": {},
   "source": [
    "\\begin{align}\n",
    "E_{incident} &= E_{emitted}\\\\\n",
    "0.5\\left[\\pi R_p^2\\left(0.54\\right)\\right] &= \\sigma T^4 4 \\pi R_p^2\\\\\n",
    "0.5\\left[\\left(0.54\\right)\\right] &= \\sigma T^4 4 \n",
    "\\end{align}"
   ]
  },
  {
   "cell_type": "markdown",
   "metadata": {},
   "source": [
    "Solving for $T$:"
   ]
  },
  {
   "cell_type": "markdown",
   "metadata": {},
   "source": [
    "\\begin{align}\n",
    "T &= \\left(\\frac{(0.5)(0.54)}{4\\sigma}\\right)^{\\frac{1}{4}}\\\\\n",
    "&= 33K\n",
    "\\end{align}"
   ]
  },
  {
   "cell_type": "markdown",
   "metadata": {},
   "source": [
    "**e. When we calculated the equilibrium temperature of the Earth, it was much colder than the actual temperature. Do you expect for the calculated equilibrium temperature of Pluto to be a better or worse approximation of Pluto's true temperature than it was for Earth? Why?**"
   ]
  },
  {
   "cell_type": "markdown",
   "metadata": {},
   "source": [
    "The Earth is warmer than its equilibrium temperature because of its atmosphere, which causes a Greenhouse Effect. Pluto, which is substantially less massive than the Earth, cannot hold onto an atmosphere. Thus, the greenhouse warming effect will be less than that of Earth (there will be basically no greenhouse warming). The equilibrium temperature of Pluto is a better approximation for the true temperature of Pluto than the equilibrium temperature of Earth is of the true temperature of Earth."
   ]
  }
 ],
 "metadata": {
  "kernelspec": {
   "display_name": "Python 2",
   "language": "python",
   "name": "python2"
  },
  "language_info": {
   "codemirror_mode": {
    "name": "ipython",
    "version": 2
   },
   "file_extension": ".py",
   "mimetype": "text/x-python",
   "name": "python",
   "nbconvert_exporter": "python",
   "pygments_lexer": "ipython2",
   "version": "2.7.9"
  }
 },
 "nbformat": 4,
 "nbformat_minor": 2
}
