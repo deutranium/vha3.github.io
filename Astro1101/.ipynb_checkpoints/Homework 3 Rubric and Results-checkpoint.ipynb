{
 "cells": [
  {
   "cell_type": "markdown",
   "metadata": {},
   "source": [
    "# Problem Set 3 Grading Rubric and Results"
   ]
  },
  {
   "cell_type": "markdown",
   "metadata": {},
   "source": [
    "###### V. Hunter Adams"
   ]
  },
  {
   "cell_type": "code",
   "execution_count": 101,
   "metadata": {
    "collapsed": true
   },
   "outputs": [],
   "source": [
    "from IPython.display import Latex\n",
    "import matplotlib.pyplot as plt\n",
    "%matplotlib inline\n",
    "import numpy\n",
    "from matplotlib import animation, rc\n",
    "from IPython.core.display import HTML \n",
    "from IPython.display import HTML\n",
    "from ipywidgets import *\n",
    "from scipy.integrate import odeint\n",
    "import plotly.plotly as py\n",
    "import plotly\n",
    "from numpy.linalg import pinv\n",
    "import plotly.graph_objs as go\n",
    "import pandas as pd\n",
    "import plotly.tools as tls\n",
    "import urllib2\n",
    "tls.set_credentials_file(username='v.h.adams', api_key='werEw55EhyYuY92HZtTt')"
   ]
  },
  {
   "cell_type": "markdown",
   "metadata": {},
   "source": [
    "## Results"
   ]
  },
  {
   "cell_type": "markdown",
   "metadata": {},
   "source": [
    "Grades, by section:"
   ]
  },
  {
   "cell_type": "code",
   "execution_count": 104,
   "metadata": {
    "collapsed": true
   },
   "outputs": [],
   "source": [
    "section201 = [2.5, 9.25, 8.75, 10, 8.75, 10,\n",
    "              10, 8.75, 8.75, 9, 6.5, 8.5,\n",
    "              8.5, 9, 9, 6, 8.25, 8]\n",
    "section202 = [9.25, 9, 7.25, 8.75, 8.75, 9, 8,\n",
    "              10, 7.75, 8.75, 10, 8.75, 10, 5,\n",
    "              6.75, 6, 6.25, 9.25, 6.75, 9.25,\n",
    "              7, 3, 0, 9.75, 9.5]\n",
    "section203 = [10, 5.5, 8.75, 9.25, 9.5, 8,\n",
    "              8.5, 8, 7, 9.25]\n",
    "section204 = [6, 8.25, 6.5, 8, 9.5, 8.75, 10, 9]\n",
    "section205 = [9.5, 9.25, 8.75, 9.25, 9.25, 9.75,\n",
    "              7.5, 8.75, 8.75, 7, 8, 9.25, 8.75,\n",
    "              8.25, 9.75, 9, 9, 10, 9.75, 10, 9.75,\n",
    "              9.5, 8.75, 6.5]\n",
    "section206 = [10, 9, 7, 7.5, 8.75, 8.5, 9, 8.75,\n",
    "              8.75, 8.5, 8.75, 7.5, 10, 8.5, 9.25,\n",
    "              9, 10, 8.25]\n",
    "section207 = [8.75, 9.25, 10, 8.5, 9.5, 7.75, 10,\n",
    "              9.5, 7.75, 9.75, 10, 6, 10, 9.25, 10,\n",
    "              7.75, 8, 9.25, 9.5, 6.75, 5, 8.5]\n",
    "section208 = [7.25, 9.25, 7, 9, 7.5, 8.25, 9.5,\n",
    "              7.75, 8.5, 5.25, 9.5, 8.75, 9, 9,\n",
    "              9.25]\n",
    "section209 = [8.75, 5, 9.25, 9.25, 9, 8.5, 9.25,\n",
    "              9.75, 9.25, 8.25, 10, 8.75]\n",
    "section211 = [8.75, 3, 9.25, 8.75, 9.25, 8.75,\n",
    "              9.5, 8.75, 6.5, 10, 10, 7, 8.5,\n",
    "              9.25, 10, 9.25, 10, 10, 5.25, 9,\n",
    "              10, 10, 9, 8.25, 7.25]"
   ]
  },
  {
   "cell_type": "markdown",
   "metadata": {},
   "source": [
    "Histogram:"
   ]
  },
  {
   "cell_type": "code",
   "execution_count": 105,
   "metadata": {
    "collapsed": false
   },
   "outputs": [
    {
     "data": {
      "text/html": [
       "<iframe id=\"igraph\" scrolling=\"no\" style=\"border:none;\" seamless=\"seamless\" src=\"https://plot.ly/~v.h.adams/16.embed\" height=\"525px\" width=\"100%\"></iframe>"
      ],
      "text/plain": [
       "<plotly.tools.PlotlyDisplay object>"
      ]
     },
     "execution_count": 105,
     "metadata": {},
     "output_type": "execute_result"
    }
   ],
   "source": [
    "Section201 = go.Histogram(\n",
    "    x=section201,\n",
    "    histnorm='probability',\n",
    "    name='Section 201',\n",
    "    autobinx=False,\n",
    "    xbins=dict(\n",
    "        start=0,\n",
    "        end=10,\n",
    "        size=0.25\n",
    "    ),\n",
    "    opacity=0.75\n",
    ")\n",
    "Section202 = go.Histogram(\n",
    "    x=section202,\n",
    "    histnorm='probability',\n",
    "    name='Section 202',\n",
    "    autobinx=False,\n",
    "    xbins=dict(\n",
    "        start=0,\n",
    "        end=10,\n",
    "        size=0.25\n",
    "    ),\n",
    "    opacity=0.75\n",
    ")\n",
    "Section203 = go.Histogram(\n",
    "    x=section203,\n",
    "    histnorm='probability',\n",
    "    name='Section 203',\n",
    "    autobinx=False,\n",
    "    xbins=dict(\n",
    "        start=0,\n",
    "        end=10,\n",
    "        size=0.25\n",
    "    ),\n",
    "    opacity=0.75\n",
    ")\n",
    "Section204 = go.Histogram(\n",
    "    x=section204,\n",
    "    histnorm='probability',\n",
    "    name='Section 204',\n",
    "    autobinx=False,\n",
    "    xbins=dict(\n",
    "        start=0,\n",
    "        end=10,\n",
    "        size=0.25\n",
    "    ),\n",
    "    opacity=0.75\n",
    ")\n",
    "Section205 = go.Histogram(\n",
    "    x=section205,\n",
    "    histnorm='probability',\n",
    "    name='Section 205',\n",
    "    autobinx=False,\n",
    "    xbins=dict(\n",
    "        start=0,\n",
    "        end=10,\n",
    "        size=0.25\n",
    "    ),\n",
    "    opacity=0.75\n",
    ")\n",
    "Section206 = go.Histogram(\n",
    "    x=section206,\n",
    "    histnorm='probability',\n",
    "    name='Section 206',\n",
    "    autobinx=False,\n",
    "    xbins=dict(\n",
    "        start=0,\n",
    "        end=10,\n",
    "        size=0.25\n",
    "    ),\n",
    "    opacity=0.75\n",
    ")\n",
    "Section207 = go.Histogram(\n",
    "    x=section207,\n",
    "    histnorm='probability',\n",
    "    name='Section 207',\n",
    "    autobinx=False,\n",
    "    xbins=dict(\n",
    "        start=0,\n",
    "        end=10,\n",
    "        size=0.25\n",
    "    ),\n",
    "    opacity=0.75\n",
    ")\n",
    "Section208 = go.Histogram(\n",
    "    x=section208,\n",
    "    histnorm='probability',\n",
    "    name='Section 208',\n",
    "    autobinx=False,\n",
    "    xbins=dict(\n",
    "        start=0,\n",
    "        end=10,\n",
    "        size=0.25\n",
    "    ),\n",
    "    opacity=0.75\n",
    ")\n",
    "Section209 = go.Histogram(\n",
    "    x=section209,\n",
    "    histnorm='probability',\n",
    "    name='Section 209',\n",
    "    autobinx=False,\n",
    "    xbins=dict(\n",
    "        start=0,\n",
    "        end=10,\n",
    "        size=0.25\n",
    "    ),\n",
    "    opacity=0.75\n",
    ")\n",
    "Section211 = go.Histogram(\n",
    "    x=section211,\n",
    "    histnorm='probability',\n",
    "    name='Section 211',\n",
    "    autobinx=False,\n",
    "    xbins=dict(\n",
    "        start=0,\n",
    "        end=10,\n",
    "        size=0.25\n",
    "    ),\n",
    "    opacity=0.75\n",
    ")\n",
    "data = [Section201, Section202, Section203,\n",
    "        Section204, Section205, Section206,\n",
    "        Section207, Section208, Section209,\n",
    "        Section211]\n",
    "\n",
    "layout = go.Layout(\n",
    "    barmode='stack',\n",
    "    title='Homework 3 Results, Normalized by Class Size',\n",
    "    xaxis=dict(\n",
    "        title='Points'\n",
    "    ),\n",
    "    yaxis=dict(\n",
    "        title='Count'\n",
    "    ),\n",
    "    bargap=0.1,\n",
    "    bargroupgap=0.1\n",
    ")\n",
    "fig = go.Figure(data=data, layout=layout)\n",
    "\n",
    "py.iplot(fig, filename='stacked histogram')"
   ]
  },
  {
   "cell_type": "code",
   "execution_count": 113,
   "metadata": {
    "collapsed": false
   },
   "outputs": [
    {
     "data": {
      "text/html": [
       "<iframe id=\"igraph\" scrolling=\"no\" style=\"border:none;\" seamless=\"seamless\" src=\"https://plot.ly/~v.h.adams/20.embed\" height=\"525px\" width=\"100%\"></iframe>"
      ],
      "text/plain": [
       "<plotly.tools.PlotlyDisplay object>"
      ]
     },
     "execution_count": 113,
     "metadata": {},
     "output_type": "execute_result"
    }
   ],
   "source": [
    "means = []\n",
    "for i in [section201, section202, section203,\n",
    "          section204, section205, section206,\n",
    "          section207, section208, section209,\n",
    "          section211]:\n",
    "    means.extend([numpy.mean(i)])\n",
    "stdvs = []\n",
    "for i in [section201, section202, section203,\n",
    "          section204, section205, section206,\n",
    "          section207, section208, section209,\n",
    "          section211]:\n",
    "    stdvs.extend([numpy.std(i)])\n",
    "\n",
    "data = [go.Bar(\n",
    "            x=['201', '202', '203', '204',\n",
    "               '205', '206', '207', '208',\n",
    "               '209', '211'],\n",
    "            y=means,\n",
    "            error_y=dict(\n",
    "            type='data',\n",
    "            array=stdvs,\n",
    "            visible=True\n",
    "        ),\n",
    "            opacity=0.6,\n",
    "    )]\n",
    "layout = go.Layout(\n",
    "    title='Mean and Standard Deviation for Each Section',\n",
    ")\n",
    "\n",
    "fig = go.Figure(data=data, layout=layout)\n",
    "py.iplot(fig, filename='text-hover-bar')"
   ]
  },
  {
   "cell_type": "markdown",
   "metadata": {},
   "source": [
    "## Common Mistakes"
   ]
  },
  {
   "cell_type": "markdown",
   "metadata": {},
   "source": [
    "1. Misunderstanding of units for Stephen-Boltzmann\n",
    "\n",
    "2. Unit sloppiness in general\n",
    "\n",
    "3. Dimensional analysis mistakes when calculating charge of Earth/Sun"
   ]
  },
  {
   "cell_type": "markdown",
   "metadata": {},
   "source": [
    "# Rubric"
   ]
  },
  {
   "cell_type": "markdown",
   "metadata": {},
   "source": [
    "## Question 1"
   ]
  },
  {
   "cell_type": "markdown",
   "metadata": {},
   "source": [
    "### Part A"
   ]
  },
  {
   "cell_type": "markdown",
   "metadata": {},
   "source": [
    "#### Subsection (a)"
   ]
  },
  {
   "cell_type": "markdown",
   "metadata": {},
   "source": [
    "\\begin{align}\n",
    "-2.3 \\times 10^{-8}N\n",
    "\\end{align}"
   ]
  },
  {
   "cell_type": "markdown",
   "metadata": {},
   "source": [
    "Correct answer: +0.5pts"
   ]
  },
  {
   "cell_type": "markdown",
   "metadata": {},
   "source": [
    "#### Subsection (b)"
   ]
  },
  {
   "cell_type": "markdown",
   "metadata": {},
   "source": [
    "\\begin{align}\n",
    "-3.56 \\times 10^{22}N\n",
    "\\end{align}"
   ]
  },
  {
   "cell_type": "markdown",
   "metadata": {},
   "source": [
    "Correct answer: +0.5 pts"
   ]
  },
  {
   "cell_type": "markdown",
   "metadata": {},
   "source": [
    "### Part B"
   ]
  },
  {
   "cell_type": "markdown",
   "metadata": {},
   "source": [
    "#### Subsection (a)"
   ]
  },
  {
   "cell_type": "markdown",
   "metadata": {},
   "source": [
    "Dimensional analysis:"
   ]
  },
  {
   "cell_type": "markdown",
   "metadata": {},
   "source": [
    "\\begin{align}\n",
    "Sun &= 1.916 \\times 10^{38}C\\\\\n",
    "Earth &= -1.055\\times 10^{36}C\n",
    "\\end{align}"
   ]
  },
  {
   "cell_type": "markdown",
   "metadata": {},
   "source": [
    "Correct dimensional analysis: +0.25pts"
   ]
  },
  {
   "cell_type": "markdown",
   "metadata": {},
   "source": [
    "\\begin{align}\n",
    "F &= -8.086 \\times 10^{61}N\n",
    "\\end{align}"
   ]
  },
  {
   "cell_type": "markdown",
   "metadata": {},
   "source": [
    "Correct answer, given dimensional analysis result: +0.25 pts"
   ]
  },
  {
   "cell_type": "code",
   "execution_count": 4,
   "metadata": {
    "collapsed": true
   },
   "outputs": [],
   "source": [
    "G = 6.67e-11\n",
    "k = 9.0e9\n",
    "Ms = 2.0e30\n",
    "Me = 6.0e24\n"
   ]
  },
  {
   "cell_type": "code",
   "execution_count": 5,
   "metadata": {
    "collapsed": true
   },
   "outputs": [],
   "source": [
    "def FemEarthSun(qs, qe):\n",
    "    return (k*qs*qe)/((1.5e11)**2.)"
   ]
  },
  {
   "cell_type": "markdown",
   "metadata": {},
   "source": [
    "#### Subsection (b)"
   ]
  },
  {
   "cell_type": "markdown",
   "metadata": {},
   "source": [
    "\\begin{align}\n",
    "r &= \\sqrt{\\frac{kq_1q_2}{F}}\n",
    "\\end{align}"
   ]
  },
  {
   "cell_type": "markdown",
   "metadata": {},
   "source": [
    "Correct rearrangement of equation: +0.25 pts"
   ]
  },
  {
   "cell_type": "markdown",
   "metadata": {},
   "source": [
    "\\begin{align}\n",
    "r &= 4.77 \\times 10^{19} AU\\\\\n",
    "&= 7.188 \\times 10^{30}m\n",
    "\\end{align}"
   ]
  },
  {
   "cell_type": "markdown",
   "metadata": {},
   "source": [
    "Correct answer, given $F$ from Part A and dimensional analysis from previous part: +0.25 pts"
   ]
  },
  {
   "cell_type": "code",
   "execution_count": 7,
   "metadata": {
    "collapsed": true
   },
   "outputs": [],
   "source": [
    "def getR(F, qs, qe):\n",
    "    return numpy.sqrt((k*qs*qe)/(F))"
   ]
  },
  {
   "cell_type": "markdown",
   "metadata": {},
   "source": [
    "## Question 2"
   ]
  },
  {
   "cell_type": "markdown",
   "metadata": {},
   "source": [
    "0.25 points for each name, 0.75 points for each drawing."
   ]
  },
  {
   "cell_type": "markdown",
   "metadata": {},
   "source": [
    "## Question 3"
   ]
  },
  {
   "cell_type": "markdown",
   "metadata": {},
   "source": [
    "Correct power equation: +0.25 points"
   ]
  },
  {
   "cell_type": "markdown",
   "metadata": {},
   "source": [
    "\\begin{align}\n",
    "Power \\propto area \\propto R^2\n",
    "\\end{align}"
   ]
  },
  {
   "cell_type": "markdown",
   "metadata": {},
   "source": [
    "Correct power answer: +0.25 points"
   ]
  },
  {
   "cell_type": "markdown",
   "metadata": {},
   "source": [
    "\\begin{align}\n",
    "100 \\times\n",
    "\\end{align}"
   ]
  },
  {
   "cell_type": "markdown",
   "metadata": {},
   "source": [
    "Correct angular resolution equation: +0.25 points"
   ]
  },
  {
   "cell_type": "markdown",
   "metadata": {},
   "source": [
    "\\begin{align}\n",
    "\\theta &= \\frac{\\lambda}{D}\n",
    "\\end{align}"
   ]
  },
  {
   "cell_type": "markdown",
   "metadata": {},
   "source": [
    "Correct angular resolution answer: +0.25 points"
   ]
  },
  {
   "cell_type": "markdown",
   "metadata": {},
   "source": [
    "\\begin{align}\n",
    "10 \\times\n",
    "\\end{align}"
   ]
  },
  {
   "cell_type": "markdown",
   "metadata": {},
   "source": [
    "## Question 4"
   ]
  },
  {
   "cell_type": "markdown",
   "metadata": {},
   "source": [
    "Correctly solving for $\\Delta \\lambda$: +0.5points"
   ]
  },
  {
   "cell_type": "markdown",
   "metadata": {},
   "source": [
    "\\begin{align}\n",
    "\\Delta \\lambda &= \\lambda \\frac{v}{c}\n",
    "\\end{align}"
   ]
  },
  {
   "cell_type": "markdown",
   "metadata": {},
   "source": [
    "Correct calculation of $\\Delta \\lambda$: +0.5 points"
   ]
  },
  {
   "cell_type": "markdown",
   "metadata": {},
   "source": [
    "\\begin{align}\n",
    "\\Delta \\lambda &= 0.22 nm\n",
    "\\end{align}"
   ]
  },
  {
   "cell_type": "markdown",
   "metadata": {},
   "source": [
    "Correct wavelength: +0.5 points"
   ]
  },
  {
   "cell_type": "markdown",
   "metadata": {},
   "source": [
    "\\begin{align}\n",
    "\\lambda = 656.52nm\n",
    "\\end{align}"
   ]
  },
  {
   "cell_type": "markdown",
   "metadata": {},
   "source": [
    "Correct frequency calculation: +0.5 points"
   ]
  },
  {
   "cell_type": "markdown",
   "metadata": {},
   "source": [
    "\\begin{align}\n",
    "4.6\\times 10^{14}\n",
    "\\end{align}"
   ]
  },
  {
   "cell_type": "markdown",
   "metadata": {},
   "source": [
    "## Question 5"
   ]
  },
  {
   "cell_type": "markdown",
   "metadata": {},
   "source": [
    "#### Part A"
   ]
  },
  {
   "cell_type": "markdown",
   "metadata": {},
   "source": [
    "Correct answer for Star A: +0.25pts"
   ]
  },
  {
   "cell_type": "markdown",
   "metadata": {},
   "source": [
    "\\begin{align}\n",
    "0.483 \\mu m\n",
    "\\end{align}"
   ]
  },
  {
   "cell_type": "markdown",
   "metadata": {},
   "source": [
    "Correct answer for Star B: +0.25pts"
   ]
  },
  {
   "cell_type": "markdown",
   "metadata": {},
   "source": [
    "\\begin{align}\n",
    "0.967 \\mu m\n",
    "\\end{align}"
   ]
  },
  {
   "cell_type": "markdown",
   "metadata": {},
   "source": [
    "#### Part B"
   ]
  },
  {
   "cell_type": "markdown",
   "metadata": {},
   "source": [
    "Multiplying Stefan-Boltzmann by area: +0.5pts"
   ]
  },
  {
   "cell_type": "markdown",
   "metadata": {},
   "source": [
    "\\begin{align}\n",
    "\\sigma T^4 \\cdot A\n",
    "\\end{align}"
   ]
  },
  {
   "cell_type": "markdown",
   "metadata": {},
   "source": [
    "Correct ratio for first part: +0.5pts"
   ]
  },
  {
   "cell_type": "markdown",
   "metadata": {},
   "source": [
    "\\begin{align}\n",
    "\\text{Star A}: 16\n",
    "\\end{align}"
   ]
  },
  {
   "cell_type": "markdown",
   "metadata": {},
   "source": [
    "Correct ratio for second part: +0.5 pts"
   ]
  },
  {
   "cell_type": "markdown",
   "metadata": {},
   "source": [
    "\\begin{align}\n",
    "1\n",
    "\\end{align}"
   ]
  }
 ],
 "metadata": {
  "kernelspec": {
   "display_name": "Python 2",
   "language": "python",
   "name": "python2"
  },
  "language_info": {
   "codemirror_mode": {
    "name": "ipython",
    "version": 2
   },
   "file_extension": ".py",
   "mimetype": "text/x-python",
   "name": "python",
   "nbconvert_exporter": "python",
   "pygments_lexer": "ipython2",
   "version": "2.7.9"
  }
 },
 "nbformat": 4,
 "nbformat_minor": 2
}
