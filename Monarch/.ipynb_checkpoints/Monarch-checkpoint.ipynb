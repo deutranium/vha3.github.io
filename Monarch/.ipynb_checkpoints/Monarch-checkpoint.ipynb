{
 "cells": [
  {
   "cell_type": "markdown",
   "metadata": {},
   "source": [
    "# Monarch Chip-Satellites"
   ]
  },
  {
   "cell_type": "markdown",
   "metadata": {},
   "source": [
    "#### V. Hunter Adams (vha3@cornell.edu)"
   ]
  },
  {
   "cell_type": "markdown",
   "metadata": {},
   "source": [
    "## Background"
   ]
  },
  {
   "cell_type": "markdown",
   "metadata": {},
   "source": [
    "The Monarch is a 5x5-centimeter, 2.5-gram printed circuit board that is outfitted with a suite of surface-mounted sensors, a processor, a radio, and a GPS. Each is powered by two solar cells and is capable of radio communication with other Monarchs, and to data-aggregating receiver stations. They were designed to be capable of operation in space as free-flying spacecraft.\n",
    "\n",
    "I spent most of my PhD designing, building, testing, and deploying these devices. For that reason, they are described in excruciating detail in [my dissertation](./Thesis.pdf) and a bit more succinctly in the paper [R-Selected Spacecraft](./R-selected.pdf). The GitHub repos containing all CAD files and code for these devices is linked at the bottom of the page. I'll direct any interested reader to those two documents and the Git repos for more technical details, and use this webpage to more generally explain what Monarchs are, why they are interesting, and what they're good for."
   ]
  },
  {
   "cell_type": "markdown",
   "metadata": {},
   "source": [
    "<figure>\n",
    "    <img align=\"center\" width=\"500\" height=\"200\" src=\"Monarch.JPG\" alt='missing' />\n",
    "    <center><figcaption>A Monarch chipsat</figcaption></center>\n",
    "</figure>"
   ]
  },
  {
   "cell_type": "markdown",
   "metadata": {},
   "source": [
    "## What is it, and what is it good for?"
   ]
  },
  {
   "cell_type": "markdown",
   "metadata": {},
   "source": [
    "Each Monarch is simply a printed circuit board. It appears orange because it is build on a Kapton substrate, which makes it very low mass (2.5g) and slightly flexible. Each Monarch carries a CC1310 processor with a built-in radio, a GPS and GPS antenna, accelerometer, magnetometer, gyroscope, two ambient light sensors, and solar cells for power. Each Monarch uses its suite of sensors to take measurements of its local environment, and then it uses its processor and radio to communicate those measurements both to other Monarchs (in a network) and back to data-aggregating receiver stations.\n",
    "\n",
    "What makes Monarchs exciting is their small size and low cost. Because each only weighs about as much as a penny, *thousands* can be carried to orbit in cubesat-sized motherships. Once in orbit, this mothership can deploy all of the Monarchs as free-flying spacecraft. If deployed in orbit, they can be used to gather datasets with massive spatial distribution (e.g. datasets about the upper atmosphere, or heliophysical phenomena). Or, alternatively, if deployed to the surface of some planet, comet, or asteroid; each can gather local measurements about things like seismic activity, temperature, atmospheric pressure, sound, etc. The dataset from any individual Monarch is not very interesting. But from *thousands*? Datasets like that could be very interesting.\n",
    "\n",
    "What makes these datasets unique is the combination of *in-situ* measurements with incredible spatial breadth. *In-situ* measurements are measurements that are taken from very close to the object of interest. We build Mars rovers to take these sorts of measurements. Usually, however, if you're taking these measurements then you are limited to wherever your sensor happens to be located. This is in contrast to remote sensing, which can gather measurements over *huge* areas. These remote-sensing measurements, however, are different from *in-situ* measurements. Each is useful. That's why NASA builds both orbiters and landers.\n",
    "\n",
    "The Monarchs are interesting because they could enable *in-situ* with the spatial breadth typically only associated with remote sensing."
   ]
  },
  {
   "cell_type": "markdown",
   "metadata": {},
   "source": [
    "<figure>\n",
    "    <img align=\"center\" width=\"700\" height=\"200\" src=\"components.png\" alt='missing' />\n",
    "    <center><figcaption>A Monarch chipsat, components labeled</figcaption></center>\n",
    "</figure>"
   ]
  },
  {
   "cell_type": "markdown",
   "metadata": {},
   "source": [
    "<figure>\n",
    "    <img align=\"center\" width=\"700\" height=\"200\" src=\"Schem.png\" alt='missing' />\n",
    "    <center><figcaption>Monarch schematic</figcaption></center>\n",
    "</figure>"
   ]
  },
  {
   "cell_type": "markdown",
   "metadata": {},
   "source": [
    "## Why is it interesting"
   ]
  },
  {
   "cell_type": "markdown",
   "metadata": {},
   "source": [
    "One of the most interesting properties of the Monarchs is that they introduce an entirely different approach to spacecraft mission assurance. Metrics for mission assurance attempt to capture the probability that a particular mission will be successful. For conventional missions involving large, expensive, conventional spacecraft, this essentially reduces to the probability of spacecraft success.\n",
    "\n",
    "The Monarchs are different. Much like the success of an R-selected species (like sea turtles) does not depend on the success of any particular turtle, the success of a mission involving Monarchs does not depend on the success of any particular Monarch. A sea turtle overcomes the incredibly high probability of offspring failure by having *thousands* of offspring. Monarchs overcome the relatively large probability of individual failure through mass deployments. This notion is summarized in the graphic below."
   ]
  },
  {
   "cell_type": "markdown",
   "metadata": {},
   "source": [
    "<figure>\n",
    "    <img align=\"center\" width=\"700\" height=\"200\" src=\"slide.png\" alt='missing' />\n",
    "    <center><figcaption>Drawing an analogy with nature</figcaption></center>\n",
    "</figure>"
   ]
  },
  {
   "cell_type": "markdown",
   "metadata": {},
   "source": [
    "## Does it work?"
   ]
  },
  {
   "cell_type": "markdown",
   "metadata": {},
   "source": [
    "It does. I tested these devices both in the lab (video below) and in the field. A good way to substantiate claims about the utility of some device for planetary science is to do some planetary science with that device. Earth is, by far, the most convenient planet on which to conduct those proof-of-concept tests. I put together a version of the device with a slightly different suite of sensors and used them to gather data from vineyards and from cattle. Those experiments too are described in the documents linked below, and briefly discussed on [this webpage](./VineyardMonarch.html)."
   ]
  },
  {
   "cell_type": "markdown",
   "metadata": {},
   "source": [
    "<iframe width=\"560\" height=\"315\" src=\"https://www.youtube.com/embed/_-zkH7rmq8A\" frameborder=\"0\" allow=\"accelerometer; autoplay; clipboard-write; encrypted-media; gyroscope; picture-in-picture\" allowfullscreen></iframe>"
   ]
  },
  {
   "cell_type": "markdown",
   "metadata": {},
   "source": [
    "## For much more technical information\n",
    "1. [My dissertation (Theory and Applications of Gram-Scale Spacecraft](./Thesis.pdf)\n",
    "2. [R-Selected Spacecraft](./R-selected.pdf)\n",
    "3. [GitHub repo for all software](https://github.com/vha3/Monarch-Software)\n",
    "4. [GitHub repo for all CAD files](https://github.com/vha3/Monarch-Board)\n",
    "5. [Guide for data acquisition for SpinLaunch](./Spinlaunch_guide.html)"
   ]
  },
  {
   "cell_type": "markdown",
   "metadata": {},
   "source": [
    "***"
   ]
  }
 ],
 "metadata": {
  "kernelspec": {
   "display_name": "Python 3",
   "language": "python",
   "name": "python3"
  },
  "language_info": {
   "codemirror_mode": {
    "name": "ipython",
    "version": 3
   },
   "file_extension": ".py",
   "mimetype": "text/x-python",
   "name": "python",
   "nbconvert_exporter": "python",
   "pygments_lexer": "ipython3",
   "version": "3.8.3"
  }
 },
 "nbformat": 4,
 "nbformat_minor": 4
}
