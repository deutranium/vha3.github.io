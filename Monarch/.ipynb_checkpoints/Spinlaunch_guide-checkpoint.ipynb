{
 "cells": [
  {
   "cell_type": "markdown",
   "metadata": {},
   "source": [
    "# Data acquisition from chipsat - guide for SpinLaunch\n",
    "#### V. Hunter Adams (vha3@cornell.edu)"
   ]
  },
  {
   "cell_type": "markdown",
   "metadata": {},
   "source": [
    "This webpage describes how to acquire sensor characterization data from a chipsat."
   ]
  },
  {
   "cell_type": "markdown",
   "metadata": {},
   "source": [
    "***"
   ]
  },
  {
   "cell_type": "markdown",
   "metadata": {},
   "source": [
    "## Hooking up the hardware\n",
    "\n",
    "1. In the image below, all of the necessary connections to the chipsat are labeled.\n",
    "<figure>\n",
    "    <img align=\"center\" width=\"500\" height=\"200\" src=\"pinout.png\" alt='missing' />\n",
    "    <center><figcaption></figcaption></center>\n",
    "</figure><br><br>\n",
    "2. Attach a power supply to the 2.2V and GND pins, as shown below.\n",
    "<figure>\n",
    "    <img align=\"center\" width=\"500\" height=\"200\" src=\"Power.png\" alt='missing' />\n",
    "    <center><figcaption></figcaption></center>\n",
    "</figure><br><br>\n",
    "3. Attach the GREEN lead from the USB to UART converter to RX, and the WHITE lead to TX, as shown below. Attach the black lead from the USB to UART to ground.\n",
    "<figure>\n",
    "    <img align=\"center\" width=\"500\" height=\"200\" src=\"Connections.png\" alt='missing' />\n",
    "    <center><figcaption></figcaption></center>\n",
    "</figure><br><br>"
   ]
  },
  {
   "cell_type": "markdown",
   "metadata": {},
   "source": [
    "***"
   ]
  },
  {
   "cell_type": "markdown",
   "metadata": {},
   "source": [
    "## Confirming that everything is connected correctly\n",
    "\n",
    "1. Open Device Manager, and expand the Ports menu\n",
    "<figure>\n",
    "    <img align=\"center\" width=\"500\" height=\"200\" src=\"Device_manager.png\" alt='missing' />\n",
    "    <center><figcaption></figcaption></center>\n",
    "</figure><br><br>\n",
    "2. Plug the USB to UART connector into the PC, note which COM port appears in Device Manager. In the window below, we see the USB to UART converter on COM5.\n",
    "<figure>\n",
    "    <img align=\"center\" width=\"500\" height=\"200\" src=\"Device_manager_2.png\" alt='missing' />\n",
    "    <center><figcaption></figcaption></center>\n",
    "</figure><br><br>\n",
    "3. Open Putty, and configure for a serial connection to the COM port from step 2 at 9600 baud. In the example below, we have configured a serial connection to COM5.\n",
    "<figure>\n",
    "    <img align=\"center\" width=\"500\" height=\"200\" src=\"Putty.png\" alt='missing' />\n",
    "    <center><figcaption></figcaption></center>\n",
    "</figure><br><br>\n",
    "4. Click `Open` and a terminal window will appear. Power on the chipsat, and data will begin to stream into the terminal, as shown below.\n",
    "<figure>\n",
    "    <img align=\"center\" width=\"500\" height=\"200\" src=\"Terminal.png\" alt='missing' />\n",
    "    <center><figcaption></figcaption></center>\n",
    "</figure><br><br>\n",
    "5. Note that the first item in each line is the device ID (23, in this case). The next comma-separated values include the x/y/z measurements from the gyro, accelerometer, and magnetometer, then the ambient light measurements from the front and rear light sensor. If you see data streaming, the device is connected properly."
   ]
  },
  {
   "cell_type": "markdown",
   "metadata": {},
   "source": [
    "***"
   ]
  },
  {
   "cell_type": "markdown",
   "metadata": {},
   "source": [
    "## Acquiring Data\n",
    "\n",
    "#### Procedure\n",
    "\n",
    "1. Close the Putty window, to free up the COM port.\n",
    "2. Power off the chipsat\n",
    "3. In the code provided below, change the COM Port to whichever has the USB to UART dongle attached. For me, it was COM5.\n",
    "> - **Note**: This code will open a serial connection to the USB to UART converter and write 200 measurements from each sensor to the filename that you specified.\n",
    "5. Run the code.\n",
    "6. Power on the chipsat.\n",
    "7. Wait while data is gathered.\n",
    "8. Change the filename, and repeat for the other chipsats.\n",
    "\n",
    "#### Code\n",
    "```python\n",
    "# Import libraries\n",
    "import numpy\n",
    "import serial\n",
    "import matplotlib.pyplot as plt\n",
    "import os\n",
    "\n",
    "# Specify port and baud rate\n",
    "ser = serial.Serial('COM5', 9600)\n",
    "\n",
    "# Indicate a file name and directory to store data\n",
    "# Note that this file name should be different for each chipsat\n",
    "# I recommend using the convention that the file name is the chipsat\n",
    "# identification number.\n",
    "filename=\"./Prior_Data/22.txt\"\n",
    "\n",
    "# Write 200 sensor measurements to the specified file, then close the file\n",
    "datafile=open(filename, 'a')\n",
    "count = 0;\n",
    "while count < 200:\n",
    "    datafile=open(filename, 'a')\n",
    "    data = ser.readline().rstrip()\n",
    "    datafile.write(str(data))\n",
    "    datafile.write('\\n')\n",
    "    print(data)\n",
    "    count += 1\n",
    "    datafile.close()\n",
    "datafile.close()\n",
    "ser.close()\n",
    "```\n"
   ]
  },
  {
   "cell_type": "markdown",
   "metadata": {},
   "source": [
    "***"
   ]
  },
  {
   "cell_type": "markdown",
   "metadata": {},
   "source": [
    "## Wrapping up\n",
    "Please feel free to send me the .txt files that the above code generates. Thank you!!"
   ]
  },
  {
   "cell_type": "markdown",
   "metadata": {},
   "source": [
    "***\n",
    "***\n",
    "***"
   ]
  }
 ],
 "metadata": {
  "kernelspec": {
   "display_name": "Python 3",
   "language": "python",
   "name": "python3"
  },
  "language_info": {
   "codemirror_mode": {
    "name": "ipython",
    "version": 3
   },
   "file_extension": ".py",
   "mimetype": "text/x-python",
   "name": "python",
   "nbconvert_exporter": "python",
   "pygments_lexer": "ipython3",
   "version": "3.8.3"
  }
 },
 "nbformat": 4,
 "nbformat_minor": 4
}
