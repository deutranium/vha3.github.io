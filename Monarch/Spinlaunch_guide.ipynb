{
 "cells": [
  {
   "cell_type": "markdown",
   "metadata": {},
   "source": [
    "# SpinLaunch Chipsat Experiment\n",
    "#### V. Hunter Adams (vha3@cornell.edu)"
   ]
  },
  {
   "cell_type": "code",
   "execution_count": 35,
   "metadata": {},
   "outputs": [
    {
     "data": {
      "text/html": [
       "<script>\n",
       "code_show=true; \n",
       "function code_toggle() {\n",
       " if (code_show){\n",
       " $('div.input').hide();\n",
       " } else {\n",
       " $('div.input').show();\n",
       " }\n",
       " code_show = !code_show\n",
       "} \n",
       "$( document ).ready(code_toggle);\n",
       "</script>\n",
       "<form action=\"javascript:code_toggle()\"><input type=\"submit\" value=\"Click here to toggle on/off the raw code.\"></form>"
      ],
      "text/plain": [
       "<IPython.core.display.HTML object>"
      ]
     },
     "execution_count": 35,
     "metadata": {},
     "output_type": "execute_result"
    }
   ],
   "source": [
    "from IPython.core.display import HTML\n",
    "HTML('''<script>\n",
    "code_show=true; \n",
    "function code_toggle() {\n",
    " if (code_show){\n",
    " $('div.input').hide();\n",
    " } else {\n",
    " $('div.input').show();\n",
    " }\n",
    " code_show = !code_show\n",
    "} \n",
    "$( document ).ready(code_toggle);\n",
    "</script>\n",
    "<form action=\"javascript:code_toggle()\"><input type=\"submit\" value=\"Click here to toggle on/off the raw code.\"></form>''')"
   ]
  },
  {
   "cell_type": "markdown",
   "metadata": {},
   "source": [
    "> - [What question are we asking, and what was the answer?](#What-question-are-we-asking,-and-what-was-the-answer?)\n",
    "> - [Why are we conducting an experiment to answer this question?](#Why-are-we-conducting-an-experiment-to-answer-this-question?)\n",
    "> - [What are the implications of the results?](#What-are-the-implications-of-the-results?)\n",
    "> - [Experimental method](#Experimental-method)\n",
    "> - [Sensor data before and after launch](#Sensor-data-before-and-after-launch)\n",
    "> - [A discussion of the day's events](#A-discussion-of-the-day's-events)"
   ]
  },
  {
   "cell_type": "markdown",
   "metadata": {},
   "source": [
    "***"
   ]
  },
  {
   "cell_type": "markdown",
   "metadata": {},
   "source": [
    "## Video overview\n",
    "<br><br>\n",
    "<iframe width=\"560\" height=\"315\" src=\"https://www.youtube.com/embed/M_50TM3OeEw\" title=\"YouTube video player\" frameborder=\"0\" allow=\"accelerometer; autoplay; clipboard-write; encrypted-media; gyroscope; picture-in-picture\" allowfullscreen></iframe>"
   ]
  },
  {
   "cell_type": "markdown",
   "metadata": {},
   "source": [
    "***"
   ]
  },
  {
   "cell_type": "markdown",
   "metadata": {},
   "source": [
    "## What question are we asking, and what was the answer?\n",
    "\n",
    "**Question**: Is there a non-negligible probability that a chipsat will survive spinup and launch from SpinLaunch's Suborbital Accelerator, deployment from the launch payload, freefall, and impact with the ground?<br><br>\n",
    "**Answer**: Yes!<br><br>\n",
    "\n",
    "<table><tr>\n",
    "<td> <img src=\"Accelerator.png\" alt=\"Drawing\" style=\"width: 500px;\"/> </td>\n",
    "<td> <img src=\"chipsat.png\" alt=\"Drawing\" style=\"width: 500px;\"/> </td>\n",
    "    </tr><caption>Suborbital Accelerator and a chipsat</caption></table>"
   ]
  },
  {
   "cell_type": "markdown",
   "metadata": {},
   "source": [
    "## Why are we conducting an experiment to answer this question?\n",
    "\n",
    "You might call this an \"experimental experiment.\" It is an experiment to determine what future experiments will be possible with chipsats in the Suborbital Accelerator.\n",
    "\n",
    "Centimeter-scale spacecraft will be a critical tool in future planetary science missions. Deployed *en masse* from orbit, chipsats will descend through the atmosphere and down to the surface of this planet and others, gathering spatially distributed datasets as they fall, and communicating data from the surface once they land. As a collective, these chipsats will generate datasets with the spatial breadth that we typically only associate with remote sensing, but with the *in situ* depth that we typically only associate with rovers. You can read about chipsats in detail [here](https://vanhunteradams.com/Papers/R-selected.pdf) and [here](https://vanhunteradams.com/Papers/Thesis.pdf), or listen to me talk about them [here](https://www.youtube.com/watch?v=2AEwKotldIY&list=PLDqMkB5cbBA7iKXV4M0BJYe58dFeFdFE0&index=2&t=163s).\n",
    "\n",
    "To plan these missions, we must understand the chaotic trajectories that low-mass and high-surface area objects take from the top of the atmosphere to the surface of the planet. This understanding will help us answer questions related to the missions. For example: \"How well can we aim at an area of interest on a planetary surface?\" and \"To what extent should we expect for the chipsats to spread out as they fall?\" The best way to gain this understanding of their trajectories is to conduct experiments, and SpinLaunch’s suborbital accelerator is a great enabler of experiments of this variety. \n",
    "\n",
    "With SpinLaunch’s suborbital accelerator, we can gather critical information for planning future planetary science missions involving chipsats. To conduct these experiments, we must first confirm that chipsats can survive spinup, launch, deployment, and landing. Our test on September 27, 2022 confirmed that they do indeed have a reasonable probability of survival."
   ]
  },
  {
   "cell_type": "markdown",
   "metadata": {},
   "source": [
    "## What are the implications of the results?\n",
    "\n",
    "We now have confidence that chipsats will survive spinup, launch, deployment, and terminal-velocity impact with Earth. We can plan additional experiments which study the trajectories of the chipsats as they fall, and the extent to which we can control and/or add determinism to those trajectories. The results of these experiments will be used to plan missions to other celestial bodies. We may, for instance, use chipsats to extract data from cracks in the ice on Europa, to look for life on Enceladus, or to learn more about hard-to-reach places on our own planet."
   ]
  },
  {
   "cell_type": "markdown",
   "metadata": {},
   "source": [
    "## Experimental method\n",
    "\n",
    "Our test was very simple:\n",
    "\n",
    "1. Gather 200 independent measurements from each sensor on a chipsat (accelerometer, magnetometer, gyroscope, front light sensor, and rear light sensor). Confirm that each sensor is operating to within datasheet specifications.\n",
    "> - [LSM9DS1 datasheet](https://www.st.com/resource/en/datasheet/lsm9ds1.pdf)\n",
    "> - [Light sensor](https://www.digikey.com/en/products/detail/everlight-electronics-co-ltd/ALS-PT19-315C-L177-TR8/2675735)\n",
    "2. Spinup, launch, deploy, and recover a chipsat.\n",
    "3. Gather 200 independent measurements from each sensor on the chipsat (accelerometer, magnetometer, gyroscope, front light sensor, and rear light sensor). Confirm that each sensor is *still* operating to within datasheet specifications.\n",
    "\n",
    "Note that the setup for data acquisition (described [here](./Spinlaunch_setup.html)) does not hold the chipsat in an ultra-precise attitude, nor does it control for ambient light in the room or ambient magnetic fields. For that reason, we can expect for the mean of the distributions for each sensor to shift. All that we want to confirm is that the data is within datasheet specifications for bias and noise levels."
   ]
  },
  {
   "cell_type": "markdown",
   "metadata": {},
   "source": [
    "## A discussion of the day's events\n",
    "<br><br>\n",
    "<iframe width=\"560\" height=\"315\" src=\"https://www.youtube.com/embed/7RsmqJvfA2Y?start=72\" title=\"YouTube video player\" frameborder=\"0\" allow=\"accelerometer; autoplay; clipboard-write; encrypted-media; gyroscope; picture-in-picture\" allowfullscreen></iframe>"
   ]
  },
  {
   "cell_type": "markdown",
   "metadata": {},
   "source": [
    "***\n",
    "***\n",
    "***"
   ]
  }
 ],
 "metadata": {
  "kernelspec": {
   "display_name": "Python 3",
   "language": "python",
   "name": "python3"
  },
  "language_info": {
   "codemirror_mode": {
    "name": "ipython",
    "version": 3
   },
   "file_extension": ".py",
   "mimetype": "text/x-python",
   "name": "python",
   "nbconvert_exporter": "python",
   "pygments_lexer": "ipython3",
   "version": "3.8.3"
  }
 },
 "nbformat": 4,
 "nbformat_minor": 4
}
