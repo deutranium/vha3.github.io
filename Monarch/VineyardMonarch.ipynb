{
 "cells": [
  {
   "cell_type": "markdown",
   "metadata": {},
   "source": [
    "# Modified Monarch for vineyard and cattle monitoring"
   ]
  },
  {
   "cell_type": "markdown",
   "metadata": {},
   "source": [
    "#### V. Hunter Adams (vha3@cornell.edu)"
   ]
  },
  {
   "cell_type": "markdown",
   "metadata": {},
   "source": [
    "## Background"
   ]
  },
  {
   "cell_type": "markdown",
   "metadata": {},
   "source": [
    "The Monarch is introduced on [this webpage](./Monarch.html), and discussed at length in [my dissertation](./Thesis.pdf) and in the paper [R-Selected Spacecraft](./R-selected.pdf). This page discusses a slightly modified version of these devices that I put together to conduct some terrestrial experiments.\n",
    "\n",
    "In order to substantiate claims that I had been making about the utility of Monarchs for planetary science, I wanted to conduct some planetary science here on Earth. As long as I was going to be gathering a dataset, however, I preferred for that dataset to be useful to people other than just myself. So, I put a new suite of sensors on the Monarchs that could measure quantities that would be of interest to vineyard managers and dairy farmers, and I gathered my case-study datasets from vineyards and dairy calves."
   ]
  },
  {
   "cell_type": "markdown",
   "metadata": {},
   "source": [
    "## The terrestrial Monarch"
   ]
  },
  {
   "cell_type": "markdown",
   "metadata": {},
   "source": [
    "The terrestrial Monarch is identical to the version discussed on [this page](./Monarch.html), except that it is on an FR4 substrate instead of Kapton, it features a relative humidity and temperature sensor, and it can run off of a AA battery. (In space, thermal constraints are such that a battery could not be added to the board for power storage. On Earth, there is no such constraint). An image of the device is shown below with the components labeled."
   ]
  },
  {
   "cell_type": "markdown",
   "metadata": {},
   "source": [
    "<figure>\n",
    "    <img align=\"center\" width=\"800\" height=\"200\" src=\"vineyardmonarch.png\" alt='missing' />\n",
    "    <center><figcaption>A terrestrial Monarch</figcaption></center>\n",
    "</figure>"
   ]
  },
  {
   "cell_type": "markdown",
   "metadata": {},
   "source": [
    "## The experiments"
   ]
  },
  {
   "cell_type": "markdown",
   "metadata": {},
   "source": [
    "20 Monarchs were attached to vineyard trellis at a Cornell-operated vineyard for 5 weeks. Another 10 of these devices were attached to modified dog collars and placed on dairy calves for 2 weeks. Pictures of each deployment are shown below. In the vineyard, the experiment was to see whether the temperature conditions inside of the leaf canopies were appreciably different than those outside the canopy. At the dairy farm, the objective was simply to gather a dataset to show that this sort of experiment could be conducted. (I did the dairy experiment in collaboration with a veterinary professor, who was interested in using this proof-of-concept dataset to fund a more application-specific device with a different suite of sensors). "
   ]
  },
  {
   "cell_type": "markdown",
   "metadata": {},
   "source": [
    "<figure>\n",
    "    <img align=\"center\" width=\"500\" height=\"200\" src=\"vine.png\" alt='missing' />\n",
    "    <center><figcaption>A Monarch in the vineyard</figcaption></center>\n",
    "</figure>"
   ]
  },
  {
   "cell_type": "markdown",
   "metadata": {},
   "source": [
    "<figure>\n",
    "    <img align=\"center\" width=\"500\" height=\"200\" src=\"cow.png\" alt='missing' />\n",
    "    <center><figcaption>A Monarch on a dairy calf</figcaption></center>\n",
    "</figure>"
   ]
  },
  {
   "cell_type": "markdown",
   "metadata": {},
   "source": [
    "## The results"
   ]
  },
  {
   "cell_type": "markdown",
   "metadata": {},
   "source": [
    "The full dataset from the vineyard is shown below, along with a subset of the dataset over one particular evening. We did indeed measure cooler and more humid overnight temperatures inside the leaf canopy than the conventional weather station measured outside the canopy. This did not surprise the plant scientists with whom I was working, but did validate some of their hypotheses."
   ]
  },
  {
   "cell_type": "markdown",
   "metadata": {},
   "source": [
    "<figure>\n",
    "    <img align=\"center\" width=\"500\" height=\"200\" src=\"full.png\" alt='missing' />\n",
    "    <center><figcaption>Full vineyard dataset</figcaption></center>\n",
    "</figure>"
   ]
  },
  {
   "cell_type": "markdown",
   "metadata": {},
   "source": [
    "<figure>\n",
    "    <img align=\"center\" width=\"500\" height=\"200\" src=\"onight.png\" alt='missing' />\n",
    "    <center><figcaption>Overnight temperature differences. Monarch datapoints are small dots, conventional weather station datapoints are large dots.</figcaption></center>\n",
    "</figure>"
   ]
  },
  {
   "cell_type": "markdown",
   "metadata": {},
   "source": [
    "In the cow dataset, we were surprised to learn that, despite the non-ideal set of sensors, we were still able to determine some interesting things. In particular, the light sensors ended up being an interesting data point. Calves like to sleep with their chins tucked in their forearms, which blocks the light to the light sensor on the Monarch. So, dark measurements from the light sensor during the day indicated that that particular calf was taking a nap."
   ]
  },
  {
   "cell_type": "markdown",
   "metadata": {},
   "source": [
    "<figure>\n",
    "    <img align=\"center\" width=\"500\" height=\"200\" src=\"calf.png\" alt='missing' />\n",
    "    <center><figcaption>Full calf dataset. Each differently colored dot is a datapoint from a different calf.</figcaption></center>\n",
    "</figure>"
   ]
  },
  {
   "cell_type": "markdown",
   "metadata": {},
   "source": [
    "<figure>\n",
    "    <img align=\"center\" width=\"800\" height=\"500\" src=\"nap.png\" alt='missing' />\n",
    "    <center><figcaption>A couple days of data, showing the datapoints which correspond to napping calves.</figcaption></center>\n",
    "</figure>"
   ]
  },
  {
   "cell_type": "markdown",
   "metadata": {},
   "source": [
    "## Some media"
   ]
  },
  {
   "cell_type": "markdown",
   "metadata": {},
   "source": [
    "A video from Cornell about these experiments is below."
   ]
  },
  {
   "cell_type": "markdown",
   "metadata": {},
   "source": [
    "<iframe width=\"560\" height=\"315\" src=\"https://www.youtube.com/embed/tuz8uGI1Nvw\" frameborder=\"0\" allow=\"accelerometer; autoplay; clipboard-write; encrypted-media; gyroscope; picture-in-picture\" allowfullscreen></iframe>"
   ]
  },
  {
   "cell_type": "markdown",
   "metadata": {},
   "source": [
    "## For much more technical information\n",
    "1. [My dissertation (Theory and Applications of Gram-Scale Spacecraft](./Thesis.pdf)\n",
    "2. [R-Selected Spacecraft](./R-selected.pdf)\n",
    "3. [GitHub repo for all software (navigate to vineyard branch)](https://github.com/vha3/Monarch-Software)\n",
    "4. [GitHub repo for all CAD files (navigate to vineyard branch)](https://github.com/vha3/Monarch-Board)"
   ]
  }
 ],
 "metadata": {
  "kernelspec": {
   "display_name": "Python 3",
   "language": "python",
   "name": "python3"
  },
  "language_info": {
   "codemirror_mode": {
    "name": "ipython",
    "version": 3
   },
   "file_extension": ".py",
   "mimetype": "text/x-python",
   "name": "python",
   "nbconvert_exporter": "python",
   "pygments_lexer": "ipython3",
   "version": "3.8.3"
  }
 },
 "nbformat": 4,
 "nbformat_minor": 4
}
